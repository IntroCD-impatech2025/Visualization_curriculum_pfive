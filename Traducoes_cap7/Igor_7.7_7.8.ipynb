{
 "cells": [
  {
   "cell_type": "markdown",
   "metadata": {},
   "source": [
    "## Coda: Manipulação de Dados Geográficos\n",
    "\n",
    "Os exemplos acima utilizam a coleção vega-datasets, incluindo dados geométricos (TopoJSON) e tabulares (aeroportos, taxas de desemprego). Um desafio comum ao começar com visualização geográfica é coletar os dados necessários para sua tarefa. Existem muitos provedores de dados, incluindo serviços como o [United States Geological Survey](https://www.usgs.gov/products/data/all-data) e o [U.S. Census Bureau](https://www.census.gov/data/datasets.html).\n",
    "\n",
    "Em muitos casos, você pode já ter dados existentes com um componente geográfico, mas precisar de medidas ou geometria adicionais. Para ajudar a começar, aqui está um fluxo de trabalho:\n",
    "\n",
    "1. Visite o [Natural Earth Data](http://www.naturalearthdata.com/downloads/) e navegue para selecionar dados para regiões e resoluções de interesse. Baixe o(s) arquivo(s) zip correspondentes.\n",
    "2. Vá para [MapShaper](https://mapshaper.org/) e arraste o arquivo zip baixado para a página. Revise os dados conforme desejado e depois \"Exporte\" os arquivos TopoJSON ou GeoJSON gerados.\n",
    "3. Carregue os dados exportados do MapShaper para usar com o Altair!\n",
    "\n",
    "Claro, existem muitas outras ferramentas — tanto de código aberto quanto proprietárias — para trabalhar com dados geográficos. Para mais sobre manipulação de dados geográficos e criação de mapas, veja a série de tutoriais de Mike Bostock sobre [Cartografia de Linha de Comando](https://medium.com/@mbostock/command-line-cartography-part-1-897aa8f8ca2c).\n"
   ]
  },
  {
   "cell_type": "markdown",
   "metadata": {},
   "source": [
    "## Resumo\n",
    "\n",
    "Neste ponto, nós apenas começamos a explorar o mundo da criação de mapas. _(Você não esperava que um único notebook transmitisse séculos de aprendizado, esperava?)_ Por exemplo, deixamos de fora tópicos como [_cartogramas_](https://en.wikipedia.org/wiki/Cartogram) e a transmissão de [_topografia_](https://en.wikipedia.org/wiki/Topography) — como no iluminador livro de Imhof [_Cartographic Relief Presentation_](https://books.google.com/books?id=cVy1Ms43fFYC). No entanto, agora você deve estar bem equipado para criar uma rica variedade de geo-visualizações. Para mais, o livro de MacEachren [_How Maps Work: Representation, Visualization, and Design_](https://books.google.com/books?id=xhAvN3B0CkUC) fornece uma visão geral valiosa sobre a criação de mapas sob a perspectiva da visualização de dados.\n"
   ]
  }
 ],
 "metadata": {
  "language_info": {
   "name": "python"
  }
 },
 "nbformat": 4,
 "nbformat_minor": 2
}
