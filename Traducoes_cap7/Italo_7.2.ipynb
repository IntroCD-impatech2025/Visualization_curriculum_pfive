{
 "cells": [
  {
   "cell_type": "markdown",
   "metadata": {},
   "source": [
    "## Marcas de Formato Geográfico\n",
    "\n",
    "Para visualizar dados geográficos, o Altair fornece o tipo de marca `geoshape`. Para criar um mapa básico, podemos criar uma marca `geoshape` e passá-la para nossos dados TopoJSON, que será, então, convertido em recursos GeoJSON, um para cada país do mundo"
   ]
  },
  {
   "cell_type": "code",
   "execution_count": null,
   "metadata": {},
   "outputs": [],
   "source": [
    "alt.Chart(alt.topo_feature(world, 'countries')).mark_geoshape()"
   ]
  },
  {
   "cell_type": "markdown",
   "metadata": {},
   "source": [
    "No exemplo acima, o Altair aplica uma cor azul padrão e usa a projeção cartográfica padrão (`mercator`). Podemos personalizar as cores e a largura dos contornos usando propriedades padrão das marcas. Usando o método `project`, podemos definir nossa própria projeção de mapa:\n"
   ]
  },
  {
   "cell_type": "code",
   "execution_count": null,
   "metadata": {},
   "outputs": [],
   "source": [
    "alt.Chart(alt.topo_feature(world, 'countries')).mark_geoshape(\n",
    "    fill='#2a1d0c', stroke='#706545', strokeWidth=0.5\n",
    ").project(\n",
    "    type='mercator'\n",
    ")"
   ]
  },
  {
   "cell_type": "markdown",
   "metadata": {},
   "source": [
    "Por padrão, o Altair ajusta automaticamente a projeção para que todos os dados caibam dentro da largura e altura do gráfico. Podemos também especificar parâmetros de projeção, como `scale` (nível de zoom) e `translate` (deslocamento), para personalizar as configurações da projeção. No exemplo abaixo, ajustamos os parâmetros `scale` e `translate` para focar na Europa:\n"
   ]
  },
  {
   "cell_type": "code",
   "execution_count": null,
   "metadata": {},
   "outputs": [],
   "source": [
    "alt.Chart(alt.topo_feature(world, 'countries')).mark_geoshape(\n",
    "    fill='#2a1d0c', stroke='#706545', strokeWidth=0.5\n",
    ").project(\n",
    "    type='mercator', scale=400, translate=[100, 550]\n",
    ")"
   ]
  },
  {
   "cell_type": "markdown",
   "metadata": {},
   "source": [
    "_Observe como a resolução de 110m dos dados se torna aparente nessa escala. Para ver linhas costeiras e fronteiras com mais detalhes, precisamos de um arquivo de entrada com geometrias mais refinadas. Ajuste os parâmetros `scale` e `translate` para focar o mapa em outras regiões!_\n"
   ]
  },
  {
   "cell_type": "markdown",
   "metadata": {},
   "source": [
    "Até agora, nosso mapa exibe apenas países. Usando o operador `layer`, podemos combinar múltiplos elementos de mapa. O Altair inclui _geradores de dados_ que podemos utilizar para criar camadas de mapa adicionais:\n",
    "\n",
    "- O gerador de esfera (`{'sphere': True}`) fornece uma representação GeoJSON da esfera completa da Terra. Podemos criar uma marca `geoshape` adicional para preencher o formato da Terra como uma camada de fundo.\n",
    "- O gerador de graticulado (`{'graticule': ...}`) cria um elemento GeoJSON representando um _reticulado_ ****: uma grade formada por linhas de latitude e longitude. O reticulado padrão possui meridianos e paralelos a cada 10° entre ±80° de latitude. Para as regiões polares, há meridianos a cada 90°. Esses ajustes podem ser personalizados usando as propriedades `stepMinor` e `stepMajor`.\n",
    "\n",
    "Vamos combinar as camadas de esfera, reticulado e países em uma especificação de mapa reutilizável:\n"
   ]
  },
  {
   "cell_type": "code",
   "execution_count": null,
   "metadata": {},
   "outputs": [],
   "source": [
    "map = alt.layer(\n",
    "    # use the sphere of the Earth as the base layer\n",
    "    alt.Chart({'sphere': True}).mark_geoshape(\n",
    "        fill='#e6f3ff'\n",
    "    ),\n",
    "    # add a graticule for geographic reference lines\n",
    "    alt.Chart({'graticule': True}).mark_geoshape(\n",
    "        stroke='#ffffff', strokeWidth=1\n",
    "    ),\n",
    "    # and then the countries of the world\n",
    "    alt.Chart(alt.topo_feature(world, 'countries')).mark_geoshape(\n",
    "        fill='#2a1d0c', stroke='#706545', strokeWidth=0.5\n",
    "    )\n",
    ").properties(\n",
    "    width=600,\n",
    "    height=400\n",
    ")"
   ]
  },
  {
   "cell_type": "markdown",
   "metadata": {},
   "source": [
    "Podemos estender o mapa aplicando uma projeção desejada e desenhando o resultado. Aqui, utilizamos a [projeção Natural da Terra](https://en.wikipedia.org/wiki/Natural_Earth_projection). A camada _sphere_ fornece o fundo azul claro, enquanto a camada _graticule_ fornece as linhas de referência geográficas em branco.\n"
   ]
  },
  {
   "cell_type": "code",
   "execution_count": null,
   "metadata": {},
   "outputs": [],
   "source": [
    "map.project(\n",
    "    type='naturalEarth1', scale=110, translate=[300, 200]\n",
    ").configure_view(stroke=None)"
   ]
  }
 ],
 "metadata": {
  "language_info": {
   "name": "python"
  }
 },
 "nbformat": 4,
 "nbformat_minor": 2
}
