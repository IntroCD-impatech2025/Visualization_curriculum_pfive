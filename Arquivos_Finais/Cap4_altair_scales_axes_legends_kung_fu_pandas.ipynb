{
  "cells": [
    {
      "cell_type": "markdown",
      "metadata": {
        "id": "hh6NPo1cmqKY"
      },
      "source": [
        "# 4. Escalas, eixos e legendas\n",
        "\n",
        "Codificação visual &ndash; mapear dados para variáveis visuais como posição, tamanho, formato, ou cor &ndash; é o coração pulsante da visualização de dados. O motor que realmente performa o mapeamento é a escala (`scale`): a função que recebe os dados como entrada (o *domínio* da escala) e retorna um valor visual, como a posição de um pixel ou cor RGB, como saída (a *imagem* da escala). Evidentemente, a visualização é inútil se ninguém consegue entender o que ela quer transmitir! Complementando as marcas gráficas, um gráfico precisa de elementos de referência, ou *guias*, que permitem leitores lerem o gráfico. Guias como os *eixos* (que exibem escalas como intervalos no espaço) e *legendas* (que exibem escalas com uma faixa de cor, tamanho, ou formato), são heróis anônimos de visualização efetiva de dados!\n",
        "\n",
        "Neste capítulo, nós vamos explorar as opções que o Altair oferece para permitir designs custumizados de mapeamento de escalas, eixos e legendas, usando e rodando um exemplo sobre a efetividade de antibióticos.\n",
        "\n",
        "_Esse notebook é parte do [Currículo de Visualização de Dados](https://github.com/uwdata/visualization-curriculum)._"
      ]
    },
    {
      "cell_type": "code",
      "execution_count": 1,
      "metadata": {
        "id": "3Tc-yU3VmqKf"
      },
      "outputs": [],
      "source": [
        "import pandas as pd\n",
        "import altair as alt"
      ]
    },
    {
      "cell_type": "markdown",
      "metadata": {
        "id": "MJJes-BZmqKi"
      },
      "source": [
        "## 4.1. Dados dos Antibióticos"
      ]
    },
    {
      "cell_type": "markdown",
      "metadata": {
        "id": "IDC1JQUcmqKj"
      },
      "source": [
        "Depois da Segunda Guerra Mundial, antibióticos foram considerados \"drogas milagrosas\", por serem um remédio fácil para doenças consideradas intratáveis. Para aprender qual droga funcionava mais efetivamente contra cada infecção bacteriana, a performance dos 3 antibióticos mais populares contra 16 das bactérias causadoras de infecções mais comuns foi coletada."
      ]
    },
    {
      "cell_type": "markdown",
      "metadata": {
        "id": "LCN0i00bmqKm"
      },
      "source": [
        "Nós vamos usar um conjunto de dados de antibióticos da [coleção do vega-datasets](https://github.com/vega/vega-datasets). No exemplo abaixo, nós vamos passar o URL diretamente para o Altair."
      ]
    },
    {
      "cell_type": "code",
      "execution_count": 2,
      "metadata": {
        "id": "d1L7wk4nmqKn"
      },
      "outputs": [],
      "source": [
        "antibioticos = 'https://cdn.jsdelivr.net/npm/vega-datasets@1/data/burtin.json'"
      ]
    },
    {
      "cell_type": "markdown",
      "metadata": {
        "id": "beZzSutwmqKn"
      },
      "source": [
        "Nós podemos primeiro carregar os dados com Pandas para ver o conjunto de dados inteiro e nos familiarizarmos com os campos de dados disponíveis:"
      ]
    },
    {
      "cell_type": "code",
      "execution_count": 3,
      "metadata": {
        "colab": {
          "base_uri": "https://localhost:8080/",
          "height": 551
        },
        "id": "yTuBX1GxmqKo",
        "outputId": "9b18e9be-e990-426c-9327-7e057852adc9"
      },
      "outputs": [
        {
          "data": {
            "text/html": [
              "<div>\n",
              "<style scoped>\n",
              "    .dataframe tbody tr th:only-of-type {\n",
              "        vertical-align: middle;\n",
              "    }\n",
              "\n",
              "    .dataframe tbody tr th {\n",
              "        vertical-align: top;\n",
              "    }\n",
              "\n",
              "    .dataframe thead th {\n",
              "        text-align: right;\n",
              "    }\n",
              "</style>\n",
              "<table border=\"1\" class=\"dataframe\">\n",
              "  <thead>\n",
              "    <tr style=\"text-align: right;\">\n",
              "      <th></th>\n",
              "      <th>Bacteria</th>\n",
              "      <th>Penicillin</th>\n",
              "      <th>Streptomycin</th>\n",
              "      <th>Neomycin</th>\n",
              "      <th>Gram_Staining</th>\n",
              "      <th>Genus</th>\n",
              "    </tr>\n",
              "  </thead>\n",
              "  <tbody>\n",
              "    <tr>\n",
              "      <th>0</th>\n",
              "      <td>Aerobacter aerogenes</td>\n",
              "      <td>870.000</td>\n",
              "      <td>1.00</td>\n",
              "      <td>1.600</td>\n",
              "      <td>negative</td>\n",
              "      <td>other</td>\n",
              "    </tr>\n",
              "    <tr>\n",
              "      <th>1</th>\n",
              "      <td>Bacillus anthracis</td>\n",
              "      <td>0.001</td>\n",
              "      <td>0.01</td>\n",
              "      <td>0.007</td>\n",
              "      <td>positive</td>\n",
              "      <td>other</td>\n",
              "    </tr>\n",
              "    <tr>\n",
              "      <th>2</th>\n",
              "      <td>Brucella abortus</td>\n",
              "      <td>1.000</td>\n",
              "      <td>2.00</td>\n",
              "      <td>0.020</td>\n",
              "      <td>negative</td>\n",
              "      <td>other</td>\n",
              "    </tr>\n",
              "    <tr>\n",
              "      <th>3</th>\n",
              "      <td>Diplococcus pneumoniae</td>\n",
              "      <td>0.005</td>\n",
              "      <td>11.00</td>\n",
              "      <td>10.000</td>\n",
              "      <td>positive</td>\n",
              "      <td>other</td>\n",
              "    </tr>\n",
              "    <tr>\n",
              "      <th>4</th>\n",
              "      <td>Escherichia coli</td>\n",
              "      <td>100.000</td>\n",
              "      <td>0.40</td>\n",
              "      <td>0.100</td>\n",
              "      <td>negative</td>\n",
              "      <td>other</td>\n",
              "    </tr>\n",
              "    <tr>\n",
              "      <th>5</th>\n",
              "      <td>Klebsiella pneumoniae</td>\n",
              "      <td>850.000</td>\n",
              "      <td>1.20</td>\n",
              "      <td>1.000</td>\n",
              "      <td>negative</td>\n",
              "      <td>other</td>\n",
              "    </tr>\n",
              "    <tr>\n",
              "      <th>6</th>\n",
              "      <td>Mycobacterium tuberculosis</td>\n",
              "      <td>800.000</td>\n",
              "      <td>5.00</td>\n",
              "      <td>2.000</td>\n",
              "      <td>negative</td>\n",
              "      <td>other</td>\n",
              "    </tr>\n",
              "    <tr>\n",
              "      <th>7</th>\n",
              "      <td>Proteus vulgaris</td>\n",
              "      <td>3.000</td>\n",
              "      <td>0.10</td>\n",
              "      <td>0.100</td>\n",
              "      <td>negative</td>\n",
              "      <td>other</td>\n",
              "    </tr>\n",
              "    <tr>\n",
              "      <th>8</th>\n",
              "      <td>Pseudomonas aeruginosa</td>\n",
              "      <td>850.000</td>\n",
              "      <td>2.00</td>\n",
              "      <td>0.400</td>\n",
              "      <td>negative</td>\n",
              "      <td>other</td>\n",
              "    </tr>\n",
              "    <tr>\n",
              "      <th>9</th>\n",
              "      <td>Salmonella (Eberthella) typhosa</td>\n",
              "      <td>1.000</td>\n",
              "      <td>0.40</td>\n",
              "      <td>0.008</td>\n",
              "      <td>negative</td>\n",
              "      <td>Salmonella</td>\n",
              "    </tr>\n",
              "    <tr>\n",
              "      <th>10</th>\n",
              "      <td>Salmonella schottmuelleri</td>\n",
              "      <td>10.000</td>\n",
              "      <td>0.80</td>\n",
              "      <td>0.090</td>\n",
              "      <td>negative</td>\n",
              "      <td>Salmonella</td>\n",
              "    </tr>\n",
              "    <tr>\n",
              "      <th>11</th>\n",
              "      <td>Staphylococcus albus</td>\n",
              "      <td>0.007</td>\n",
              "      <td>0.10</td>\n",
              "      <td>0.001</td>\n",
              "      <td>positive</td>\n",
              "      <td>Staphylococcus</td>\n",
              "    </tr>\n",
              "    <tr>\n",
              "      <th>12</th>\n",
              "      <td>Staphylococcus aureus</td>\n",
              "      <td>0.030</td>\n",
              "      <td>0.03</td>\n",
              "      <td>0.001</td>\n",
              "      <td>positive</td>\n",
              "      <td>Staphylococcus</td>\n",
              "    </tr>\n",
              "    <tr>\n",
              "      <th>13</th>\n",
              "      <td>Streptococcus fecalis</td>\n",
              "      <td>1.000</td>\n",
              "      <td>1.00</td>\n",
              "      <td>0.100</td>\n",
              "      <td>positive</td>\n",
              "      <td>Streptococcus</td>\n",
              "    </tr>\n",
              "    <tr>\n",
              "      <th>14</th>\n",
              "      <td>Streptococcus hemolyticus</td>\n",
              "      <td>0.001</td>\n",
              "      <td>14.00</td>\n",
              "      <td>10.000</td>\n",
              "      <td>positive</td>\n",
              "      <td>Streptococcus</td>\n",
              "    </tr>\n",
              "    <tr>\n",
              "      <th>15</th>\n",
              "      <td>Streptococcus viridans</td>\n",
              "      <td>0.005</td>\n",
              "      <td>10.00</td>\n",
              "      <td>40.000</td>\n",
              "      <td>positive</td>\n",
              "      <td>Streptococcus</td>\n",
              "    </tr>\n",
              "  </tbody>\n",
              "</table>\n",
              "</div>"
            ],
            "text/plain": [
              "                           Bacteria  Penicillin  Streptomycin  Neomycin  \\\n",
              "0              Aerobacter aerogenes     870.000          1.00     1.600   \n",
              "1                Bacillus anthracis       0.001          0.01     0.007   \n",
              "2                  Brucella abortus       1.000          2.00     0.020   \n",
              "3            Diplococcus pneumoniae       0.005         11.00    10.000   \n",
              "4                  Escherichia coli     100.000          0.40     0.100   \n",
              "5             Klebsiella pneumoniae     850.000          1.20     1.000   \n",
              "6        Mycobacterium tuberculosis     800.000          5.00     2.000   \n",
              "7                  Proteus vulgaris       3.000          0.10     0.100   \n",
              "8            Pseudomonas aeruginosa     850.000          2.00     0.400   \n",
              "9   Salmonella (Eberthella) typhosa       1.000          0.40     0.008   \n",
              "10        Salmonella schottmuelleri      10.000          0.80     0.090   \n",
              "11             Staphylococcus albus       0.007          0.10     0.001   \n",
              "12            Staphylococcus aureus       0.030          0.03     0.001   \n",
              "13            Streptococcus fecalis       1.000          1.00     0.100   \n",
              "14        Streptococcus hemolyticus       0.001         14.00    10.000   \n",
              "15           Streptococcus viridans       0.005         10.00    40.000   \n",
              "\n",
              "   Gram_Staining           Genus  \n",
              "0       negative           other  \n",
              "1       positive           other  \n",
              "2       negative           other  \n",
              "3       positive           other  \n",
              "4       negative           other  \n",
              "5       negative           other  \n",
              "6       negative           other  \n",
              "7       negative           other  \n",
              "8       negative           other  \n",
              "9       negative      Salmonella  \n",
              "10      negative      Salmonella  \n",
              "11      positive  Staphylococcus  \n",
              "12      positive  Staphylococcus  \n",
              "13      positive   Streptococcus  \n",
              "14      positive   Streptococcus  \n",
              "15      positive   Streptococcus  "
            ]
          },
          "execution_count": 3,
          "metadata": {},
          "output_type": "execute_result"
        }
      ],
      "source": [
        "pd.read_json(antibioticos)"
      ]
    },
    {
      "cell_type": "markdown",
      "metadata": {
        "id": "C9UO53nlmqKp"
      },
      "source": [
        "O valor numérico indicado na tabela é a [Concentração Mínima Inibitória (CMI)](https://pt.wikipedia.org/wiki/Concentra%C3%A7%C3%A3o_inibit%C3%B3ria_m%C3%ADnima), uma medida de eficácia do antibiótico, que representa a concentração de antibiótico (em microgramas por mililitro) necessária para previnir o crescimento da bactéria em laboratório. A reação da bactéria para um procedimento chamado [Teste de Gram](https://pt.wikipedia.org/wiki/T%C3%A9cnica_de_Gram) é descrita pela coluna `Gram_Staining`. Bactérias que ficam azul ou violeta no teste respondem positivamente (`positive`), enquanto as que não reagem assim são negativas (`negative`).\n",
        "\n",
        "Enquanto examinamos diferentes visualizações desse conjunto de dados, se pergunte: O que podemos aprender sobre a eficácia relativa dos antibióticos? O que podemos aprender sobre as espécies bacterianas baseado na sua resposta ao antibiótico?"
      ]
    },
    {
      "cell_type": "markdown",
      "metadata": {
        "id": "G6AQIU6OmqKs"
      },
      "source": [
        "# 4.2 Ajustando escalas e eixos\n",
        "## 4.2.1 Plotando a resistência a antibióticos: ajustando o tipo de escala\n",
        "\n",
        "Vamos começar observando um gráfico de pontos simples da CMI para Neomicina (Neomycin)."
      ]
    },
    {
      "cell_type": "code",
      "execution_count": 4,
      "metadata": {
        "colab": {
          "base_uri": "https://localhost:8080/",
          "height": 83
        },
        "id": "oHfeLrevmqKt",
        "outputId": "d50489cf-87c3-47d8-e474-d09e48ca21e4"
      },
      "outputs": [
        {
          "data": {
            "text/html": [
              "\n",
              "<style>\n",
              "  #altair-viz-1d1e153861db4787a50faa0d7d82456f.vega-embed {\n",
              "    width: 100%;\n",
              "    display: flex;\n",
              "  }\n",
              "\n",
              "  #altair-viz-1d1e153861db4787a50faa0d7d82456f.vega-embed details,\n",
              "  #altair-viz-1d1e153861db4787a50faa0d7d82456f.vega-embed details summary {\n",
              "    position: relative;\n",
              "  }\n",
              "</style>\n",
              "<div id=\"altair-viz-1d1e153861db4787a50faa0d7d82456f\"></div>\n",
              "<script type=\"text/javascript\">\n",
              "  var VEGA_DEBUG = (typeof VEGA_DEBUG == \"undefined\") ? {} : VEGA_DEBUG;\n",
              "  (function(spec, embedOpt){\n",
              "    let outputDiv = document.currentScript.previousElementSibling;\n",
              "    if (outputDiv.id !== \"altair-viz-1d1e153861db4787a50faa0d7d82456f\") {\n",
              "      outputDiv = document.getElementById(\"altair-viz-1d1e153861db4787a50faa0d7d82456f\");\n",
              "    }\n",
              "\n",
              "    const paths = {\n",
              "      \"vega\": \"https://cdn.jsdelivr.net/npm/vega@5?noext\",\n",
              "      \"vega-lib\": \"https://cdn.jsdelivr.net/npm/vega-lib?noext\",\n",
              "      \"vega-lite\": \"https://cdn.jsdelivr.net/npm/vega-lite@5.20.1?noext\",\n",
              "      \"vega-embed\": \"https://cdn.jsdelivr.net/npm/vega-embed@6?noext\",\n",
              "    };\n",
              "\n",
              "    function maybeLoadScript(lib, version) {\n",
              "      var key = `${lib.replace(\"-\", \"\")}_version`;\n",
              "      return (VEGA_DEBUG[key] == version) ?\n",
              "        Promise.resolve(paths[lib]) :\n",
              "        new Promise(function(resolve, reject) {\n",
              "          var s = document.createElement('script');\n",
              "          document.getElementsByTagName(\"head\")[0].appendChild(s);\n",
              "          s.async = true;\n",
              "          s.onload = () => {\n",
              "            VEGA_DEBUG[key] = version;\n",
              "            return resolve(paths[lib]);\n",
              "          };\n",
              "          s.onerror = () => reject(`Error loading script: ${paths[lib]}`);\n",
              "          s.src = paths[lib];\n",
              "        });\n",
              "    }\n",
              "\n",
              "    function showError(err) {\n",
              "      outputDiv.innerHTML = `<div class=\"error\" style=\"color:red;\">${err}</div>`;\n",
              "      throw err;\n",
              "    }\n",
              "\n",
              "    function displayChart(vegaEmbed) {\n",
              "      vegaEmbed(outputDiv, spec, embedOpt)\n",
              "        .catch(err => showError(`Javascript Error: ${err.message}<br>This usually means there's a typo in your chart specification. See the javascript console for the full traceback.`));\n",
              "    }\n",
              "\n",
              "    if(typeof define === \"function\" && define.amd) {\n",
              "      requirejs.config({paths});\n",
              "      let deps = [\"vega-embed\"];\n",
              "      require(deps, displayChart, err => showError(`Error loading script: ${err.message}`));\n",
              "    } else {\n",
              "      maybeLoadScript(\"vega\", \"5\")\n",
              "        .then(() => maybeLoadScript(\"vega-lite\", \"5.20.1\"))\n",
              "        .then(() => maybeLoadScript(\"vega-embed\", \"6\"))\n",
              "        .catch(showError)\n",
              "        .then(() => displayChart(vegaEmbed));\n",
              "    }\n",
              "  })({\"config\": {\"view\": {\"continuousWidth\": 300, \"continuousHeight\": 300}}, \"data\": {\"url\": \"https://cdn.jsdelivr.net/npm/vega-datasets@1/data/burtin.json\"}, \"mark\": {\"type\": \"circle\"}, \"encoding\": {\"x\": {\"field\": \"Neomycin\", \"type\": \"quantitative\"}}, \"$schema\": \"https://vega.github.io/schema/vega-lite/v5.20.1.json\"}, {\"mode\": \"vega-lite\"});\n",
              "</script>"
            ],
            "text/plain": [
              "alt.Chart(...)"
            ]
          },
          "execution_count": 4,
          "metadata": {},
          "output_type": "execute_result"
        }
      ],
      "source": [
        "alt.Chart(antibioticos).mark_circle().encode(\n",
        "    alt.X('Neomycin:Q')\n",
        ")"
      ]
    },
    {
      "cell_type": "markdown",
      "metadata": {
        "id": "99VH2twsmqKu"
      },
      "source": [
        "*Podemos ver que os valores da CMI abrangem ordens de magnitude diferentes: a maior parte dos pontos está agrupada à esquerda, com alguns valores discrepantes maiores à direita.*"
      ]
    },
    {
      "cell_type": "markdown",
      "metadata": {
        "id": "1Hg6AHZ8mqKu"
      },
      "source": [
        "Por padrão, o Altair faz mapeamento linear entre os valores do domínio e a distância em pixels. Nesse caso, podemos ver que a distância entre 0 e 10 no eixo X em pixels é exatamente igual à distância entre 30 e 40. Enquanto isso é um padrão bom e o mais utilizado, no nosso gráfico, perdemos precisão ao observar os nossos dados, já que nosso eixo X é tão grande que o intervalo onde encontramos a maior parte dos nossos pontos fica achatado."
      ]
    },
    {
      "cell_type": "markdown",
      "metadata": {
        "id": "pnTftEtymqKu"
      },
      "source": [
        "Para visualizar, então, nossos dados de maneira melhor, podemos aplicar uma transformação de escala no nosso eixo.\n"
      ]
    },
    {
      "cell_type": "markdown",
      "metadata": {
        "id": "9BH93jtSmqKv"
      },
      "source": [
        "Para aplicar uma transformação de escala, ao criar o eixo, definimos seu atributo de escala (`scale`), usando o método `alt.Scale`, e definindo seu tipo (`type`)."
      ]
    },
    {
      "cell_type": "markdown",
      "metadata": {
        "id": "7KRWzfdVmqKv"
      },
      "source": [
        "\n",
        "Este seria o resultado se usássemos uma escala do tipo raiz quadrada (`type = 'sqrt'`). Distâncias em pixel agora correspondem à raiz quadrada da distância no domínio:"
      ]
    },
    {
      "cell_type": "code",
      "execution_count": 5,
      "metadata": {
        "colab": {
          "base_uri": "https://localhost:8080/",
          "height": 83
        },
        "id": "nleJfPi6mqKw",
        "outputId": "f53773ab-839b-4c8a-8f54-c8f8a09b4809"
      },
      "outputs": [
        {
          "data": {
            "text/html": [
              "\n",
              "<style>\n",
              "  #altair-viz-d818964456c843ddb07cd5d072819236.vega-embed {\n",
              "    width: 100%;\n",
              "    display: flex;\n",
              "  }\n",
              "\n",
              "  #altair-viz-d818964456c843ddb07cd5d072819236.vega-embed details,\n",
              "  #altair-viz-d818964456c843ddb07cd5d072819236.vega-embed details summary {\n",
              "    position: relative;\n",
              "  }\n",
              "</style>\n",
              "<div id=\"altair-viz-d818964456c843ddb07cd5d072819236\"></div>\n",
              "<script type=\"text/javascript\">\n",
              "  var VEGA_DEBUG = (typeof VEGA_DEBUG == \"undefined\") ? {} : VEGA_DEBUG;\n",
              "  (function(spec, embedOpt){\n",
              "    let outputDiv = document.currentScript.previousElementSibling;\n",
              "    if (outputDiv.id !== \"altair-viz-d818964456c843ddb07cd5d072819236\") {\n",
              "      outputDiv = document.getElementById(\"altair-viz-d818964456c843ddb07cd5d072819236\");\n",
              "    }\n",
              "\n",
              "    const paths = {\n",
              "      \"vega\": \"https://cdn.jsdelivr.net/npm/vega@5?noext\",\n",
              "      \"vega-lib\": \"https://cdn.jsdelivr.net/npm/vega-lib?noext\",\n",
              "      \"vega-lite\": \"https://cdn.jsdelivr.net/npm/vega-lite@5.20.1?noext\",\n",
              "      \"vega-embed\": \"https://cdn.jsdelivr.net/npm/vega-embed@6?noext\",\n",
              "    };\n",
              "\n",
              "    function maybeLoadScript(lib, version) {\n",
              "      var key = `${lib.replace(\"-\", \"\")}_version`;\n",
              "      return (VEGA_DEBUG[key] == version) ?\n",
              "        Promise.resolve(paths[lib]) :\n",
              "        new Promise(function(resolve, reject) {\n",
              "          var s = document.createElement('script');\n",
              "          document.getElementsByTagName(\"head\")[0].appendChild(s);\n",
              "          s.async = true;\n",
              "          s.onload = () => {\n",
              "            VEGA_DEBUG[key] = version;\n",
              "            return resolve(paths[lib]);\n",
              "          };\n",
              "          s.onerror = () => reject(`Error loading script: ${paths[lib]}`);\n",
              "          s.src = paths[lib];\n",
              "        });\n",
              "    }\n",
              "\n",
              "    function showError(err) {\n",
              "      outputDiv.innerHTML = `<div class=\"error\" style=\"color:red;\">${err}</div>`;\n",
              "      throw err;\n",
              "    }\n",
              "\n",
              "    function displayChart(vegaEmbed) {\n",
              "      vegaEmbed(outputDiv, spec, embedOpt)\n",
              "        .catch(err => showError(`Javascript Error: ${err.message}<br>This usually means there's a typo in your chart specification. See the javascript console for the full traceback.`));\n",
              "    }\n",
              "\n",
              "    if(typeof define === \"function\" && define.amd) {\n",
              "      requirejs.config({paths});\n",
              "      let deps = [\"vega-embed\"];\n",
              "      require(deps, displayChart, err => showError(`Error loading script: ${err.message}`));\n",
              "    } else {\n",
              "      maybeLoadScript(\"vega\", \"5\")\n",
              "        .then(() => maybeLoadScript(\"vega-lite\", \"5.20.1\"))\n",
              "        .then(() => maybeLoadScript(\"vega-embed\", \"6\"))\n",
              "        .catch(showError)\n",
              "        .then(() => displayChart(vegaEmbed));\n",
              "    }\n",
              "  })({\"config\": {\"view\": {\"continuousWidth\": 300, \"continuousHeight\": 300}}, \"data\": {\"url\": \"https://cdn.jsdelivr.net/npm/vega-datasets@1/data/burtin.json\"}, \"mark\": {\"type\": \"circle\"}, \"encoding\": {\"x\": {\"field\": \"Neomycin\", \"scale\": {\"type\": \"sqrt\"}, \"type\": \"quantitative\"}}, \"$schema\": \"https://vega.github.io/schema/vega-lite/v5.20.1.json\"}, {\"mode\": \"vega-lite\"});\n",
              "</script>"
            ],
            "text/plain": [
              "alt.Chart(...)"
            ]
          },
          "execution_count": 5,
          "metadata": {},
          "output_type": "execute_result"
        }
      ],
      "source": [
        "alt.Chart(antibioticos).mark_circle().encode(\n",
        "    alt.X('Neomycin:Q',\n",
        "          scale = alt.Scale(type='sqrt'))\n",
        ")"
      ]
    },
    {
      "cell_type": "markdown",
      "metadata": {
        "id": "tw2-35HomqKx"
      },
      "source": [
        "*Os pontos à esquerda estão melhor distribuídos agora, mas ainda temos discrepâncias bem grandes no gráfico.*"
      ]
    },
    {
      "cell_type": "markdown",
      "metadata": {
        "id": "OStVZRVemqKx"
      },
      "source": [
        "Vamos tentar usar uma escala [logarítmica](https://pt.wikipedia.org/wiki/Escala_logar%C3%ADtmica) (`type = 'log'`) agora:"
      ]
    },
    {
      "cell_type": "code",
      "execution_count": 6,
      "metadata": {
        "colab": {
          "base_uri": "https://localhost:8080/",
          "height": 83
        },
        "id": "3lT0U6idmqKy",
        "outputId": "836eb2e2-cd58-4d06-ed67-4056f586fce2"
      },
      "outputs": [
        {
          "data": {
            "text/html": [
              "\n",
              "<style>\n",
              "  #altair-viz-ef5b841929404fee88d572c727ca9dbc.vega-embed {\n",
              "    width: 100%;\n",
              "    display: flex;\n",
              "  }\n",
              "\n",
              "  #altair-viz-ef5b841929404fee88d572c727ca9dbc.vega-embed details,\n",
              "  #altair-viz-ef5b841929404fee88d572c727ca9dbc.vega-embed details summary {\n",
              "    position: relative;\n",
              "  }\n",
              "</style>\n",
              "<div id=\"altair-viz-ef5b841929404fee88d572c727ca9dbc\"></div>\n",
              "<script type=\"text/javascript\">\n",
              "  var VEGA_DEBUG = (typeof VEGA_DEBUG == \"undefined\") ? {} : VEGA_DEBUG;\n",
              "  (function(spec, embedOpt){\n",
              "    let outputDiv = document.currentScript.previousElementSibling;\n",
              "    if (outputDiv.id !== \"altair-viz-ef5b841929404fee88d572c727ca9dbc\") {\n",
              "      outputDiv = document.getElementById(\"altair-viz-ef5b841929404fee88d572c727ca9dbc\");\n",
              "    }\n",
              "\n",
              "    const paths = {\n",
              "      \"vega\": \"https://cdn.jsdelivr.net/npm/vega@5?noext\",\n",
              "      \"vega-lib\": \"https://cdn.jsdelivr.net/npm/vega-lib?noext\",\n",
              "      \"vega-lite\": \"https://cdn.jsdelivr.net/npm/vega-lite@5.20.1?noext\",\n",
              "      \"vega-embed\": \"https://cdn.jsdelivr.net/npm/vega-embed@6?noext\",\n",
              "    };\n",
              "\n",
              "    function maybeLoadScript(lib, version) {\n",
              "      var key = `${lib.replace(\"-\", \"\")}_version`;\n",
              "      return (VEGA_DEBUG[key] == version) ?\n",
              "        Promise.resolve(paths[lib]) :\n",
              "        new Promise(function(resolve, reject) {\n",
              "          var s = document.createElement('script');\n",
              "          document.getElementsByTagName(\"head\")[0].appendChild(s);\n",
              "          s.async = true;\n",
              "          s.onload = () => {\n",
              "            VEGA_DEBUG[key] = version;\n",
              "            return resolve(paths[lib]);\n",
              "          };\n",
              "          s.onerror = () => reject(`Error loading script: ${paths[lib]}`);\n",
              "          s.src = paths[lib];\n",
              "        });\n",
              "    }\n",
              "\n",
              "    function showError(err) {\n",
              "      outputDiv.innerHTML = `<div class=\"error\" style=\"color:red;\">${err}</div>`;\n",
              "      throw err;\n",
              "    }\n",
              "\n",
              "    function displayChart(vegaEmbed) {\n",
              "      vegaEmbed(outputDiv, spec, embedOpt)\n",
              "        .catch(err => showError(`Javascript Error: ${err.message}<br>This usually means there's a typo in your chart specification. See the javascript console for the full traceback.`));\n",
              "    }\n",
              "\n",
              "    if(typeof define === \"function\" && define.amd) {\n",
              "      requirejs.config({paths});\n",
              "      let deps = [\"vega-embed\"];\n",
              "      require(deps, displayChart, err => showError(`Error loading script: ${err.message}`));\n",
              "    } else {\n",
              "      maybeLoadScript(\"vega\", \"5\")\n",
              "        .then(() => maybeLoadScript(\"vega-lite\", \"5.20.1\"))\n",
              "        .then(() => maybeLoadScript(\"vega-embed\", \"6\"))\n",
              "        .catch(showError)\n",
              "        .then(() => displayChart(vegaEmbed));\n",
              "    }\n",
              "  })({\"config\": {\"view\": {\"continuousWidth\": 300, \"continuousHeight\": 300}}, \"data\": {\"url\": \"https://cdn.jsdelivr.net/npm/vega-datasets@1/data/burtin.json\"}, \"mark\": {\"type\": \"circle\"}, \"encoding\": {\"x\": {\"field\": \"Neomycin\", \"scale\": {\"type\": \"log\"}, \"type\": \"quantitative\"}}, \"$schema\": \"https://vega.github.io/schema/vega-lite/v5.20.1.json\"}, {\"mode\": \"vega-lite\"});\n",
              "</script>"
            ],
            "text/plain": [
              "alt.Chart(...)"
            ]
          },
          "execution_count": 6,
          "metadata": {},
          "output_type": "execute_result"
        }
      ],
      "source": [
        "alt.Chart(antibioticos).mark_circle().encode(\n",
        "    alt.X('Neomycin:Q',\n",
        "          scale = alt.Scale(type='log'))\n",
        ")"
      ]
    },
    {
      "cell_type": "markdown",
      "metadata": {
        "id": "5Zxea-06mqKy"
      },
      "source": [
        "*Agora, nossos dados estão bem distribuídos ao longo do gráfico, e ainda conseguimos ver a diferença entre a CMI da Neomicina para diferentes bactérias.*"
      ]
    },
    {
      "cell_type": "markdown",
      "metadata": {
        "id": "m3A8PeV2mqKz"
      },
      "source": [
        "Numa escala linear, se uma distância de 5 unidades no seu eixo equivale a uma distância de 10 pixels, uma distância de 10 unidades vai equivaler a uma distância de 20 pixels, proporcionalmente. A escala logarítmica trabalha de maneira diferente, se baseando no mapeamento entre adição e multiplicação usando a propriedade matemática $log(a) + log(b) = log(ab)$. Como resultado disso, temos que se a distância visual entre dois pontos é de K pixels no seu gráfico, a distância numérica, nos seus dados, é na verdade uma proporção de K, onde K é a base escolhida para o nosso logaritmo (por padrão é 10, mas pode ser mudada definindo uma `base` na hora de usar o método `alt.Scale` com `type = 'log'`).\n",
        "\n",
        "Visualize assim: temos 3 pontos A, B, C, que valem respectivamente 10, 100 e 1000 unidades. Em um eixo de um gráfico, na escala linear, se a distância em pixels entre A e B é de 10 pixels, a distância em pixels entre B e C é de 100 pixels, pois $C-B=10(B-A)$. Na escala logarítmica de base 10, no entanto, se a distância entre A e B é de 10 pixels, a distância entre B e C é de 10 pixels também, pois $\\frac{C}{B} = \\frac{B}{A}$."
      ]
    },
    {
      "cell_type": "markdown",
      "metadata": {
        "id": "VKKkgJ-8mqKz"
      },
      "source": [
        "## 4.2.2 Decorando um eixo"
      ]
    },
    {
      "cell_type": "markdown",
      "metadata": {
        "id": "45o0QwktmqK0"
      },
      "source": [
        "Para antibióticos, quanto menos usamos para matar uma bactéria, melhor esse antibiótico é. Considerando que gostamos normalmente de ver o melhor mais acima/à direita em um gráfico, para nos adequar a esse fator, teríamos que inverter o eixo X do nosso gráfico, de forma que as menores CMIs fiquem a esquerda e as maiores à direita.\n"
      ]
    },
    {
      "cell_type": "markdown",
      "metadata": {
        "id": "tPGwwb8tmqK0"
      },
      "source": [
        "Fazemos isso definindo seu atributo de ordenação (`sort`) como decrescente (`descending`):"
      ]
    },
    {
      "cell_type": "code",
      "execution_count": 7,
      "metadata": {
        "colab": {
          "base_uri": "https://localhost:8080/",
          "height": 83
        },
        "id": "2cDVR1TEmqK0",
        "outputId": "cd033547-5b69-4849-9836-9c48d03f5a18"
      },
      "outputs": [
        {
          "data": {
            "text/html": [
              "\n",
              "<style>\n",
              "  #altair-viz-2e5366a5703142ccb448daf81293be22.vega-embed {\n",
              "    width: 100%;\n",
              "    display: flex;\n",
              "  }\n",
              "\n",
              "  #altair-viz-2e5366a5703142ccb448daf81293be22.vega-embed details,\n",
              "  #altair-viz-2e5366a5703142ccb448daf81293be22.vega-embed details summary {\n",
              "    position: relative;\n",
              "  }\n",
              "</style>\n",
              "<div id=\"altair-viz-2e5366a5703142ccb448daf81293be22\"></div>\n",
              "<script type=\"text/javascript\">\n",
              "  var VEGA_DEBUG = (typeof VEGA_DEBUG == \"undefined\") ? {} : VEGA_DEBUG;\n",
              "  (function(spec, embedOpt){\n",
              "    let outputDiv = document.currentScript.previousElementSibling;\n",
              "    if (outputDiv.id !== \"altair-viz-2e5366a5703142ccb448daf81293be22\") {\n",
              "      outputDiv = document.getElementById(\"altair-viz-2e5366a5703142ccb448daf81293be22\");\n",
              "    }\n",
              "\n",
              "    const paths = {\n",
              "      \"vega\": \"https://cdn.jsdelivr.net/npm/vega@5?noext\",\n",
              "      \"vega-lib\": \"https://cdn.jsdelivr.net/npm/vega-lib?noext\",\n",
              "      \"vega-lite\": \"https://cdn.jsdelivr.net/npm/vega-lite@5.20.1?noext\",\n",
              "      \"vega-embed\": \"https://cdn.jsdelivr.net/npm/vega-embed@6?noext\",\n",
              "    };\n",
              "\n",
              "    function maybeLoadScript(lib, version) {\n",
              "      var key = `${lib.replace(\"-\", \"\")}_version`;\n",
              "      return (VEGA_DEBUG[key] == version) ?\n",
              "        Promise.resolve(paths[lib]) :\n",
              "        new Promise(function(resolve, reject) {\n",
              "          var s = document.createElement('script');\n",
              "          document.getElementsByTagName(\"head\")[0].appendChild(s);\n",
              "          s.async = true;\n",
              "          s.onload = () => {\n",
              "            VEGA_DEBUG[key] = version;\n",
              "            return resolve(paths[lib]);\n",
              "          };\n",
              "          s.onerror = () => reject(`Error loading script: ${paths[lib]}`);\n",
              "          s.src = paths[lib];\n",
              "        });\n",
              "    }\n",
              "\n",
              "    function showError(err) {\n",
              "      outputDiv.innerHTML = `<div class=\"error\" style=\"color:red;\">${err}</div>`;\n",
              "      throw err;\n",
              "    }\n",
              "\n",
              "    function displayChart(vegaEmbed) {\n",
              "      vegaEmbed(outputDiv, spec, embedOpt)\n",
              "        .catch(err => showError(`Javascript Error: ${err.message}<br>This usually means there's a typo in your chart specification. See the javascript console for the full traceback.`));\n",
              "    }\n",
              "\n",
              "    if(typeof define === \"function\" && define.amd) {\n",
              "      requirejs.config({paths});\n",
              "      let deps = [\"vega-embed\"];\n",
              "      require(deps, displayChart, err => showError(`Error loading script: ${err.message}`));\n",
              "    } else {\n",
              "      maybeLoadScript(\"vega\", \"5\")\n",
              "        .then(() => maybeLoadScript(\"vega-lite\", \"5.20.1\"))\n",
              "        .then(() => maybeLoadScript(\"vega-embed\", \"6\"))\n",
              "        .catch(showError)\n",
              "        .then(() => displayChart(vegaEmbed));\n",
              "    }\n",
              "  })({\"config\": {\"view\": {\"continuousWidth\": 300, \"continuousHeight\": 300}}, \"data\": {\"url\": \"https://cdn.jsdelivr.net/npm/vega-datasets@1/data/burtin.json\"}, \"mark\": {\"type\": \"circle\"}, \"encoding\": {\"x\": {\"field\": \"Neomycin\", \"scale\": {\"type\": \"log\"}, \"sort\": \"descending\", \"type\": \"quantitative\"}}, \"$schema\": \"https://vega.github.io/schema/vega-lite/v5.20.1.json\"}, {\"mode\": \"vega-lite\"});\n",
              "</script>"
            ],
            "text/plain": [
              "alt.Chart(...)"
            ]
          },
          "execution_count": 7,
          "metadata": {},
          "output_type": "execute_result"
        }
      ],
      "source": [
        "alt.Chart(antibioticos).mark_circle().encode(\n",
        "    alt.X('Neomycin:Q',\n",
        "          sort = 'descending',\n",
        "          scale = alt.Scale(type='log'))\n",
        ")"
      ]
    },
    {
      "cell_type": "markdown",
      "metadata": {
        "id": "vN0mZpRkmqK1"
      },
      "source": [
        "*Nosso gráfico está começando a ficar confuso: estamos usando um eixo com escala logarítmica, em ordem inversa e sem indicação de unidades ainda!*"
      ]
    },
    {
      "cell_type": "markdown",
      "metadata": {
        "id": "FLXMLtMBmqK1"
      },
      "source": [
        "Vamos começar então a dar mais informações ao nosso gráfico adicionando um atributo de título (`title`) ao nosso eixo:"
      ]
    },
    {
      "cell_type": "code",
      "execution_count": 8,
      "metadata": {
        "colab": {
          "base_uri": "https://localhost:8080/",
          "height": 83
        },
        "id": "vHeD-1eCmqK2",
        "outputId": "173122a9-f1c7-4bba-ce80-c00863e564c7"
      },
      "outputs": [
        {
          "data": {
            "text/html": [
              "\n",
              "<style>\n",
              "  #altair-viz-9c4921f2609c424ea99ceea89db24d58.vega-embed {\n",
              "    width: 100%;\n",
              "    display: flex;\n",
              "  }\n",
              "\n",
              "  #altair-viz-9c4921f2609c424ea99ceea89db24d58.vega-embed details,\n",
              "  #altair-viz-9c4921f2609c424ea99ceea89db24d58.vega-embed details summary {\n",
              "    position: relative;\n",
              "  }\n",
              "</style>\n",
              "<div id=\"altair-viz-9c4921f2609c424ea99ceea89db24d58\"></div>\n",
              "<script type=\"text/javascript\">\n",
              "  var VEGA_DEBUG = (typeof VEGA_DEBUG == \"undefined\") ? {} : VEGA_DEBUG;\n",
              "  (function(spec, embedOpt){\n",
              "    let outputDiv = document.currentScript.previousElementSibling;\n",
              "    if (outputDiv.id !== \"altair-viz-9c4921f2609c424ea99ceea89db24d58\") {\n",
              "      outputDiv = document.getElementById(\"altair-viz-9c4921f2609c424ea99ceea89db24d58\");\n",
              "    }\n",
              "\n",
              "    const paths = {\n",
              "      \"vega\": \"https://cdn.jsdelivr.net/npm/vega@5?noext\",\n",
              "      \"vega-lib\": \"https://cdn.jsdelivr.net/npm/vega-lib?noext\",\n",
              "      \"vega-lite\": \"https://cdn.jsdelivr.net/npm/vega-lite@5.20.1?noext\",\n",
              "      \"vega-embed\": \"https://cdn.jsdelivr.net/npm/vega-embed@6?noext\",\n",
              "    };\n",
              "\n",
              "    function maybeLoadScript(lib, version) {\n",
              "      var key = `${lib.replace(\"-\", \"\")}_version`;\n",
              "      return (VEGA_DEBUG[key] == version) ?\n",
              "        Promise.resolve(paths[lib]) :\n",
              "        new Promise(function(resolve, reject) {\n",
              "          var s = document.createElement('script');\n",
              "          document.getElementsByTagName(\"head\")[0].appendChild(s);\n",
              "          s.async = true;\n",
              "          s.onload = () => {\n",
              "            VEGA_DEBUG[key] = version;\n",
              "            return resolve(paths[lib]);\n",
              "          };\n",
              "          s.onerror = () => reject(`Error loading script: ${paths[lib]}`);\n",
              "          s.src = paths[lib];\n",
              "        });\n",
              "    }\n",
              "\n",
              "    function showError(err) {\n",
              "      outputDiv.innerHTML = `<div class=\"error\" style=\"color:red;\">${err}</div>`;\n",
              "      throw err;\n",
              "    }\n",
              "\n",
              "    function displayChart(vegaEmbed) {\n",
              "      vegaEmbed(outputDiv, spec, embedOpt)\n",
              "        .catch(err => showError(`Javascript Error: ${err.message}<br>This usually means there's a typo in your chart specification. See the javascript console for the full traceback.`));\n",
              "    }\n",
              "\n",
              "    if(typeof define === \"function\" && define.amd) {\n",
              "      requirejs.config({paths});\n",
              "      let deps = [\"vega-embed\"];\n",
              "      require(deps, displayChart, err => showError(`Error loading script: ${err.message}`));\n",
              "    } else {\n",
              "      maybeLoadScript(\"vega\", \"5\")\n",
              "        .then(() => maybeLoadScript(\"vega-lite\", \"5.20.1\"))\n",
              "        .then(() => maybeLoadScript(\"vega-embed\", \"6\"))\n",
              "        .catch(showError)\n",
              "        .then(() => displayChart(vegaEmbed));\n",
              "    }\n",
              "  })({\"config\": {\"view\": {\"continuousWidth\": 300, \"continuousHeight\": 300}}, \"data\": {\"url\": \"https://cdn.jsdelivr.net/npm/vega-datasets@1/data/burtin.json\"}, \"mark\": {\"type\": \"circle\"}, \"encoding\": {\"x\": {\"field\": \"Neomycin\", \"scale\": {\"type\": \"log\"}, \"sort\": \"descending\", \"title\": \"CMI da Neomicina (\\u03bcg/ml, escala logar\\u00edtmica reversa)\", \"type\": \"quantitative\"}}, \"$schema\": \"https://vega.github.io/schema/vega-lite/v5.20.1.json\"}, {\"mode\": \"vega-lite\"});\n",
              "</script>"
            ],
            "text/plain": [
              "alt.Chart(...)"
            ]
          },
          "execution_count": 8,
          "metadata": {},
          "output_type": "execute_result"
        }
      ],
      "source": [
        "alt.Chart(antibioticos).mark_circle().encode(\n",
        "    alt.X('Neomycin:Q',\n",
        "          sort = 'descending',\n",
        "          title = 'CMI da Neomicina (μg/ml, escala logarítmica reversa)',\n",
        "          scale = alt.Scale(type='log'))\n",
        ")"
      ]
    },
    {
      "cell_type": "markdown",
      "metadata": {
        "id": "Wrli7mEBmqK2"
      },
      "source": [
        "Bem melhor."
      ]
    },
    {
      "cell_type": "markdown",
      "metadata": {
        "id": "1bC9hjVamqK3"
      },
      "source": [
        "Podemos também mudar de lugar o nosso eixo. Por padrão, o Altair coloca o eixo X e suas informações na parte inferior do gráfico, mas podemos alterar isso adicionando um atributo de eixo (`axis`) no nosso código, usando o método `alt.Axis` e definindo sua orientação (`orient`) como superior (`'top'`):"
      ]
    },
    {
      "cell_type": "code",
      "execution_count": 9,
      "metadata": {
        "colab": {
          "base_uri": "https://localhost:8080/",
          "height": 83
        },
        "id": "spvPOjjmmqK3",
        "outputId": "6c3cde4d-fc5b-4727-f711-f4741a3b4d19"
      },
      "outputs": [
        {
          "data": {
            "text/html": [
              "\n",
              "<style>\n",
              "  #altair-viz-221f16fa8fbd45428513da6a67d49e76.vega-embed {\n",
              "    width: 100%;\n",
              "    display: flex;\n",
              "  }\n",
              "\n",
              "  #altair-viz-221f16fa8fbd45428513da6a67d49e76.vega-embed details,\n",
              "  #altair-viz-221f16fa8fbd45428513da6a67d49e76.vega-embed details summary {\n",
              "    position: relative;\n",
              "  }\n",
              "</style>\n",
              "<div id=\"altair-viz-221f16fa8fbd45428513da6a67d49e76\"></div>\n",
              "<script type=\"text/javascript\">\n",
              "  var VEGA_DEBUG = (typeof VEGA_DEBUG == \"undefined\") ? {} : VEGA_DEBUG;\n",
              "  (function(spec, embedOpt){\n",
              "    let outputDiv = document.currentScript.previousElementSibling;\n",
              "    if (outputDiv.id !== \"altair-viz-221f16fa8fbd45428513da6a67d49e76\") {\n",
              "      outputDiv = document.getElementById(\"altair-viz-221f16fa8fbd45428513da6a67d49e76\");\n",
              "    }\n",
              "\n",
              "    const paths = {\n",
              "      \"vega\": \"https://cdn.jsdelivr.net/npm/vega@5?noext\",\n",
              "      \"vega-lib\": \"https://cdn.jsdelivr.net/npm/vega-lib?noext\",\n",
              "      \"vega-lite\": \"https://cdn.jsdelivr.net/npm/vega-lite@5.20.1?noext\",\n",
              "      \"vega-embed\": \"https://cdn.jsdelivr.net/npm/vega-embed@6?noext\",\n",
              "    };\n",
              "\n",
              "    function maybeLoadScript(lib, version) {\n",
              "      var key = `${lib.replace(\"-\", \"\")}_version`;\n",
              "      return (VEGA_DEBUG[key] == version) ?\n",
              "        Promise.resolve(paths[lib]) :\n",
              "        new Promise(function(resolve, reject) {\n",
              "          var s = document.createElement('script');\n",
              "          document.getElementsByTagName(\"head\")[0].appendChild(s);\n",
              "          s.async = true;\n",
              "          s.onload = () => {\n",
              "            VEGA_DEBUG[key] = version;\n",
              "            return resolve(paths[lib]);\n",
              "          };\n",
              "          s.onerror = () => reject(`Error loading script: ${paths[lib]}`);\n",
              "          s.src = paths[lib];\n",
              "        });\n",
              "    }\n",
              "\n",
              "    function showError(err) {\n",
              "      outputDiv.innerHTML = `<div class=\"error\" style=\"color:red;\">${err}</div>`;\n",
              "      throw err;\n",
              "    }\n",
              "\n",
              "    function displayChart(vegaEmbed) {\n",
              "      vegaEmbed(outputDiv, spec, embedOpt)\n",
              "        .catch(err => showError(`Javascript Error: ${err.message}<br>This usually means there's a typo in your chart specification. See the javascript console for the full traceback.`));\n",
              "    }\n",
              "\n",
              "    if(typeof define === \"function\" && define.amd) {\n",
              "      requirejs.config({paths});\n",
              "      let deps = [\"vega-embed\"];\n",
              "      require(deps, displayChart, err => showError(`Error loading script: ${err.message}`));\n",
              "    } else {\n",
              "      maybeLoadScript(\"vega\", \"5\")\n",
              "        .then(() => maybeLoadScript(\"vega-lite\", \"5.20.1\"))\n",
              "        .then(() => maybeLoadScript(\"vega-embed\", \"6\"))\n",
              "        .catch(showError)\n",
              "        .then(() => displayChart(vegaEmbed));\n",
              "    }\n",
              "  })({\"config\": {\"view\": {\"continuousWidth\": 300, \"continuousHeight\": 300}}, \"data\": {\"url\": \"https://cdn.jsdelivr.net/npm/vega-datasets@1/data/burtin.json\"}, \"mark\": {\"type\": \"circle\"}, \"encoding\": {\"x\": {\"axis\": {\"orient\": \"top\"}, \"field\": \"Neomycin\", \"scale\": {\"type\": \"log\"}, \"sort\": \"descending\", \"title\": \"CMI da Neomicina (\\u03bcg/ml, escala logar\\u00edtmica reversa)\", \"type\": \"quantitative\"}}, \"$schema\": \"https://vega.github.io/schema/vega-lite/v5.20.1.json\"}, {\"mode\": \"vega-lite\"});\n",
              "</script>"
            ],
            "text/plain": [
              "alt.Chart(...)"
            ]
          },
          "execution_count": 9,
          "metadata": {},
          "output_type": "execute_result"
        }
      ],
      "source": [
        "alt.Chart(antibioticos).mark_circle().encode(\n",
        "    alt.X('Neomycin:Q',\n",
        "          sort = 'descending',\n",
        "          axis = alt.Axis(orient = 'top'),\n",
        "          title = 'CMI da Neomicina (μg/ml, escala logarítmica reversa)',\n",
        "          scale = alt.Scale(type='log'))\n",
        ")"
      ]
    },
    {
      "cell_type": "markdown",
      "metadata": {
        "id": "tFQGeC8AmqK4"
      },
      "source": [
        "O mesmo se aplica ao eixo Y, que normalmente está posicionado à esquerda mas pode ser posicionado à direita com a orientação `'right'`."
      ]
    },
    {
      "cell_type": "markdown",
      "metadata": {
        "id": "NIecGjPimqK5"
      },
      "source": [
        "## 4.2.3 Comparação de antibióticos: Ajustar Grades, contagens de Tick e dimensionamento\n"
      ]
    },
    {
      "cell_type": "markdown",
      "metadata": {
        "id": "PIMxazabmqK5"
      },
      "source": [
        "_Como é que a neomicina se compara a outros antibióticos, como a estreptomicina e a penicilina?_"
      ]
    },
    {
      "cell_type": "markdown",
      "metadata": {
        "id": "RCr0H9lNmqK6"
      },
      "source": [
        "Para começar a responder a essas questões, podemos criar um gráfico de dispersão, adicionando um eixo vertical que codifica outro antibiótico e espelha nosso eixo x para a neomicina."
      ]
    },
    {
      "cell_type": "code",
      "execution_count": 10,
      "metadata": {
        "colab": {
          "base_uri": "https://localhost:8080/",
          "height": 394
        },
        "id": "7i18Z2p1mqK6",
        "outputId": "5f40fbbe-3e6a-4434-d179-dbab24bf76ac"
      },
      "outputs": [
        {
          "data": {
            "text/html": [
              "\n",
              "<style>\n",
              "  #altair-viz-53ee1143b93346f8bae27a194ebd178d.vega-embed {\n",
              "    width: 100%;\n",
              "    display: flex;\n",
              "  }\n",
              "\n",
              "  #altair-viz-53ee1143b93346f8bae27a194ebd178d.vega-embed details,\n",
              "  #altair-viz-53ee1143b93346f8bae27a194ebd178d.vega-embed details summary {\n",
              "    position: relative;\n",
              "  }\n",
              "</style>\n",
              "<div id=\"altair-viz-53ee1143b93346f8bae27a194ebd178d\"></div>\n",
              "<script type=\"text/javascript\">\n",
              "  var VEGA_DEBUG = (typeof VEGA_DEBUG == \"undefined\") ? {} : VEGA_DEBUG;\n",
              "  (function(spec, embedOpt){\n",
              "    let outputDiv = document.currentScript.previousElementSibling;\n",
              "    if (outputDiv.id !== \"altair-viz-53ee1143b93346f8bae27a194ebd178d\") {\n",
              "      outputDiv = document.getElementById(\"altair-viz-53ee1143b93346f8bae27a194ebd178d\");\n",
              "    }\n",
              "\n",
              "    const paths = {\n",
              "      \"vega\": \"https://cdn.jsdelivr.net/npm/vega@5?noext\",\n",
              "      \"vega-lib\": \"https://cdn.jsdelivr.net/npm/vega-lib?noext\",\n",
              "      \"vega-lite\": \"https://cdn.jsdelivr.net/npm/vega-lite@5.20.1?noext\",\n",
              "      \"vega-embed\": \"https://cdn.jsdelivr.net/npm/vega-embed@6?noext\",\n",
              "    };\n",
              "\n",
              "    function maybeLoadScript(lib, version) {\n",
              "      var key = `${lib.replace(\"-\", \"\")}_version`;\n",
              "      return (VEGA_DEBUG[key] == version) ?\n",
              "        Promise.resolve(paths[lib]) :\n",
              "        new Promise(function(resolve, reject) {\n",
              "          var s = document.createElement('script');\n",
              "          document.getElementsByTagName(\"head\")[0].appendChild(s);\n",
              "          s.async = true;\n",
              "          s.onload = () => {\n",
              "            VEGA_DEBUG[key] = version;\n",
              "            return resolve(paths[lib]);\n",
              "          };\n",
              "          s.onerror = () => reject(`Error loading script: ${paths[lib]}`);\n",
              "          s.src = paths[lib];\n",
              "        });\n",
              "    }\n",
              "\n",
              "    function showError(err) {\n",
              "      outputDiv.innerHTML = `<div class=\"error\" style=\"color:red;\">${err}</div>`;\n",
              "      throw err;\n",
              "    }\n",
              "\n",
              "    function displayChart(vegaEmbed) {\n",
              "      vegaEmbed(outputDiv, spec, embedOpt)\n",
              "        .catch(err => showError(`Javascript Error: ${err.message}<br>This usually means there's a typo in your chart specification. See the javascript console for the full traceback.`));\n",
              "    }\n",
              "\n",
              "    if(typeof define === \"function\" && define.amd) {\n",
              "      requirejs.config({paths});\n",
              "      let deps = [\"vega-embed\"];\n",
              "      require(deps, displayChart, err => showError(`Error loading script: ${err.message}`));\n",
              "    } else {\n",
              "      maybeLoadScript(\"vega\", \"5\")\n",
              "        .then(() => maybeLoadScript(\"vega-lite\", \"5.20.1\"))\n",
              "        .then(() => maybeLoadScript(\"vega-embed\", \"6\"))\n",
              "        .catch(showError)\n",
              "        .then(() => displayChart(vegaEmbed));\n",
              "    }\n",
              "  })({\"config\": {\"view\": {\"continuousWidth\": 300, \"continuousHeight\": 300}}, \"data\": {\"url\": \"https://cdn.jsdelivr.net/npm/vega-datasets@1/data/burtin.json\"}, \"mark\": {\"type\": \"circle\"}, \"encoding\": {\"x\": {\"field\": \"Neomycin\", \"scale\": {\"type\": \"log\"}, \"sort\": \"descending\", \"title\": \"CMI da Neomicina (\\u03bcg/ml, escala logar\\u00edtmica reversa)\", \"type\": \"quantitative\"}, \"y\": {\"field\": \"Streptomycin\", \"scale\": {\"type\": \"log\"}, \"sort\": \"descending\", \"title\": \"CMI da Estreptomicina (\\u03bcg/ml, escala logar\\u00edtmica reversa)\", \"type\": \"quantitative\"}}, \"$schema\": \"https://vega.github.io/schema/vega-lite/v5.20.1.json\"}, {\"mode\": \"vega-lite\"});\n",
              "</script>"
            ],
            "text/plain": [
              "alt.Chart(...)"
            ]
          },
          "execution_count": 10,
          "metadata": {},
          "output_type": "execute_result"
        }
      ],
      "source": [
        "alt.Chart(antibioticos).mark_circle().encode(\n",
        "    alt.X('Neomycin:Q',\n",
        "          sort='descending',\n",
        "          scale=alt.Scale(type='log'),\n",
        "          title='CMI da Neomicina (μg/ml, escala logarítmica reversa)'),\n",
        "    alt.Y('Streptomycin:Q',\n",
        "          sort='descending',\n",
        "          scale=alt.Scale(type='log'),\n",
        "          title='CMI da Estreptomicina (μg/ml, escala logarítmica reversa)')\n",
        ")"
      ]
    },
    {
      "cell_type": "markdown",
      "metadata": {
        "id": "lP5S9b5EmqK7"
      },
      "source": [
        "*Podemos ver que ambas a Neomicina e a Estreptomicina aparentam ser bem correlacionadas, já que as cepas bacteriais estudadas respondem de maneira similar a ambos antibióticos.*\n"
      ]
    },
    {
      "cell_type": "markdown",
      "metadata": {
        "id": "eS5UgIcXmqK7"
      },
      "source": [
        "Prosseguindo, vamos comparar a Neomicina e a Penicilina."
      ]
    },
    {
      "cell_type": "code",
      "execution_count": 11,
      "metadata": {
        "colab": {
          "base_uri": "https://localhost:8080/",
          "height": 377
        },
        "id": "HEWxBE-imqK7",
        "outputId": "7709e5c3-daf0-4c6d-91e9-2b3b6487be2f"
      },
      "outputs": [
        {
          "data": {
            "text/html": [
              "\n",
              "<style>\n",
              "  #altair-viz-b8ce79ee6d3b4d199ceb770414557b8a.vega-embed {\n",
              "    width: 100%;\n",
              "    display: flex;\n",
              "  }\n",
              "\n",
              "  #altair-viz-b8ce79ee6d3b4d199ceb770414557b8a.vega-embed details,\n",
              "  #altair-viz-b8ce79ee6d3b4d199ceb770414557b8a.vega-embed details summary {\n",
              "    position: relative;\n",
              "  }\n",
              "</style>\n",
              "<div id=\"altair-viz-b8ce79ee6d3b4d199ceb770414557b8a\"></div>\n",
              "<script type=\"text/javascript\">\n",
              "  var VEGA_DEBUG = (typeof VEGA_DEBUG == \"undefined\") ? {} : VEGA_DEBUG;\n",
              "  (function(spec, embedOpt){\n",
              "    let outputDiv = document.currentScript.previousElementSibling;\n",
              "    if (outputDiv.id !== \"altair-viz-b8ce79ee6d3b4d199ceb770414557b8a\") {\n",
              "      outputDiv = document.getElementById(\"altair-viz-b8ce79ee6d3b4d199ceb770414557b8a\");\n",
              "    }\n",
              "\n",
              "    const paths = {\n",
              "      \"vega\": \"https://cdn.jsdelivr.net/npm/vega@5?noext\",\n",
              "      \"vega-lib\": \"https://cdn.jsdelivr.net/npm/vega-lib?noext\",\n",
              "      \"vega-lite\": \"https://cdn.jsdelivr.net/npm/vega-lite@5.20.1?noext\",\n",
              "      \"vega-embed\": \"https://cdn.jsdelivr.net/npm/vega-embed@6?noext\",\n",
              "    };\n",
              "\n",
              "    function maybeLoadScript(lib, version) {\n",
              "      var key = `${lib.replace(\"-\", \"\")}_version`;\n",
              "      return (VEGA_DEBUG[key] == version) ?\n",
              "        Promise.resolve(paths[lib]) :\n",
              "        new Promise(function(resolve, reject) {\n",
              "          var s = document.createElement('script');\n",
              "          document.getElementsByTagName(\"head\")[0].appendChild(s);\n",
              "          s.async = true;\n",
              "          s.onload = () => {\n",
              "            VEGA_DEBUG[key] = version;\n",
              "            return resolve(paths[lib]);\n",
              "          };\n",
              "          s.onerror = () => reject(`Error loading script: ${paths[lib]}`);\n",
              "          s.src = paths[lib];\n",
              "        });\n",
              "    }\n",
              "\n",
              "    function showError(err) {\n",
              "      outputDiv.innerHTML = `<div class=\"error\" style=\"color:red;\">${err}</div>`;\n",
              "      throw err;\n",
              "    }\n",
              "\n",
              "    function displayChart(vegaEmbed) {\n",
              "      vegaEmbed(outputDiv, spec, embedOpt)\n",
              "        .catch(err => showError(`Javascript Error: ${err.message}<br>This usually means there's a typo in your chart specification. See the javascript console for the full traceback.`));\n",
              "    }\n",
              "\n",
              "    if(typeof define === \"function\" && define.amd) {\n",
              "      requirejs.config({paths});\n",
              "      let deps = [\"vega-embed\"];\n",
              "      require(deps, displayChart, err => showError(`Error loading script: ${err.message}`));\n",
              "    } else {\n",
              "      maybeLoadScript(\"vega\", \"5\")\n",
              "        .then(() => maybeLoadScript(\"vega-lite\", \"5.20.1\"))\n",
              "        .then(() => maybeLoadScript(\"vega-embed\", \"6\"))\n",
              "        .catch(showError)\n",
              "        .then(() => displayChart(vegaEmbed));\n",
              "    }\n",
              "  })({\"config\": {\"view\": {\"continuousWidth\": 300, \"continuousHeight\": 300}}, \"data\": {\"url\": \"https://cdn.jsdelivr.net/npm/vega-datasets@1/data/burtin.json\"}, \"mark\": {\"type\": \"circle\"}, \"encoding\": {\"x\": {\"field\": \"Neomycin\", \"scale\": {\"type\": \"log\"}, \"sort\": \"descending\", \"title\": \"CMI da Neomicina (\\u03bcg/ml, escala logar\\u00edtmica reversa)\", \"type\": \"quantitative\"}, \"y\": {\"field\": \"Penicillin\", \"scale\": {\"type\": \"log\"}, \"sort\": \"descending\", \"title\": \"CMI da Penicilina (\\u03bcg/ml, escala logar\\u00edtmica reversa)\", \"type\": \"quantitative\"}}, \"$schema\": \"https://vega.github.io/schema/vega-lite/v5.20.1.json\"}, {\"mode\": \"vega-lite\"});\n",
              "</script>"
            ],
            "text/plain": [
              "alt.Chart(...)"
            ]
          },
          "execution_count": 11,
          "metadata": {},
          "output_type": "execute_result"
        }
      ],
      "source": [
        "alt.Chart(antibioticos).mark_circle().encode(\n",
        "    alt.X('Neomycin:Q',\n",
        "          sort='descending',\n",
        "          scale=alt.Scale(type='log'),\n",
        "          title='CMI da Neomicina (μg/ml, escala logarítmica reversa)'),\n",
        "    alt.Y('Penicillin:Q',\n",
        "          sort='descending',\n",
        "          scale=alt.Scale(type='log'),\n",
        "          title='CMI da Penicilina (μg/ml, escala logarítmica reversa)')\n",
        ")"
      ]
    },
    {
      "cell_type": "markdown",
      "metadata": {
        "id": "M8_vdsKBmqK8"
      },
      "source": [
        "*Vemos agora uma resposta diferente: algumas bactérias respondem bem a um antibiótico enquanto outras não.*"
      ]
    },
    {
      "cell_type": "markdown",
      "metadata": {
        "id": "_fzK2SyumqK8"
      },
      "source": [
        "Apesar do gráfico ser útil, podemos melhorar. Os eixos x e y usam a mesma unidade, mas tem dimensões diferentes (a largura do gráfico é maior que a altura) e domínios diferentes (0.001 até 100 no eixo x, e 0.001 até 1000 para o eixo y)."
      ]
    },
    {
      "cell_type": "markdown",
      "metadata": {
        "id": "kc8dejunmqK9"
      },
      "source": [
        "Vamos então igualar os eixos: podemos explicitar diretamente valores para altura (`height`) e largura (`width`) em pixels nas propriedades (`properties`) do gráfico e especificar o domínio (`domain`) na escala.\n"
      ]
    },
    {
      "cell_type": "code",
      "execution_count": 12,
      "metadata": {
        "colab": {
          "base_uri": "https://localhost:8080/",
          "height": 359
        },
        "id": "JITSMovpmqK9",
        "outputId": "94f89807-2e0e-4e7e-d0ae-90588eb86d06"
      },
      "outputs": [
        {
          "data": {
            "text/html": [
              "\n",
              "<style>\n",
              "  #altair-viz-4916862f2f424859afd56d0d1e2ff0eb.vega-embed {\n",
              "    width: 100%;\n",
              "    display: flex;\n",
              "  }\n",
              "\n",
              "  #altair-viz-4916862f2f424859afd56d0d1e2ff0eb.vega-embed details,\n",
              "  #altair-viz-4916862f2f424859afd56d0d1e2ff0eb.vega-embed details summary {\n",
              "    position: relative;\n",
              "  }\n",
              "</style>\n",
              "<div id=\"altair-viz-4916862f2f424859afd56d0d1e2ff0eb\"></div>\n",
              "<script type=\"text/javascript\">\n",
              "  var VEGA_DEBUG = (typeof VEGA_DEBUG == \"undefined\") ? {} : VEGA_DEBUG;\n",
              "  (function(spec, embedOpt){\n",
              "    let outputDiv = document.currentScript.previousElementSibling;\n",
              "    if (outputDiv.id !== \"altair-viz-4916862f2f424859afd56d0d1e2ff0eb\") {\n",
              "      outputDiv = document.getElementById(\"altair-viz-4916862f2f424859afd56d0d1e2ff0eb\");\n",
              "    }\n",
              "\n",
              "    const paths = {\n",
              "      \"vega\": \"https://cdn.jsdelivr.net/npm/vega@5?noext\",\n",
              "      \"vega-lib\": \"https://cdn.jsdelivr.net/npm/vega-lib?noext\",\n",
              "      \"vega-lite\": \"https://cdn.jsdelivr.net/npm/vega-lite@5.20.1?noext\",\n",
              "      \"vega-embed\": \"https://cdn.jsdelivr.net/npm/vega-embed@6?noext\",\n",
              "    };\n",
              "\n",
              "    function maybeLoadScript(lib, version) {\n",
              "      var key = `${lib.replace(\"-\", \"\")}_version`;\n",
              "      return (VEGA_DEBUG[key] == version) ?\n",
              "        Promise.resolve(paths[lib]) :\n",
              "        new Promise(function(resolve, reject) {\n",
              "          var s = document.createElement('script');\n",
              "          document.getElementsByTagName(\"head\")[0].appendChild(s);\n",
              "          s.async = true;\n",
              "          s.onload = () => {\n",
              "            VEGA_DEBUG[key] = version;\n",
              "            return resolve(paths[lib]);\n",
              "          };\n",
              "          s.onerror = () => reject(`Error loading script: ${paths[lib]}`);\n",
              "          s.src = paths[lib];\n",
              "        });\n",
              "    }\n",
              "\n",
              "    function showError(err) {\n",
              "      outputDiv.innerHTML = `<div class=\"error\" style=\"color:red;\">${err}</div>`;\n",
              "      throw err;\n",
              "    }\n",
              "\n",
              "    function displayChart(vegaEmbed) {\n",
              "      vegaEmbed(outputDiv, spec, embedOpt)\n",
              "        .catch(err => showError(`Javascript Error: ${err.message}<br>This usually means there's a typo in your chart specification. See the javascript console for the full traceback.`));\n",
              "    }\n",
              "\n",
              "    if(typeof define === \"function\" && define.amd) {\n",
              "      requirejs.config({paths});\n",
              "      let deps = [\"vega-embed\"];\n",
              "      require(deps, displayChart, err => showError(`Error loading script: ${err.message}`));\n",
              "    } else {\n",
              "      maybeLoadScript(\"vega\", \"5\")\n",
              "        .then(() => maybeLoadScript(\"vega-lite\", \"5.20.1\"))\n",
              "        .then(() => maybeLoadScript(\"vega-embed\", \"6\"))\n",
              "        .catch(showError)\n",
              "        .then(() => displayChart(vegaEmbed));\n",
              "    }\n",
              "  })({\"config\": {\"view\": {\"continuousWidth\": 300, \"continuousHeight\": 300}}, \"data\": {\"url\": \"https://cdn.jsdelivr.net/npm/vega-datasets@1/data/burtin.json\"}, \"mark\": {\"type\": \"circle\"}, \"encoding\": {\"x\": {\"field\": \"Neomycin\", \"scale\": {\"domain\": [0.001, 1000], \"type\": \"log\"}, \"sort\": \"descending\", \"title\": \"CMI da Neomicina (\\u03bcg/ml, escala logar\\u00edtmica reversa)\", \"type\": \"quantitative\"}, \"y\": {\"field\": \"Penicillin\", \"scale\": {\"domain\": [0.001, 1000], \"type\": \"log\"}, \"sort\": \"descending\", \"title\": \"CMI da Penicilina (\\u03bcg/ml, escala logar\\u00edtmica reversa)\", \"type\": \"quantitative\"}}, \"height\": 250, \"width\": 250, \"$schema\": \"https://vega.github.io/schema/vega-lite/v5.20.1.json\"}, {\"mode\": \"vega-lite\"});\n",
              "</script>"
            ],
            "text/plain": [
              "alt.Chart(...)"
            ]
          },
          "execution_count": 12,
          "metadata": {},
          "output_type": "execute_result"
        }
      ],
      "source": [
        "alt.Chart(antibioticos).mark_circle().encode(\n",
        "    alt.X('Neomycin:Q',\n",
        "          sort='descending',\n",
        "          scale=alt.Scale(type='log', domain=[0.001, 1000]),\n",
        "          title='CMI da Neomicina (μg/ml, escala logarítmica reversa)'),\n",
        "    alt.Y('Penicillin:Q',\n",
        "          sort='descending',\n",
        "          scale=alt.Scale(type='log', domain=[0.001, 1000]),\n",
        "          title='CMI da Penicilina (μg/ml, escala logarítmica reversa)')\n",
        ").properties(width=250, height=250)"
      ]
    },
    {
      "cell_type": "markdown",
      "metadata": {
        "id": "HCYXcos1mqK9"
      },
      "source": [
        "_O gráfico resultante é mais equilibrado e menos propenso a erros de interpretação._"
      ]
    },
    {
      "cell_type": "markdown",
      "metadata": {
        "id": "HN4XEN7mmqK-"
      },
      "source": [
        "No entanto, as linhas de grade estão densas demais agora. Se quisermos remover completamente as linhas da grade (`grid`) do gráfico, podemos adicionar `grid=False` ao atributo do eixo. Mas e se, em vez disso, quisermos reduzir o número de marcas de seleção, por exemplo, incluindo apenas linhas para cada ordem de grandeza?\n",
        "\n",
        "Para alterar o número de marcas, podemos especificar o número de marcações (`tickCount`) ao chamar o método `alt.Axis` no nosso código. A propriedade `tickCount` é tratada como uma sugestão para o Altair, a ser considerada juntamente com outros aspectos, tais como a utilização de intervalos agradáveis e de fácil utilização. Podemos não obter exatamente o número de marcas de escala que solicitamos, mas devemos obter algo próximo."
      ]
    },
    {
      "cell_type": "code",
      "execution_count": 13,
      "metadata": {
        "colab": {
          "base_uri": "https://localhost:8080/",
          "height": 359
        },
        "id": "1rfcnkLU2kv2",
        "outputId": "2b0db601-d6b2-4bc0-ef37-aa548d7e2ea1"
      },
      "outputs": [
        {
          "data": {
            "text/html": [
              "\n",
              "<style>\n",
              "  #altair-viz-553452d0444c44749c3edc5283ceea88.vega-embed {\n",
              "    width: 100%;\n",
              "    display: flex;\n",
              "  }\n",
              "\n",
              "  #altair-viz-553452d0444c44749c3edc5283ceea88.vega-embed details,\n",
              "  #altair-viz-553452d0444c44749c3edc5283ceea88.vega-embed details summary {\n",
              "    position: relative;\n",
              "  }\n",
              "</style>\n",
              "<div id=\"altair-viz-553452d0444c44749c3edc5283ceea88\"></div>\n",
              "<script type=\"text/javascript\">\n",
              "  var VEGA_DEBUG = (typeof VEGA_DEBUG == \"undefined\") ? {} : VEGA_DEBUG;\n",
              "  (function(spec, embedOpt){\n",
              "    let outputDiv = document.currentScript.previousElementSibling;\n",
              "    if (outputDiv.id !== \"altair-viz-553452d0444c44749c3edc5283ceea88\") {\n",
              "      outputDiv = document.getElementById(\"altair-viz-553452d0444c44749c3edc5283ceea88\");\n",
              "    }\n",
              "\n",
              "    const paths = {\n",
              "      \"vega\": \"https://cdn.jsdelivr.net/npm/vega@5?noext\",\n",
              "      \"vega-lib\": \"https://cdn.jsdelivr.net/npm/vega-lib?noext\",\n",
              "      \"vega-lite\": \"https://cdn.jsdelivr.net/npm/vega-lite@5.20.1?noext\",\n",
              "      \"vega-embed\": \"https://cdn.jsdelivr.net/npm/vega-embed@6?noext\",\n",
              "    };\n",
              "\n",
              "    function maybeLoadScript(lib, version) {\n",
              "      var key = `${lib.replace(\"-\", \"\")}_version`;\n",
              "      return (VEGA_DEBUG[key] == version) ?\n",
              "        Promise.resolve(paths[lib]) :\n",
              "        new Promise(function(resolve, reject) {\n",
              "          var s = document.createElement('script');\n",
              "          document.getElementsByTagName(\"head\")[0].appendChild(s);\n",
              "          s.async = true;\n",
              "          s.onload = () => {\n",
              "            VEGA_DEBUG[key] = version;\n",
              "            return resolve(paths[lib]);\n",
              "          };\n",
              "          s.onerror = () => reject(`Error loading script: ${paths[lib]}`);\n",
              "          s.src = paths[lib];\n",
              "        });\n",
              "    }\n",
              "\n",
              "    function showError(err) {\n",
              "      outputDiv.innerHTML = `<div class=\"error\" style=\"color:red;\">${err}</div>`;\n",
              "      throw err;\n",
              "    }\n",
              "\n",
              "    function displayChart(vegaEmbed) {\n",
              "      vegaEmbed(outputDiv, spec, embedOpt)\n",
              "        .catch(err => showError(`Javascript Error: ${err.message}<br>This usually means there's a typo in your chart specification. See the javascript console for the full traceback.`));\n",
              "    }\n",
              "\n",
              "    if(typeof define === \"function\" && define.amd) {\n",
              "      requirejs.config({paths});\n",
              "      let deps = [\"vega-embed\"];\n",
              "      require(deps, displayChart, err => showError(`Error loading script: ${err.message}`));\n",
              "    } else {\n",
              "      maybeLoadScript(\"vega\", \"5\")\n",
              "        .then(() => maybeLoadScript(\"vega-lite\", \"5.20.1\"))\n",
              "        .then(() => maybeLoadScript(\"vega-embed\", \"6\"))\n",
              "        .catch(showError)\n",
              "        .then(() => displayChart(vegaEmbed));\n",
              "    }\n",
              "  })({\"config\": {\"view\": {\"continuousWidth\": 300, \"continuousHeight\": 300}}, \"data\": {\"url\": \"https://cdn.jsdelivr.net/npm/vega-datasets@1/data/burtin.json\"}, \"mark\": {\"type\": \"circle\"}, \"encoding\": {\"x\": {\"axis\": {\"tickCount\": 5}, \"field\": \"Neomycin\", \"scale\": {\"domain\": [0.001, 1000], \"type\": \"log\"}, \"sort\": \"descending\", \"title\": \"CMI da Neomicina (\\u03bcg/ml, escala logar\\u00edtmica reversa)\", \"type\": \"quantitative\"}, \"y\": {\"axis\": {\"tickCount\": 5}, \"field\": \"Penicillin\", \"scale\": {\"domain\": [0.001, 1000], \"type\": \"log\"}, \"sort\": \"descending\", \"title\": \"CMI da Penicilina (\\u03bcg/ml, escala logar\\u00edtmica reversa)\", \"type\": \"quantitative\"}}, \"height\": 250, \"width\": 250, \"$schema\": \"https://vega.github.io/schema/vega-lite/v5.20.1.json\"}, {\"mode\": \"vega-lite\"});\n",
              "</script>"
            ],
            "text/plain": [
              "alt.Chart(...)"
            ]
          },
          "execution_count": 13,
          "metadata": {},
          "output_type": "execute_result"
        }
      ],
      "source": [
        "alt.Chart(antibioticos).mark_circle().encode(\n",
        "    alt.X('Neomycin:Q',\n",
        "          sort='descending',\n",
        "          scale=alt.Scale(type='log', domain=[0.001, 1000]),\n",
        "          axis = alt.Axis(tickCount = 5),\n",
        "          title='CMI da Neomicina (μg/ml, escala logarítmica reversa)'),\n",
        "    alt.Y('Penicillin:Q',\n",
        "          sort='descending',\n",
        "          scale=alt.Scale(type='log', domain=[0.001, 1000]),\n",
        "          axis = alt.Axis(tickCount = 5),\n",
        "          title='CMI da Penicilina (μg/ml, escala logarítmica reversa)')\n",
        ").properties(width=250, height=250)"
      ]
    },
    {
      "cell_type": "markdown",
      "metadata": {
        "id": "1k7LENyNmqK-"
      },
      "source": [
        "Ao definir o `tickCount` para 5, obtemos o efeito desejado."
      ]
    },
    {
      "cell_type": "markdown",
      "metadata": {
        "id": "nlMr03a4mqK_"
      },
      "source": [
        "Os pontos do nosso gráfico de dispersão parecem um pouco pequenos. Vamos alterar o tamanho predefinido, definindo o tamanho (`size`) da marca circular ao criar nosso gráfico. Este valor de tamanho é a área da marca em pixels."
      ]
    },
    {
      "cell_type": "code",
      "execution_count": 14,
      "metadata": {
        "colab": {
          "base_uri": "https://localhost:8080/",
          "height": 359
        },
        "id": "uC7PjEpGmqLA",
        "outputId": "24181c76-508d-415d-cc12-dc69d706d796"
      },
      "outputs": [
        {
          "data": {
            "text/html": [
              "\n",
              "<style>\n",
              "  #altair-viz-272f35c0846845288057161afac6f2b4.vega-embed {\n",
              "    width: 100%;\n",
              "    display: flex;\n",
              "  }\n",
              "\n",
              "  #altair-viz-272f35c0846845288057161afac6f2b4.vega-embed details,\n",
              "  #altair-viz-272f35c0846845288057161afac6f2b4.vega-embed details summary {\n",
              "    position: relative;\n",
              "  }\n",
              "</style>\n",
              "<div id=\"altair-viz-272f35c0846845288057161afac6f2b4\"></div>\n",
              "<script type=\"text/javascript\">\n",
              "  var VEGA_DEBUG = (typeof VEGA_DEBUG == \"undefined\") ? {} : VEGA_DEBUG;\n",
              "  (function(spec, embedOpt){\n",
              "    let outputDiv = document.currentScript.previousElementSibling;\n",
              "    if (outputDiv.id !== \"altair-viz-272f35c0846845288057161afac6f2b4\") {\n",
              "      outputDiv = document.getElementById(\"altair-viz-272f35c0846845288057161afac6f2b4\");\n",
              "    }\n",
              "\n",
              "    const paths = {\n",
              "      \"vega\": \"https://cdn.jsdelivr.net/npm/vega@5?noext\",\n",
              "      \"vega-lib\": \"https://cdn.jsdelivr.net/npm/vega-lib?noext\",\n",
              "      \"vega-lite\": \"https://cdn.jsdelivr.net/npm/vega-lite@5.20.1?noext\",\n",
              "      \"vega-embed\": \"https://cdn.jsdelivr.net/npm/vega-embed@6?noext\",\n",
              "    };\n",
              "\n",
              "    function maybeLoadScript(lib, version) {\n",
              "      var key = `${lib.replace(\"-\", \"\")}_version`;\n",
              "      return (VEGA_DEBUG[key] == version) ?\n",
              "        Promise.resolve(paths[lib]) :\n",
              "        new Promise(function(resolve, reject) {\n",
              "          var s = document.createElement('script');\n",
              "          document.getElementsByTagName(\"head\")[0].appendChild(s);\n",
              "          s.async = true;\n",
              "          s.onload = () => {\n",
              "            VEGA_DEBUG[key] = version;\n",
              "            return resolve(paths[lib]);\n",
              "          };\n",
              "          s.onerror = () => reject(`Error loading script: ${paths[lib]}`);\n",
              "          s.src = paths[lib];\n",
              "        });\n",
              "    }\n",
              "\n",
              "    function showError(err) {\n",
              "      outputDiv.innerHTML = `<div class=\"error\" style=\"color:red;\">${err}</div>`;\n",
              "      throw err;\n",
              "    }\n",
              "\n",
              "    function displayChart(vegaEmbed) {\n",
              "      vegaEmbed(outputDiv, spec, embedOpt)\n",
              "        .catch(err => showError(`Javascript Error: ${err.message}<br>This usually means there's a typo in your chart specification. See the javascript console for the full traceback.`));\n",
              "    }\n",
              "\n",
              "    if(typeof define === \"function\" && define.amd) {\n",
              "      requirejs.config({paths});\n",
              "      let deps = [\"vega-embed\"];\n",
              "      require(deps, displayChart, err => showError(`Error loading script: ${err.message}`));\n",
              "    } else {\n",
              "      maybeLoadScript(\"vega\", \"5\")\n",
              "        .then(() => maybeLoadScript(\"vega-lite\", \"5.20.1\"))\n",
              "        .then(() => maybeLoadScript(\"vega-embed\", \"6\"))\n",
              "        .catch(showError)\n",
              "        .then(() => displayChart(vegaEmbed));\n",
              "    }\n",
              "  })({\"config\": {\"view\": {\"continuousWidth\": 300, \"continuousHeight\": 300}}, \"data\": {\"url\": \"https://cdn.jsdelivr.net/npm/vega-datasets@1/data/burtin.json\"}, \"mark\": {\"type\": \"circle\", \"size\": 80}, \"encoding\": {\"x\": {\"axis\": {\"tickCount\": 5}, \"field\": \"Neomycin\", \"scale\": {\"domain\": [0.001, 1000], \"type\": \"log\"}, \"sort\": \"descending\", \"title\": \"CMI da Neomicina (\\u03bcg/ml, escala logar\\u00edtmica reversa )\", \"type\": \"quantitative\"}, \"y\": {\"axis\": {\"tickCount\": 5}, \"field\": \"Penicillin\", \"scale\": {\"domain\": [0.001, 1000], \"type\": \"log\"}, \"sort\": \"descending\", \"title\": \"CMI da Penicilina (\\u03bcg/ml, escala logar\\u00edtmica reversa)\", \"type\": \"quantitative\"}}, \"height\": 250, \"width\": 250, \"$schema\": \"https://vega.github.io/schema/vega-lite/v5.20.1.json\"}, {\"mode\": \"vega-lite\"});\n",
              "</script>"
            ],
            "text/plain": [
              "alt.Chart(...)"
            ]
          },
          "execution_count": 14,
          "metadata": {},
          "output_type": "execute_result"
        }
      ],
      "source": [
        "alt.Chart(antibioticos).mark_circle(size=80).encode(\n",
        "    alt.X('Neomycin:Q',\n",
        "          sort='descending',\n",
        "          scale=alt.Scale(type='log', domain=[0.001, 1000]),\n",
        "          axis=alt.Axis(tickCount=5),\n",
        "          title='CMI da Neomicina (μg/ml, escala logarítmica reversa )'),\n",
        "    alt.Y('Penicillin:Q',\n",
        "          sort='descending',\n",
        "          scale=alt.Scale(type='log', domain=[0.001, 1000]),\n",
        "          axis=alt.Axis(tickCount=5),\n",
        "          title='CMI da Penicilina (μg/ml, escala logarítmica reversa)')\n",
        ").properties(width=250, height=250)"
      ]
    },
    {
      "cell_type": "markdown",
      "metadata": {
        "id": "Tig619Q6mqLB"
      },
      "source": [
        "_Aqui, definimos a área da marca circular para 80 píxeis. Ajuste o valor como achar melhor._"
      ]
    },
    {
      "cell_type": "markdown",
      "metadata": {
        "id": "pAqRA3ocmqLB"
      },
      "source": [
        "# 4.3 Configurando as Legendas de Cor\n",
        "\n",
        "## 4.3.1 Cor por Teste de Gram\n",
        "\n",
        "Vimos acima que a Neomicina é mais eficaz para algumas bactérias enquanto a Penicilina é mais eficaz para outras. Mas, como podemos determinar qual antibiótico usar se não sabemos exatamente a espécie de bactéria com a qual estamos lidando? O teste de Gram serve como um método de separar classes de bactérias!\n",
        "\n",
        "Vamos codificar o campo dos testes de Gram, `Gram_Staining`, no canal de cor (`color`) como um tipo de dado nominal:\n"
      ]
    },
    {
      "cell_type": "code",
      "execution_count": 15,
      "metadata": {
        "colab": {
          "base_uri": "https://localhost:8080/",
          "height": 359
        },
        "id": "56905c_7mqLC",
        "outputId": "d86c8eb3-c935-4bb1-b3b8-151780325ab6"
      },
      "outputs": [
        {
          "data": {
            "text/html": [
              "\n",
              "<style>\n",
              "  #altair-viz-9007f4b19f404a958d647ae400dc3a6c.vega-embed {\n",
              "    width: 100%;\n",
              "    display: flex;\n",
              "  }\n",
              "\n",
              "  #altair-viz-9007f4b19f404a958d647ae400dc3a6c.vega-embed details,\n",
              "  #altair-viz-9007f4b19f404a958d647ae400dc3a6c.vega-embed details summary {\n",
              "    position: relative;\n",
              "  }\n",
              "</style>\n",
              "<div id=\"altair-viz-9007f4b19f404a958d647ae400dc3a6c\"></div>\n",
              "<script type=\"text/javascript\">\n",
              "  var VEGA_DEBUG = (typeof VEGA_DEBUG == \"undefined\") ? {} : VEGA_DEBUG;\n",
              "  (function(spec, embedOpt){\n",
              "    let outputDiv = document.currentScript.previousElementSibling;\n",
              "    if (outputDiv.id !== \"altair-viz-9007f4b19f404a958d647ae400dc3a6c\") {\n",
              "      outputDiv = document.getElementById(\"altair-viz-9007f4b19f404a958d647ae400dc3a6c\");\n",
              "    }\n",
              "\n",
              "    const paths = {\n",
              "      \"vega\": \"https://cdn.jsdelivr.net/npm/vega@5?noext\",\n",
              "      \"vega-lib\": \"https://cdn.jsdelivr.net/npm/vega-lib?noext\",\n",
              "      \"vega-lite\": \"https://cdn.jsdelivr.net/npm/vega-lite@5.20.1?noext\",\n",
              "      \"vega-embed\": \"https://cdn.jsdelivr.net/npm/vega-embed@6?noext\",\n",
              "    };\n",
              "\n",
              "    function maybeLoadScript(lib, version) {\n",
              "      var key = `${lib.replace(\"-\", \"\")}_version`;\n",
              "      return (VEGA_DEBUG[key] == version) ?\n",
              "        Promise.resolve(paths[lib]) :\n",
              "        new Promise(function(resolve, reject) {\n",
              "          var s = document.createElement('script');\n",
              "          document.getElementsByTagName(\"head\")[0].appendChild(s);\n",
              "          s.async = true;\n",
              "          s.onload = () => {\n",
              "            VEGA_DEBUG[key] = version;\n",
              "            return resolve(paths[lib]);\n",
              "          };\n",
              "          s.onerror = () => reject(`Error loading script: ${paths[lib]}`);\n",
              "          s.src = paths[lib];\n",
              "        });\n",
              "    }\n",
              "\n",
              "    function showError(err) {\n",
              "      outputDiv.innerHTML = `<div class=\"error\" style=\"color:red;\">${err}</div>`;\n",
              "      throw err;\n",
              "    }\n",
              "\n",
              "    function displayChart(vegaEmbed) {\n",
              "      vegaEmbed(outputDiv, spec, embedOpt)\n",
              "        .catch(err => showError(`Javascript Error: ${err.message}<br>This usually means there's a typo in your chart specification. See the javascript console for the full traceback.`));\n",
              "    }\n",
              "\n",
              "    if(typeof define === \"function\" && define.amd) {\n",
              "      requirejs.config({paths});\n",
              "      let deps = [\"vega-embed\"];\n",
              "      require(deps, displayChart, err => showError(`Error loading script: ${err.message}`));\n",
              "    } else {\n",
              "      maybeLoadScript(\"vega\", \"5\")\n",
              "        .then(() => maybeLoadScript(\"vega-lite\", \"5.20.1\"))\n",
              "        .then(() => maybeLoadScript(\"vega-embed\", \"6\"))\n",
              "        .catch(showError)\n",
              "        .then(() => displayChart(vegaEmbed));\n",
              "    }\n",
              "  })({\"config\": {\"view\": {\"continuousWidth\": 300, \"continuousHeight\": 300}}, \"data\": {\"url\": \"https://cdn.jsdelivr.net/npm/vega-datasets@1/data/burtin.json\"}, \"mark\": {\"type\": \"circle\", \"size\": 80}, \"encoding\": {\"color\": {\"field\": \"Gram_Staining\", \"type\": \"nominal\"}, \"x\": {\"axis\": {\"tickCount\": 5}, \"field\": \"Neomycin\", \"scale\": {\"domain\": [0.001, 1000], \"type\": \"log\"}, \"sort\": \"descending\", \"title\": \"CMI da Neomicina (\\u03bcg/ml, escala logar\\u00edtmica reversa)\", \"type\": \"quantitative\"}, \"y\": {\"axis\": {\"tickCount\": 5}, \"field\": \"Penicillin\", \"scale\": {\"domain\": [0.001, 1000], \"type\": \"log\"}, \"sort\": \"descending\", \"title\": \"CMI da Penicilina (\\u03bcg/ml, escala logar\\u00edtmica reversa)\", \"type\": \"quantitative\"}}, \"height\": 250, \"width\": 250, \"$schema\": \"https://vega.github.io/schema/vega-lite/v5.20.1.json\"}, {\"mode\": \"vega-lite\"});\n",
              "</script>"
            ],
            "text/plain": [
              "alt.Chart(...)"
            ]
          },
          "execution_count": 15,
          "metadata": {},
          "output_type": "execute_result"
        }
      ],
      "source": [
        "alt.Chart(antibioticos).mark_circle(size=80).encode(\n",
        "    alt.X('Neomycin:Q',\n",
        "          sort='descending',\n",
        "          scale=alt.Scale(type='log', domain=[0.001, 1000]),\n",
        "          axis=alt.Axis(tickCount=5),\n",
        "          title='CMI da Neomicina (μg/ml, escala logarítmica reversa)'),\n",
        "    alt.Y('Penicillin:Q',\n",
        "          sort='descending',\n",
        "          scale=alt.Scale(type='log', domain=[0.001, 1000]),\n",
        "          axis=alt.Axis(tickCount=5),\n",
        "          title='CMI da Penicilina (μg/ml, escala logarítmica reversa)'),\n",
        "    alt.Color('Gram_Staining:N')\n",
        ").properties(width=250, height=250)"
      ]
    },
    {
      "cell_type": "markdown",
      "metadata": {
        "id": "ArTCj-dJmqLC"
      },
      "source": [
        "Podemos ver que as bactérias que testam positivamente (`positive`) no teste de Gram parecem ser mais suscetíveis à Penicilina, enquanto a Neomicina é mais eficaz para bactérias que testam negativamente  (`negative`)!\n",
        "\n",
        "O esquema de cores acima foi escolhido automaticamente para fornecer cores perceptivelmente distintas para comparações nominais (igual ou diferente). No entanto, podemos querer personalizar as cores utilizadas. Nesse caso, o teste de Gram resulta em colorações físicas distintas: as bactérias que testam negativo ficam rosa, e as que testam postivo ficam roxo.\n",
        "\n",
        "Podemos determinar o uso dessas cores especificamente dentro da escala de `alt.Color`, especificando o domínio (`domain`) dos dados utilizados e o alcance (`range`) das cores selecionadas pelo Altair:\n"
      ]
    },
    {
      "cell_type": "code",
      "execution_count": 16,
      "metadata": {
        "id": "kielKsTqmqLD"
      },
      "outputs": [
        {
          "data": {
            "text/html": [
              "\n",
              "<style>\n",
              "  #altair-viz-c00dd22b7cae4c86b89de4489fdc3918.vega-embed {\n",
              "    width: 100%;\n",
              "    display: flex;\n",
              "  }\n",
              "\n",
              "  #altair-viz-c00dd22b7cae4c86b89de4489fdc3918.vega-embed details,\n",
              "  #altair-viz-c00dd22b7cae4c86b89de4489fdc3918.vega-embed details summary {\n",
              "    position: relative;\n",
              "  }\n",
              "</style>\n",
              "<div id=\"altair-viz-c00dd22b7cae4c86b89de4489fdc3918\"></div>\n",
              "<script type=\"text/javascript\">\n",
              "  var VEGA_DEBUG = (typeof VEGA_DEBUG == \"undefined\") ? {} : VEGA_DEBUG;\n",
              "  (function(spec, embedOpt){\n",
              "    let outputDiv = document.currentScript.previousElementSibling;\n",
              "    if (outputDiv.id !== \"altair-viz-c00dd22b7cae4c86b89de4489fdc3918\") {\n",
              "      outputDiv = document.getElementById(\"altair-viz-c00dd22b7cae4c86b89de4489fdc3918\");\n",
              "    }\n",
              "\n",
              "    const paths = {\n",
              "      \"vega\": \"https://cdn.jsdelivr.net/npm/vega@5?noext\",\n",
              "      \"vega-lib\": \"https://cdn.jsdelivr.net/npm/vega-lib?noext\",\n",
              "      \"vega-lite\": \"https://cdn.jsdelivr.net/npm/vega-lite@5.20.1?noext\",\n",
              "      \"vega-embed\": \"https://cdn.jsdelivr.net/npm/vega-embed@6?noext\",\n",
              "    };\n",
              "\n",
              "    function maybeLoadScript(lib, version) {\n",
              "      var key = `${lib.replace(\"-\", \"\")}_version`;\n",
              "      return (VEGA_DEBUG[key] == version) ?\n",
              "        Promise.resolve(paths[lib]) :\n",
              "        new Promise(function(resolve, reject) {\n",
              "          var s = document.createElement('script');\n",
              "          document.getElementsByTagName(\"head\")[0].appendChild(s);\n",
              "          s.async = true;\n",
              "          s.onload = () => {\n",
              "            VEGA_DEBUG[key] = version;\n",
              "            return resolve(paths[lib]);\n",
              "          };\n",
              "          s.onerror = () => reject(`Error loading script: ${paths[lib]}`);\n",
              "          s.src = paths[lib];\n",
              "        });\n",
              "    }\n",
              "\n",
              "    function showError(err) {\n",
              "      outputDiv.innerHTML = `<div class=\"error\" style=\"color:red;\">${err}</div>`;\n",
              "      throw err;\n",
              "    }\n",
              "\n",
              "    function displayChart(vegaEmbed) {\n",
              "      vegaEmbed(outputDiv, spec, embedOpt)\n",
              "        .catch(err => showError(`Javascript Error: ${err.message}<br>This usually means there's a typo in your chart specification. See the javascript console for the full traceback.`));\n",
              "    }\n",
              "\n",
              "    if(typeof define === \"function\" && define.amd) {\n",
              "      requirejs.config({paths});\n",
              "      let deps = [\"vega-embed\"];\n",
              "      require(deps, displayChart, err => showError(`Error loading script: ${err.message}`));\n",
              "    } else {\n",
              "      maybeLoadScript(\"vega\", \"5\")\n",
              "        .then(() => maybeLoadScript(\"vega-lite\", \"5.20.1\"))\n",
              "        .then(() => maybeLoadScript(\"vega-embed\", \"6\"))\n",
              "        .catch(showError)\n",
              "        .then(() => displayChart(vegaEmbed));\n",
              "    }\n",
              "  })({\"config\": {\"view\": {\"continuousWidth\": 300, \"continuousHeight\": 300}}, \"data\": {\"url\": \"https://cdn.jsdelivr.net/npm/vega-datasets@1/data/burtin.json\"}, \"mark\": {\"type\": \"circle\", \"size\": 80}, \"encoding\": {\"color\": {\"field\": \"Gram_Staining\", \"scale\": {\"domain\": [\"negative\", \"positive\"], \"range\": [\"hotpink\", \"purple\"]}, \"type\": \"nominal\"}, \"x\": {\"axis\": {\"tickCount\": 5}, \"field\": \"Neomycin\", \"scale\": {\"domain\": [0.001, 1000], \"type\": \"log\"}, \"sort\": \"descending\", \"title\": \"CMI da Neomicina (\\u03bcg/ml, escala logar\\u00edtmica reversa)\", \"type\": \"quantitative\"}, \"y\": {\"axis\": {\"tickCount\": 5}, \"field\": \"Penicillin\", \"scale\": {\"domain\": [0.001, 1000], \"type\": \"log\"}, \"sort\": \"descending\", \"title\": \"CMI da Penicilina (\\u03bcg/ml, escala logar\\u00edtmica reversa)\", \"type\": \"quantitative\"}}, \"height\": 250, \"width\": 250, \"$schema\": \"https://vega.github.io/schema/vega-lite/v5.20.1.json\"}, {\"mode\": \"vega-lite\"});\n",
              "</script>"
            ],
            "text/plain": [
              "alt.Chart(...)"
            ]
          },
          "execution_count": 16,
          "metadata": {},
          "output_type": "execute_result"
        }
      ],
      "source": [
        "alt.Chart(antibioticos).mark_circle(size=80).encode(\n",
        "    alt.X('Neomycin:Q',\n",
        "          sort='descending',\n",
        "          scale=alt.Scale(type='log', domain=[0.001, 1000]),\n",
        "          axis=alt.Axis(tickCount=5),\n",
        "          title='CMI da Neomicina (μg/ml, escala logarítmica reversa)'),\n",
        "    alt.Y('Penicillin:Q',\n",
        "          sort='descending',\n",
        "          scale=alt.Scale(type='log', domain=[0.001, 1000]),\n",
        "          axis=alt.Axis(tickCount=5),\n",
        "          title='CMI da Penicilina (μg/ml, escala logarítmica reversa)'),\n",
        "    alt.Color('Gram_Staining:N',\n",
        "          scale=alt.Scale(domain=['negative', 'positive'], range=['hotpink', 'purple'])\n",
        "    )\n",
        ").properties(width=250, height=250)"
      ]
    },
    {
      "cell_type": "markdown",
      "metadata": {
        "id": "zAmex7w5mqLD"
      },
      "source": [
        "Por padrão, as legendas são posicionadas no lado direito do gráfico. Similar aos eixos, podemos alterar a orientação (`orient`) da legenda dentro do método `alt.Legend`:\n"
      ]
    },
    {
      "cell_type": "code",
      "execution_count": 17,
      "metadata": {
        "colab": {
          "base_uri": "https://localhost:8080/",
          "height": 359
        },
        "id": "jNmrZ8fjmqLD",
        "outputId": "d3b0fc01-4565-4d47-a13c-d18adb0de6f9"
      },
      "outputs": [
        {
          "data": {
            "text/html": [
              "\n",
              "<style>\n",
              "  #altair-viz-5e1bd1c334394790b8a6f83d6b83c0a8.vega-embed {\n",
              "    width: 100%;\n",
              "    display: flex;\n",
              "  }\n",
              "\n",
              "  #altair-viz-5e1bd1c334394790b8a6f83d6b83c0a8.vega-embed details,\n",
              "  #altair-viz-5e1bd1c334394790b8a6f83d6b83c0a8.vega-embed details summary {\n",
              "    position: relative;\n",
              "  }\n",
              "</style>\n",
              "<div id=\"altair-viz-5e1bd1c334394790b8a6f83d6b83c0a8\"></div>\n",
              "<script type=\"text/javascript\">\n",
              "  var VEGA_DEBUG = (typeof VEGA_DEBUG == \"undefined\") ? {} : VEGA_DEBUG;\n",
              "  (function(spec, embedOpt){\n",
              "    let outputDiv = document.currentScript.previousElementSibling;\n",
              "    if (outputDiv.id !== \"altair-viz-5e1bd1c334394790b8a6f83d6b83c0a8\") {\n",
              "      outputDiv = document.getElementById(\"altair-viz-5e1bd1c334394790b8a6f83d6b83c0a8\");\n",
              "    }\n",
              "\n",
              "    const paths = {\n",
              "      \"vega\": \"https://cdn.jsdelivr.net/npm/vega@5?noext\",\n",
              "      \"vega-lib\": \"https://cdn.jsdelivr.net/npm/vega-lib?noext\",\n",
              "      \"vega-lite\": \"https://cdn.jsdelivr.net/npm/vega-lite@5.20.1?noext\",\n",
              "      \"vega-embed\": \"https://cdn.jsdelivr.net/npm/vega-embed@6?noext\",\n",
              "    };\n",
              "\n",
              "    function maybeLoadScript(lib, version) {\n",
              "      var key = `${lib.replace(\"-\", \"\")}_version`;\n",
              "      return (VEGA_DEBUG[key] == version) ?\n",
              "        Promise.resolve(paths[lib]) :\n",
              "        new Promise(function(resolve, reject) {\n",
              "          var s = document.createElement('script');\n",
              "          document.getElementsByTagName(\"head\")[0].appendChild(s);\n",
              "          s.async = true;\n",
              "          s.onload = () => {\n",
              "            VEGA_DEBUG[key] = version;\n",
              "            return resolve(paths[lib]);\n",
              "          };\n",
              "          s.onerror = () => reject(`Error loading script: ${paths[lib]}`);\n",
              "          s.src = paths[lib];\n",
              "        });\n",
              "    }\n",
              "\n",
              "    function showError(err) {\n",
              "      outputDiv.innerHTML = `<div class=\"error\" style=\"color:red;\">${err}</div>`;\n",
              "      throw err;\n",
              "    }\n",
              "\n",
              "    function displayChart(vegaEmbed) {\n",
              "      vegaEmbed(outputDiv, spec, embedOpt)\n",
              "        .catch(err => showError(`Javascript Error: ${err.message}<br>This usually means there's a typo in your chart specification. See the javascript console for the full traceback.`));\n",
              "    }\n",
              "\n",
              "    if(typeof define === \"function\" && define.amd) {\n",
              "      requirejs.config({paths});\n",
              "      let deps = [\"vega-embed\"];\n",
              "      require(deps, displayChart, err => showError(`Error loading script: ${err.message}`));\n",
              "    } else {\n",
              "      maybeLoadScript(\"vega\", \"5\")\n",
              "        .then(() => maybeLoadScript(\"vega-lite\", \"5.20.1\"))\n",
              "        .then(() => maybeLoadScript(\"vega-embed\", \"6\"))\n",
              "        .catch(showError)\n",
              "        .then(() => displayChart(vegaEmbed));\n",
              "    }\n",
              "  })({\"config\": {\"view\": {\"continuousWidth\": 300, \"continuousHeight\": 300}}, \"data\": {\"url\": \"https://cdn.jsdelivr.net/npm/vega-datasets@1/data/burtin.json\"}, \"mark\": {\"type\": \"circle\", \"size\": 80}, \"encoding\": {\"color\": {\"field\": \"Gram_Staining\", \"legend\": {\"orient\": \"left\"}, \"scale\": {\"domain\": [\"negative\", \"positive\"], \"range\": [\"hotpink\", \"purple\"]}, \"type\": \"nominal\"}, \"x\": {\"axis\": {\"tickCount\": 5}, \"field\": \"Neomycin\", \"scale\": {\"domain\": [0.001, 1000], \"type\": \"log\"}, \"sort\": \"descending\", \"title\": \"CMI da Neomicina (\\u03bcg/ml, escala logar\\u00edtmica reversa)\", \"type\": \"quantitative\"}, \"y\": {\"axis\": {\"tickCount\": 5}, \"field\": \"Penicillin\", \"scale\": {\"domain\": [0.001, 1000], \"type\": \"log\"}, \"sort\": \"descending\", \"title\": \"CMI da Penicilina (\\u03bcg/ml, escala logar\\u00edtmica reversa)\", \"type\": \"quantitative\"}}, \"height\": 250, \"width\": 250, \"$schema\": \"https://vega.github.io/schema/vega-lite/v5.20.1.json\"}, {\"mode\": \"vega-lite\"});\n",
              "</script>"
            ],
            "text/plain": [
              "alt.Chart(...)"
            ]
          },
          "execution_count": 17,
          "metadata": {},
          "output_type": "execute_result"
        }
      ],
      "source": [
        "alt.Chart(antibioticos).mark_circle(size=80).encode(\n",
        "    alt.X('Neomycin:Q',\n",
        "          sort='descending',\n",
        "          scale=alt.Scale(type='log', domain=[0.001, 1000]),\n",
        "          axis=alt.Axis(tickCount=5),\n",
        "          title='CMI da Neomicina (μg/ml, escala logarítmica reversa)'),\n",
        "    alt.Y('Penicillin:Q',\n",
        "          sort='descending',\n",
        "          scale=alt.Scale(type='log', domain=[0.001, 1000]),\n",
        "          axis=alt.Axis(tickCount=5),\n",
        "          title='CMI da Penicilina (μg/ml, escala logarítmica reversa)'),\n",
        "    alt.Color('Gram_Staining:N',\n",
        "          scale=alt.Scale(domain=['negative', 'positive'], range=['hotpink', 'purple']),\n",
        "          legend=alt.Legend(orient='left')\n",
        "    )\n",
        ").properties(width=250, height=250)"
      ]
    },
    {
      "cell_type": "markdown",
      "metadata": {
        "id": "jmdyjtyCmqLD"
      },
      "source": [
        "Também podemos remover completamente uma legenda especificando `legend=None`:\n",
        "\n"
      ]
    },
    {
      "cell_type": "code",
      "execution_count": 18,
      "metadata": {
        "colab": {
          "base_uri": "https://localhost:8080/",
          "height": 359
        },
        "id": "8UhlYAXWmqLE",
        "outputId": "3f29df75-931b-4660-f237-f16a775fdb82"
      },
      "outputs": [
        {
          "data": {
            "text/html": [
              "\n",
              "<style>\n",
              "  #altair-viz-e92dd52f762c4d4fb5006cd466370af8.vega-embed {\n",
              "    width: 100%;\n",
              "    display: flex;\n",
              "  }\n",
              "\n",
              "  #altair-viz-e92dd52f762c4d4fb5006cd466370af8.vega-embed details,\n",
              "  #altair-viz-e92dd52f762c4d4fb5006cd466370af8.vega-embed details summary {\n",
              "    position: relative;\n",
              "  }\n",
              "</style>\n",
              "<div id=\"altair-viz-e92dd52f762c4d4fb5006cd466370af8\"></div>\n",
              "<script type=\"text/javascript\">\n",
              "  var VEGA_DEBUG = (typeof VEGA_DEBUG == \"undefined\") ? {} : VEGA_DEBUG;\n",
              "  (function(spec, embedOpt){\n",
              "    let outputDiv = document.currentScript.previousElementSibling;\n",
              "    if (outputDiv.id !== \"altair-viz-e92dd52f762c4d4fb5006cd466370af8\") {\n",
              "      outputDiv = document.getElementById(\"altair-viz-e92dd52f762c4d4fb5006cd466370af8\");\n",
              "    }\n",
              "\n",
              "    const paths = {\n",
              "      \"vega\": \"https://cdn.jsdelivr.net/npm/vega@5?noext\",\n",
              "      \"vega-lib\": \"https://cdn.jsdelivr.net/npm/vega-lib?noext\",\n",
              "      \"vega-lite\": \"https://cdn.jsdelivr.net/npm/vega-lite@5.20.1?noext\",\n",
              "      \"vega-embed\": \"https://cdn.jsdelivr.net/npm/vega-embed@6?noext\",\n",
              "    };\n",
              "\n",
              "    function maybeLoadScript(lib, version) {\n",
              "      var key = `${lib.replace(\"-\", \"\")}_version`;\n",
              "      return (VEGA_DEBUG[key] == version) ?\n",
              "        Promise.resolve(paths[lib]) :\n",
              "        new Promise(function(resolve, reject) {\n",
              "          var s = document.createElement('script');\n",
              "          document.getElementsByTagName(\"head\")[0].appendChild(s);\n",
              "          s.async = true;\n",
              "          s.onload = () => {\n",
              "            VEGA_DEBUG[key] = version;\n",
              "            return resolve(paths[lib]);\n",
              "          };\n",
              "          s.onerror = () => reject(`Error loading script: ${paths[lib]}`);\n",
              "          s.src = paths[lib];\n",
              "        });\n",
              "    }\n",
              "\n",
              "    function showError(err) {\n",
              "      outputDiv.innerHTML = `<div class=\"error\" style=\"color:red;\">${err}</div>`;\n",
              "      throw err;\n",
              "    }\n",
              "\n",
              "    function displayChart(vegaEmbed) {\n",
              "      vegaEmbed(outputDiv, spec, embedOpt)\n",
              "        .catch(err => showError(`Javascript Error: ${err.message}<br>This usually means there's a typo in your chart specification. See the javascript console for the full traceback.`));\n",
              "    }\n",
              "\n",
              "    if(typeof define === \"function\" && define.amd) {\n",
              "      requirejs.config({paths});\n",
              "      let deps = [\"vega-embed\"];\n",
              "      require(deps, displayChart, err => showError(`Error loading script: ${err.message}`));\n",
              "    } else {\n",
              "      maybeLoadScript(\"vega\", \"5\")\n",
              "        .then(() => maybeLoadScript(\"vega-lite\", \"5.20.1\"))\n",
              "        .then(() => maybeLoadScript(\"vega-embed\", \"6\"))\n",
              "        .catch(showError)\n",
              "        .then(() => displayChart(vegaEmbed));\n",
              "    }\n",
              "  })({\"config\": {\"view\": {\"continuousWidth\": 300, \"continuousHeight\": 300}}, \"data\": {\"url\": \"https://cdn.jsdelivr.net/npm/vega-datasets@1/data/burtin.json\"}, \"mark\": {\"type\": \"circle\", \"size\": 80}, \"encoding\": {\"color\": {\"field\": \"Gram_Staining\", \"legend\": null, \"scale\": {\"domain\": [\"negative\", \"positive\"], \"range\": [\"hotpink\", \"purple\"]}, \"type\": \"nominal\"}, \"x\": {\"axis\": {\"tickCount\": 5}, \"field\": \"Neomycin\", \"scale\": {\"domain\": [0.001, 1000], \"type\": \"log\"}, \"sort\": \"descending\", \"title\": \"CMI da Neomicina (\\u03bcg/ml, escala logar\\u00edtmica reversa)\", \"type\": \"quantitative\"}, \"y\": {\"axis\": {\"tickCount\": 5}, \"field\": \"Penicillin\", \"scale\": {\"domain\": [0.001, 1000], \"type\": \"log\"}, \"sort\": \"descending\", \"title\": \"CMI da Penicilina (\\u03bcg/ml, escala logar\\u00edtmica reversa)\", \"type\": \"quantitative\"}}, \"height\": 250, \"width\": 250, \"$schema\": \"https://vega.github.io/schema/vega-lite/v5.20.1.json\"}, {\"mode\": \"vega-lite\"});\n",
              "</script>"
            ],
            "text/plain": [
              "alt.Chart(...)"
            ]
          },
          "execution_count": 18,
          "metadata": {},
          "output_type": "execute_result"
        }
      ],
      "source": [
        "alt.Chart(antibioticos).mark_circle(size=80).encode(\n",
        "    alt.X('Neomycin:Q',\n",
        "          sort='descending',\n",
        "          scale=alt.Scale(type='log', domain=[0.001, 1000]),\n",
        "          axis=alt.Axis(tickCount=5),\n",
        "          title='CMI da Neomicina (μg/ml, escala logarítmica reversa)'),\n",
        "    alt.Y('Penicillin:Q',\n",
        "          sort='descending',\n",
        "          scale=alt.Scale(type='log', domain=[0.001, 1000]),\n",
        "          axis=alt.Axis(tickCount=5),\n",
        "          title='CMI da Penicilina (μg/ml, escala logarítmica reversa)'),\n",
        "    alt.Color('Gram_Staining:N',\n",
        "          scale=alt.Scale(domain=['negative', 'positive'], range=['hotpink', 'purple']),\n",
        "          legend=None\n",
        "    )\n",
        ").properties(width=250, height=250)"
      ]
    },
    {
      "cell_type": "markdown",
      "metadata": {
        "id": "OVrOqDjWmqLE"
      },
      "source": [
        "## 4.3.2 Cor por Espécie\n",
        "\n",
        "Até agora, consideramos a eficácia dos antibióticos. Vamos mudar a abordagem e fazer uma pergunta diferente: o que a resposta aos antibióticos pode nos ensinar sobre as diferentes espécies de bactérias?\n",
        "\n",
        "Para começar, vamos codificar `Bacteria` (um campo de dados nominal) usando o canal de `color`:\n"
      ]
    },
    {
      "cell_type": "code",
      "execution_count": 19,
      "metadata": {
        "colab": {
          "base_uri": "https://localhost:8080/",
          "height": 359
        },
        "id": "nwmStDfDmqLG",
        "outputId": "37c341a2-878d-49f6-b0db-1abc33d310e7"
      },
      "outputs": [
        {
          "data": {
            "text/html": [
              "\n",
              "<style>\n",
              "  #altair-viz-311ab8b4eadf4e9eb155f47f67fed41f.vega-embed {\n",
              "    width: 100%;\n",
              "    display: flex;\n",
              "  }\n",
              "\n",
              "  #altair-viz-311ab8b4eadf4e9eb155f47f67fed41f.vega-embed details,\n",
              "  #altair-viz-311ab8b4eadf4e9eb155f47f67fed41f.vega-embed details summary {\n",
              "    position: relative;\n",
              "  }\n",
              "</style>\n",
              "<div id=\"altair-viz-311ab8b4eadf4e9eb155f47f67fed41f\"></div>\n",
              "<script type=\"text/javascript\">\n",
              "  var VEGA_DEBUG = (typeof VEGA_DEBUG == \"undefined\") ? {} : VEGA_DEBUG;\n",
              "  (function(spec, embedOpt){\n",
              "    let outputDiv = document.currentScript.previousElementSibling;\n",
              "    if (outputDiv.id !== \"altair-viz-311ab8b4eadf4e9eb155f47f67fed41f\") {\n",
              "      outputDiv = document.getElementById(\"altair-viz-311ab8b4eadf4e9eb155f47f67fed41f\");\n",
              "    }\n",
              "\n",
              "    const paths = {\n",
              "      \"vega\": \"https://cdn.jsdelivr.net/npm/vega@5?noext\",\n",
              "      \"vega-lib\": \"https://cdn.jsdelivr.net/npm/vega-lib?noext\",\n",
              "      \"vega-lite\": \"https://cdn.jsdelivr.net/npm/vega-lite@5.20.1?noext\",\n",
              "      \"vega-embed\": \"https://cdn.jsdelivr.net/npm/vega-embed@6?noext\",\n",
              "    };\n",
              "\n",
              "    function maybeLoadScript(lib, version) {\n",
              "      var key = `${lib.replace(\"-\", \"\")}_version`;\n",
              "      return (VEGA_DEBUG[key] == version) ?\n",
              "        Promise.resolve(paths[lib]) :\n",
              "        new Promise(function(resolve, reject) {\n",
              "          var s = document.createElement('script');\n",
              "          document.getElementsByTagName(\"head\")[0].appendChild(s);\n",
              "          s.async = true;\n",
              "          s.onload = () => {\n",
              "            VEGA_DEBUG[key] = version;\n",
              "            return resolve(paths[lib]);\n",
              "          };\n",
              "          s.onerror = () => reject(`Error loading script: ${paths[lib]}`);\n",
              "          s.src = paths[lib];\n",
              "        });\n",
              "    }\n",
              "\n",
              "    function showError(err) {\n",
              "      outputDiv.innerHTML = `<div class=\"error\" style=\"color:red;\">${err}</div>`;\n",
              "      throw err;\n",
              "    }\n",
              "\n",
              "    function displayChart(vegaEmbed) {\n",
              "      vegaEmbed(outputDiv, spec, embedOpt)\n",
              "        .catch(err => showError(`Javascript Error: ${err.message}<br>This usually means there's a typo in your chart specification. See the javascript console for the full traceback.`));\n",
              "    }\n",
              "\n",
              "    if(typeof define === \"function\" && define.amd) {\n",
              "      requirejs.config({paths});\n",
              "      let deps = [\"vega-embed\"];\n",
              "      require(deps, displayChart, err => showError(`Error loading script: ${err.message}`));\n",
              "    } else {\n",
              "      maybeLoadScript(\"vega\", \"5\")\n",
              "        .then(() => maybeLoadScript(\"vega-lite\", \"5.20.1\"))\n",
              "        .then(() => maybeLoadScript(\"vega-embed\", \"6\"))\n",
              "        .catch(showError)\n",
              "        .then(() => displayChart(vegaEmbed));\n",
              "    }\n",
              "  })({\"config\": {\"view\": {\"continuousWidth\": 300, \"continuousHeight\": 300}}, \"data\": {\"url\": \"https://cdn.jsdelivr.net/npm/vega-datasets@1/data/burtin.json\"}, \"mark\": {\"type\": \"circle\", \"size\": 80}, \"encoding\": {\"color\": {\"field\": \"Bacteria\", \"type\": \"nominal\"}, \"x\": {\"axis\": {\"tickCount\": 5}, \"field\": \"Neomycin\", \"scale\": {\"domain\": [0.001, 1000], \"type\": \"log\"}, \"sort\": \"descending\", \"title\": \"CMI da Neomicina (\\u03bcg/ml, escala logar\\u00edtmica reversa)\", \"type\": \"quantitative\"}, \"y\": {\"axis\": {\"tickCount\": 5}, \"field\": \"Penicillin\", \"scale\": {\"domain\": [0.001, 1000], \"type\": \"log\"}, \"sort\": \"descending\", \"title\": \"CMI da Penicilina (\\u03bcg/ml, escala logar\\u00edtmica reversa)\", \"type\": \"quantitative\"}}, \"height\": 250, \"width\": 250, \"$schema\": \"https://vega.github.io/schema/vega-lite/v5.20.1.json\"}, {\"mode\": \"vega-lite\"});\n",
              "</script>"
            ],
            "text/plain": [
              "alt.Chart(...)"
            ]
          },
          "execution_count": 19,
          "metadata": {},
          "output_type": "execute_result"
        }
      ],
      "source": [
        "alt.Chart(antibioticos).mark_circle(size=80).encode(\n",
        "    alt.X('Neomycin:Q',\n",
        "          sort='descending',\n",
        "          scale=alt.Scale(type='log', domain=[0.001, 1000]),\n",
        "          axis=alt.Axis(tickCount=5),\n",
        "          title='CMI da Neomicina (μg/ml, escala logarítmica reversa)'),\n",
        "    alt.Y('Penicillin:Q',\n",
        "          sort='descending',\n",
        "          scale=alt.Scale(type='log', domain=[0.001, 1000]),\n",
        "          axis=alt.Axis(tickCount=5),\n",
        "          title='CMI da Penicilina (μg/ml, escala logarítmica reversa)'),\n",
        "    alt.Color('Bacteria:N')\n",
        ").properties(width=250, height=250)"
      ]
    },
    {
      "cell_type": "markdown",
      "metadata": {
        "id": "l3bhnz0hmqLG"
      },
      "source": [
        "O resultado está um pouco confuso! Existem bactérias suficientes para que o Altair comece a repetir cores de sua paleta padrão de 10 cores para valores nominais.\n",
        "\n",
        "Para usar cores personalizadas, podemos atualizar a propriedade `scale` da codificação de cor. Uma opção é fornecer valores explícitos de `domain` e `range` da escala para indicar mapeamentos de cores precisos por valor, como fizemos acima para `Gram Staining`. Outra opção é usar um esquema de cores alternativo. O Altair inclui uma variedade de esquemas de cores integrados. Para uma lista completa, consulte a documentação do esquema de cores do [Vega](https://vega.github.io/vega/docs/schemes/#reference).\n",
        "\n",
        "Vamos tentar alternar para um esquema integrado de 20 cores, `tableau20`, e definir isso usando a propriedade de escala de esquema (`scheme`).\n"
      ]
    },
    {
      "cell_type": "code",
      "execution_count": 20,
      "metadata": {
        "colab": {
          "base_uri": "https://localhost:8080/",
          "height": 359
        },
        "id": "-2otxRgDmqLH",
        "outputId": "4af43d73-8a55-40ba-8342-325e19efa754"
      },
      "outputs": [
        {
          "data": {
            "text/html": [
              "\n",
              "<style>\n",
              "  #altair-viz-e8bc7769cf344b71869abeb742d6a8ec.vega-embed {\n",
              "    width: 100%;\n",
              "    display: flex;\n",
              "  }\n",
              "\n",
              "  #altair-viz-e8bc7769cf344b71869abeb742d6a8ec.vega-embed details,\n",
              "  #altair-viz-e8bc7769cf344b71869abeb742d6a8ec.vega-embed details summary {\n",
              "    position: relative;\n",
              "  }\n",
              "</style>\n",
              "<div id=\"altair-viz-e8bc7769cf344b71869abeb742d6a8ec\"></div>\n",
              "<script type=\"text/javascript\">\n",
              "  var VEGA_DEBUG = (typeof VEGA_DEBUG == \"undefined\") ? {} : VEGA_DEBUG;\n",
              "  (function(spec, embedOpt){\n",
              "    let outputDiv = document.currentScript.previousElementSibling;\n",
              "    if (outputDiv.id !== \"altair-viz-e8bc7769cf344b71869abeb742d6a8ec\") {\n",
              "      outputDiv = document.getElementById(\"altair-viz-e8bc7769cf344b71869abeb742d6a8ec\");\n",
              "    }\n",
              "\n",
              "    const paths = {\n",
              "      \"vega\": \"https://cdn.jsdelivr.net/npm/vega@5?noext\",\n",
              "      \"vega-lib\": \"https://cdn.jsdelivr.net/npm/vega-lib?noext\",\n",
              "      \"vega-lite\": \"https://cdn.jsdelivr.net/npm/vega-lite@5.20.1?noext\",\n",
              "      \"vega-embed\": \"https://cdn.jsdelivr.net/npm/vega-embed@6?noext\",\n",
              "    };\n",
              "\n",
              "    function maybeLoadScript(lib, version) {\n",
              "      var key = `${lib.replace(\"-\", \"\")}_version`;\n",
              "      return (VEGA_DEBUG[key] == version) ?\n",
              "        Promise.resolve(paths[lib]) :\n",
              "        new Promise(function(resolve, reject) {\n",
              "          var s = document.createElement('script');\n",
              "          document.getElementsByTagName(\"head\")[0].appendChild(s);\n",
              "          s.async = true;\n",
              "          s.onload = () => {\n",
              "            VEGA_DEBUG[key] = version;\n",
              "            return resolve(paths[lib]);\n",
              "          };\n",
              "          s.onerror = () => reject(`Error loading script: ${paths[lib]}`);\n",
              "          s.src = paths[lib];\n",
              "        });\n",
              "    }\n",
              "\n",
              "    function showError(err) {\n",
              "      outputDiv.innerHTML = `<div class=\"error\" style=\"color:red;\">${err}</div>`;\n",
              "      throw err;\n",
              "    }\n",
              "\n",
              "    function displayChart(vegaEmbed) {\n",
              "      vegaEmbed(outputDiv, spec, embedOpt)\n",
              "        .catch(err => showError(`Javascript Error: ${err.message}<br>This usually means there's a typo in your chart specification. See the javascript console for the full traceback.`));\n",
              "    }\n",
              "\n",
              "    if(typeof define === \"function\" && define.amd) {\n",
              "      requirejs.config({paths});\n",
              "      let deps = [\"vega-embed\"];\n",
              "      require(deps, displayChart, err => showError(`Error loading script: ${err.message}`));\n",
              "    } else {\n",
              "      maybeLoadScript(\"vega\", \"5\")\n",
              "        .then(() => maybeLoadScript(\"vega-lite\", \"5.20.1\"))\n",
              "        .then(() => maybeLoadScript(\"vega-embed\", \"6\"))\n",
              "        .catch(showError)\n",
              "        .then(() => displayChart(vegaEmbed));\n",
              "    }\n",
              "  })({\"config\": {\"view\": {\"continuousWidth\": 300, \"continuousHeight\": 300}}, \"data\": {\"url\": \"https://cdn.jsdelivr.net/npm/vega-datasets@1/data/burtin.json\"}, \"mark\": {\"type\": \"circle\", \"size\": 80}, \"encoding\": {\"color\": {\"field\": \"Bacteria\", \"scale\": {\"scheme\": \"tableau20\"}, \"type\": \"nominal\"}, \"x\": {\"axis\": {\"tickCount\": 5}, \"field\": \"Neomycin\", \"scale\": {\"domain\": [0.001, 1000], \"type\": \"log\"}, \"sort\": \"descending\", \"title\": \"CMI da Nemicina (\\u03bcg/ml, escala logar\\u00edtmica reversa)\", \"type\": \"quantitative\"}, \"y\": {\"axis\": {\"tickCount\": 5}, \"field\": \"Penicillin\", \"scale\": {\"domain\": [0.001, 1000], \"type\": \"log\"}, \"sort\": \"descending\", \"title\": \"CMI da Penicilina (\\u03bcg/ml, escala logar\\u00edtmica reversa)\", \"type\": \"quantitative\"}}, \"height\": 250, \"width\": 250, \"$schema\": \"https://vega.github.io/schema/vega-lite/v5.20.1.json\"}, {\"mode\": \"vega-lite\"});\n",
              "</script>"
            ],
            "text/plain": [
              "alt.Chart(...)"
            ]
          },
          "execution_count": 20,
          "metadata": {},
          "output_type": "execute_result"
        }
      ],
      "source": [
        "alt.Chart(antibioticos).mark_circle(size=80).encode(\n",
        "    alt.X('Neomycin:Q',\n",
        "          sort='descending',\n",
        "          scale=alt.Scale(type='log', domain=[0.001, 1000]),\n",
        "          axis=alt.Axis(tickCount=5),\n",
        "          title='CMI da Nemicina (μg/ml, escala logarítmica reversa)'),\n",
        "    alt.Y('Penicillin:Q',\n",
        "          sort='descending',\n",
        "          scale=alt.Scale(type='log', domain=[0.001, 1000]),\n",
        "          axis=alt.Axis(tickCount=5),\n",
        "          title='CMI da Penicilina (μg/ml, escala logarítmica reversa)'),\n",
        "    alt.Color('Bacteria:N',\n",
        "          scale=alt.Scale(scheme='tableau20'))\n",
        ").properties(width=250, height=250)"
      ]
    },
    {
      "cell_type": "markdown",
      "metadata": {
        "id": "7vzh7Dn9mqLH"
      },
      "source": [
        "Agora temos uma cor única para cada bactéria, mas o gráfico ainda está confuso. Entre outros problemas, a codificação não leva em conta bactérias que pertencem ao mesmo gênero. No gráfico acima, as duas cepas diferentes de Salmonella possuem matizes muito diferentes (verde-azulado e rosa), apesar de serem biologicamente próximas.\n",
        "\n",
        "Para testar um `scheme` diferente, também podemos alterar o tipo de dado de nominal para ordinal. O `scheme` ordinal padrão usa tons de azul, variando do claro ao escuro:\n"
      ]
    },
    {
      "cell_type": "code",
      "execution_count": 21,
      "metadata": {
        "colab": {
          "base_uri": "https://localhost:8080/",
          "height": 359
        },
        "id": "PuvSTQnRmqLI",
        "outputId": "c37cc204-2f81-4548-ba65-635afdf34b32"
      },
      "outputs": [
        {
          "data": {
            "text/html": [
              "\n",
              "<style>\n",
              "  #altair-viz-8868fef0d65b44338940286a45e33636.vega-embed {\n",
              "    width: 100%;\n",
              "    display: flex;\n",
              "  }\n",
              "\n",
              "  #altair-viz-8868fef0d65b44338940286a45e33636.vega-embed details,\n",
              "  #altair-viz-8868fef0d65b44338940286a45e33636.vega-embed details summary {\n",
              "    position: relative;\n",
              "  }\n",
              "</style>\n",
              "<div id=\"altair-viz-8868fef0d65b44338940286a45e33636\"></div>\n",
              "<script type=\"text/javascript\">\n",
              "  var VEGA_DEBUG = (typeof VEGA_DEBUG == \"undefined\") ? {} : VEGA_DEBUG;\n",
              "  (function(spec, embedOpt){\n",
              "    let outputDiv = document.currentScript.previousElementSibling;\n",
              "    if (outputDiv.id !== \"altair-viz-8868fef0d65b44338940286a45e33636\") {\n",
              "      outputDiv = document.getElementById(\"altair-viz-8868fef0d65b44338940286a45e33636\");\n",
              "    }\n",
              "\n",
              "    const paths = {\n",
              "      \"vega\": \"https://cdn.jsdelivr.net/npm/vega@5?noext\",\n",
              "      \"vega-lib\": \"https://cdn.jsdelivr.net/npm/vega-lib?noext\",\n",
              "      \"vega-lite\": \"https://cdn.jsdelivr.net/npm/vega-lite@5.20.1?noext\",\n",
              "      \"vega-embed\": \"https://cdn.jsdelivr.net/npm/vega-embed@6?noext\",\n",
              "    };\n",
              "\n",
              "    function maybeLoadScript(lib, version) {\n",
              "      var key = `${lib.replace(\"-\", \"\")}_version`;\n",
              "      return (VEGA_DEBUG[key] == version) ?\n",
              "        Promise.resolve(paths[lib]) :\n",
              "        new Promise(function(resolve, reject) {\n",
              "          var s = document.createElement('script');\n",
              "          document.getElementsByTagName(\"head\")[0].appendChild(s);\n",
              "          s.async = true;\n",
              "          s.onload = () => {\n",
              "            VEGA_DEBUG[key] = version;\n",
              "            return resolve(paths[lib]);\n",
              "          };\n",
              "          s.onerror = () => reject(`Error loading script: ${paths[lib]}`);\n",
              "          s.src = paths[lib];\n",
              "        });\n",
              "    }\n",
              "\n",
              "    function showError(err) {\n",
              "      outputDiv.innerHTML = `<div class=\"error\" style=\"color:red;\">${err}</div>`;\n",
              "      throw err;\n",
              "    }\n",
              "\n",
              "    function displayChart(vegaEmbed) {\n",
              "      vegaEmbed(outputDiv, spec, embedOpt)\n",
              "        .catch(err => showError(`Javascript Error: ${err.message}<br>This usually means there's a typo in your chart specification. See the javascript console for the full traceback.`));\n",
              "    }\n",
              "\n",
              "    if(typeof define === \"function\" && define.amd) {\n",
              "      requirejs.config({paths});\n",
              "      let deps = [\"vega-embed\"];\n",
              "      require(deps, displayChart, err => showError(`Error loading script: ${err.message}`));\n",
              "    } else {\n",
              "      maybeLoadScript(\"vega\", \"5\")\n",
              "        .then(() => maybeLoadScript(\"vega-lite\", \"5.20.1\"))\n",
              "        .then(() => maybeLoadScript(\"vega-embed\", \"6\"))\n",
              "        .catch(showError)\n",
              "        .then(() => displayChart(vegaEmbed));\n",
              "    }\n",
              "  })({\"config\": {\"view\": {\"continuousWidth\": 300, \"continuousHeight\": 300}}, \"data\": {\"url\": \"https://cdn.jsdelivr.net/npm/vega-datasets@1/data/burtin.json\"}, \"mark\": {\"type\": \"circle\", \"size\": 80}, \"encoding\": {\"color\": {\"field\": \"Bacteria\", \"type\": \"ordinal\"}, \"x\": {\"axis\": {\"tickCount\": 5}, \"field\": \"Neomycin\", \"scale\": {\"domain\": [0.001, 1000], \"type\": \"log\"}, \"sort\": \"descending\", \"title\": \"CMI da Neomicina (\\u03bcg/ml, escala logar\\u00edtmica reversa)\", \"type\": \"quantitative\"}, \"y\": {\"axis\": {\"tickCount\": 5}, \"field\": \"Penicillin\", \"scale\": {\"domain\": [0.001, 1000], \"type\": \"log\"}, \"sort\": \"descending\", \"title\": \"CMI da Penicilina (\\u03bcg/ml, escala logar\\u00edtmica reversa)\", \"type\": \"quantitative\"}}, \"height\": 250, \"width\": 250, \"$schema\": \"https://vega.github.io/schema/vega-lite/v5.20.1.json\"}, {\"mode\": \"vega-lite\"});\n",
              "</script>"
            ],
            "text/plain": [
              "alt.Chart(...)"
            ]
          },
          "execution_count": 21,
          "metadata": {},
          "output_type": "execute_result"
        }
      ],
      "source": [
        "alt.Chart(antibioticos).mark_circle(size=80).encode(\n",
        "    alt.X('Neomycin:Q',\n",
        "          sort='descending',\n",
        "          scale=alt.Scale(type='log', domain=[0.001, 1000]),\n",
        "          axis=alt.Axis(tickCount=5),\n",
        "          title='CMI da Neomicina (μg/ml, escala logarítmica reversa)'),\n",
        "    alt.Y('Penicillin:Q',\n",
        "          sort='descending',\n",
        "          scale=alt.Scale(type='log', domain=[0.001, 1000]),\n",
        "          axis=alt.Axis(tickCount=5),\n",
        "          title='CMI da Penicilina (μg/ml, escala logarítmica reversa)'),\n",
        "    alt.Color('Bacteria:O')\n",
        ").properties(width=250, height=250)"
      ]
    },
    {
      "cell_type": "markdown",
      "metadata": {
        "id": "ZoYLf3rZmqLI"
      },
      "source": [
        "Alguns desses tons de azul podem ser difíceis de distinguir.\n",
        "\n",
        "Para obter cores mais diferenciadas, podemos experimentar alternativas ao esquema padrão `blues`. O esquema `viridis` varia tanto em matiz quanto em luminância:\n"
      ]
    },
    {
      "cell_type": "code",
      "execution_count": 22,
      "metadata": {
        "colab": {
          "base_uri": "https://localhost:8080/",
          "height": 359
        },
        "id": "SyqCTet2mqLJ",
        "outputId": "a90bd2c1-834f-4712-e980-a443f70ebc25"
      },
      "outputs": [
        {
          "data": {
            "text/html": [
              "\n",
              "<style>\n",
              "  #altair-viz-c7b09e39e2864bdebd8a659f275e70f4.vega-embed {\n",
              "    width: 100%;\n",
              "    display: flex;\n",
              "  }\n",
              "\n",
              "  #altair-viz-c7b09e39e2864bdebd8a659f275e70f4.vega-embed details,\n",
              "  #altair-viz-c7b09e39e2864bdebd8a659f275e70f4.vega-embed details summary {\n",
              "    position: relative;\n",
              "  }\n",
              "</style>\n",
              "<div id=\"altair-viz-c7b09e39e2864bdebd8a659f275e70f4\"></div>\n",
              "<script type=\"text/javascript\">\n",
              "  var VEGA_DEBUG = (typeof VEGA_DEBUG == \"undefined\") ? {} : VEGA_DEBUG;\n",
              "  (function(spec, embedOpt){\n",
              "    let outputDiv = document.currentScript.previousElementSibling;\n",
              "    if (outputDiv.id !== \"altair-viz-c7b09e39e2864bdebd8a659f275e70f4\") {\n",
              "      outputDiv = document.getElementById(\"altair-viz-c7b09e39e2864bdebd8a659f275e70f4\");\n",
              "    }\n",
              "\n",
              "    const paths = {\n",
              "      \"vega\": \"https://cdn.jsdelivr.net/npm/vega@5?noext\",\n",
              "      \"vega-lib\": \"https://cdn.jsdelivr.net/npm/vega-lib?noext\",\n",
              "      \"vega-lite\": \"https://cdn.jsdelivr.net/npm/vega-lite@5.20.1?noext\",\n",
              "      \"vega-embed\": \"https://cdn.jsdelivr.net/npm/vega-embed@6?noext\",\n",
              "    };\n",
              "\n",
              "    function maybeLoadScript(lib, version) {\n",
              "      var key = `${lib.replace(\"-\", \"\")}_version`;\n",
              "      return (VEGA_DEBUG[key] == version) ?\n",
              "        Promise.resolve(paths[lib]) :\n",
              "        new Promise(function(resolve, reject) {\n",
              "          var s = document.createElement('script');\n",
              "          document.getElementsByTagName(\"head\")[0].appendChild(s);\n",
              "          s.async = true;\n",
              "          s.onload = () => {\n",
              "            VEGA_DEBUG[key] = version;\n",
              "            return resolve(paths[lib]);\n",
              "          };\n",
              "          s.onerror = () => reject(`Error loading script: ${paths[lib]}`);\n",
              "          s.src = paths[lib];\n",
              "        });\n",
              "    }\n",
              "\n",
              "    function showError(err) {\n",
              "      outputDiv.innerHTML = `<div class=\"error\" style=\"color:red;\">${err}</div>`;\n",
              "      throw err;\n",
              "    }\n",
              "\n",
              "    function displayChart(vegaEmbed) {\n",
              "      vegaEmbed(outputDiv, spec, embedOpt)\n",
              "        .catch(err => showError(`Javascript Error: ${err.message}<br>This usually means there's a typo in your chart specification. See the javascript console for the full traceback.`));\n",
              "    }\n",
              "\n",
              "    if(typeof define === \"function\" && define.amd) {\n",
              "      requirejs.config({paths});\n",
              "      let deps = [\"vega-embed\"];\n",
              "      require(deps, displayChart, err => showError(`Error loading script: ${err.message}`));\n",
              "    } else {\n",
              "      maybeLoadScript(\"vega\", \"5\")\n",
              "        .then(() => maybeLoadScript(\"vega-lite\", \"5.20.1\"))\n",
              "        .then(() => maybeLoadScript(\"vega-embed\", \"6\"))\n",
              "        .catch(showError)\n",
              "        .then(() => displayChart(vegaEmbed));\n",
              "    }\n",
              "  })({\"config\": {\"view\": {\"continuousWidth\": 300, \"continuousHeight\": 300}}, \"data\": {\"url\": \"https://cdn.jsdelivr.net/npm/vega-datasets@1/data/burtin.json\"}, \"mark\": {\"type\": \"circle\", \"size\": 80}, \"encoding\": {\"color\": {\"field\": \"Bacteria\", \"scale\": {\"scheme\": \"viridis\"}, \"type\": \"ordinal\"}, \"x\": {\"axis\": {\"tickCount\": 5}, \"field\": \"Neomycin\", \"scale\": {\"domain\": [0.001, 1000], \"type\": \"log\"}, \"sort\": \"descending\", \"title\": \"CMI da Neomicina (\\u03bcg/ml, escala logar\\u00edtmica reversa)\", \"type\": \"quantitative\"}, \"y\": {\"axis\": {\"tickCount\": 5}, \"field\": \"Penicillin\", \"scale\": {\"domain\": [0.001, 1000], \"type\": \"log\"}, \"sort\": \"descending\", \"title\": \"CMI da Penicilina (\\u03bcg/ml, escala logar\\u00edtmica reversa)\", \"type\": \"quantitative\"}}, \"height\": 250, \"width\": 250, \"$schema\": \"https://vega.github.io/schema/vega-lite/v5.20.1.json\"}, {\"mode\": \"vega-lite\"});\n",
              "</script>"
            ],
            "text/plain": [
              "alt.Chart(...)"
            ]
          },
          "execution_count": 22,
          "metadata": {},
          "output_type": "execute_result"
        }
      ],
      "source": [
        "alt.Chart(antibioticos).mark_circle(size=80).encode(\n",
        "    alt.X('Neomycin:Q',\n",
        "          sort='descending',\n",
        "          scale=alt.Scale(type='log', domain=[0.001, 1000]),\n",
        "          axis=alt.Axis(tickCount=5),\n",
        "          title='CMI da Neomicina (μg/ml, escala logarítmica reversa)'),\n",
        "    alt.Y('Penicillin:Q',\n",
        "          sort='descending',\n",
        "          scale=alt.Scale(type='log', domain=[0.001, 1000]),\n",
        "          axis=alt.Axis(tickCount=5),\n",
        "          title='CMI da Penicilina (μg/ml, escala logarítmica reversa)'),\n",
        "    alt.Color('Bacteria:O',\n",
        "          scale=alt.Scale(scheme='viridis'))\n",
        ").properties(width=250, height=250)"
      ]
    },
    {
      "cell_type": "markdown",
      "metadata": {
        "id": "U33pvBvqmqLJ"
      },
      "source": [
        "Bactérias do mesmo gênero agora possuem cores mais semelhantes do que antes, mas o gráfico ainda continua confuso. Há muitas cores, é difícil identificá-las com precisão na legenda, e duas bactérias podem ter cores semelhantes, mas pertencer a gêneros diferentes.\n"
      ]
    },
    {
      "cell_type": "markdown",
      "metadata": {
        "id": "YoPgWyZDmqLJ"
      },
      "source": [
        "## 4.3.3. Colorindo por gênero"
      ]
    },
    {
      "cell_type": "markdown",
      "metadata": {
        "id": "QCd3IorMmqLJ"
      },
      "source": [
        "Vamos tentar colorir por gênero ao invés de colorir por bactéria. Para isso, adicionaremos o transformador `calculate` na criação do gráfico, separando o nome da bactéria por caracteres de espaço e selecionando o primeiro elemento da lista, assim tendo o gênero da bactéria. Podemos então codificar os gêneros resultantes, presentes no campo `Gênero`, utilizando o esquema de cores `tableau20`."
      ]
    },
    {
      "cell_type": "markdown",
      "metadata": {
        "id": "gH6ccapXmqLK"
      },
      "source": [
        "(Note que a base de dados \"antibiotics\" tem um campo de gênero, mas ignoraremos ele para poder fazer uma melhor exploração nas transformações de dados do Altair.)"
      ]
    },
    {
      "cell_type": "code",
      "execution_count": 23,
      "metadata": {
        "colab": {
          "base_uri": "https://localhost:8080/",
          "height": 359
        },
        "id": "ip7iR6-umqLK",
        "outputId": "eed9e8aa-06ed-4acc-f72a-37a8c7e8de17"
      },
      "outputs": [
        {
          "data": {
            "text/html": [
              "\n",
              "<style>\n",
              "  #altair-viz-64e8f19597ad406f84c08eef24169c1b.vega-embed {\n",
              "    width: 100%;\n",
              "    display: flex;\n",
              "  }\n",
              "\n",
              "  #altair-viz-64e8f19597ad406f84c08eef24169c1b.vega-embed details,\n",
              "  #altair-viz-64e8f19597ad406f84c08eef24169c1b.vega-embed details summary {\n",
              "    position: relative;\n",
              "  }\n",
              "</style>\n",
              "<div id=\"altair-viz-64e8f19597ad406f84c08eef24169c1b\"></div>\n",
              "<script type=\"text/javascript\">\n",
              "  var VEGA_DEBUG = (typeof VEGA_DEBUG == \"undefined\") ? {} : VEGA_DEBUG;\n",
              "  (function(spec, embedOpt){\n",
              "    let outputDiv = document.currentScript.previousElementSibling;\n",
              "    if (outputDiv.id !== \"altair-viz-64e8f19597ad406f84c08eef24169c1b\") {\n",
              "      outputDiv = document.getElementById(\"altair-viz-64e8f19597ad406f84c08eef24169c1b\");\n",
              "    }\n",
              "\n",
              "    const paths = {\n",
              "      \"vega\": \"https://cdn.jsdelivr.net/npm/vega@5?noext\",\n",
              "      \"vega-lib\": \"https://cdn.jsdelivr.net/npm/vega-lib?noext\",\n",
              "      \"vega-lite\": \"https://cdn.jsdelivr.net/npm/vega-lite@5.20.1?noext\",\n",
              "      \"vega-embed\": \"https://cdn.jsdelivr.net/npm/vega-embed@6?noext\",\n",
              "    };\n",
              "\n",
              "    function maybeLoadScript(lib, version) {\n",
              "      var key = `${lib.replace(\"-\", \"\")}_version`;\n",
              "      return (VEGA_DEBUG[key] == version) ?\n",
              "        Promise.resolve(paths[lib]) :\n",
              "        new Promise(function(resolve, reject) {\n",
              "          var s = document.createElement('script');\n",
              "          document.getElementsByTagName(\"head\")[0].appendChild(s);\n",
              "          s.async = true;\n",
              "          s.onload = () => {\n",
              "            VEGA_DEBUG[key] = version;\n",
              "            return resolve(paths[lib]);\n",
              "          };\n",
              "          s.onerror = () => reject(`Error loading script: ${paths[lib]}`);\n",
              "          s.src = paths[lib];\n",
              "        });\n",
              "    }\n",
              "\n",
              "    function showError(err) {\n",
              "      outputDiv.innerHTML = `<div class=\"error\" style=\"color:red;\">${err}</div>`;\n",
              "      throw err;\n",
              "    }\n",
              "\n",
              "    function displayChart(vegaEmbed) {\n",
              "      vegaEmbed(outputDiv, spec, embedOpt)\n",
              "        .catch(err => showError(`Javascript Error: ${err.message}<br>This usually means there's a typo in your chart specification. See the javascript console for the full traceback.`));\n",
              "    }\n",
              "\n",
              "    if(typeof define === \"function\" && define.amd) {\n",
              "      requirejs.config({paths});\n",
              "      let deps = [\"vega-embed\"];\n",
              "      require(deps, displayChart, err => showError(`Error loading script: ${err.message}`));\n",
              "    } else {\n",
              "      maybeLoadScript(\"vega\", \"5\")\n",
              "        .then(() => maybeLoadScript(\"vega-lite\", \"5.20.1\"))\n",
              "        .then(() => maybeLoadScript(\"vega-embed\", \"6\"))\n",
              "        .catch(showError)\n",
              "        .then(() => displayChart(vegaEmbed));\n",
              "    }\n",
              "  })({\"config\": {\"view\": {\"continuousWidth\": 300, \"continuousHeight\": 300}}, \"data\": {\"url\": \"https://cdn.jsdelivr.net/npm/vega-datasets@1/data/burtin.json\"}, \"mark\": {\"type\": \"circle\", \"size\": 80}, \"encoding\": {\"color\": {\"field\": \"G\\u00eanero\", \"scale\": {\"scheme\": \"tableau20\"}, \"type\": \"nominal\"}, \"x\": {\"axis\": {\"tickCount\": 5}, \"field\": \"Neomycin\", \"scale\": {\"domain\": [0.001, 1000], \"type\": \"log\"}, \"sort\": \"descending\", \"title\": \"CMI da Neomicina (\\u03bcg/ml, escala logar\\u00edtmica reversa)\", \"type\": \"quantitative\"}, \"y\": {\"axis\": {\"tickCount\": 5}, \"field\": \"Penicillin\", \"scale\": {\"domain\": [0.001, 1000], \"type\": \"log\"}, \"sort\": \"descending\", \"title\": \"CMI da Penicilina (\\u03bcg/ml, escala logar\\u00edtmica reversa)\", \"type\": \"quantitative\"}}, \"height\": 250, \"transform\": [{\"calculate\": \"split(datum.Bacteria, \\\" \\\")[0]\", \"as\": \"G\\u00eanero\"}], \"width\": 250, \"$schema\": \"https://vega.github.io/schema/vega-lite/v5.20.1.json\"}, {\"mode\": \"vega-lite\"});\n",
              "</script>"
            ],
            "text/plain": [
              "alt.Chart(...)"
            ]
          },
          "execution_count": 23,
          "metadata": {},
          "output_type": "execute_result"
        }
      ],
      "source": [
        "alt.Chart(antibioticos).mark_circle(size=80).transform_calculate(\n",
        "    Gênero='split(datum.Bacteria, \" \")[0]'\n",
        ").encode(\n",
        "    alt.X('Neomycin:Q',\n",
        "          sort='descending',\n",
        "          scale=alt.Scale(type='log', domain=[0.001, 1000]),\n",
        "          axis=alt.Axis(tickCount=5),\n",
        "          title='CMI da Neomicina (μg/ml, escala logarítmica reversa)'),\n",
        "    alt.Y('Penicillin:Q',\n",
        "          sort='descending',\n",
        "          scale=alt.Scale(type='log', domain=[0.001, 1000]),\n",
        "          axis=alt.Axis(tickCount=5),\n",
        "          title='CMI da Penicilina (μg/ml, escala logarítmica reversa)'),\n",
        "    alt.Color('Gênero:N',\n",
        "          scale=alt.Scale(scheme='tableau20'))\n",
        ").properties(width=250, height=250)"
      ]
    },
    {
      "cell_type": "markdown",
      "metadata": {
        "id": "PJlieZD9mqLM"
      },
      "source": [
        "_Hmmm... Por mais que os dados estejam melhor agregados pelos gêneros, essa cacofonia de cores não parece muito útil._"
      ]
    },
    {
      "cell_type": "markdown",
      "metadata": {
        "id": "-0kGZoAvmqLM"
      },
      "source": [
        "_Se repararmos cuidadosamente em alguns do gráficos anteriores poderemos ver que apenas um grupo seleto de bactérias compartilham gênero com alguma outra: Salmonella, Staphylococcus, e Streptococcus. Para trazer um foco à nossa comparação adicionaremos cores apenas para esses gêneros repetidos._"
      ]
    },
    {
      "cell_type": "markdown",
      "metadata": {
        "id": "xRu23yGEmqLM"
      },
      "source": [
        "Adicionemos outro transformador `calculate` que mantém o gênero se for um dos valores repetidos e caso contrário transforma em `\"Outro\"`."
      ]
    },
    {
      "cell_type": "markdown",
      "metadata": {
        "id": "C5Qeu9RUmqLM"
      },
      "source": [
        "Além disso, podemos adicionar codificadores de cores personalizados usando intervalos específicos com `domain` e `range` para definir as cores."
      ]
    },
    {
      "cell_type": "code",
      "execution_count": 24,
      "metadata": {
        "colab": {
          "base_uri": "https://localhost:8080/",
          "height": 359
        },
        "id": "yGCFSqKOmqLN",
        "outputId": "8be9cbd4-e6ff-4625-e2a9-fd7d4a97dcea"
      },
      "outputs": [
        {
          "data": {
            "text/html": [
              "\n",
              "<style>\n",
              "  #altair-viz-0c538019093b4eb1b84e00cc8095e6db.vega-embed {\n",
              "    width: 100%;\n",
              "    display: flex;\n",
              "  }\n",
              "\n",
              "  #altair-viz-0c538019093b4eb1b84e00cc8095e6db.vega-embed details,\n",
              "  #altair-viz-0c538019093b4eb1b84e00cc8095e6db.vega-embed details summary {\n",
              "    position: relative;\n",
              "  }\n",
              "</style>\n",
              "<div id=\"altair-viz-0c538019093b4eb1b84e00cc8095e6db\"></div>\n",
              "<script type=\"text/javascript\">\n",
              "  var VEGA_DEBUG = (typeof VEGA_DEBUG == \"undefined\") ? {} : VEGA_DEBUG;\n",
              "  (function(spec, embedOpt){\n",
              "    let outputDiv = document.currentScript.previousElementSibling;\n",
              "    if (outputDiv.id !== \"altair-viz-0c538019093b4eb1b84e00cc8095e6db\") {\n",
              "      outputDiv = document.getElementById(\"altair-viz-0c538019093b4eb1b84e00cc8095e6db\");\n",
              "    }\n",
              "\n",
              "    const paths = {\n",
              "      \"vega\": \"https://cdn.jsdelivr.net/npm/vega@5?noext\",\n",
              "      \"vega-lib\": \"https://cdn.jsdelivr.net/npm/vega-lib?noext\",\n",
              "      \"vega-lite\": \"https://cdn.jsdelivr.net/npm/vega-lite@5.20.1?noext\",\n",
              "      \"vega-embed\": \"https://cdn.jsdelivr.net/npm/vega-embed@6?noext\",\n",
              "    };\n",
              "\n",
              "    function maybeLoadScript(lib, version) {\n",
              "      var key = `${lib.replace(\"-\", \"\")}_version`;\n",
              "      return (VEGA_DEBUG[key] == version) ?\n",
              "        Promise.resolve(paths[lib]) :\n",
              "        new Promise(function(resolve, reject) {\n",
              "          var s = document.createElement('script');\n",
              "          document.getElementsByTagName(\"head\")[0].appendChild(s);\n",
              "          s.async = true;\n",
              "          s.onload = () => {\n",
              "            VEGA_DEBUG[key] = version;\n",
              "            return resolve(paths[lib]);\n",
              "          };\n",
              "          s.onerror = () => reject(`Error loading script: ${paths[lib]}`);\n",
              "          s.src = paths[lib];\n",
              "        });\n",
              "    }\n",
              "\n",
              "    function showError(err) {\n",
              "      outputDiv.innerHTML = `<div class=\"error\" style=\"color:red;\">${err}</div>`;\n",
              "      throw err;\n",
              "    }\n",
              "\n",
              "    function displayChart(vegaEmbed) {\n",
              "      vegaEmbed(outputDiv, spec, embedOpt)\n",
              "        .catch(err => showError(`Javascript Error: ${err.message}<br>This usually means there's a typo in your chart specification. See the javascript console for the full traceback.`));\n",
              "    }\n",
              "\n",
              "    if(typeof define === \"function\" && define.amd) {\n",
              "      requirejs.config({paths});\n",
              "      let deps = [\"vega-embed\"];\n",
              "      require(deps, displayChart, err => showError(`Error loading script: ${err.message}`));\n",
              "    } else {\n",
              "      maybeLoadScript(\"vega\", \"5\")\n",
              "        .then(() => maybeLoadScript(\"vega-lite\", \"5.20.1\"))\n",
              "        .then(() => maybeLoadScript(\"vega-embed\", \"6\"))\n",
              "        .catch(showError)\n",
              "        .then(() => displayChart(vegaEmbed));\n",
              "    }\n",
              "  })({\"config\": {\"view\": {\"continuousWidth\": 300, \"continuousHeight\": 300}}, \"data\": {\"url\": \"https://cdn.jsdelivr.net/npm/vega-datasets@1/data/burtin.json\"}, \"mark\": {\"type\": \"circle\", \"size\": 80}, \"encoding\": {\"color\": {\"field\": \"G\\u00eanero\", \"scale\": {\"domain\": [\"Salmonella\", \"Staphylococcus\", \"Streptococcus\", \"Outro\"], \"range\": [\"rgb(76,120,168)\", \"rgb(84,162,75)\", \"rgb(228,87,86)\", \"rgb(121,112,110)\"]}, \"type\": \"nominal\"}, \"x\": {\"axis\": {\"tickCount\": 5}, \"field\": \"Neomycin\", \"scale\": {\"domain\": [0.001, 1000], \"type\": \"log\"}, \"sort\": \"descending\", \"title\": \"CMI da Neomicina (\\u03bcg/ml, escala logar\\u00edtmica reversa)\", \"type\": \"quantitative\"}, \"y\": {\"axis\": {\"tickCount\": 5}, \"field\": \"Penicillin\", \"scale\": {\"domain\": [0.001, 1000], \"type\": \"log\"}, \"sort\": \"descending\", \"title\": \"CMI da Penicilina (\\u03bcg/ml, escala logar\\u00edtmica reversa)\", \"type\": \"quantitative\"}}, \"height\": 250, \"transform\": [{\"calculate\": \"split(datum.Bacteria, \\\" \\\")[0]\", \"as\": \"Split\"}, {\"calculate\": \"indexof([\\\"Salmonella\\\", \\\"Staphylococcus\\\", \\\"Streptococcus\\\"], datum.Split) >= 0 ? datum.Split : \\\"Outro\\\"\", \"as\": \"G\\u00eanero\"}], \"width\": 250, \"$schema\": \"https://vega.github.io/schema/vega-lite/v5.20.1.json\"}, {\"mode\": \"vega-lite\"});\n",
              "</script>"
            ],
            "text/plain": [
              "alt.Chart(...)"
            ]
          },
          "execution_count": 24,
          "metadata": {},
          "output_type": "execute_result"
        }
      ],
      "source": [
        "alt.Chart(antibioticos).mark_circle(size=80).transform_calculate(\n",
        "  Split='split(datum.Bacteria, \" \")[0]'\n",
        ").transform_calculate(\n",
        "  Gênero='indexof([\"Salmonella\", \"Staphylococcus\", \"Streptococcus\"], datum.Split) >= 0 ? datum.Split : \"Outro\"'\n",
        ").encode(\n",
        "    alt.X('Neomycin:Q',\n",
        "          sort='descending',\n",
        "          scale=alt.Scale(type='log', domain=[0.001, 1000]),\n",
        "          axis=alt.Axis(tickCount=5),\n",
        "          title='CMI da Neomicina (μg/ml, escala logarítmica reversa)'),\n",
        "    alt.Y('Penicillin:Q',\n",
        "          sort='descending',\n",
        "          scale=alt.Scale(type='log', domain=[0.001, 1000]),\n",
        "          axis=alt.Axis(tickCount=5),\n",
        "          title='CMI da Penicilina (μg/ml, escala logarítmica reversa)'),\n",
        "    alt.Color('Gênero:N',\n",
        "          scale=alt.Scale(\n",
        "            domain=['Salmonella', 'Staphylococcus', 'Streptococcus', 'Outro'],\n",
        "            range=['rgb(76,120,168)', 'rgb(84,162,75)', 'rgb(228,87,86)', 'rgb(121,112,110)']\n",
        "          ))\n",
        ").properties(width=250, height=250)"
      ]
    },
    {
      "cell_type": "markdown",
      "metadata": {
        "id": "hHjd1G3ImqLN"
      },
      "source": [
        "_Nós agora temos um gráfico muito mais revelador que só foi possivel graças às personalizações feitas nos eixos e legendas. Tire um momento para analisar o gráfico acima. Consegue perceber algum agrupamento surpreendente?_"
      ]
    },
    {
      "cell_type": "markdown",
      "metadata": {
        "id": "mrpTyK6-mqLN"
      },
      "source": [
        "_A parte superior esquerda apresenta um agrupamento de bactérias do gênero Streptococcus representados pela cor vermelha com uma bactéria do grupo \"Outros\" junta. Enquanto isso, na região do meio mais à direita observa-se outra Streptococcus posicionada longe de seus \"primos\". Devemos esperar que bactérias do mesmo gênero (e presumivelmente mais parecidas geneticamente) estejam mais próximas entre elas?_"
      ]
    },
    {
      "cell_type": "markdown",
      "metadata": {
        "id": "tkLrNlYlmqLO"
      },
      "source": [
        "Como ocorre eventualmente, a base de dados em questão contém erros. A base de dados se baseia nas designações de espécie utilizada no início dos anos 1950. No entanto, o consenso científico mudou desde então. O ponto cinza no canto superior esquerdo? Agora é considerado Streptococcus! Aquele ponto vermleho no meio à direita afastado dos demais? Não é mais considerado Streptococcus!"
      ]
    },
    {
      "cell_type": "markdown",
      "metadata": {
        "id": "a-nMiw6bmqLO"
      },
      "source": [
        "É claro que, por si só, essa base de dados não justifica essas reclassificações. Entretanto, os dados contém dicas valiosas para a biologia que foram ignoradas por décadas! Visualização de dados, quando utilizada por alguém habilidoso e curioso, pode ser uma arma poderosa para descobertas.."
      ]
    },
    {
      "cell_type": "markdown",
      "metadata": {
        "id": "IlU1sU8smqLP"
      },
      "source": [
        "Esse exemplo reforça algo importante: **sempre tenha um pé atrás com seus dados!**"
      ]
    },
    {
      "cell_type": "markdown",
      "metadata": {
        "id": "LDYy5V3dmqLP"
      },
      "source": [
        "## 4.3.4. Colorindo por resposta a antibióticos"
      ]
    },
    {
      "cell_type": "markdown",
      "metadata": {
        "id": "7ohqwO34mqLP"
      },
      "source": [
        "Nós também podemos utilizar o canal das cores `color` para codificar valores quantitativos. Mas é ipmortante ter em mente que o canal das cores não costuma ser tão eficiente para valores quantitativos quanto codificadores como posição e tamanho!"
      ]
    },
    {
      "cell_type": "markdown",
      "metadata": {
        "id": "o2jzfYtHmqLQ"
      },
      "source": [
        "Aqui está um mapa de calor básico dos valores de CMI da Penicilina para cada bactéria. Usaremos uma marcação de retângulos (`rect`) e ordenar as bactérias por valores decrescente de CMI (de mais resistente a menos resistente)."
      ]
    },
    {
      "cell_type": "code",
      "execution_count": 25,
      "metadata": {
        "colab": {
          "base_uri": "https://localhost:8080/",
          "height": 351
        },
        "id": "ImQAQZmzmqLQ",
        "outputId": "1c0f636d-2e0e-4a79-fc23-81b60675c78b"
      },
      "outputs": [
        {
          "data": {
            "text/html": [
              "\n",
              "<style>\n",
              "  #altair-viz-d1a4fc08f17f4143ae344ef306653264.vega-embed {\n",
              "    width: 100%;\n",
              "    display: flex;\n",
              "  }\n",
              "\n",
              "  #altair-viz-d1a4fc08f17f4143ae344ef306653264.vega-embed details,\n",
              "  #altair-viz-d1a4fc08f17f4143ae344ef306653264.vega-embed details summary {\n",
              "    position: relative;\n",
              "  }\n",
              "</style>\n",
              "<div id=\"altair-viz-d1a4fc08f17f4143ae344ef306653264\"></div>\n",
              "<script type=\"text/javascript\">\n",
              "  var VEGA_DEBUG = (typeof VEGA_DEBUG == \"undefined\") ? {} : VEGA_DEBUG;\n",
              "  (function(spec, embedOpt){\n",
              "    let outputDiv = document.currentScript.previousElementSibling;\n",
              "    if (outputDiv.id !== \"altair-viz-d1a4fc08f17f4143ae344ef306653264\") {\n",
              "      outputDiv = document.getElementById(\"altair-viz-d1a4fc08f17f4143ae344ef306653264\");\n",
              "    }\n",
              "\n",
              "    const paths = {\n",
              "      \"vega\": \"https://cdn.jsdelivr.net/npm/vega@5?noext\",\n",
              "      \"vega-lib\": \"https://cdn.jsdelivr.net/npm/vega-lib?noext\",\n",
              "      \"vega-lite\": \"https://cdn.jsdelivr.net/npm/vega-lite@5.20.1?noext\",\n",
              "      \"vega-embed\": \"https://cdn.jsdelivr.net/npm/vega-embed@6?noext\",\n",
              "    };\n",
              "\n",
              "    function maybeLoadScript(lib, version) {\n",
              "      var key = `${lib.replace(\"-\", \"\")}_version`;\n",
              "      return (VEGA_DEBUG[key] == version) ?\n",
              "        Promise.resolve(paths[lib]) :\n",
              "        new Promise(function(resolve, reject) {\n",
              "          var s = document.createElement('script');\n",
              "          document.getElementsByTagName(\"head\")[0].appendChild(s);\n",
              "          s.async = true;\n",
              "          s.onload = () => {\n",
              "            VEGA_DEBUG[key] = version;\n",
              "            return resolve(paths[lib]);\n",
              "          };\n",
              "          s.onerror = () => reject(`Error loading script: ${paths[lib]}`);\n",
              "          s.src = paths[lib];\n",
              "        });\n",
              "    }\n",
              "\n",
              "    function showError(err) {\n",
              "      outputDiv.innerHTML = `<div class=\"error\" style=\"color:red;\">${err}</div>`;\n",
              "      throw err;\n",
              "    }\n",
              "\n",
              "    function displayChart(vegaEmbed) {\n",
              "      vegaEmbed(outputDiv, spec, embedOpt)\n",
              "        .catch(err => showError(`Javascript Error: ${err.message}<br>This usually means there's a typo in your chart specification. See the javascript console for the full traceback.`));\n",
              "    }\n",
              "\n",
              "    if(typeof define === \"function\" && define.amd) {\n",
              "      requirejs.config({paths});\n",
              "      let deps = [\"vega-embed\"];\n",
              "      require(deps, displayChart, err => showError(`Error loading script: ${err.message}`));\n",
              "    } else {\n",
              "      maybeLoadScript(\"vega\", \"5\")\n",
              "        .then(() => maybeLoadScript(\"vega-lite\", \"5.20.1\"))\n",
              "        .then(() => maybeLoadScript(\"vega-embed\", \"6\"))\n",
              "        .catch(showError)\n",
              "        .then(() => displayChart(vegaEmbed));\n",
              "    }\n",
              "  })({\"config\": {\"view\": {\"continuousWidth\": 300, \"continuousHeight\": 300}}, \"data\": {\"url\": \"https://cdn.jsdelivr.net/npm/vega-datasets@1/data/burtin.json\"}, \"mark\": {\"type\": \"rect\"}, \"encoding\": {\"color\": {\"field\": \"Penicillin\", \"type\": \"quantitative\"}, \"y\": {\"field\": \"Bacteria\", \"sort\": {\"field\": \"Penicillin\", \"op\": \"max\", \"order\": \"descending\"}, \"type\": \"nominal\"}}, \"$schema\": \"https://vega.github.io/schema/vega-lite/v5.20.1.json\"}, {\"mode\": \"vega-lite\"});\n",
              "</script>"
            ],
            "text/plain": [
              "alt.Chart(...)"
            ]
          },
          "execution_count": 25,
          "metadata": {},
          "output_type": "execute_result"
        }
      ],
      "source": [
        "alt.Chart(antibioticos).mark_rect().encode(\n",
        "    alt.Y('Bacteria:N',\n",
        "      sort=alt.EncodingSortField(field='Penicillin', op='max', order='descending')\n",
        "    ),\n",
        "    alt.Color('Penicillin:Q')\n",
        ")"
      ]
    },
    {
      "cell_type": "markdown",
      "metadata": {
        "id": "8d1f-3eMmqLR"
      },
      "source": [
        "Nós podemos ainda melhorar esse gráfico combinando métodos vistos até aqui: uma escala logaritimica, uma mudança de orientação nos eixos, um esquema de cores personalizado (`plasma`), ajuste na contagem de marcações nos eixos e texto do titulo customizado. Nós também iremos usar opções de configurações para ajustar o posicionamento do título dos eixos e o alinhamento do título da legenda."
      ]
    },
    {
      "cell_type": "code",
      "execution_count": 26,
      "metadata": {
        "colab": {
          "base_uri": "https://localhost:8080/",
          "height": 364
        },
        "id": "w1Qk57BRmqLR",
        "outputId": "c7dd37ff-454a-4fe9-e2d0-264fc9769288"
      },
      "outputs": [
        {
          "data": {
            "text/html": [
              "\n",
              "<style>\n",
              "  #altair-viz-71b51b62d4ea47dda0334d0270cb62a0.vega-embed {\n",
              "    width: 100%;\n",
              "    display: flex;\n",
              "  }\n",
              "\n",
              "  #altair-viz-71b51b62d4ea47dda0334d0270cb62a0.vega-embed details,\n",
              "  #altair-viz-71b51b62d4ea47dda0334d0270cb62a0.vega-embed details summary {\n",
              "    position: relative;\n",
              "  }\n",
              "</style>\n",
              "<div id=\"altair-viz-71b51b62d4ea47dda0334d0270cb62a0\"></div>\n",
              "<script type=\"text/javascript\">\n",
              "  var VEGA_DEBUG = (typeof VEGA_DEBUG == \"undefined\") ? {} : VEGA_DEBUG;\n",
              "  (function(spec, embedOpt){\n",
              "    let outputDiv = document.currentScript.previousElementSibling;\n",
              "    if (outputDiv.id !== \"altair-viz-71b51b62d4ea47dda0334d0270cb62a0\") {\n",
              "      outputDiv = document.getElementById(\"altair-viz-71b51b62d4ea47dda0334d0270cb62a0\");\n",
              "    }\n",
              "\n",
              "    const paths = {\n",
              "      \"vega\": \"https://cdn.jsdelivr.net/npm/vega@5?noext\",\n",
              "      \"vega-lib\": \"https://cdn.jsdelivr.net/npm/vega-lib?noext\",\n",
              "      \"vega-lite\": \"https://cdn.jsdelivr.net/npm/vega-lite@5.20.1?noext\",\n",
              "      \"vega-embed\": \"https://cdn.jsdelivr.net/npm/vega-embed@6?noext\",\n",
              "    };\n",
              "\n",
              "    function maybeLoadScript(lib, version) {\n",
              "      var key = `${lib.replace(\"-\", \"\")}_version`;\n",
              "      return (VEGA_DEBUG[key] == version) ?\n",
              "        Promise.resolve(paths[lib]) :\n",
              "        new Promise(function(resolve, reject) {\n",
              "          var s = document.createElement('script');\n",
              "          document.getElementsByTagName(\"head\")[0].appendChild(s);\n",
              "          s.async = true;\n",
              "          s.onload = () => {\n",
              "            VEGA_DEBUG[key] = version;\n",
              "            return resolve(paths[lib]);\n",
              "          };\n",
              "          s.onerror = () => reject(`Error loading script: ${paths[lib]}`);\n",
              "          s.src = paths[lib];\n",
              "        });\n",
              "    }\n",
              "\n",
              "    function showError(err) {\n",
              "      outputDiv.innerHTML = `<div class=\"error\" style=\"color:red;\">${err}</div>`;\n",
              "      throw err;\n",
              "    }\n",
              "\n",
              "    function displayChart(vegaEmbed) {\n",
              "      vegaEmbed(outputDiv, spec, embedOpt)\n",
              "        .catch(err => showError(`Javascript Error: ${err.message}<br>This usually means there's a typo in your chart specification. See the javascript console for the full traceback.`));\n",
              "    }\n",
              "\n",
              "    if(typeof define === \"function\" && define.amd) {\n",
              "      requirejs.config({paths});\n",
              "      let deps = [\"vega-embed\"];\n",
              "      require(deps, displayChart, err => showError(`Error loading script: ${err.message}`));\n",
              "    } else {\n",
              "      maybeLoadScript(\"vega\", \"5\")\n",
              "        .then(() => maybeLoadScript(\"vega-lite\", \"5.20.1\"))\n",
              "        .then(() => maybeLoadScript(\"vega-embed\", \"6\"))\n",
              "        .catch(showError)\n",
              "        .then(() => displayChart(vegaEmbed));\n",
              "    }\n",
              "  })({\"config\": {\"view\": {\"continuousWidth\": 300, \"continuousHeight\": 300}}, \"data\": {\"url\": \"https://cdn.jsdelivr.net/npm/vega-datasets@1/data/burtin.json\"}, \"mark\": {\"type\": \"rect\"}, \"encoding\": {\"color\": {\"field\": \"Penicillin\", \"legend\": {\"tickCount\": 5, \"titleOrient\": \"right\"}, \"scale\": {\"nice\": true, \"scheme\": \"plasma\", \"type\": \"log\"}, \"title\": \"CMI da Penicilina (\\u03bcg/ml)\", \"type\": \"quantitative\"}, \"y\": {\"axis\": {\"orient\": \"right\", \"titleAlign\": \"left\", \"titleAngle\": 0, \"titleX\": 7, \"titleY\": -2}, \"field\": \"Bacteria\", \"sort\": {\"field\": \"Penicillin\", \"op\": \"max\", \"order\": \"descending\"}, \"type\": \"nominal\"}}, \"$schema\": \"https://vega.github.io/schema/vega-lite/v5.20.1.json\"}, {\"mode\": \"vega-lite\"});\n",
              "</script>"
            ],
            "text/plain": [
              "alt.Chart(...)"
            ]
          },
          "execution_count": 26,
          "metadata": {},
          "output_type": "execute_result"
        }
      ],
      "source": [
        "alt.Chart(antibioticos).mark_rect().encode(\n",
        "    alt.Y('Bacteria:N',\n",
        "      sort=alt.EncodingSortField(field='Penicillin', op='max', order='descending'),\n",
        "      axis=alt.Axis(\n",
        "        orient='right',     # Orienta o eixo à direita\n",
        "        titleX=7,           # Define a posição X do título como 7 pixels à direita no gráfico\n",
        "        titleY=-2,          # Define a posição Y do título como 2 pixels abaixo no gráfico\n",
        "        titleAlign='left',  # Alinha o texto à esquerda\n",
        "        titleAngle=0        # Desfaz a rotação padrão do título do eixo Y\n",
        "      )\n",
        "    ),\n",
        "    alt.Color('Penicillin:Q',\n",
        "      scale=alt.Scale(type='log', scheme='plasma', nice=True),\n",
        "      legend=alt.Legend(titleOrient='right', tickCount=5),\n",
        "      title='CMI da Penicilina (μg/ml)'\n",
        "    )\n",
        ")"
      ]
    },
    {
      "cell_type": "markdown",
      "metadata": {
        "id": "-XWLhD1UmqLS"
      },
      "source": [
        "Alternativamente, podemos remover o título do eixo e definir diretamente o `title` para todo o gráfico."
      ]
    },
    {
      "cell_type": "code",
      "execution_count": 27,
      "metadata": {
        "colab": {
          "base_uri": "https://localhost:8080/",
          "height": 369
        },
        "id": "DxonBA2pmqLS",
        "outputId": "1f10a85f-4dc9-458b-b6ff-f0197749d2e5"
      },
      "outputs": [
        {
          "data": {
            "text/html": [
              "\n",
              "<style>\n",
              "  #altair-viz-abe35c1502d84664b1a5532e7912ee3e.vega-embed {\n",
              "    width: 100%;\n",
              "    display: flex;\n",
              "  }\n",
              "\n",
              "  #altair-viz-abe35c1502d84664b1a5532e7912ee3e.vega-embed details,\n",
              "  #altair-viz-abe35c1502d84664b1a5532e7912ee3e.vega-embed details summary {\n",
              "    position: relative;\n",
              "  }\n",
              "</style>\n",
              "<div id=\"altair-viz-abe35c1502d84664b1a5532e7912ee3e\"></div>\n",
              "<script type=\"text/javascript\">\n",
              "  var VEGA_DEBUG = (typeof VEGA_DEBUG == \"undefined\") ? {} : VEGA_DEBUG;\n",
              "  (function(spec, embedOpt){\n",
              "    let outputDiv = document.currentScript.previousElementSibling;\n",
              "    if (outputDiv.id !== \"altair-viz-abe35c1502d84664b1a5532e7912ee3e\") {\n",
              "      outputDiv = document.getElementById(\"altair-viz-abe35c1502d84664b1a5532e7912ee3e\");\n",
              "    }\n",
              "\n",
              "    const paths = {\n",
              "      \"vega\": \"https://cdn.jsdelivr.net/npm/vega@5?noext\",\n",
              "      \"vega-lib\": \"https://cdn.jsdelivr.net/npm/vega-lib?noext\",\n",
              "      \"vega-lite\": \"https://cdn.jsdelivr.net/npm/vega-lite@5.20.1?noext\",\n",
              "      \"vega-embed\": \"https://cdn.jsdelivr.net/npm/vega-embed@6?noext\",\n",
              "    };\n",
              "\n",
              "    function maybeLoadScript(lib, version) {\n",
              "      var key = `${lib.replace(\"-\", \"\")}_version`;\n",
              "      return (VEGA_DEBUG[key] == version) ?\n",
              "        Promise.resolve(paths[lib]) :\n",
              "        new Promise(function(resolve, reject) {\n",
              "          var s = document.createElement('script');\n",
              "          document.getElementsByTagName(\"head\")[0].appendChild(s);\n",
              "          s.async = true;\n",
              "          s.onload = () => {\n",
              "            VEGA_DEBUG[key] = version;\n",
              "            return resolve(paths[lib]);\n",
              "          };\n",
              "          s.onerror = () => reject(`Error loading script: ${paths[lib]}`);\n",
              "          s.src = paths[lib];\n",
              "        });\n",
              "    }\n",
              "\n",
              "    function showError(err) {\n",
              "      outputDiv.innerHTML = `<div class=\"error\" style=\"color:red;\">${err}</div>`;\n",
              "      throw err;\n",
              "    }\n",
              "\n",
              "    function displayChart(vegaEmbed) {\n",
              "      vegaEmbed(outputDiv, spec, embedOpt)\n",
              "        .catch(err => showError(`Javascript Error: ${err.message}<br>This usually means there's a typo in your chart specification. See the javascript console for the full traceback.`));\n",
              "    }\n",
              "\n",
              "    if(typeof define === \"function\" && define.amd) {\n",
              "      requirejs.config({paths});\n",
              "      let deps = [\"vega-embed\"];\n",
              "      require(deps, displayChart, err => showError(`Error loading script: ${err.message}`));\n",
              "    } else {\n",
              "      maybeLoadScript(\"vega\", \"5\")\n",
              "        .then(() => maybeLoadScript(\"vega-lite\", \"5.20.1\"))\n",
              "        .then(() => maybeLoadScript(\"vega-embed\", \"6\"))\n",
              "        .catch(showError)\n",
              "        .then(() => displayChart(vegaEmbed));\n",
              "    }\n",
              "  })({\"config\": {\"view\": {\"continuousWidth\": 300, \"continuousHeight\": 300}, \"title\": {\"anchor\": \"start\", \"offset\": 5}}, \"data\": {\"url\": \"https://cdn.jsdelivr.net/npm/vega-datasets@1/data/burtin.json\"}, \"mark\": {\"type\": \"rect\"}, \"encoding\": {\"color\": {\"field\": \"Penicillin\", \"legend\": {\"tickCount\": 5, \"titleOrient\": \"right\"}, \"scale\": {\"nice\": true, \"scheme\": \"plasma\", \"type\": \"log\"}, \"title\": \"CMI da Penicilina (\\u03bcg/ml)\", \"type\": \"quantitative\"}, \"y\": {\"axis\": {\"orient\": \"right\", \"title\": null}, \"field\": \"Bacteria\", \"sort\": {\"field\": \"Penicillin\", \"op\": \"max\", \"order\": \"descending\"}, \"type\": \"nominal\"}}, \"title\": \"Resist\\u00eancia a Penicilina de Cepas Bacterianas\", \"$schema\": \"https://vega.github.io/schema/vega-lite/v5.20.1.json\"}, {\"mode\": \"vega-lite\"});\n",
              "</script>"
            ],
            "text/plain": [
              "alt.Chart(...)"
            ]
          },
          "execution_count": 27,
          "metadata": {},
          "output_type": "execute_result"
        }
      ],
      "source": [
        "alt.Chart(antibioticos, title='Resistência a Penicilina de Cepas Bacterianas').mark_rect().encode(\n",
        "    alt.Y('Bacteria:N',\n",
        "      sort=alt.EncodingSortField(field='Penicillin', op='max', order='descending'),\n",
        "      axis=alt.Axis(orient='right', title=None)\n",
        "    ),\n",
        "    alt.Color('Penicillin:Q',\n",
        "      scale=alt.Scale(type='log', scheme='plasma', nice=True),\n",
        "      legend=alt.Legend(titleOrient='right', tickCount=5),\n",
        "      title='CMI da Penicilina (μg/ml)'\n",
        "    )\n",
        ").configure_title(\n",
        "  anchor='start', # anchor and left-align title\n",
        "  offset=5        # set title offset from chart\n",
        ")"
      ]
    },
    {
      "cell_type": "markdown",
      "metadata": {
        "id": "TqEzC5WimqLT"
      },
      "source": [
        "# 4.4. Sumário"
      ]
    },
    {
      "cell_type": "markdown",
      "metadata": {
        "id": "Qt-8ewhsmqLT"
      },
      "source": [
        "Resumindo tudo que foi aprendido nos notebooks até aqui sobre codificação, transformação de dados e personalização, você agora deve estar preparado para fazer uma grande variedade de gráficos estátisticos. Agora você pode inserir o Altair em atividades do dia a dia para explorar dados e passar as mensagens escondidas neles."
      ]
    },
    {
      "cell_type": "markdown",
      "metadata": {
        "id": "iROnal9NmqLU"
      },
      "source": [
        "Interessado em aprender mais sobre esse tópico?\n",
        "- Comece com a [documentação do Altair sobre visualizações customizadas](https://altair-viz.github.io/user_guide/customization.html).\n",
        "- Para uma discussão complementar sobre escalas de mapeamento veja [\"Introducing d3-scale\"](https://medium.com/@mbostock/introducing-d3-scale-61980c51545f).\n",
        "- Para uma exploração mais profunda de como os eixos e as legendas podem ser personalizados pela biblioteca Vega (que é a base para Altair e Vega-Lite), veja [\"A Guide to Guides: Axes & Legends in Vega\"](https://beta.observablehq.com/@jheer/a-guide-to-guides-axes-legends-in-vega)\n",
        "- Para uma história fascinante sobre a base de dados sobre antibióticos trabalhada esse notebok, veja [\"That's Funny...\", de Wainer e Lysen](https://www.americanscientist.org/article/thats-funny) na revista _American Scientist_."
      ]
    }
  ],
  "metadata": {
    "colab": {
      "provenance": []
    },
    "kernelspec": {
      "display_name": ".venv",
      "language": "python",
      "name": "python3"
    },
    "language_info": {
      "codemirror_mode": {
        "name": "ipython",
        "version": 3
      },
      "file_extension": ".py",
      "mimetype": "text/x-python",
      "name": "python",
      "nbconvert_exporter": "python",
      "pygments_lexer": "ipython3",
      "version": "3.10.12"
    }
  },
  "nbformat": 4,
  "nbformat_minor": 0
}
