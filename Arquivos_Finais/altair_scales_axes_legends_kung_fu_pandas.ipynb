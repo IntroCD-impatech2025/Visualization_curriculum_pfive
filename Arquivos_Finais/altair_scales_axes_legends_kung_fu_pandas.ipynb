{
  "cells": [
    {
      "cell_type": "markdown",
      "metadata": {
        "id": "hh6NPo1cmqKY"
      },
      "source": [
        "# 4. Escalas, eixos e legendas\n",
        "\n",
        "Codificação visual &ndash; mapear dados para variáveis visuais como posição, tamanho, formato, ou cor &ndash; é o coração pulsante da visualização de dados. O motor que realmente performa o mapeamento é a escala (`scale`): a função que recebe os dados como entrada (o *domínio* da escala) e retorna um valor visual, como a posição de um pixel ou cor RGB, como saída (a *imagem* da escala). Evidentemente, a visualização é inútil se ninguém consegue entender o que ela quer transmitir! Complementando as marcas gráficas, um gráfico precisa de elementos de referência, ou *guias*, que permitem leitores lerem o gráfico. Guias como os *eixos* (que exibem escalas como intervalos no espaço) e *legendas* (que exibem escalas com uma faixa de cor, tamanho, ou formato), são heróis anônimos de visualização efetiva de dados!\n",
        "\n",
        "Neste capítulo, nós vamos explorar as opções que o Altair oferece para permitir designs custumizados de mapeamento de escalas, eixos e legendas, usando e rodando um exemplo sobre a efetividade de antibióticos.\n",
        "\n",
        "_Esse notebook é parte do [Currículo de Visualização de Dados](https://github.com/uwdata/visualization-curriculum)._"
      ]
    },
    {
      "cell_type": "code",
      "execution_count": null,
      "metadata": {
        "id": "3Tc-yU3VmqKf"
      },
      "outputs": [],
      "source": [
        "import pandas as pd\n",
        "import altair as alt"
      ]
    },
    {
      "cell_type": "markdown",
      "metadata": {
        "id": "MJJes-BZmqKi"
      },
      "source": [
        "## 4.1. Dados dos Antibióticos"
      ]
    },
    {
      "cell_type": "markdown",
      "metadata": {
        "id": "IDC1JQUcmqKj"
      },
      "source": [
        "Depois da Segunda Guerra Mundial, antibióticos foram considerados \"drogas milagrosas\", por serem um remédio fácil para doenças consideradas intratáveis. Para aprender qual droga funcionava mais efetivamente contra cada infecção bacteriana, a performance dos 3 antibióticos mais populares contra 16 das bactérias causadoras de infecções mais comuns foi coletada."
      ]
    },
    {
      "cell_type": "markdown",
      "metadata": {
        "id": "LCN0i00bmqKm"
      },
      "source": [
        "Nós vamos usar um conjunto de dados de antibióticos da [coleção do vega-datasets](https://github.com/vega/vega-datasets). No exemplo abaixo, nós vamos passar o URL diretamente para o Altair."
      ]
    },
    {
      "cell_type": "code",
      "execution_count": null,
      "metadata": {
        "id": "d1L7wk4nmqKn"
      },
      "outputs": [],
      "source": [
        "antibioticos = 'https://cdn.jsdelivr.net/npm/vega-datasets@1/data/burtin.json'"
      ]
    },
    {
      "cell_type": "markdown",
      "metadata": {
        "id": "beZzSutwmqKn"
      },
      "source": [
        "Nós podemos primeiro carregar os dados com Pandas para ver o conjunto de dados inteiro e nos familiarizarmos com os campos de dados disponíveis:"
      ]
    },
    {
      "cell_type": "code",
      "execution_count": null,
      "metadata": {
        "id": "yTuBX1GxmqKo",
        "outputId": "9b18e9be-e990-426c-9327-7e057852adc9",
        "colab": {
          "base_uri": "https://localhost:8080/",
          "height": 551
        }
      },
      "outputs": [
        {
          "output_type": "execute_result",
          "data": {
            "text/plain": [
              "                           Bacteria  Penicillin  Streptomycin  Neomycin  \\\n",
              "0              Aerobacter aerogenes     870.000          1.00     1.600   \n",
              "1                Bacillus anthracis       0.001          0.01     0.007   \n",
              "2                  Brucella abortus       1.000          2.00     0.020   \n",
              "3            Diplococcus pneumoniae       0.005         11.00    10.000   \n",
              "4                  Escherichia coli     100.000          0.40     0.100   \n",
              "5             Klebsiella pneumoniae     850.000          1.20     1.000   \n",
              "6        Mycobacterium tuberculosis     800.000          5.00     2.000   \n",
              "7                  Proteus vulgaris       3.000          0.10     0.100   \n",
              "8            Pseudomonas aeruginosa     850.000          2.00     0.400   \n",
              "9   Salmonella (Eberthella) typhosa       1.000          0.40     0.008   \n",
              "10        Salmonella schottmuelleri      10.000          0.80     0.090   \n",
              "11             Staphylococcus albus       0.007          0.10     0.001   \n",
              "12            Staphylococcus aureus       0.030          0.03     0.001   \n",
              "13            Streptococcus fecalis       1.000          1.00     0.100   \n",
              "14        Streptococcus hemolyticus       0.001         14.00    10.000   \n",
              "15           Streptococcus viridans       0.005         10.00    40.000   \n",
              "\n",
              "   Gram_Staining           Genus  \n",
              "0       negative           other  \n",
              "1       positive           other  \n",
              "2       negative           other  \n",
              "3       positive           other  \n",
              "4       negative           other  \n",
              "5       negative           other  \n",
              "6       negative           other  \n",
              "7       negative           other  \n",
              "8       negative           other  \n",
              "9       negative      Salmonella  \n",
              "10      negative      Salmonella  \n",
              "11      positive  Staphylococcus  \n",
              "12      positive  Staphylococcus  \n",
              "13      positive   Streptococcus  \n",
              "14      positive   Streptococcus  \n",
              "15      positive   Streptococcus  "
            ],
            "text/html": [
              "\n",
              "  <div id=\"df-6c6966e8-f783-4021-8477-302cda072038\" class=\"colab-df-container\">\n",
              "    <div>\n",
              "<style scoped>\n",
              "    .dataframe tbody tr th:only-of-type {\n",
              "        vertical-align: middle;\n",
              "    }\n",
              "\n",
              "    .dataframe tbody tr th {\n",
              "        vertical-align: top;\n",
              "    }\n",
              "\n",
              "    .dataframe thead th {\n",
              "        text-align: right;\n",
              "    }\n",
              "</style>\n",
              "<table border=\"1\" class=\"dataframe\">\n",
              "  <thead>\n",
              "    <tr style=\"text-align: right;\">\n",
              "      <th></th>\n",
              "      <th>Bacteria</th>\n",
              "      <th>Penicillin</th>\n",
              "      <th>Streptomycin</th>\n",
              "      <th>Neomycin</th>\n",
              "      <th>Gram_Staining</th>\n",
              "      <th>Genus</th>\n",
              "    </tr>\n",
              "  </thead>\n",
              "  <tbody>\n",
              "    <tr>\n",
              "      <th>0</th>\n",
              "      <td>Aerobacter aerogenes</td>\n",
              "      <td>870.000</td>\n",
              "      <td>1.00</td>\n",
              "      <td>1.600</td>\n",
              "      <td>negative</td>\n",
              "      <td>other</td>\n",
              "    </tr>\n",
              "    <tr>\n",
              "      <th>1</th>\n",
              "      <td>Bacillus anthracis</td>\n",
              "      <td>0.001</td>\n",
              "      <td>0.01</td>\n",
              "      <td>0.007</td>\n",
              "      <td>positive</td>\n",
              "      <td>other</td>\n",
              "    </tr>\n",
              "    <tr>\n",
              "      <th>2</th>\n",
              "      <td>Brucella abortus</td>\n",
              "      <td>1.000</td>\n",
              "      <td>2.00</td>\n",
              "      <td>0.020</td>\n",
              "      <td>negative</td>\n",
              "      <td>other</td>\n",
              "    </tr>\n",
              "    <tr>\n",
              "      <th>3</th>\n",
              "      <td>Diplococcus pneumoniae</td>\n",
              "      <td>0.005</td>\n",
              "      <td>11.00</td>\n",
              "      <td>10.000</td>\n",
              "      <td>positive</td>\n",
              "      <td>other</td>\n",
              "    </tr>\n",
              "    <tr>\n",
              "      <th>4</th>\n",
              "      <td>Escherichia coli</td>\n",
              "      <td>100.000</td>\n",
              "      <td>0.40</td>\n",
              "      <td>0.100</td>\n",
              "      <td>negative</td>\n",
              "      <td>other</td>\n",
              "    </tr>\n",
              "    <tr>\n",
              "      <th>5</th>\n",
              "      <td>Klebsiella pneumoniae</td>\n",
              "      <td>850.000</td>\n",
              "      <td>1.20</td>\n",
              "      <td>1.000</td>\n",
              "      <td>negative</td>\n",
              "      <td>other</td>\n",
              "    </tr>\n",
              "    <tr>\n",
              "      <th>6</th>\n",
              "      <td>Mycobacterium tuberculosis</td>\n",
              "      <td>800.000</td>\n",
              "      <td>5.00</td>\n",
              "      <td>2.000</td>\n",
              "      <td>negative</td>\n",
              "      <td>other</td>\n",
              "    </tr>\n",
              "    <tr>\n",
              "      <th>7</th>\n",
              "      <td>Proteus vulgaris</td>\n",
              "      <td>3.000</td>\n",
              "      <td>0.10</td>\n",
              "      <td>0.100</td>\n",
              "      <td>negative</td>\n",
              "      <td>other</td>\n",
              "    </tr>\n",
              "    <tr>\n",
              "      <th>8</th>\n",
              "      <td>Pseudomonas aeruginosa</td>\n",
              "      <td>850.000</td>\n",
              "      <td>2.00</td>\n",
              "      <td>0.400</td>\n",
              "      <td>negative</td>\n",
              "      <td>other</td>\n",
              "    </tr>\n",
              "    <tr>\n",
              "      <th>9</th>\n",
              "      <td>Salmonella (Eberthella) typhosa</td>\n",
              "      <td>1.000</td>\n",
              "      <td>0.40</td>\n",
              "      <td>0.008</td>\n",
              "      <td>negative</td>\n",
              "      <td>Salmonella</td>\n",
              "    </tr>\n",
              "    <tr>\n",
              "      <th>10</th>\n",
              "      <td>Salmonella schottmuelleri</td>\n",
              "      <td>10.000</td>\n",
              "      <td>0.80</td>\n",
              "      <td>0.090</td>\n",
              "      <td>negative</td>\n",
              "      <td>Salmonella</td>\n",
              "    </tr>\n",
              "    <tr>\n",
              "      <th>11</th>\n",
              "      <td>Staphylococcus albus</td>\n",
              "      <td>0.007</td>\n",
              "      <td>0.10</td>\n",
              "      <td>0.001</td>\n",
              "      <td>positive</td>\n",
              "      <td>Staphylococcus</td>\n",
              "    </tr>\n",
              "    <tr>\n",
              "      <th>12</th>\n",
              "      <td>Staphylococcus aureus</td>\n",
              "      <td>0.030</td>\n",
              "      <td>0.03</td>\n",
              "      <td>0.001</td>\n",
              "      <td>positive</td>\n",
              "      <td>Staphylococcus</td>\n",
              "    </tr>\n",
              "    <tr>\n",
              "      <th>13</th>\n",
              "      <td>Streptococcus fecalis</td>\n",
              "      <td>1.000</td>\n",
              "      <td>1.00</td>\n",
              "      <td>0.100</td>\n",
              "      <td>positive</td>\n",
              "      <td>Streptococcus</td>\n",
              "    </tr>\n",
              "    <tr>\n",
              "      <th>14</th>\n",
              "      <td>Streptococcus hemolyticus</td>\n",
              "      <td>0.001</td>\n",
              "      <td>14.00</td>\n",
              "      <td>10.000</td>\n",
              "      <td>positive</td>\n",
              "      <td>Streptococcus</td>\n",
              "    </tr>\n",
              "    <tr>\n",
              "      <th>15</th>\n",
              "      <td>Streptococcus viridans</td>\n",
              "      <td>0.005</td>\n",
              "      <td>10.00</td>\n",
              "      <td>40.000</td>\n",
              "      <td>positive</td>\n",
              "      <td>Streptococcus</td>\n",
              "    </tr>\n",
              "  </tbody>\n",
              "</table>\n",
              "</div>\n",
              "    <div class=\"colab-df-buttons\">\n",
              "\n",
              "  <div class=\"colab-df-container\">\n",
              "    <button class=\"colab-df-convert\" onclick=\"convertToInteractive('df-6c6966e8-f783-4021-8477-302cda072038')\"\n",
              "            title=\"Convert this dataframe to an interactive table.\"\n",
              "            style=\"display:none;\">\n",
              "\n",
              "  <svg xmlns=\"http://www.w3.org/2000/svg\" height=\"24px\" viewBox=\"0 -960 960 960\">\n",
              "    <path d=\"M120-120v-720h720v720H120Zm60-500h600v-160H180v160Zm220 220h160v-160H400v160Zm0 220h160v-160H400v160ZM180-400h160v-160H180v160Zm440 0h160v-160H620v160ZM180-180h160v-160H180v160Zm440 0h160v-160H620v160Z\"/>\n",
              "  </svg>\n",
              "    </button>\n",
              "\n",
              "  <style>\n",
              "    .colab-df-container {\n",
              "      display:flex;\n",
              "      gap: 12px;\n",
              "    }\n",
              "\n",
              "    .colab-df-convert {\n",
              "      background-color: #E8F0FE;\n",
              "      border: none;\n",
              "      border-radius: 50%;\n",
              "      cursor: pointer;\n",
              "      display: none;\n",
              "      fill: #1967D2;\n",
              "      height: 32px;\n",
              "      padding: 0 0 0 0;\n",
              "      width: 32px;\n",
              "    }\n",
              "\n",
              "    .colab-df-convert:hover {\n",
              "      background-color: #E2EBFA;\n",
              "      box-shadow: 0px 1px 2px rgba(60, 64, 67, 0.3), 0px 1px 3px 1px rgba(60, 64, 67, 0.15);\n",
              "      fill: #174EA6;\n",
              "    }\n",
              "\n",
              "    .colab-df-buttons div {\n",
              "      margin-bottom: 4px;\n",
              "    }\n",
              "\n",
              "    [theme=dark] .colab-df-convert {\n",
              "      background-color: #3B4455;\n",
              "      fill: #D2E3FC;\n",
              "    }\n",
              "\n",
              "    [theme=dark] .colab-df-convert:hover {\n",
              "      background-color: #434B5C;\n",
              "      box-shadow: 0px 1px 3px 1px rgba(0, 0, 0, 0.15);\n",
              "      filter: drop-shadow(0px 1px 2px rgba(0, 0, 0, 0.3));\n",
              "      fill: #FFFFFF;\n",
              "    }\n",
              "  </style>\n",
              "\n",
              "    <script>\n",
              "      const buttonEl =\n",
              "        document.querySelector('#df-6c6966e8-f783-4021-8477-302cda072038 button.colab-df-convert');\n",
              "      buttonEl.style.display =\n",
              "        google.colab.kernel.accessAllowed ? 'block' : 'none';\n",
              "\n",
              "      async function convertToInteractive(key) {\n",
              "        const element = document.querySelector('#df-6c6966e8-f783-4021-8477-302cda072038');\n",
              "        const dataTable =\n",
              "          await google.colab.kernel.invokeFunction('convertToInteractive',\n",
              "                                                    [key], {});\n",
              "        if (!dataTable) return;\n",
              "\n",
              "        const docLinkHtml = 'Like what you see? Visit the ' +\n",
              "          '<a target=\"_blank\" href=https://colab.research.google.com/notebooks/data_table.ipynb>data table notebook</a>'\n",
              "          + ' to learn more about interactive tables.';\n",
              "        element.innerHTML = '';\n",
              "        dataTable['output_type'] = 'display_data';\n",
              "        await google.colab.output.renderOutput(dataTable, element);\n",
              "        const docLink = document.createElement('div');\n",
              "        docLink.innerHTML = docLinkHtml;\n",
              "        element.appendChild(docLink);\n",
              "      }\n",
              "    </script>\n",
              "  </div>\n",
              "\n",
              "\n",
              "<div id=\"df-953d8161-c061-4dd4-8319-8d14b7f8f486\">\n",
              "  <button class=\"colab-df-quickchart\" onclick=\"quickchart('df-953d8161-c061-4dd4-8319-8d14b7f8f486')\"\n",
              "            title=\"Suggest charts\"\n",
              "            style=\"display:none;\">\n",
              "\n",
              "<svg xmlns=\"http://www.w3.org/2000/svg\" height=\"24px\"viewBox=\"0 0 24 24\"\n",
              "     width=\"24px\">\n",
              "    <g>\n",
              "        <path d=\"M19 3H5c-1.1 0-2 .9-2 2v14c0 1.1.9 2 2 2h14c1.1 0 2-.9 2-2V5c0-1.1-.9-2-2-2zM9 17H7v-7h2v7zm4 0h-2V7h2v10zm4 0h-2v-4h2v4z\"/>\n",
              "    </g>\n",
              "</svg>\n",
              "  </button>\n",
              "\n",
              "<style>\n",
              "  .colab-df-quickchart {\n",
              "      --bg-color: #E8F0FE;\n",
              "      --fill-color: #1967D2;\n",
              "      --hover-bg-color: #E2EBFA;\n",
              "      --hover-fill-color: #174EA6;\n",
              "      --disabled-fill-color: #AAA;\n",
              "      --disabled-bg-color: #DDD;\n",
              "  }\n",
              "\n",
              "  [theme=dark] .colab-df-quickchart {\n",
              "      --bg-color: #3B4455;\n",
              "      --fill-color: #D2E3FC;\n",
              "      --hover-bg-color: #434B5C;\n",
              "      --hover-fill-color: #FFFFFF;\n",
              "      --disabled-bg-color: #3B4455;\n",
              "      --disabled-fill-color: #666;\n",
              "  }\n",
              "\n",
              "  .colab-df-quickchart {\n",
              "    background-color: var(--bg-color);\n",
              "    border: none;\n",
              "    border-radius: 50%;\n",
              "    cursor: pointer;\n",
              "    display: none;\n",
              "    fill: var(--fill-color);\n",
              "    height: 32px;\n",
              "    padding: 0;\n",
              "    width: 32px;\n",
              "  }\n",
              "\n",
              "  .colab-df-quickchart:hover {\n",
              "    background-color: var(--hover-bg-color);\n",
              "    box-shadow: 0 1px 2px rgba(60, 64, 67, 0.3), 0 1px 3px 1px rgba(60, 64, 67, 0.15);\n",
              "    fill: var(--button-hover-fill-color);\n",
              "  }\n",
              "\n",
              "  .colab-df-quickchart-complete:disabled,\n",
              "  .colab-df-quickchart-complete:disabled:hover {\n",
              "    background-color: var(--disabled-bg-color);\n",
              "    fill: var(--disabled-fill-color);\n",
              "    box-shadow: none;\n",
              "  }\n",
              "\n",
              "  .colab-df-spinner {\n",
              "    border: 2px solid var(--fill-color);\n",
              "    border-color: transparent;\n",
              "    border-bottom-color: var(--fill-color);\n",
              "    animation:\n",
              "      spin 1s steps(1) infinite;\n",
              "  }\n",
              "\n",
              "  @keyframes spin {\n",
              "    0% {\n",
              "      border-color: transparent;\n",
              "      border-bottom-color: var(--fill-color);\n",
              "      border-left-color: var(--fill-color);\n",
              "    }\n",
              "    20% {\n",
              "      border-color: transparent;\n",
              "      border-left-color: var(--fill-color);\n",
              "      border-top-color: var(--fill-color);\n",
              "    }\n",
              "    30% {\n",
              "      border-color: transparent;\n",
              "      border-left-color: var(--fill-color);\n",
              "      border-top-color: var(--fill-color);\n",
              "      border-right-color: var(--fill-color);\n",
              "    }\n",
              "    40% {\n",
              "      border-color: transparent;\n",
              "      border-right-color: var(--fill-color);\n",
              "      border-top-color: var(--fill-color);\n",
              "    }\n",
              "    60% {\n",
              "      border-color: transparent;\n",
              "      border-right-color: var(--fill-color);\n",
              "    }\n",
              "    80% {\n",
              "      border-color: transparent;\n",
              "      border-right-color: var(--fill-color);\n",
              "      border-bottom-color: var(--fill-color);\n",
              "    }\n",
              "    90% {\n",
              "      border-color: transparent;\n",
              "      border-bottom-color: var(--fill-color);\n",
              "    }\n",
              "  }\n",
              "</style>\n",
              "\n",
              "  <script>\n",
              "    async function quickchart(key) {\n",
              "      const quickchartButtonEl =\n",
              "        document.querySelector('#' + key + ' button');\n",
              "      quickchartButtonEl.disabled = true;  // To prevent multiple clicks.\n",
              "      quickchartButtonEl.classList.add('colab-df-spinner');\n",
              "      try {\n",
              "        const charts = await google.colab.kernel.invokeFunction(\n",
              "            'suggestCharts', [key], {});\n",
              "      } catch (error) {\n",
              "        console.error('Error during call to suggestCharts:', error);\n",
              "      }\n",
              "      quickchartButtonEl.classList.remove('colab-df-spinner');\n",
              "      quickchartButtonEl.classList.add('colab-df-quickchart-complete');\n",
              "    }\n",
              "    (() => {\n",
              "      let quickchartButtonEl =\n",
              "        document.querySelector('#df-953d8161-c061-4dd4-8319-8d14b7f8f486 button');\n",
              "      quickchartButtonEl.style.display =\n",
              "        google.colab.kernel.accessAllowed ? 'block' : 'none';\n",
              "    })();\n",
              "  </script>\n",
              "</div>\n",
              "\n",
              "    </div>\n",
              "  </div>\n"
            ],
            "application/vnd.google.colaboratory.intrinsic+json": {
              "type": "dataframe",
              "summary": "{\n  \"name\": \"pd\",\n  \"rows\": 16,\n  \"fields\": [\n    {\n      \"column\": \"Bacteria\",\n      \"properties\": {\n        \"dtype\": \"string\",\n        \"num_unique_values\": 16,\n        \"samples\": [\n          \"Aerobacter aerogenes\",\n          \"Bacillus anthracis\",\n          \"Klebsiella pneumoniae\"\n        ],\n        \"semantic_type\": \"\",\n        \"description\": \"\"\n      }\n    },\n    {\n      \"column\": \"Penicillin\",\n      \"properties\": {\n        \"dtype\": \"number\",\n        \"std\": 373.4950601280591,\n        \"min\": 0.001,\n        \"max\": 870.0,\n        \"num_unique_values\": 11,\n        \"samples\": [\n          850.0,\n          870.0,\n          0.007\n        ],\n        \"semantic_type\": \"\",\n        \"description\": \"\"\n      }\n    },\n    {\n      \"column\": \"Streptomycin\",\n      \"properties\": {\n        \"dtype\": \"number\",\n        \"std\": 4.5026910472146175,\n        \"min\": 0.01,\n        \"max\": 14.0,\n        \"num_unique_values\": 12,\n        \"samples\": [\n          14.0,\n          0.03,\n          1.0\n        ],\n        \"semantic_type\": \"\",\n        \"description\": \"\"\n      }\n    },\n    {\n      \"column\": \"Neomycin\",\n      \"properties\": {\n        \"dtype\": \"number\",\n        \"std\": 10.13316450880474,\n        \"min\": 0.001,\n        \"max\": 40.0,\n        \"num_unique_values\": 12,\n        \"samples\": [\n          0.001,\n          0.09,\n          1.6\n        ],\n        \"semantic_type\": \"\",\n        \"description\": \"\"\n      }\n    },\n    {\n      \"column\": \"Gram_Staining\",\n      \"properties\": {\n        \"dtype\": \"category\",\n        \"num_unique_values\": 2,\n        \"samples\": [\n          \"positive\",\n          \"negative\"\n        ],\n        \"semantic_type\": \"\",\n        \"description\": \"\"\n      }\n    },\n    {\n      \"column\": \"Genus\",\n      \"properties\": {\n        \"dtype\": \"category\",\n        \"num_unique_values\": 4,\n        \"samples\": [\n          \"Salmonella\",\n          \"Streptococcus\"\n        ],\n        \"semantic_type\": \"\",\n        \"description\": \"\"\n      }\n    }\n  ]\n}"
            }
          },
          "metadata": {},
          "execution_count": 3
        }
      ],
      "source": [
        "pd.read_json(antibioticos)"
      ]
    },
    {
      "cell_type": "markdown",
      "metadata": {
        "id": "C9UO53nlmqKp"
      },
      "source": [
        "O valor numérico indicado na tabela é a [Concentração Mínima Inibitória (CMI)](https://pt.wikipedia.org/wiki/Concentra%C3%A7%C3%A3o_inibit%C3%B3ria_m%C3%ADnima), uma medida de eficácia do antibiótico, que representa a concentração de antibiótico (em microgramas por mililitro) necessária para previnir o crescimento da bactéria em laboratório. A reação da bactéria para um procedimento chamado [Teste de Gram](https://pt.wikipedia.org/wiki/T%C3%A9cnica_de_Gram) é descrita pela coluna `Gram_Staining`. Bactérias que ficam azul ou violeta no teste respondem positivamente (`positive`), enquanto as que não reagem assim são negativas (`negative`).\n",
        "\n",
        "Enquanto examinamos diferentes visualizações desse conjunto de dados, se pergunte: O que podemos aprender sobre a eficácia relativa dos antibióticos? O que podemos aprender sobre as espécies bacterianas baseado na sua resposta ao antibiótico?"
      ]
    },
    {
      "cell_type": "markdown",
      "metadata": {
        "id": "G6AQIU6OmqKs"
      },
      "source": [
        "# 4.2 Ajustando escalas e eixos\n",
        "## 4.2.1 Plotando a resistência a antibióticos: ajustando o tipo de escala\n",
        "\n",
        "Vamos começar observando um gráfico de pontos simples da CMI para Neomicina (Neomycin)."
      ]
    },
    {
      "cell_type": "code",
      "execution_count": null,
      "metadata": {
        "colab": {
          "base_uri": "https://localhost:8080/",
          "height": 83
        },
        "id": "oHfeLrevmqKt",
        "outputId": "d50489cf-87c3-47d8-e474-d09e48ca21e4"
      },
      "outputs": [
        {
          "output_type": "execute_result",
          "data": {
            "text/html": [
              "\n",
              "<style>\n",
              "  #altair-viz-7af84dc71a794bdcb6f03ff42309b029.vega-embed {\n",
              "    width: 100%;\n",
              "    display: flex;\n",
              "  }\n",
              "\n",
              "  #altair-viz-7af84dc71a794bdcb6f03ff42309b029.vega-embed details,\n",
              "  #altair-viz-7af84dc71a794bdcb6f03ff42309b029.vega-embed details summary {\n",
              "    position: relative;\n",
              "  }\n",
              "</style>\n",
              "<div id=\"altair-viz-7af84dc71a794bdcb6f03ff42309b029\"></div>\n",
              "<script type=\"text/javascript\">\n",
              "  var VEGA_DEBUG = (typeof VEGA_DEBUG == \"undefined\") ? {} : VEGA_DEBUG;\n",
              "  (function(spec, embedOpt){\n",
              "    let outputDiv = document.currentScript.previousElementSibling;\n",
              "    if (outputDiv.id !== \"altair-viz-7af84dc71a794bdcb6f03ff42309b029\") {\n",
              "      outputDiv = document.getElementById(\"altair-viz-7af84dc71a794bdcb6f03ff42309b029\");\n",
              "    }\n",
              "\n",
              "    const paths = {\n",
              "      \"vega\": \"https://cdn.jsdelivr.net/npm/vega@5?noext\",\n",
              "      \"vega-lib\": \"https://cdn.jsdelivr.net/npm/vega-lib?noext\",\n",
              "      \"vega-lite\": \"https://cdn.jsdelivr.net/npm/vega-lite@5.20.1?noext\",\n",
              "      \"vega-embed\": \"https://cdn.jsdelivr.net/npm/vega-embed@6?noext\",\n",
              "    };\n",
              "\n",
              "    function maybeLoadScript(lib, version) {\n",
              "      var key = `${lib.replace(\"-\", \"\")}_version`;\n",
              "      return (VEGA_DEBUG[key] == version) ?\n",
              "        Promise.resolve(paths[lib]) :\n",
              "        new Promise(function(resolve, reject) {\n",
              "          var s = document.createElement('script');\n",
              "          document.getElementsByTagName(\"head\")[0].appendChild(s);\n",
              "          s.async = true;\n",
              "          s.onload = () => {\n",
              "            VEGA_DEBUG[key] = version;\n",
              "            return resolve(paths[lib]);\n",
              "          };\n",
              "          s.onerror = () => reject(`Error loading script: ${paths[lib]}`);\n",
              "          s.src = paths[lib];\n",
              "        });\n",
              "    }\n",
              "\n",
              "    function showError(err) {\n",
              "      outputDiv.innerHTML = `<div class=\"error\" style=\"color:red;\">${err}</div>`;\n",
              "      throw err;\n",
              "    }\n",
              "\n",
              "    function displayChart(vegaEmbed) {\n",
              "      vegaEmbed(outputDiv, spec, embedOpt)\n",
              "        .catch(err => showError(`Javascript Error: ${err.message}<br>This usually means there's a typo in your chart specification. See the javascript console for the full traceback.`));\n",
              "    }\n",
              "\n",
              "    if(typeof define === \"function\" && define.amd) {\n",
              "      requirejs.config({paths});\n",
              "      let deps = [\"vega-embed\"];\n",
              "      require(deps, displayChart, err => showError(`Error loading script: ${err.message}`));\n",
              "    } else {\n",
              "      maybeLoadScript(\"vega\", \"5\")\n",
              "        .then(() => maybeLoadScript(\"vega-lite\", \"5.20.1\"))\n",
              "        .then(() => maybeLoadScript(\"vega-embed\", \"6\"))\n",
              "        .catch(showError)\n",
              "        .then(() => displayChart(vegaEmbed));\n",
              "    }\n",
              "  })({\"config\": {\"view\": {\"continuousWidth\": 300, \"continuousHeight\": 300}}, \"data\": {\"url\": \"https://cdn.jsdelivr.net/npm/vega-datasets@1/data/burtin.json\"}, \"mark\": {\"type\": \"circle\"}, \"encoding\": {\"x\": {\"field\": \"Neomycin\", \"type\": \"quantitative\"}}, \"$schema\": \"https://vega.github.io/schema/vega-lite/v5.20.1.json\"}, {\"mode\": \"vega-lite\"});\n",
              "</script>"
            ],
            "text/plain": [
              "alt.Chart(...)"
            ]
          },
          "metadata": {},
          "execution_count": 4
        }
      ],
      "source": [
        "alt.Chart(antibioticos).mark_circle().encode(\n",
        "    alt.X('Neomycin:Q')\n",
        ")"
      ]
    },
    {
      "cell_type": "markdown",
      "metadata": {
        "id": "99VH2twsmqKu"
      },
      "source": [
        "*Podemos ver que os valores da CMI abrangem ordens de magnitude diferentes: a maior parte dos pontos está agrupada à esquerda, com alguns valores discrepantes maiores à direita.*"
      ]
    },
    {
      "cell_type": "markdown",
      "metadata": {
        "id": "1Hg6AHZ8mqKu"
      },
      "source": [
        "Por padrão, o Altair faz mapeamento linear entre os valores do domínio e a distância em pixels. Nesse caso, podemos ver que a distância entre 0 e 10 no eixo X em pixels é exatamente igual à distância entre 30 e 40. Enquanto isso é um padrão bom e o mais utilizado, no nosso gráfico, perdemos precisão ao observar os nossos dados, já que nosso eixo X é tão grande que o intervalo onde encontramos a maior parte dos nossos pontos fica achatado."
      ]
    },
    {
      "cell_type": "markdown",
      "metadata": {
        "id": "pnTftEtymqKu"
      },
      "source": [
        "Para visualizar, então, nossos dados de maneira melhor, podemos aplicar uma transformação de escala no nosso eixo.\n"
      ]
    },
    {
      "cell_type": "markdown",
      "metadata": {
        "id": "9BH93jtSmqKv"
      },
      "source": [
        "Para aplicar uma transformação de escala, ao criar o eixo, definimos seu atributo de escala (`scale`), usando o método `alt.Scale`, e definindo seu tipo (`type`)."
      ]
    },
    {
      "cell_type": "markdown",
      "metadata": {
        "id": "7KRWzfdVmqKv"
      },
      "source": [
        "\n",
        "Este seria o resultado se usássemos uma escala do tipo raiz quadrada (`type = 'sqrt'`). Distâncias em pixel agora correspondem à raiz quadrada da distância no domínio:"
      ]
    },
    {
      "cell_type": "code",
      "execution_count": null,
      "metadata": {
        "colab": {
          "base_uri": "https://localhost:8080/",
          "height": 83
        },
        "id": "nleJfPi6mqKw",
        "outputId": "f53773ab-839b-4c8a-8f54-c8f8a09b4809"
      },
      "outputs": [
        {
          "output_type": "execute_result",
          "data": {
            "text/html": [
              "\n",
              "<style>\n",
              "  #altair-viz-4d61df83ff0a427e888e7eb447aa9312.vega-embed {\n",
              "    width: 100%;\n",
              "    display: flex;\n",
              "  }\n",
              "\n",
              "  #altair-viz-4d61df83ff0a427e888e7eb447aa9312.vega-embed details,\n",
              "  #altair-viz-4d61df83ff0a427e888e7eb447aa9312.vega-embed details summary {\n",
              "    position: relative;\n",
              "  }\n",
              "</style>\n",
              "<div id=\"altair-viz-4d61df83ff0a427e888e7eb447aa9312\"></div>\n",
              "<script type=\"text/javascript\">\n",
              "  var VEGA_DEBUG = (typeof VEGA_DEBUG == \"undefined\") ? {} : VEGA_DEBUG;\n",
              "  (function(spec, embedOpt){\n",
              "    let outputDiv = document.currentScript.previousElementSibling;\n",
              "    if (outputDiv.id !== \"altair-viz-4d61df83ff0a427e888e7eb447aa9312\") {\n",
              "      outputDiv = document.getElementById(\"altair-viz-4d61df83ff0a427e888e7eb447aa9312\");\n",
              "    }\n",
              "\n",
              "    const paths = {\n",
              "      \"vega\": \"https://cdn.jsdelivr.net/npm/vega@5?noext\",\n",
              "      \"vega-lib\": \"https://cdn.jsdelivr.net/npm/vega-lib?noext\",\n",
              "      \"vega-lite\": \"https://cdn.jsdelivr.net/npm/vega-lite@5.20.1?noext\",\n",
              "      \"vega-embed\": \"https://cdn.jsdelivr.net/npm/vega-embed@6?noext\",\n",
              "    };\n",
              "\n",
              "    function maybeLoadScript(lib, version) {\n",
              "      var key = `${lib.replace(\"-\", \"\")}_version`;\n",
              "      return (VEGA_DEBUG[key] == version) ?\n",
              "        Promise.resolve(paths[lib]) :\n",
              "        new Promise(function(resolve, reject) {\n",
              "          var s = document.createElement('script');\n",
              "          document.getElementsByTagName(\"head\")[0].appendChild(s);\n",
              "          s.async = true;\n",
              "          s.onload = () => {\n",
              "            VEGA_DEBUG[key] = version;\n",
              "            return resolve(paths[lib]);\n",
              "          };\n",
              "          s.onerror = () => reject(`Error loading script: ${paths[lib]}`);\n",
              "          s.src = paths[lib];\n",
              "        });\n",
              "    }\n",
              "\n",
              "    function showError(err) {\n",
              "      outputDiv.innerHTML = `<div class=\"error\" style=\"color:red;\">${err}</div>`;\n",
              "      throw err;\n",
              "    }\n",
              "\n",
              "    function displayChart(vegaEmbed) {\n",
              "      vegaEmbed(outputDiv, spec, embedOpt)\n",
              "        .catch(err => showError(`Javascript Error: ${err.message}<br>This usually means there's a typo in your chart specification. See the javascript console for the full traceback.`));\n",
              "    }\n",
              "\n",
              "    if(typeof define === \"function\" && define.amd) {\n",
              "      requirejs.config({paths});\n",
              "      let deps = [\"vega-embed\"];\n",
              "      require(deps, displayChart, err => showError(`Error loading script: ${err.message}`));\n",
              "    } else {\n",
              "      maybeLoadScript(\"vega\", \"5\")\n",
              "        .then(() => maybeLoadScript(\"vega-lite\", \"5.20.1\"))\n",
              "        .then(() => maybeLoadScript(\"vega-embed\", \"6\"))\n",
              "        .catch(showError)\n",
              "        .then(() => displayChart(vegaEmbed));\n",
              "    }\n",
              "  })({\"config\": {\"view\": {\"continuousWidth\": 300, \"continuousHeight\": 300}}, \"data\": {\"url\": \"https://cdn.jsdelivr.net/npm/vega-datasets@1/data/burtin.json\"}, \"mark\": {\"type\": \"circle\"}, \"encoding\": {\"x\": {\"field\": \"Neomycin\", \"scale\": {\"type\": \"sqrt\"}, \"type\": \"quantitative\"}}, \"$schema\": \"https://vega.github.io/schema/vega-lite/v5.20.1.json\"}, {\"mode\": \"vega-lite\"});\n",
              "</script>"
            ],
            "text/plain": [
              "alt.Chart(...)"
            ]
          },
          "metadata": {},
          "execution_count": 5
        }
      ],
      "source": [
        "alt.Chart(antibioticos).mark_circle().encode(\n",
        "    alt.X('Neomycin:Q',\n",
        "          scale = alt.Scale(type='sqrt'))\n",
        ")"
      ]
    },
    {
      "cell_type": "markdown",
      "metadata": {
        "id": "tw2-35HomqKx"
      },
      "source": [
        "*Os pontos à esquerda estão melhor distribuídos agora, mas ainda temos discrepâncias bem grandes no gráfico.*"
      ]
    },
    {
      "cell_type": "markdown",
      "metadata": {
        "id": "OStVZRVemqKx"
      },
      "source": [
        "Vamos tentar usar uma escala [logarítmica](https://pt.wikipedia.org/wiki/Escala_logar%C3%ADtmica) (`type = 'log'`) agora:"
      ]
    },
    {
      "cell_type": "code",
      "execution_count": null,
      "metadata": {
        "colab": {
          "base_uri": "https://localhost:8080/",
          "height": 83
        },
        "id": "3lT0U6idmqKy",
        "outputId": "836eb2e2-cd58-4d06-ed67-4056f586fce2"
      },
      "outputs": [
        {
          "output_type": "execute_result",
          "data": {
            "text/html": [
              "\n",
              "<style>\n",
              "  #altair-viz-82836ba08142486b96967f34874a2a6a.vega-embed {\n",
              "    width: 100%;\n",
              "    display: flex;\n",
              "  }\n",
              "\n",
              "  #altair-viz-82836ba08142486b96967f34874a2a6a.vega-embed details,\n",
              "  #altair-viz-82836ba08142486b96967f34874a2a6a.vega-embed details summary {\n",
              "    position: relative;\n",
              "  }\n",
              "</style>\n",
              "<div id=\"altair-viz-82836ba08142486b96967f34874a2a6a\"></div>\n",
              "<script type=\"text/javascript\">\n",
              "  var VEGA_DEBUG = (typeof VEGA_DEBUG == \"undefined\") ? {} : VEGA_DEBUG;\n",
              "  (function(spec, embedOpt){\n",
              "    let outputDiv = document.currentScript.previousElementSibling;\n",
              "    if (outputDiv.id !== \"altair-viz-82836ba08142486b96967f34874a2a6a\") {\n",
              "      outputDiv = document.getElementById(\"altair-viz-82836ba08142486b96967f34874a2a6a\");\n",
              "    }\n",
              "\n",
              "    const paths = {\n",
              "      \"vega\": \"https://cdn.jsdelivr.net/npm/vega@5?noext\",\n",
              "      \"vega-lib\": \"https://cdn.jsdelivr.net/npm/vega-lib?noext\",\n",
              "      \"vega-lite\": \"https://cdn.jsdelivr.net/npm/vega-lite@5.20.1?noext\",\n",
              "      \"vega-embed\": \"https://cdn.jsdelivr.net/npm/vega-embed@6?noext\",\n",
              "    };\n",
              "\n",
              "    function maybeLoadScript(lib, version) {\n",
              "      var key = `${lib.replace(\"-\", \"\")}_version`;\n",
              "      return (VEGA_DEBUG[key] == version) ?\n",
              "        Promise.resolve(paths[lib]) :\n",
              "        new Promise(function(resolve, reject) {\n",
              "          var s = document.createElement('script');\n",
              "          document.getElementsByTagName(\"head\")[0].appendChild(s);\n",
              "          s.async = true;\n",
              "          s.onload = () => {\n",
              "            VEGA_DEBUG[key] = version;\n",
              "            return resolve(paths[lib]);\n",
              "          };\n",
              "          s.onerror = () => reject(`Error loading script: ${paths[lib]}`);\n",
              "          s.src = paths[lib];\n",
              "        });\n",
              "    }\n",
              "\n",
              "    function showError(err) {\n",
              "      outputDiv.innerHTML = `<div class=\"error\" style=\"color:red;\">${err}</div>`;\n",
              "      throw err;\n",
              "    }\n",
              "\n",
              "    function displayChart(vegaEmbed) {\n",
              "      vegaEmbed(outputDiv, spec, embedOpt)\n",
              "        .catch(err => showError(`Javascript Error: ${err.message}<br>This usually means there's a typo in your chart specification. See the javascript console for the full traceback.`));\n",
              "    }\n",
              "\n",
              "    if(typeof define === \"function\" && define.amd) {\n",
              "      requirejs.config({paths});\n",
              "      let deps = [\"vega-embed\"];\n",
              "      require(deps, displayChart, err => showError(`Error loading script: ${err.message}`));\n",
              "    } else {\n",
              "      maybeLoadScript(\"vega\", \"5\")\n",
              "        .then(() => maybeLoadScript(\"vega-lite\", \"5.20.1\"))\n",
              "        .then(() => maybeLoadScript(\"vega-embed\", \"6\"))\n",
              "        .catch(showError)\n",
              "        .then(() => displayChart(vegaEmbed));\n",
              "    }\n",
              "  })({\"config\": {\"view\": {\"continuousWidth\": 300, \"continuousHeight\": 300}}, \"data\": {\"url\": \"https://cdn.jsdelivr.net/npm/vega-datasets@1/data/burtin.json\"}, \"mark\": {\"type\": \"circle\"}, \"encoding\": {\"x\": {\"field\": \"Neomycin\", \"scale\": {\"type\": \"log\"}, \"type\": \"quantitative\"}}, \"$schema\": \"https://vega.github.io/schema/vega-lite/v5.20.1.json\"}, {\"mode\": \"vega-lite\"});\n",
              "</script>"
            ],
            "text/plain": [
              "alt.Chart(...)"
            ]
          },
          "metadata": {},
          "execution_count": 6
        }
      ],
      "source": [
        "alt.Chart(antibioticos).mark_circle().encode(\n",
        "    alt.X('Neomycin:Q',\n",
        "          scale = alt.Scale(type='log'))\n",
        ")"
      ]
    },
    {
      "cell_type": "markdown",
      "metadata": {
        "id": "5Zxea-06mqKy"
      },
      "source": [
        "*Agora, nossos dados estão bem distribuídos ao longo do gráfico, e ainda conseguimos ver a diferença entre a CMI da Neomicina para diferentes bactérias.*"
      ]
    },
    {
      "cell_type": "markdown",
      "metadata": {
        "id": "m3A8PeV2mqKz"
      },
      "source": [
        "Numa escala linear, se uma distância de 5 unidades no seu eixo equivale a uma distância de 10 pixels, uma distância de 10 unidades vai equivaler a uma distância de 20 pixels, proporcionalmente. A escala logarítmica trabalha de maneira diferente, se baseando no mapeamento entre adição e multiplicação usando a propriedade matemática $log(a) + log(b) = log(ab)$. Como resultado disso, temos que se a distância visual entre dois pontos é de K pixels no seu gráfico, a distância numérica, nos seus dados, é na verdade uma proporção de K, onde K é a base escolhida para o nosso logaritmo (por padrão é 10, mas pode ser mudada definindo uma `base` na hora de usar o método `alt.Scale` com `type = 'log'`).\n",
        "\n",
        "Visualize assim: temos 3 pontos A, B, C, que valem respectivamente 10, 100 e 1000 unidades. Em um eixo de um gráfico, na escala linear, se a distância em pixels entre A e B é de 10 pixels, a distância em pixels entre B e C é de 100 pixels, pois $C-B=10(B-A)$. Na escala logarítmica de base 10, no entanto, se a distância entre A e B é de 10 pixels, a distância entre B e C é de 10 pixels também, pois $\\frac{C}{B} = \\frac{B}{A}$."
      ]
    },
    {
      "cell_type": "markdown",
      "metadata": {
        "id": "VKKkgJ-8mqKz"
      },
      "source": [
        "## 4.2.2 Decorando um eixo"
      ]
    },
    {
      "cell_type": "markdown",
      "metadata": {
        "id": "45o0QwktmqK0"
      },
      "source": [
        "Para antibióticos, quanto menos usamos para matar uma bactéria, melhor esse antibiótico é. Considerando que gostamos normalmente de ver o melhor mais acima/à direita em um gráfico, para nos adequar a esse fator, teríamos que inverter o eixo X do nosso gráfico, de forma que as menores CMIs fiquem a esquerda e as maiores à direita.\n"
      ]
    },
    {
      "cell_type": "markdown",
      "metadata": {
        "id": "tPGwwb8tmqK0"
      },
      "source": [
        "Fazemos isso definindo seu atributo de ordenação (`sort`) como decrescente (`descending`):"
      ]
    },
    {
      "cell_type": "code",
      "execution_count": null,
      "metadata": {
        "colab": {
          "base_uri": "https://localhost:8080/",
          "height": 83
        },
        "id": "2cDVR1TEmqK0",
        "outputId": "cd033547-5b69-4849-9836-9c48d03f5a18"
      },
      "outputs": [
        {
          "output_type": "execute_result",
          "data": {
            "text/html": [
              "\n",
              "<style>\n",
              "  #altair-viz-3ed94b08e82b477fb9201359cc14fa3e.vega-embed {\n",
              "    width: 100%;\n",
              "    display: flex;\n",
              "  }\n",
              "\n",
              "  #altair-viz-3ed94b08e82b477fb9201359cc14fa3e.vega-embed details,\n",
              "  #altair-viz-3ed94b08e82b477fb9201359cc14fa3e.vega-embed details summary {\n",
              "    position: relative;\n",
              "  }\n",
              "</style>\n",
              "<div id=\"altair-viz-3ed94b08e82b477fb9201359cc14fa3e\"></div>\n",
              "<script type=\"text/javascript\">\n",
              "  var VEGA_DEBUG = (typeof VEGA_DEBUG == \"undefined\") ? {} : VEGA_DEBUG;\n",
              "  (function(spec, embedOpt){\n",
              "    let outputDiv = document.currentScript.previousElementSibling;\n",
              "    if (outputDiv.id !== \"altair-viz-3ed94b08e82b477fb9201359cc14fa3e\") {\n",
              "      outputDiv = document.getElementById(\"altair-viz-3ed94b08e82b477fb9201359cc14fa3e\");\n",
              "    }\n",
              "\n",
              "    const paths = {\n",
              "      \"vega\": \"https://cdn.jsdelivr.net/npm/vega@5?noext\",\n",
              "      \"vega-lib\": \"https://cdn.jsdelivr.net/npm/vega-lib?noext\",\n",
              "      \"vega-lite\": \"https://cdn.jsdelivr.net/npm/vega-lite@5.20.1?noext\",\n",
              "      \"vega-embed\": \"https://cdn.jsdelivr.net/npm/vega-embed@6?noext\",\n",
              "    };\n",
              "\n",
              "    function maybeLoadScript(lib, version) {\n",
              "      var key = `${lib.replace(\"-\", \"\")}_version`;\n",
              "      return (VEGA_DEBUG[key] == version) ?\n",
              "        Promise.resolve(paths[lib]) :\n",
              "        new Promise(function(resolve, reject) {\n",
              "          var s = document.createElement('script');\n",
              "          document.getElementsByTagName(\"head\")[0].appendChild(s);\n",
              "          s.async = true;\n",
              "          s.onload = () => {\n",
              "            VEGA_DEBUG[key] = version;\n",
              "            return resolve(paths[lib]);\n",
              "          };\n",
              "          s.onerror = () => reject(`Error loading script: ${paths[lib]}`);\n",
              "          s.src = paths[lib];\n",
              "        });\n",
              "    }\n",
              "\n",
              "    function showError(err) {\n",
              "      outputDiv.innerHTML = `<div class=\"error\" style=\"color:red;\">${err}</div>`;\n",
              "      throw err;\n",
              "    }\n",
              "\n",
              "    function displayChart(vegaEmbed) {\n",
              "      vegaEmbed(outputDiv, spec, embedOpt)\n",
              "        .catch(err => showError(`Javascript Error: ${err.message}<br>This usually means there's a typo in your chart specification. See the javascript console for the full traceback.`));\n",
              "    }\n",
              "\n",
              "    if(typeof define === \"function\" && define.amd) {\n",
              "      requirejs.config({paths});\n",
              "      let deps = [\"vega-embed\"];\n",
              "      require(deps, displayChart, err => showError(`Error loading script: ${err.message}`));\n",
              "    } else {\n",
              "      maybeLoadScript(\"vega\", \"5\")\n",
              "        .then(() => maybeLoadScript(\"vega-lite\", \"5.20.1\"))\n",
              "        .then(() => maybeLoadScript(\"vega-embed\", \"6\"))\n",
              "        .catch(showError)\n",
              "        .then(() => displayChart(vegaEmbed));\n",
              "    }\n",
              "  })({\"config\": {\"view\": {\"continuousWidth\": 300, \"continuousHeight\": 300}}, \"data\": {\"url\": \"https://cdn.jsdelivr.net/npm/vega-datasets@1/data/burtin.json\"}, \"mark\": {\"type\": \"circle\"}, \"encoding\": {\"x\": {\"field\": \"Neomycin\", \"scale\": {\"type\": \"log\"}, \"sort\": \"descending\", \"type\": \"quantitative\"}}, \"$schema\": \"https://vega.github.io/schema/vega-lite/v5.20.1.json\"}, {\"mode\": \"vega-lite\"});\n",
              "</script>"
            ],
            "text/plain": [
              "alt.Chart(...)"
            ]
          },
          "metadata": {},
          "execution_count": 7
        }
      ],
      "source": [
        "alt.Chart(antibioticos).mark_circle().encode(\n",
        "    alt.X('Neomycin:Q',\n",
        "          sort = 'descending',\n",
        "          scale = alt.Scale(type='log'))\n",
        ")"
      ]
    },
    {
      "cell_type": "markdown",
      "metadata": {
        "id": "vN0mZpRkmqK1"
      },
      "source": [
        "*Nosso gráfico está começando a ficar confuso: estamos usando um eixo com escala logarítmica, em ordem inversa e sem indicação de unidades ainda!*"
      ]
    },
    {
      "cell_type": "markdown",
      "metadata": {
        "id": "FLXMLtMBmqK1"
      },
      "source": [
        "Vamos começar então a dar mais informações ao nosso gráfico adicionando um atributo de título (`title`) ao nosso eixo:"
      ]
    },
    {
      "cell_type": "code",
      "execution_count": null,
      "metadata": {
        "colab": {
          "base_uri": "https://localhost:8080/",
          "height": 83
        },
        "id": "vHeD-1eCmqK2",
        "outputId": "173122a9-f1c7-4bba-ce80-c00863e564c7"
      },
      "outputs": [
        {
          "output_type": "execute_result",
          "data": {
            "text/html": [
              "\n",
              "<style>\n",
              "  #altair-viz-7539556a310d4db6ba9c32d8d76bd705.vega-embed {\n",
              "    width: 100%;\n",
              "    display: flex;\n",
              "  }\n",
              "\n",
              "  #altair-viz-7539556a310d4db6ba9c32d8d76bd705.vega-embed details,\n",
              "  #altair-viz-7539556a310d4db6ba9c32d8d76bd705.vega-embed details summary {\n",
              "    position: relative;\n",
              "  }\n",
              "</style>\n",
              "<div id=\"altair-viz-7539556a310d4db6ba9c32d8d76bd705\"></div>\n",
              "<script type=\"text/javascript\">\n",
              "  var VEGA_DEBUG = (typeof VEGA_DEBUG == \"undefined\") ? {} : VEGA_DEBUG;\n",
              "  (function(spec, embedOpt){\n",
              "    let outputDiv = document.currentScript.previousElementSibling;\n",
              "    if (outputDiv.id !== \"altair-viz-7539556a310d4db6ba9c32d8d76bd705\") {\n",
              "      outputDiv = document.getElementById(\"altair-viz-7539556a310d4db6ba9c32d8d76bd705\");\n",
              "    }\n",
              "\n",
              "    const paths = {\n",
              "      \"vega\": \"https://cdn.jsdelivr.net/npm/vega@5?noext\",\n",
              "      \"vega-lib\": \"https://cdn.jsdelivr.net/npm/vega-lib?noext\",\n",
              "      \"vega-lite\": \"https://cdn.jsdelivr.net/npm/vega-lite@5.20.1?noext\",\n",
              "      \"vega-embed\": \"https://cdn.jsdelivr.net/npm/vega-embed@6?noext\",\n",
              "    };\n",
              "\n",
              "    function maybeLoadScript(lib, version) {\n",
              "      var key = `${lib.replace(\"-\", \"\")}_version`;\n",
              "      return (VEGA_DEBUG[key] == version) ?\n",
              "        Promise.resolve(paths[lib]) :\n",
              "        new Promise(function(resolve, reject) {\n",
              "          var s = document.createElement('script');\n",
              "          document.getElementsByTagName(\"head\")[0].appendChild(s);\n",
              "          s.async = true;\n",
              "          s.onload = () => {\n",
              "            VEGA_DEBUG[key] = version;\n",
              "            return resolve(paths[lib]);\n",
              "          };\n",
              "          s.onerror = () => reject(`Error loading script: ${paths[lib]}`);\n",
              "          s.src = paths[lib];\n",
              "        });\n",
              "    }\n",
              "\n",
              "    function showError(err) {\n",
              "      outputDiv.innerHTML = `<div class=\"error\" style=\"color:red;\">${err}</div>`;\n",
              "      throw err;\n",
              "    }\n",
              "\n",
              "    function displayChart(vegaEmbed) {\n",
              "      vegaEmbed(outputDiv, spec, embedOpt)\n",
              "        .catch(err => showError(`Javascript Error: ${err.message}<br>This usually means there's a typo in your chart specification. See the javascript console for the full traceback.`));\n",
              "    }\n",
              "\n",
              "    if(typeof define === \"function\" && define.amd) {\n",
              "      requirejs.config({paths});\n",
              "      let deps = [\"vega-embed\"];\n",
              "      require(deps, displayChart, err => showError(`Error loading script: ${err.message}`));\n",
              "    } else {\n",
              "      maybeLoadScript(\"vega\", \"5\")\n",
              "        .then(() => maybeLoadScript(\"vega-lite\", \"5.20.1\"))\n",
              "        .then(() => maybeLoadScript(\"vega-embed\", \"6\"))\n",
              "        .catch(showError)\n",
              "        .then(() => displayChart(vegaEmbed));\n",
              "    }\n",
              "  })({\"config\": {\"view\": {\"continuousWidth\": 300, \"continuousHeight\": 300}}, \"data\": {\"url\": \"https://cdn.jsdelivr.net/npm/vega-datasets@1/data/burtin.json\"}, \"mark\": {\"type\": \"circle\"}, \"encoding\": {\"x\": {\"field\": \"Neomycin\", \"scale\": {\"type\": \"log\"}, \"sort\": \"descending\", \"title\": \"CMI da Neomicina (\\u03bcg/ml, escala logar\\u00edtmica reversa)\", \"type\": \"quantitative\"}}, \"$schema\": \"https://vega.github.io/schema/vega-lite/v5.20.1.json\"}, {\"mode\": \"vega-lite\"});\n",
              "</script>"
            ],
            "text/plain": [
              "alt.Chart(...)"
            ]
          },
          "metadata": {},
          "execution_count": 8
        }
      ],
      "source": [
        "alt.Chart(antibioticos).mark_circle().encode(\n",
        "    alt.X('Neomycin:Q',\n",
        "          sort = 'descending',\n",
        "          title = 'CMI da Neomicina (μg/ml, escala logarítmica reversa)',\n",
        "          scale = alt.Scale(type='log'))\n",
        ")"
      ]
    },
    {
      "cell_type": "markdown",
      "metadata": {
        "id": "Wrli7mEBmqK2"
      },
      "source": [
        "Bem melhor."
      ]
    },
    {
      "cell_type": "markdown",
      "metadata": {
        "id": "1bC9hjVamqK3"
      },
      "source": [
        "Podemos também mudar de lugar o nosso eixo. Por padrão, o Altair coloca o eixo X e suas informações na parte inferior do gráfico, mas podemos alterar isso adicionando um atributo de eixo (`axis`) no nosso código, usando o método `alt.Axis` e definindo sua orientação (`orient`) como superior (`'top'`):"
      ]
    },
    {
      "cell_type": "code",
      "execution_count": null,
      "metadata": {
        "colab": {
          "base_uri": "https://localhost:8080/",
          "height": 83
        },
        "id": "spvPOjjmmqK3",
        "outputId": "6c3cde4d-fc5b-4727-f711-f4741a3b4d19"
      },
      "outputs": [
        {
          "output_type": "execute_result",
          "data": {
            "text/html": [
              "\n",
              "<style>\n",
              "  #altair-viz-f535a0247db34dc983bd093b5eba39d0.vega-embed {\n",
              "    width: 100%;\n",
              "    display: flex;\n",
              "  }\n",
              "\n",
              "  #altair-viz-f535a0247db34dc983bd093b5eba39d0.vega-embed details,\n",
              "  #altair-viz-f535a0247db34dc983bd093b5eba39d0.vega-embed details summary {\n",
              "    position: relative;\n",
              "  }\n",
              "</style>\n",
              "<div id=\"altair-viz-f535a0247db34dc983bd093b5eba39d0\"></div>\n",
              "<script type=\"text/javascript\">\n",
              "  var VEGA_DEBUG = (typeof VEGA_DEBUG == \"undefined\") ? {} : VEGA_DEBUG;\n",
              "  (function(spec, embedOpt){\n",
              "    let outputDiv = document.currentScript.previousElementSibling;\n",
              "    if (outputDiv.id !== \"altair-viz-f535a0247db34dc983bd093b5eba39d0\") {\n",
              "      outputDiv = document.getElementById(\"altair-viz-f535a0247db34dc983bd093b5eba39d0\");\n",
              "    }\n",
              "\n",
              "    const paths = {\n",
              "      \"vega\": \"https://cdn.jsdelivr.net/npm/vega@5?noext\",\n",
              "      \"vega-lib\": \"https://cdn.jsdelivr.net/npm/vega-lib?noext\",\n",
              "      \"vega-lite\": \"https://cdn.jsdelivr.net/npm/vega-lite@5.20.1?noext\",\n",
              "      \"vega-embed\": \"https://cdn.jsdelivr.net/npm/vega-embed@6?noext\",\n",
              "    };\n",
              "\n",
              "    function maybeLoadScript(lib, version) {\n",
              "      var key = `${lib.replace(\"-\", \"\")}_version`;\n",
              "      return (VEGA_DEBUG[key] == version) ?\n",
              "        Promise.resolve(paths[lib]) :\n",
              "        new Promise(function(resolve, reject) {\n",
              "          var s = document.createElement('script');\n",
              "          document.getElementsByTagName(\"head\")[0].appendChild(s);\n",
              "          s.async = true;\n",
              "          s.onload = () => {\n",
              "            VEGA_DEBUG[key] = version;\n",
              "            return resolve(paths[lib]);\n",
              "          };\n",
              "          s.onerror = () => reject(`Error loading script: ${paths[lib]}`);\n",
              "          s.src = paths[lib];\n",
              "        });\n",
              "    }\n",
              "\n",
              "    function showError(err) {\n",
              "      outputDiv.innerHTML = `<div class=\"error\" style=\"color:red;\">${err}</div>`;\n",
              "      throw err;\n",
              "    }\n",
              "\n",
              "    function displayChart(vegaEmbed) {\n",
              "      vegaEmbed(outputDiv, spec, embedOpt)\n",
              "        .catch(err => showError(`Javascript Error: ${err.message}<br>This usually means there's a typo in your chart specification. See the javascript console for the full traceback.`));\n",
              "    }\n",
              "\n",
              "    if(typeof define === \"function\" && define.amd) {\n",
              "      requirejs.config({paths});\n",
              "      let deps = [\"vega-embed\"];\n",
              "      require(deps, displayChart, err => showError(`Error loading script: ${err.message}`));\n",
              "    } else {\n",
              "      maybeLoadScript(\"vega\", \"5\")\n",
              "        .then(() => maybeLoadScript(\"vega-lite\", \"5.20.1\"))\n",
              "        .then(() => maybeLoadScript(\"vega-embed\", \"6\"))\n",
              "        .catch(showError)\n",
              "        .then(() => displayChart(vegaEmbed));\n",
              "    }\n",
              "  })({\"config\": {\"view\": {\"continuousWidth\": 300, \"continuousHeight\": 300}}, \"data\": {\"url\": \"https://cdn.jsdelivr.net/npm/vega-datasets@1/data/burtin.json\"}, \"mark\": {\"type\": \"circle\"}, \"encoding\": {\"x\": {\"axis\": {\"orient\": \"top\"}, \"field\": \"Neomycin\", \"scale\": {\"type\": \"log\"}, \"sort\": \"descending\", \"title\": \"CMI da Neomicina (\\u03bcg/ml, escala logar\\u00edtmica reversa)\", \"type\": \"quantitative\"}}, \"$schema\": \"https://vega.github.io/schema/vega-lite/v5.20.1.json\"}, {\"mode\": \"vega-lite\"});\n",
              "</script>"
            ],
            "text/plain": [
              "alt.Chart(...)"
            ]
          },
          "metadata": {},
          "execution_count": 9
        }
      ],
      "source": [
        "alt.Chart(antibioticos).mark_circle().encode(\n",
        "    alt.X('Neomycin:Q',\n",
        "          sort = 'descending',\n",
        "          axis = alt.Axis(orient = 'top'),\n",
        "          title = 'CMI da Neomicina (μg/ml, escala logarítmica reversa)',\n",
        "          scale = alt.Scale(type='log'))\n",
        ")"
      ]
    },
    {
      "cell_type": "markdown",
      "metadata": {
        "id": "tFQGeC8AmqK4"
      },
      "source": [
        "O mesmo se aplica ao eixo Y, que normalmente está posicionado à esquerda mas pode ser posicionado à direita com a orientação `'right'`."
      ]
    },
    {
      "cell_type": "markdown",
      "metadata": {
        "id": "NIecGjPimqK5"
      },
      "source": [
        "## 4.2.3 Comparação de antibióticos: Ajustar Grades, contagens de Tick e dimensionamento\n"
      ]
    },
    {
      "cell_type": "markdown",
      "metadata": {
        "id": "PIMxazabmqK5"
      },
      "source": [
        "_Como é que a neomicina se compara a outros antibióticos, como a estreptomicina e a penicilina?_"
      ]
    },
    {
      "cell_type": "markdown",
      "metadata": {
        "id": "RCr0H9lNmqK6"
      },
      "source": [
        "Para começar a responder a essas questões, podemos criar um gráfico de dispersão, adicionando um eixo vertical que codifica outro antibiótico e espelha nosso eixo x para a neomicina."
      ]
    },
    {
      "cell_type": "code",
      "execution_count": null,
      "metadata": {
        "colab": {
          "base_uri": "https://localhost:8080/",
          "height": 394
        },
        "id": "7i18Z2p1mqK6",
        "outputId": "5f40fbbe-3e6a-4434-d179-dbab24bf76ac"
      },
      "outputs": [
        {
          "output_type": "execute_result",
          "data": {
            "text/html": [
              "\n",
              "<style>\n",
              "  #altair-viz-809d41357b624bb894a59691315c7103.vega-embed {\n",
              "    width: 100%;\n",
              "    display: flex;\n",
              "  }\n",
              "\n",
              "  #altair-viz-809d41357b624bb894a59691315c7103.vega-embed details,\n",
              "  #altair-viz-809d41357b624bb894a59691315c7103.vega-embed details summary {\n",
              "    position: relative;\n",
              "  }\n",
              "</style>\n",
              "<div id=\"altair-viz-809d41357b624bb894a59691315c7103\"></div>\n",
              "<script type=\"text/javascript\">\n",
              "  var VEGA_DEBUG = (typeof VEGA_DEBUG == \"undefined\") ? {} : VEGA_DEBUG;\n",
              "  (function(spec, embedOpt){\n",
              "    let outputDiv = document.currentScript.previousElementSibling;\n",
              "    if (outputDiv.id !== \"altair-viz-809d41357b624bb894a59691315c7103\") {\n",
              "      outputDiv = document.getElementById(\"altair-viz-809d41357b624bb894a59691315c7103\");\n",
              "    }\n",
              "\n",
              "    const paths = {\n",
              "      \"vega\": \"https://cdn.jsdelivr.net/npm/vega@5?noext\",\n",
              "      \"vega-lib\": \"https://cdn.jsdelivr.net/npm/vega-lib?noext\",\n",
              "      \"vega-lite\": \"https://cdn.jsdelivr.net/npm/vega-lite@5.20.1?noext\",\n",
              "      \"vega-embed\": \"https://cdn.jsdelivr.net/npm/vega-embed@6?noext\",\n",
              "    };\n",
              "\n",
              "    function maybeLoadScript(lib, version) {\n",
              "      var key = `${lib.replace(\"-\", \"\")}_version`;\n",
              "      return (VEGA_DEBUG[key] == version) ?\n",
              "        Promise.resolve(paths[lib]) :\n",
              "        new Promise(function(resolve, reject) {\n",
              "          var s = document.createElement('script');\n",
              "          document.getElementsByTagName(\"head\")[0].appendChild(s);\n",
              "          s.async = true;\n",
              "          s.onload = () => {\n",
              "            VEGA_DEBUG[key] = version;\n",
              "            return resolve(paths[lib]);\n",
              "          };\n",
              "          s.onerror = () => reject(`Error loading script: ${paths[lib]}`);\n",
              "          s.src = paths[lib];\n",
              "        });\n",
              "    }\n",
              "\n",
              "    function showError(err) {\n",
              "      outputDiv.innerHTML = `<div class=\"error\" style=\"color:red;\">${err}</div>`;\n",
              "      throw err;\n",
              "    }\n",
              "\n",
              "    function displayChart(vegaEmbed) {\n",
              "      vegaEmbed(outputDiv, spec, embedOpt)\n",
              "        .catch(err => showError(`Javascript Error: ${err.message}<br>This usually means there's a typo in your chart specification. See the javascript console for the full traceback.`));\n",
              "    }\n",
              "\n",
              "    if(typeof define === \"function\" && define.amd) {\n",
              "      requirejs.config({paths});\n",
              "      let deps = [\"vega-embed\"];\n",
              "      require(deps, displayChart, err => showError(`Error loading script: ${err.message}`));\n",
              "    } else {\n",
              "      maybeLoadScript(\"vega\", \"5\")\n",
              "        .then(() => maybeLoadScript(\"vega-lite\", \"5.20.1\"))\n",
              "        .then(() => maybeLoadScript(\"vega-embed\", \"6\"))\n",
              "        .catch(showError)\n",
              "        .then(() => displayChart(vegaEmbed));\n",
              "    }\n",
              "  })({\"config\": {\"view\": {\"continuousWidth\": 300, \"continuousHeight\": 300}}, \"data\": {\"url\": \"https://cdn.jsdelivr.net/npm/vega-datasets@1/data/burtin.json\"}, \"mark\": {\"type\": \"circle\"}, \"encoding\": {\"x\": {\"field\": \"Neomycin\", \"scale\": {\"type\": \"log\"}, \"sort\": \"descending\", \"title\": \"CMI da Neomicina (\\u03bcg/ml, escala logar\\u00edtmica reversa)\", \"type\": \"quantitative\"}, \"y\": {\"field\": \"Streptomycin\", \"scale\": {\"type\": \"log\"}, \"sort\": \"descending\", \"title\": \"CMI da Estreptomicina (\\u03bcg/ml, escala logar\\u00edtmica reversa)\", \"type\": \"quantitative\"}}, \"$schema\": \"https://vega.github.io/schema/vega-lite/v5.20.1.json\"}, {\"mode\": \"vega-lite\"});\n",
              "</script>"
            ],
            "text/plain": [
              "alt.Chart(...)"
            ]
          },
          "metadata": {},
          "execution_count": 14
        }
      ],
      "source": [
        "alt.Chart(antibioticos).mark_circle().encode(\n",
        "    alt.X('Neomycin:Q',\n",
        "          sort='descending',\n",
        "          scale=alt.Scale(type='log'),\n",
        "          title='CMI da Neomicina (μg/ml, escala logarítmica reversa)'),\n",
        "    alt.Y('Streptomycin:Q',\n",
        "          sort='descending',\n",
        "          scale=alt.Scale(type='log'),\n",
        "          title='CMI da Estreptomicina (μg/ml, escala logarítmica reversa)')\n",
        ")"
      ]
    },
    {
      "cell_type": "markdown",
      "metadata": {
        "id": "lP5S9b5EmqK7"
      },
      "source": [
        "*Podemos ver que ambas a Neomicina e a Estreptomicina aparentam ser bem correlacionadas, já que as cepas bacteriais estudadas respondem de maneira similar a ambos antibióticos.*\n"
      ]
    },
    {
      "cell_type": "markdown",
      "metadata": {
        "id": "eS5UgIcXmqK7"
      },
      "source": [
        "Prosseguindo, vamos comparar a Neomicina e a Penicilina."
      ]
    },
    {
      "cell_type": "code",
      "execution_count": null,
      "metadata": {
        "colab": {
          "base_uri": "https://localhost:8080/",
          "height": 377
        },
        "id": "HEWxBE-imqK7",
        "outputId": "7709e5c3-daf0-4c6d-91e9-2b3b6487be2f"
      },
      "outputs": [
        {
          "output_type": "execute_result",
          "data": {
            "text/html": [
              "\n",
              "<style>\n",
              "  #altair-viz-e5ce2fe8ad294185848b4c0b489ce21a.vega-embed {\n",
              "    width: 100%;\n",
              "    display: flex;\n",
              "  }\n",
              "\n",
              "  #altair-viz-e5ce2fe8ad294185848b4c0b489ce21a.vega-embed details,\n",
              "  #altair-viz-e5ce2fe8ad294185848b4c0b489ce21a.vega-embed details summary {\n",
              "    position: relative;\n",
              "  }\n",
              "</style>\n",
              "<div id=\"altair-viz-e5ce2fe8ad294185848b4c0b489ce21a\"></div>\n",
              "<script type=\"text/javascript\">\n",
              "  var VEGA_DEBUG = (typeof VEGA_DEBUG == \"undefined\") ? {} : VEGA_DEBUG;\n",
              "  (function(spec, embedOpt){\n",
              "    let outputDiv = document.currentScript.previousElementSibling;\n",
              "    if (outputDiv.id !== \"altair-viz-e5ce2fe8ad294185848b4c0b489ce21a\") {\n",
              "      outputDiv = document.getElementById(\"altair-viz-e5ce2fe8ad294185848b4c0b489ce21a\");\n",
              "    }\n",
              "\n",
              "    const paths = {\n",
              "      \"vega\": \"https://cdn.jsdelivr.net/npm/vega@5?noext\",\n",
              "      \"vega-lib\": \"https://cdn.jsdelivr.net/npm/vega-lib?noext\",\n",
              "      \"vega-lite\": \"https://cdn.jsdelivr.net/npm/vega-lite@5.20.1?noext\",\n",
              "      \"vega-embed\": \"https://cdn.jsdelivr.net/npm/vega-embed@6?noext\",\n",
              "    };\n",
              "\n",
              "    function maybeLoadScript(lib, version) {\n",
              "      var key = `${lib.replace(\"-\", \"\")}_version`;\n",
              "      return (VEGA_DEBUG[key] == version) ?\n",
              "        Promise.resolve(paths[lib]) :\n",
              "        new Promise(function(resolve, reject) {\n",
              "          var s = document.createElement('script');\n",
              "          document.getElementsByTagName(\"head\")[0].appendChild(s);\n",
              "          s.async = true;\n",
              "          s.onload = () => {\n",
              "            VEGA_DEBUG[key] = version;\n",
              "            return resolve(paths[lib]);\n",
              "          };\n",
              "          s.onerror = () => reject(`Error loading script: ${paths[lib]}`);\n",
              "          s.src = paths[lib];\n",
              "        });\n",
              "    }\n",
              "\n",
              "    function showError(err) {\n",
              "      outputDiv.innerHTML = `<div class=\"error\" style=\"color:red;\">${err}</div>`;\n",
              "      throw err;\n",
              "    }\n",
              "\n",
              "    function displayChart(vegaEmbed) {\n",
              "      vegaEmbed(outputDiv, spec, embedOpt)\n",
              "        .catch(err => showError(`Javascript Error: ${err.message}<br>This usually means there's a typo in your chart specification. See the javascript console for the full traceback.`));\n",
              "    }\n",
              "\n",
              "    if(typeof define === \"function\" && define.amd) {\n",
              "      requirejs.config({paths});\n",
              "      let deps = [\"vega-embed\"];\n",
              "      require(deps, displayChart, err => showError(`Error loading script: ${err.message}`));\n",
              "    } else {\n",
              "      maybeLoadScript(\"vega\", \"5\")\n",
              "        .then(() => maybeLoadScript(\"vega-lite\", \"5.20.1\"))\n",
              "        .then(() => maybeLoadScript(\"vega-embed\", \"6\"))\n",
              "        .catch(showError)\n",
              "        .then(() => displayChart(vegaEmbed));\n",
              "    }\n",
              "  })({\"config\": {\"view\": {\"continuousWidth\": 300, \"continuousHeight\": 300}}, \"data\": {\"url\": \"https://cdn.jsdelivr.net/npm/vega-datasets@1/data/burtin.json\"}, \"mark\": {\"type\": \"circle\"}, \"encoding\": {\"x\": {\"field\": \"Neomycin\", \"scale\": {\"type\": \"log\"}, \"sort\": \"descending\", \"title\": \"CMI da Neomicina (\\u03bcg/ml, escala logar\\u00edtmica reversa)\", \"type\": \"quantitative\"}, \"y\": {\"field\": \"Penicillin\", \"scale\": {\"type\": \"log\"}, \"sort\": \"descending\", \"title\": \"CMI da Penicilina (\\u03bcg/ml, escala logar\\u00edtmica reversa)\", \"type\": \"quantitative\"}}, \"$schema\": \"https://vega.github.io/schema/vega-lite/v5.20.1.json\"}, {\"mode\": \"vega-lite\"});\n",
              "</script>"
            ],
            "text/plain": [
              "alt.Chart(...)"
            ]
          },
          "metadata": {},
          "execution_count": 13
        }
      ],
      "source": [
        "alt.Chart(antibioticos).mark_circle().encode(\n",
        "    alt.X('Neomycin:Q',\n",
        "          sort='descending',\n",
        "          scale=alt.Scale(type='log'),\n",
        "          title='CMI da Neomicina (μg/ml, escala logarítmica reversa)'),\n",
        "    alt.Y('Penicillin:Q',\n",
        "          sort='descending',\n",
        "          scale=alt.Scale(type='log'),\n",
        "          title='CMI da Penicilina (μg/ml, escala logarítmica reversa)')\n",
        ")"
      ]
    },
    {
      "cell_type": "markdown",
      "metadata": {
        "id": "M8_vdsKBmqK8"
      },
      "source": [
        "*Vemos agora uma resposta diferente: algumas bactérias respondem bem a um antibiótico enquanto outras não.*"
      ]
    },
    {
      "cell_type": "markdown",
      "metadata": {
        "id": "_fzK2SyumqK8"
      },
      "source": [
        "Apesar do gráfico ser útil, podemos melhorar. Os eixos x e y usam a mesma unidade, mas tem dimensões diferentes (a largura do gráfico é maior que a altura) e domínios diferentes (0.001 até 100 no eixo x, e 0.001 até 1000 para o eixo y)."
      ]
    },
    {
      "cell_type": "markdown",
      "metadata": {
        "id": "kc8dejunmqK9"
      },
      "source": [
        "Vamos então igualar os eixos: podemos explicitar diretamente valores para altura (`height`) e largura (`width`) em pixels nas propriedades (`properties`) do gráfico e especificar o domínio (`domain`) na escala.\n"
      ]
    },
    {
      "cell_type": "code",
      "execution_count": null,
      "metadata": {
        "colab": {
          "base_uri": "https://localhost:8080/",
          "height": 359
        },
        "id": "JITSMovpmqK9",
        "outputId": "94f89807-2e0e-4e7e-d0ae-90588eb86d06"
      },
      "outputs": [
        {
          "output_type": "execute_result",
          "data": {
            "text/html": [
              "\n",
              "<style>\n",
              "  #altair-viz-f688eb9056464a279762c0c9b35f76b6.vega-embed {\n",
              "    width: 100%;\n",
              "    display: flex;\n",
              "  }\n",
              "\n",
              "  #altair-viz-f688eb9056464a279762c0c9b35f76b6.vega-embed details,\n",
              "  #altair-viz-f688eb9056464a279762c0c9b35f76b6.vega-embed details summary {\n",
              "    position: relative;\n",
              "  }\n",
              "</style>\n",
              "<div id=\"altair-viz-f688eb9056464a279762c0c9b35f76b6\"></div>\n",
              "<script type=\"text/javascript\">\n",
              "  var VEGA_DEBUG = (typeof VEGA_DEBUG == \"undefined\") ? {} : VEGA_DEBUG;\n",
              "  (function(spec, embedOpt){\n",
              "    let outputDiv = document.currentScript.previousElementSibling;\n",
              "    if (outputDiv.id !== \"altair-viz-f688eb9056464a279762c0c9b35f76b6\") {\n",
              "      outputDiv = document.getElementById(\"altair-viz-f688eb9056464a279762c0c9b35f76b6\");\n",
              "    }\n",
              "\n",
              "    const paths = {\n",
              "      \"vega\": \"https://cdn.jsdelivr.net/npm/vega@5?noext\",\n",
              "      \"vega-lib\": \"https://cdn.jsdelivr.net/npm/vega-lib?noext\",\n",
              "      \"vega-lite\": \"https://cdn.jsdelivr.net/npm/vega-lite@5.20.1?noext\",\n",
              "      \"vega-embed\": \"https://cdn.jsdelivr.net/npm/vega-embed@6?noext\",\n",
              "    };\n",
              "\n",
              "    function maybeLoadScript(lib, version) {\n",
              "      var key = `${lib.replace(\"-\", \"\")}_version`;\n",
              "      return (VEGA_DEBUG[key] == version) ?\n",
              "        Promise.resolve(paths[lib]) :\n",
              "        new Promise(function(resolve, reject) {\n",
              "          var s = document.createElement('script');\n",
              "          document.getElementsByTagName(\"head\")[0].appendChild(s);\n",
              "          s.async = true;\n",
              "          s.onload = () => {\n",
              "            VEGA_DEBUG[key] = version;\n",
              "            return resolve(paths[lib]);\n",
              "          };\n",
              "          s.onerror = () => reject(`Error loading script: ${paths[lib]}`);\n",
              "          s.src = paths[lib];\n",
              "        });\n",
              "    }\n",
              "\n",
              "    function showError(err) {\n",
              "      outputDiv.innerHTML = `<div class=\"error\" style=\"color:red;\">${err}</div>`;\n",
              "      throw err;\n",
              "    }\n",
              "\n",
              "    function displayChart(vegaEmbed) {\n",
              "      vegaEmbed(outputDiv, spec, embedOpt)\n",
              "        .catch(err => showError(`Javascript Error: ${err.message}<br>This usually means there's a typo in your chart specification. See the javascript console for the full traceback.`));\n",
              "    }\n",
              "\n",
              "    if(typeof define === \"function\" && define.amd) {\n",
              "      requirejs.config({paths});\n",
              "      let deps = [\"vega-embed\"];\n",
              "      require(deps, displayChart, err => showError(`Error loading script: ${err.message}`));\n",
              "    } else {\n",
              "      maybeLoadScript(\"vega\", \"5\")\n",
              "        .then(() => maybeLoadScript(\"vega-lite\", \"5.20.1\"))\n",
              "        .then(() => maybeLoadScript(\"vega-embed\", \"6\"))\n",
              "        .catch(showError)\n",
              "        .then(() => displayChart(vegaEmbed));\n",
              "    }\n",
              "  })({\"config\": {\"view\": {\"continuousWidth\": 300, \"continuousHeight\": 300}}, \"data\": {\"url\": \"https://cdn.jsdelivr.net/npm/vega-datasets@1/data/burtin.json\"}, \"mark\": {\"type\": \"circle\"}, \"encoding\": {\"x\": {\"field\": \"Neomycin\", \"scale\": {\"domain\": [0.001, 1000], \"type\": \"log\"}, \"sort\": \"descending\", \"title\": \"CMI da Neomicina (\\u03bcg/ml, escala logar\\u00edtmica reversa)\", \"type\": \"quantitative\"}, \"y\": {\"field\": \"Penicillin\", \"scale\": {\"domain\": [0.001, 1000], \"type\": \"log\"}, \"sort\": \"descending\", \"title\": \"CMI da Penicilina (\\u03bcg/ml, escala logar\\u00edtmica reversa)\", \"type\": \"quantitative\"}}, \"height\": 250, \"width\": 250, \"$schema\": \"https://vega.github.io/schema/vega-lite/v5.20.1.json\"}, {\"mode\": \"vega-lite\"});\n",
              "</script>"
            ],
            "text/plain": [
              "alt.Chart(...)"
            ]
          },
          "metadata": {},
          "execution_count": 15
        }
      ],
      "source": [
        "alt.Chart(antibioticos).mark_circle().encode(\n",
        "    alt.X('Neomycin:Q',\n",
        "          sort='descending',\n",
        "          scale=alt.Scale(type='log', domain=[0.001, 1000]),\n",
        "          title='CMI da Neomicina (μg/ml, escala logarítmica reversa)'),\n",
        "    alt.Y('Penicillin:Q',\n",
        "          sort='descending',\n",
        "          scale=alt.Scale(type='log', domain=[0.001, 1000]),\n",
        "          title='CMI da Penicilina (μg/ml, escala logarítmica reversa)')\n",
        ").properties(width=250, height=250)"
      ]
    },
    {
      "cell_type": "markdown",
      "metadata": {
        "id": "HCYXcos1mqK9"
      },
      "source": [
        "_O gráfico resultante é mais equilibrado e menos propenso a erros de interpretação._"
      ]
    },
    {
      "cell_type": "markdown",
      "metadata": {
        "id": "HN4XEN7mmqK-"
      },
      "source": [
        "No entanto, as linhas de grade estão densas demais agora. Se quisermos remover completamente as linhas da grade (`grid`) do gráfico, podemos adicionar `grid=False` ao atributo do eixo. Mas e se, em vez disso, quisermos reduzir o número de marcas de seleção, por exemplo, incluindo apenas linhas para cada ordem de grandeza?\n",
        "\n",
        "Para alterar o número de marcas, podemos especificar o número de marcações (`tickCount`) ao chamar o método `alt.Axis` no nosso código. A propriedade `tickCount` é tratada como uma sugestão para o Altair, a ser considerada juntamente com outros aspectos, tais como a utilização de intervalos agradáveis e de fácil utilização. Podemos não obter exatamente o número de marcas de escala que solicitamos, mas devemos obter algo próximo."
      ]
    },
    {
      "cell_type": "code",
      "source": [
        "alt.Chart(antibioticos).mark_circle().encode(\n",
        "    alt.X('Neomycin:Q',\n",
        "          sort='descending',\n",
        "          scale=alt.Scale(type='log', domain=[0.001, 1000]),\n",
        "          axis = alt.Axis(tickCount = 5),\n",
        "          title='CMI da Neomicina (μg/ml, escala logarítmica reversa)'),\n",
        "    alt.Y('Penicillin:Q',\n",
        "          sort='descending',\n",
        "          scale=alt.Scale(type='log', domain=[0.001, 1000]),\n",
        "          axis = alt.Axis(tickCount = 5),\n",
        "          title='CMI da Penicilina (μg/ml, escala logarítmica reversa)')\n",
        ").properties(width=250, height=250)"
      ],
      "metadata": {
        "colab": {
          "base_uri": "https://localhost:8080/",
          "height": 359
        },
        "id": "1rfcnkLU2kv2",
        "outputId": "2b0db601-d6b2-4bc0-ef37-aa548d7e2ea1"
      },
      "execution_count": null,
      "outputs": [
        {
          "output_type": "execute_result",
          "data": {
            "text/html": [
              "\n",
              "<style>\n",
              "  #altair-viz-90a398418b534586a896f22a08e39e75.vega-embed {\n",
              "    width: 100%;\n",
              "    display: flex;\n",
              "  }\n",
              "\n",
              "  #altair-viz-90a398418b534586a896f22a08e39e75.vega-embed details,\n",
              "  #altair-viz-90a398418b534586a896f22a08e39e75.vega-embed details summary {\n",
              "    position: relative;\n",
              "  }\n",
              "</style>\n",
              "<div id=\"altair-viz-90a398418b534586a896f22a08e39e75\"></div>\n",
              "<script type=\"text/javascript\">\n",
              "  var VEGA_DEBUG = (typeof VEGA_DEBUG == \"undefined\") ? {} : VEGA_DEBUG;\n",
              "  (function(spec, embedOpt){\n",
              "    let outputDiv = document.currentScript.previousElementSibling;\n",
              "    if (outputDiv.id !== \"altair-viz-90a398418b534586a896f22a08e39e75\") {\n",
              "      outputDiv = document.getElementById(\"altair-viz-90a398418b534586a896f22a08e39e75\");\n",
              "    }\n",
              "\n",
              "    const paths = {\n",
              "      \"vega\": \"https://cdn.jsdelivr.net/npm/vega@5?noext\",\n",
              "      \"vega-lib\": \"https://cdn.jsdelivr.net/npm/vega-lib?noext\",\n",
              "      \"vega-lite\": \"https://cdn.jsdelivr.net/npm/vega-lite@5.20.1?noext\",\n",
              "      \"vega-embed\": \"https://cdn.jsdelivr.net/npm/vega-embed@6?noext\",\n",
              "    };\n",
              "\n",
              "    function maybeLoadScript(lib, version) {\n",
              "      var key = `${lib.replace(\"-\", \"\")}_version`;\n",
              "      return (VEGA_DEBUG[key] == version) ?\n",
              "        Promise.resolve(paths[lib]) :\n",
              "        new Promise(function(resolve, reject) {\n",
              "          var s = document.createElement('script');\n",
              "          document.getElementsByTagName(\"head\")[0].appendChild(s);\n",
              "          s.async = true;\n",
              "          s.onload = () => {\n",
              "            VEGA_DEBUG[key] = version;\n",
              "            return resolve(paths[lib]);\n",
              "          };\n",
              "          s.onerror = () => reject(`Error loading script: ${paths[lib]}`);\n",
              "          s.src = paths[lib];\n",
              "        });\n",
              "    }\n",
              "\n",
              "    function showError(err) {\n",
              "      outputDiv.innerHTML = `<div class=\"error\" style=\"color:red;\">${err}</div>`;\n",
              "      throw err;\n",
              "    }\n",
              "\n",
              "    function displayChart(vegaEmbed) {\n",
              "      vegaEmbed(outputDiv, spec, embedOpt)\n",
              "        .catch(err => showError(`Javascript Error: ${err.message}<br>This usually means there's a typo in your chart specification. See the javascript console for the full traceback.`));\n",
              "    }\n",
              "\n",
              "    if(typeof define === \"function\" && define.amd) {\n",
              "      requirejs.config({paths});\n",
              "      let deps = [\"vega-embed\"];\n",
              "      require(deps, displayChart, err => showError(`Error loading script: ${err.message}`));\n",
              "    } else {\n",
              "      maybeLoadScript(\"vega\", \"5\")\n",
              "        .then(() => maybeLoadScript(\"vega-lite\", \"5.20.1\"))\n",
              "        .then(() => maybeLoadScript(\"vega-embed\", \"6\"))\n",
              "        .catch(showError)\n",
              "        .then(() => displayChart(vegaEmbed));\n",
              "    }\n",
              "  })({\"config\": {\"view\": {\"continuousWidth\": 300, \"continuousHeight\": 300}}, \"data\": {\"url\": \"https://cdn.jsdelivr.net/npm/vega-datasets@1/data/burtin.json\"}, \"mark\": {\"type\": \"circle\"}, \"encoding\": {\"x\": {\"axis\": {\"tickCount\": 5}, \"field\": \"Neomycin\", \"scale\": {\"domain\": [0.001, 1000], \"type\": \"log\"}, \"sort\": \"descending\", \"title\": \"CMI da Neomicina (\\u03bcg/ml, escala logar\\u00edtmica reversa)\", \"type\": \"quantitative\"}, \"y\": {\"axis\": {\"tickCount\": 5}, \"field\": \"Penicillin\", \"scale\": {\"domain\": [0.001, 1000], \"type\": \"log\"}, \"sort\": \"descending\", \"title\": \"CMI da Penicilina (\\u03bcg/ml, escala logar\\u00edtmica reversa)\", \"type\": \"quantitative\"}}, \"height\": 250, \"width\": 250, \"$schema\": \"https://vega.github.io/schema/vega-lite/v5.20.1.json\"}, {\"mode\": \"vega-lite\"});\n",
              "</script>"
            ],
            "text/plain": [
              "alt.Chart(...)"
            ]
          },
          "metadata": {},
          "execution_count": 17
        }
      ]
    },
    {
      "cell_type": "markdown",
      "metadata": {
        "id": "1k7LENyNmqK-"
      },
      "source": [
        "Ao definir o `tickCount` para 5, obtemos o efeito desejado."
      ]
    },
    {
      "cell_type": "markdown",
      "metadata": {
        "id": "nlMr03a4mqK_"
      },
      "source": [
        "Os pontos do nosso gráfico de dispersão parecem um pouco pequenos. Vamos alterar o tamanho predefinido, definindo o tamanho (`size`) da marca circular ao criar nosso gráfico. Este valor de tamanho é a área da marca em pixels."
      ]
    },
    {
      "cell_type": "code",
      "execution_count": null,
      "metadata": {
        "colab": {
          "base_uri": "https://localhost:8080/",
          "height": 359
        },
        "id": "uC7PjEpGmqLA",
        "outputId": "24181c76-508d-415d-cc12-dc69d706d796"
      },
      "outputs": [
        {
          "output_type": "execute_result",
          "data": {
            "text/html": [
              "\n",
              "<style>\n",
              "  #altair-viz-ab99ba16fbe940cf9836ff54c8f5b8d6.vega-embed {\n",
              "    width: 100%;\n",
              "    display: flex;\n",
              "  }\n",
              "\n",
              "  #altair-viz-ab99ba16fbe940cf9836ff54c8f5b8d6.vega-embed details,\n",
              "  #altair-viz-ab99ba16fbe940cf9836ff54c8f5b8d6.vega-embed details summary {\n",
              "    position: relative;\n",
              "  }\n",
              "</style>\n",
              "<div id=\"altair-viz-ab99ba16fbe940cf9836ff54c8f5b8d6\"></div>\n",
              "<script type=\"text/javascript\">\n",
              "  var VEGA_DEBUG = (typeof VEGA_DEBUG == \"undefined\") ? {} : VEGA_DEBUG;\n",
              "  (function(spec, embedOpt){\n",
              "    let outputDiv = document.currentScript.previousElementSibling;\n",
              "    if (outputDiv.id !== \"altair-viz-ab99ba16fbe940cf9836ff54c8f5b8d6\") {\n",
              "      outputDiv = document.getElementById(\"altair-viz-ab99ba16fbe940cf9836ff54c8f5b8d6\");\n",
              "    }\n",
              "\n",
              "    const paths = {\n",
              "      \"vega\": \"https://cdn.jsdelivr.net/npm/vega@5?noext\",\n",
              "      \"vega-lib\": \"https://cdn.jsdelivr.net/npm/vega-lib?noext\",\n",
              "      \"vega-lite\": \"https://cdn.jsdelivr.net/npm/vega-lite@5.20.1?noext\",\n",
              "      \"vega-embed\": \"https://cdn.jsdelivr.net/npm/vega-embed@6?noext\",\n",
              "    };\n",
              "\n",
              "    function maybeLoadScript(lib, version) {\n",
              "      var key = `${lib.replace(\"-\", \"\")}_version`;\n",
              "      return (VEGA_DEBUG[key] == version) ?\n",
              "        Promise.resolve(paths[lib]) :\n",
              "        new Promise(function(resolve, reject) {\n",
              "          var s = document.createElement('script');\n",
              "          document.getElementsByTagName(\"head\")[0].appendChild(s);\n",
              "          s.async = true;\n",
              "          s.onload = () => {\n",
              "            VEGA_DEBUG[key] = version;\n",
              "            return resolve(paths[lib]);\n",
              "          };\n",
              "          s.onerror = () => reject(`Error loading script: ${paths[lib]}`);\n",
              "          s.src = paths[lib];\n",
              "        });\n",
              "    }\n",
              "\n",
              "    function showError(err) {\n",
              "      outputDiv.innerHTML = `<div class=\"error\" style=\"color:red;\">${err}</div>`;\n",
              "      throw err;\n",
              "    }\n",
              "\n",
              "    function displayChart(vegaEmbed) {\n",
              "      vegaEmbed(outputDiv, spec, embedOpt)\n",
              "        .catch(err => showError(`Javascript Error: ${err.message}<br>This usually means there's a typo in your chart specification. See the javascript console for the full traceback.`));\n",
              "    }\n",
              "\n",
              "    if(typeof define === \"function\" && define.amd) {\n",
              "      requirejs.config({paths});\n",
              "      let deps = [\"vega-embed\"];\n",
              "      require(deps, displayChart, err => showError(`Error loading script: ${err.message}`));\n",
              "    } else {\n",
              "      maybeLoadScript(\"vega\", \"5\")\n",
              "        .then(() => maybeLoadScript(\"vega-lite\", \"5.20.1\"))\n",
              "        .then(() => maybeLoadScript(\"vega-embed\", \"6\"))\n",
              "        .catch(showError)\n",
              "        .then(() => displayChart(vegaEmbed));\n",
              "    }\n",
              "  })({\"config\": {\"view\": {\"continuousWidth\": 300, \"continuousHeight\": 300}}, \"data\": {\"url\": \"https://cdn.jsdelivr.net/npm/vega-datasets@1/data/burtin.json\"}, \"mark\": {\"type\": \"circle\", \"size\": 80}, \"encoding\": {\"x\": {\"axis\": {\"tickCount\": 5}, \"field\": \"Neomycin\", \"scale\": {\"domain\": [0.001, 1000], \"type\": \"log\"}, \"sort\": \"descending\", \"title\": \"CMI da Neomicina (\\u03bcg/ml, escala logar\\u00edtmica reversa )\", \"type\": \"quantitative\"}, \"y\": {\"axis\": {\"tickCount\": 5}, \"field\": \"Penicillin\", \"scale\": {\"domain\": [0.001, 1000], \"type\": \"log\"}, \"sort\": \"descending\", \"title\": \"CMI da Penicilina (\\u03bcg/ml, escala logar\\u00edtmica reversa)\", \"type\": \"quantitative\"}}, \"height\": 250, \"width\": 250, \"$schema\": \"https://vega.github.io/schema/vega-lite/v5.20.1.json\"}, {\"mode\": \"vega-lite\"});\n",
              "</script>"
            ],
            "text/plain": [
              "alt.Chart(...)"
            ]
          },
          "metadata": {},
          "execution_count": 18
        }
      ],
      "source": [
        "alt.Chart(antibioticos).mark_circle(size=80).encode(\n",
        "    alt.X('Neomycin:Q',\n",
        "          sort='descending',\n",
        "          scale=alt.Scale(type='log', domain=[0.001, 1000]),\n",
        "          axis=alt.Axis(tickCount=5),\n",
        "          title='CMI da Neomicina (μg/ml, escala logarítmica reversa )'),\n",
        "    alt.Y('Penicillin:Q',\n",
        "          sort='descending',\n",
        "          scale=alt.Scale(type='log', domain=[0.001, 1000]),\n",
        "          axis=alt.Axis(tickCount=5),\n",
        "          title='CMI da Penicilina (μg/ml, escala logarítmica reversa)')\n",
        ").properties(width=250, height=250)"
      ]
    },
    {
      "cell_type": "markdown",
      "metadata": {
        "id": "Tig619Q6mqLB"
      },
      "source": [
        "_Aqui, definimos a área da marca circular para 80 píxeis. Ajuste o valor como achar melhor._"
      ]
    },
    {
      "cell_type": "markdown",
      "metadata": {
        "id": "pAqRA3ocmqLB"
      },
      "source": [
        "# 4.3 Configurando as Legendas de Cor\n",
        "\n",
        "## 4.3.1 Cor por Teste de Gram\n",
        "\n",
        "Vimos acima que a Neomicina é mais eficaz para algumas bactérias enquanto a Penicilina é mais eficaz para outras. Mas, como podemos determinar qual antibiótico usar se não sabemos exatamente a espécie de bactéria com a qual estamos lidando? O teste de Gram serve como um método de separar classes de bactérias!\n",
        "\n",
        "Vamos codificar o campo dos testes de Gram, `Gram_Staining`, no canal de cor (`color`) como um tipo de dado nominal:\n"
      ]
    },
    {
      "cell_type": "code",
      "execution_count": null,
      "metadata": {
        "colab": {
          "base_uri": "https://localhost:8080/",
          "height": 359
        },
        "id": "56905c_7mqLC",
        "outputId": "d86c8eb3-c935-4bb1-b3b8-151780325ab6"
      },
      "outputs": [
        {
          "output_type": "execute_result",
          "data": {
            "text/html": [
              "\n",
              "<style>\n",
              "  #altair-viz-f873098cc600415885b2c328f83d0402.vega-embed {\n",
              "    width: 100%;\n",
              "    display: flex;\n",
              "  }\n",
              "\n",
              "  #altair-viz-f873098cc600415885b2c328f83d0402.vega-embed details,\n",
              "  #altair-viz-f873098cc600415885b2c328f83d0402.vega-embed details summary {\n",
              "    position: relative;\n",
              "  }\n",
              "</style>\n",
              "<div id=\"altair-viz-f873098cc600415885b2c328f83d0402\"></div>\n",
              "<script type=\"text/javascript\">\n",
              "  var VEGA_DEBUG = (typeof VEGA_DEBUG == \"undefined\") ? {} : VEGA_DEBUG;\n",
              "  (function(spec, embedOpt){\n",
              "    let outputDiv = document.currentScript.previousElementSibling;\n",
              "    if (outputDiv.id !== \"altair-viz-f873098cc600415885b2c328f83d0402\") {\n",
              "      outputDiv = document.getElementById(\"altair-viz-f873098cc600415885b2c328f83d0402\");\n",
              "    }\n",
              "\n",
              "    const paths = {\n",
              "      \"vega\": \"https://cdn.jsdelivr.net/npm/vega@5?noext\",\n",
              "      \"vega-lib\": \"https://cdn.jsdelivr.net/npm/vega-lib?noext\",\n",
              "      \"vega-lite\": \"https://cdn.jsdelivr.net/npm/vega-lite@5.20.1?noext\",\n",
              "      \"vega-embed\": \"https://cdn.jsdelivr.net/npm/vega-embed@6?noext\",\n",
              "    };\n",
              "\n",
              "    function maybeLoadScript(lib, version) {\n",
              "      var key = `${lib.replace(\"-\", \"\")}_version`;\n",
              "      return (VEGA_DEBUG[key] == version) ?\n",
              "        Promise.resolve(paths[lib]) :\n",
              "        new Promise(function(resolve, reject) {\n",
              "          var s = document.createElement('script');\n",
              "          document.getElementsByTagName(\"head\")[0].appendChild(s);\n",
              "          s.async = true;\n",
              "          s.onload = () => {\n",
              "            VEGA_DEBUG[key] = version;\n",
              "            return resolve(paths[lib]);\n",
              "          };\n",
              "          s.onerror = () => reject(`Error loading script: ${paths[lib]}`);\n",
              "          s.src = paths[lib];\n",
              "        });\n",
              "    }\n",
              "\n",
              "    function showError(err) {\n",
              "      outputDiv.innerHTML = `<div class=\"error\" style=\"color:red;\">${err}</div>`;\n",
              "      throw err;\n",
              "    }\n",
              "\n",
              "    function displayChart(vegaEmbed) {\n",
              "      vegaEmbed(outputDiv, spec, embedOpt)\n",
              "        .catch(err => showError(`Javascript Error: ${err.message}<br>This usually means there's a typo in your chart specification. See the javascript console for the full traceback.`));\n",
              "    }\n",
              "\n",
              "    if(typeof define === \"function\" && define.amd) {\n",
              "      requirejs.config({paths});\n",
              "      let deps = [\"vega-embed\"];\n",
              "      require(deps, displayChart, err => showError(`Error loading script: ${err.message}`));\n",
              "    } else {\n",
              "      maybeLoadScript(\"vega\", \"5\")\n",
              "        .then(() => maybeLoadScript(\"vega-lite\", \"5.20.1\"))\n",
              "        .then(() => maybeLoadScript(\"vega-embed\", \"6\"))\n",
              "        .catch(showError)\n",
              "        .then(() => displayChart(vegaEmbed));\n",
              "    }\n",
              "  })({\"config\": {\"view\": {\"continuousWidth\": 300, \"continuousHeight\": 300}}, \"data\": {\"url\": \"https://cdn.jsdelivr.net/npm/vega-datasets@1/data/burtin.json\"}, \"mark\": {\"type\": \"circle\", \"size\": 80}, \"encoding\": {\"color\": {\"field\": \"Gram_Staining\", \"type\": \"nominal\"}, \"x\": {\"axis\": {\"tickCount\": 5}, \"field\": \"Neomycin\", \"scale\": {\"domain\": [0.001, 1000], \"type\": \"log\"}, \"sort\": \"descending\", \"title\": \"CMI da Neomicina (\\u03bcg/ml, escala logar\\u00edtmica reversa)\", \"type\": \"quantitative\"}, \"y\": {\"axis\": {\"tickCount\": 5}, \"field\": \"Penicillin\", \"scale\": {\"domain\": [0.001, 1000], \"type\": \"log\"}, \"sort\": \"descending\", \"title\": \"CMI da Penicilina (\\u03bcg/ml, escala logar\\u00edtmica reversa)\", \"type\": \"quantitative\"}}, \"height\": 250, \"width\": 250, \"$schema\": \"https://vega.github.io/schema/vega-lite/v5.20.1.json\"}, {\"mode\": \"vega-lite\"});\n",
              "</script>"
            ],
            "text/plain": [
              "alt.Chart(...)"
            ]
          },
          "metadata": {},
          "execution_count": 20
        }
      ],
      "source": [
        "alt.Chart(antibioticos).mark_circle(size=80).encode(\n",
        "    alt.X('Neomycin:Q',\n",
        "          sort='descending',\n",
        "          scale=alt.Scale(type='log', domain=[0.001, 1000]),\n",
        "          axis=alt.Axis(tickCount=5),\n",
        "          title='CMI da Neomicina (μg/ml, escala logarítmica reversa)'),\n",
        "    alt.Y('Penicillin:Q',\n",
        "          sort='descending',\n",
        "          scale=alt.Scale(type='log', domain=[0.001, 1000]),\n",
        "          axis=alt.Axis(tickCount=5),\n",
        "          title='CMI da Penicilina (μg/ml, escala logarítmica reversa)'),\n",
        "    alt.Color('Gram_Staining:N')\n",
        ").properties(width=250, height=250)"
      ]
    },
    {
      "cell_type": "markdown",
      "metadata": {
        "id": "ArTCj-dJmqLC"
      },
      "source": [
        "Podemos ver que as bactérias que testam positivamente (`positive`) no teste de Gram parecem ser mais suscetíveis à Penicilina, enquanto a Neomicina é mais eficaz para bactérias que testam negativamente  (`negative`)!\n",
        "\n",
        "O esquema de cores acima foi escolhido automaticamente para fornecer cores perceptivelmente distintas para comparações nominais (igual ou diferente). No entanto, podemos querer personalizar as cores utilizadas. Nesse caso, o teste de Gram resulta em colorações físicas distintas: as bactérias que testam negativo ficam rosa, e as que testam postivo ficam roxo.\n",
        "\n",
        "Podemos determinar o uso dessas cores especificamente dentro da escala de `alt.Color`, especificando o domínio (`domain`) dos dados utilizados e o alcance (`range`) das cores selecionadas pelo Altair:\n"
      ]
    },
    {
      "cell_type": "code",
      "execution_count": null,
      "metadata": {
        "id": "kielKsTqmqLD"
      },
      "outputs": [],
      "source": [
        "alt.Chart(antibioticos).mark_circle(size=80).encode(\n",
        "    alt.X('Neomycin:Q',\n",
        "          sort='descending',\n",
        "          scale=alt.Scale(type='log', domain=[0.001, 1000]),\n",
        "          axis=alt.Axis(tickCount=5),\n",
        "          title='CMI da Neomicina (μg/ml, escala logarítmica reversa)'),\n",
        "    alt.Y('Penicillin:Q',\n",
        "          sort='descending',\n",
        "          scale=alt.Scale(type='log', domain=[0.001, 1000]),\n",
        "          axis=alt.Axis(tickCount=5),\n",
        "          title='CMI da Penicilina (μg/ml, escala logarítmica reversa)'),\n",
        "    alt.Color('Gram_Staining:N',\n",
        "          scale=alt.Scale(domain=['negative', 'positive'], range=['hotpink', 'purple'])\n",
        "    )\n",
        ").properties(width=250, height=250)"
      ]
    },
    {
      "cell_type": "markdown",
      "metadata": {
        "id": "zAmex7w5mqLD"
      },
      "source": [
        "Por padrão, as legendas são posicionadas no lado direito do gráfico. Similar aos eixos, podemos alterar a orientação (`orient`) da legenda dentro do método `alt.Legend`:\n"
      ]
    },
    {
      "cell_type": "code",
      "execution_count": null,
      "metadata": {
        "colab": {
          "base_uri": "https://localhost:8080/",
          "height": 359
        },
        "id": "jNmrZ8fjmqLD",
        "outputId": "d3b0fc01-4565-4d47-a13c-d18adb0de6f9"
      },
      "outputs": [
        {
          "output_type": "execute_result",
          "data": {
            "text/html": [
              "\n",
              "<style>\n",
              "  #altair-viz-6cbac8d9a9ed42808021cac9367793eb.vega-embed {\n",
              "    width: 100%;\n",
              "    display: flex;\n",
              "  }\n",
              "\n",
              "  #altair-viz-6cbac8d9a9ed42808021cac9367793eb.vega-embed details,\n",
              "  #altair-viz-6cbac8d9a9ed42808021cac9367793eb.vega-embed details summary {\n",
              "    position: relative;\n",
              "  }\n",
              "</style>\n",
              "<div id=\"altair-viz-6cbac8d9a9ed42808021cac9367793eb\"></div>\n",
              "<script type=\"text/javascript\">\n",
              "  var VEGA_DEBUG = (typeof VEGA_DEBUG == \"undefined\") ? {} : VEGA_DEBUG;\n",
              "  (function(spec, embedOpt){\n",
              "    let outputDiv = document.currentScript.previousElementSibling;\n",
              "    if (outputDiv.id !== \"altair-viz-6cbac8d9a9ed42808021cac9367793eb\") {\n",
              "      outputDiv = document.getElementById(\"altair-viz-6cbac8d9a9ed42808021cac9367793eb\");\n",
              "    }\n",
              "\n",
              "    const paths = {\n",
              "      \"vega\": \"https://cdn.jsdelivr.net/npm/vega@5?noext\",\n",
              "      \"vega-lib\": \"https://cdn.jsdelivr.net/npm/vega-lib?noext\",\n",
              "      \"vega-lite\": \"https://cdn.jsdelivr.net/npm/vega-lite@5.20.1?noext\",\n",
              "      \"vega-embed\": \"https://cdn.jsdelivr.net/npm/vega-embed@6?noext\",\n",
              "    };\n",
              "\n",
              "    function maybeLoadScript(lib, version) {\n",
              "      var key = `${lib.replace(\"-\", \"\")}_version`;\n",
              "      return (VEGA_DEBUG[key] == version) ?\n",
              "        Promise.resolve(paths[lib]) :\n",
              "        new Promise(function(resolve, reject) {\n",
              "          var s = document.createElement('script');\n",
              "          document.getElementsByTagName(\"head\")[0].appendChild(s);\n",
              "          s.async = true;\n",
              "          s.onload = () => {\n",
              "            VEGA_DEBUG[key] = version;\n",
              "            return resolve(paths[lib]);\n",
              "          };\n",
              "          s.onerror = () => reject(`Error loading script: ${paths[lib]}`);\n",
              "          s.src = paths[lib];\n",
              "        });\n",
              "    }\n",
              "\n",
              "    function showError(err) {\n",
              "      outputDiv.innerHTML = `<div class=\"error\" style=\"color:red;\">${err}</div>`;\n",
              "      throw err;\n",
              "    }\n",
              "\n",
              "    function displayChart(vegaEmbed) {\n",
              "      vegaEmbed(outputDiv, spec, embedOpt)\n",
              "        .catch(err => showError(`Javascript Error: ${err.message}<br>This usually means there's a typo in your chart specification. See the javascript console for the full traceback.`));\n",
              "    }\n",
              "\n",
              "    if(typeof define === \"function\" && define.amd) {\n",
              "      requirejs.config({paths});\n",
              "      let deps = [\"vega-embed\"];\n",
              "      require(deps, displayChart, err => showError(`Error loading script: ${err.message}`));\n",
              "    } else {\n",
              "      maybeLoadScript(\"vega\", \"5\")\n",
              "        .then(() => maybeLoadScript(\"vega-lite\", \"5.20.1\"))\n",
              "        .then(() => maybeLoadScript(\"vega-embed\", \"6\"))\n",
              "        .catch(showError)\n",
              "        .then(() => displayChart(vegaEmbed));\n",
              "    }\n",
              "  })({\"config\": {\"view\": {\"continuousWidth\": 300, \"continuousHeight\": 300}}, \"data\": {\"url\": \"https://cdn.jsdelivr.net/npm/vega-datasets@1/data/burtin.json\"}, \"mark\": {\"type\": \"circle\", \"size\": 80}, \"encoding\": {\"color\": {\"field\": \"Gram_Staining\", \"legend\": {\"orient\": \"left\"}, \"scale\": {\"domain\": [\"negative\", \"positive\"], \"range\": [\"hotpink\", \"purple\"]}, \"type\": \"nominal\"}, \"x\": {\"axis\": {\"tickCount\": 5}, \"field\": \"Neomycin\", \"scale\": {\"domain\": [0.001, 1000], \"type\": \"log\"}, \"sort\": \"descending\", \"title\": \"CMI da Neomicina (\\u03bcg/ml, escala logar\\u00edtmica reversa)\", \"type\": \"quantitative\"}, \"y\": {\"axis\": {\"tickCount\": 5}, \"field\": \"Penicillin\", \"scale\": {\"domain\": [0.001, 1000], \"type\": \"log\"}, \"sort\": \"descending\", \"title\": \"CMI da Penicilina (\\u03bcg/ml, escala logar\\u00edtmica reversa)\", \"type\": \"quantitative\"}}, \"height\": 250, \"width\": 250, \"$schema\": \"https://vega.github.io/schema/vega-lite/v5.20.1.json\"}, {\"mode\": \"vega-lite\"});\n",
              "</script>"
            ],
            "text/plain": [
              "alt.Chart(...)"
            ]
          },
          "metadata": {},
          "execution_count": 21
        }
      ],
      "source": [
        "alt.Chart(antibioticos).mark_circle(size=80).encode(\n",
        "    alt.X('Neomycin:Q',\n",
        "          sort='descending',\n",
        "          scale=alt.Scale(type='log', domain=[0.001, 1000]),\n",
        "          axis=alt.Axis(tickCount=5),\n",
        "          title='CMI da Neomicina (μg/ml, escala logarítmica reversa)'),\n",
        "    alt.Y('Penicillin:Q',\n",
        "          sort='descending',\n",
        "          scale=alt.Scale(type='log', domain=[0.001, 1000]),\n",
        "          axis=alt.Axis(tickCount=5),\n",
        "          title='CMI da Penicilina (μg/ml, escala logarítmica reversa)'),\n",
        "    alt.Color('Gram_Staining:N',\n",
        "          scale=alt.Scale(domain=['negative', 'positive'], range=['hotpink', 'purple']),\n",
        "          legend=alt.Legend(orient='left')\n",
        "    )\n",
        ").properties(width=250, height=250)"
      ]
    },
    {
      "cell_type": "markdown",
      "metadata": {
        "id": "jmdyjtyCmqLD"
      },
      "source": [
        "Também podemos remover completamente uma legenda especificando `legend=None`:\n",
        "\n"
      ]
    },
    {
      "cell_type": "code",
      "execution_count": null,
      "metadata": {
        "colab": {
          "base_uri": "https://localhost:8080/",
          "height": 359
        },
        "id": "8UhlYAXWmqLE",
        "outputId": "3f29df75-931b-4660-f237-f16a775fdb82"
      },
      "outputs": [
        {
          "output_type": "execute_result",
          "data": {
            "text/html": [
              "\n",
              "<style>\n",
              "  #altair-viz-894e651dade343a999109a66318e0eee.vega-embed {\n",
              "    width: 100%;\n",
              "    display: flex;\n",
              "  }\n",
              "\n",
              "  #altair-viz-894e651dade343a999109a66318e0eee.vega-embed details,\n",
              "  #altair-viz-894e651dade343a999109a66318e0eee.vega-embed details summary {\n",
              "    position: relative;\n",
              "  }\n",
              "</style>\n",
              "<div id=\"altair-viz-894e651dade343a999109a66318e0eee\"></div>\n",
              "<script type=\"text/javascript\">\n",
              "  var VEGA_DEBUG = (typeof VEGA_DEBUG == \"undefined\") ? {} : VEGA_DEBUG;\n",
              "  (function(spec, embedOpt){\n",
              "    let outputDiv = document.currentScript.previousElementSibling;\n",
              "    if (outputDiv.id !== \"altair-viz-894e651dade343a999109a66318e0eee\") {\n",
              "      outputDiv = document.getElementById(\"altair-viz-894e651dade343a999109a66318e0eee\");\n",
              "    }\n",
              "\n",
              "    const paths = {\n",
              "      \"vega\": \"https://cdn.jsdelivr.net/npm/vega@5?noext\",\n",
              "      \"vega-lib\": \"https://cdn.jsdelivr.net/npm/vega-lib?noext\",\n",
              "      \"vega-lite\": \"https://cdn.jsdelivr.net/npm/vega-lite@5.20.1?noext\",\n",
              "      \"vega-embed\": \"https://cdn.jsdelivr.net/npm/vega-embed@6?noext\",\n",
              "    };\n",
              "\n",
              "    function maybeLoadScript(lib, version) {\n",
              "      var key = `${lib.replace(\"-\", \"\")}_version`;\n",
              "      return (VEGA_DEBUG[key] == version) ?\n",
              "        Promise.resolve(paths[lib]) :\n",
              "        new Promise(function(resolve, reject) {\n",
              "          var s = document.createElement('script');\n",
              "          document.getElementsByTagName(\"head\")[0].appendChild(s);\n",
              "          s.async = true;\n",
              "          s.onload = () => {\n",
              "            VEGA_DEBUG[key] = version;\n",
              "            return resolve(paths[lib]);\n",
              "          };\n",
              "          s.onerror = () => reject(`Error loading script: ${paths[lib]}`);\n",
              "          s.src = paths[lib];\n",
              "        });\n",
              "    }\n",
              "\n",
              "    function showError(err) {\n",
              "      outputDiv.innerHTML = `<div class=\"error\" style=\"color:red;\">${err}</div>`;\n",
              "      throw err;\n",
              "    }\n",
              "\n",
              "    function displayChart(vegaEmbed) {\n",
              "      vegaEmbed(outputDiv, spec, embedOpt)\n",
              "        .catch(err => showError(`Javascript Error: ${err.message}<br>This usually means there's a typo in your chart specification. See the javascript console for the full traceback.`));\n",
              "    }\n",
              "\n",
              "    if(typeof define === \"function\" && define.amd) {\n",
              "      requirejs.config({paths});\n",
              "      let deps = [\"vega-embed\"];\n",
              "      require(deps, displayChart, err => showError(`Error loading script: ${err.message}`));\n",
              "    } else {\n",
              "      maybeLoadScript(\"vega\", \"5\")\n",
              "        .then(() => maybeLoadScript(\"vega-lite\", \"5.20.1\"))\n",
              "        .then(() => maybeLoadScript(\"vega-embed\", \"6\"))\n",
              "        .catch(showError)\n",
              "        .then(() => displayChart(vegaEmbed));\n",
              "    }\n",
              "  })({\"config\": {\"view\": {\"continuousWidth\": 300, \"continuousHeight\": 300}}, \"data\": {\"url\": \"https://cdn.jsdelivr.net/npm/vega-datasets@1/data/burtin.json\"}, \"mark\": {\"type\": \"circle\", \"size\": 80}, \"encoding\": {\"color\": {\"field\": \"Gram_Staining\", \"legend\": null, \"scale\": {\"domain\": [\"negative\", \"positive\"], \"range\": [\"hotpink\", \"purple\"]}, \"type\": \"nominal\"}, \"x\": {\"axis\": {\"tickCount\": 5}, \"field\": \"Neomycin\", \"scale\": {\"domain\": [0.001, 1000], \"type\": \"log\"}, \"sort\": \"descending\", \"title\": \"CMI da Neomicina (\\u03bcg/ml, escala logar\\u00edtmica reversa)\", \"type\": \"quantitative\"}, \"y\": {\"axis\": {\"tickCount\": 5}, \"field\": \"Penicillin\", \"scale\": {\"domain\": [0.001, 1000], \"type\": \"log\"}, \"sort\": \"descending\", \"title\": \"CMI da Penicilina (\\u03bcg/ml, escala logar\\u00edtmica reversa)\", \"type\": \"quantitative\"}}, \"height\": 250, \"width\": 250, \"$schema\": \"https://vega.github.io/schema/vega-lite/v5.20.1.json\"}, {\"mode\": \"vega-lite\"});\n",
              "</script>"
            ],
            "text/plain": [
              "alt.Chart(...)"
            ]
          },
          "metadata": {},
          "execution_count": 22
        }
      ],
      "source": [
        "alt.Chart(antibioticos).mark_circle(size=80).encode(\n",
        "    alt.X('Neomycin:Q',\n",
        "          sort='descending',\n",
        "          scale=alt.Scale(type='log', domain=[0.001, 1000]),\n",
        "          axis=alt.Axis(tickCount=5),\n",
        "          title='CMI da Neomicina (μg/ml, escala logarítmica reversa)'),\n",
        "    alt.Y('Penicillin:Q',\n",
        "          sort='descending',\n",
        "          scale=alt.Scale(type='log', domain=[0.001, 1000]),\n",
        "          axis=alt.Axis(tickCount=5),\n",
        "          title='CMI da Penicilina (μg/ml, escala logarítmica reversa)'),\n",
        "    alt.Color('Gram_Staining:N',\n",
        "          scale=alt.Scale(domain=['negative', 'positive'], range=['hotpink', 'purple']),\n",
        "          legend=None\n",
        "    )\n",
        ").properties(width=250, height=250)"
      ]
    },
    {
      "cell_type": "markdown",
      "metadata": {
        "id": "OVrOqDjWmqLE"
      },
      "source": [
        "## 4.3.2 Cor por Espécie\n",
        "\n",
        "Até agora, consideramos a eficácia dos antibióticos. Vamos mudar a abordagem e fazer uma pergunta diferente: o que a resposta aos antibióticos pode nos ensinar sobre as diferentes espécies de bactérias?\n",
        "\n",
        "Para começar, vamos codificar `Bacteria` (um campo de dados nominal) usando o canal de `color`:\n"
      ]
    },
    {
      "cell_type": "code",
      "execution_count": null,
      "metadata": {
        "colab": {
          "base_uri": "https://localhost:8080/",
          "height": 359
        },
        "id": "nwmStDfDmqLG",
        "outputId": "37c341a2-878d-49f6-b0db-1abc33d310e7"
      },
      "outputs": [
        {
          "output_type": "execute_result",
          "data": {
            "text/html": [
              "\n",
              "<style>\n",
              "  #altair-viz-774a7526a57c44f19f7637f914bc2f35.vega-embed {\n",
              "    width: 100%;\n",
              "    display: flex;\n",
              "  }\n",
              "\n",
              "  #altair-viz-774a7526a57c44f19f7637f914bc2f35.vega-embed details,\n",
              "  #altair-viz-774a7526a57c44f19f7637f914bc2f35.vega-embed details summary {\n",
              "    position: relative;\n",
              "  }\n",
              "</style>\n",
              "<div id=\"altair-viz-774a7526a57c44f19f7637f914bc2f35\"></div>\n",
              "<script type=\"text/javascript\">\n",
              "  var VEGA_DEBUG = (typeof VEGA_DEBUG == \"undefined\") ? {} : VEGA_DEBUG;\n",
              "  (function(spec, embedOpt){\n",
              "    let outputDiv = document.currentScript.previousElementSibling;\n",
              "    if (outputDiv.id !== \"altair-viz-774a7526a57c44f19f7637f914bc2f35\") {\n",
              "      outputDiv = document.getElementById(\"altair-viz-774a7526a57c44f19f7637f914bc2f35\");\n",
              "    }\n",
              "\n",
              "    const paths = {\n",
              "      \"vega\": \"https://cdn.jsdelivr.net/npm/vega@5?noext\",\n",
              "      \"vega-lib\": \"https://cdn.jsdelivr.net/npm/vega-lib?noext\",\n",
              "      \"vega-lite\": \"https://cdn.jsdelivr.net/npm/vega-lite@5.20.1?noext\",\n",
              "      \"vega-embed\": \"https://cdn.jsdelivr.net/npm/vega-embed@6?noext\",\n",
              "    };\n",
              "\n",
              "    function maybeLoadScript(lib, version) {\n",
              "      var key = `${lib.replace(\"-\", \"\")}_version`;\n",
              "      return (VEGA_DEBUG[key] == version) ?\n",
              "        Promise.resolve(paths[lib]) :\n",
              "        new Promise(function(resolve, reject) {\n",
              "          var s = document.createElement('script');\n",
              "          document.getElementsByTagName(\"head\")[0].appendChild(s);\n",
              "          s.async = true;\n",
              "          s.onload = () => {\n",
              "            VEGA_DEBUG[key] = version;\n",
              "            return resolve(paths[lib]);\n",
              "          };\n",
              "          s.onerror = () => reject(`Error loading script: ${paths[lib]}`);\n",
              "          s.src = paths[lib];\n",
              "        });\n",
              "    }\n",
              "\n",
              "    function showError(err) {\n",
              "      outputDiv.innerHTML = `<div class=\"error\" style=\"color:red;\">${err}</div>`;\n",
              "      throw err;\n",
              "    }\n",
              "\n",
              "    function displayChart(vegaEmbed) {\n",
              "      vegaEmbed(outputDiv, spec, embedOpt)\n",
              "        .catch(err => showError(`Javascript Error: ${err.message}<br>This usually means there's a typo in your chart specification. See the javascript console for the full traceback.`));\n",
              "    }\n",
              "\n",
              "    if(typeof define === \"function\" && define.amd) {\n",
              "      requirejs.config({paths});\n",
              "      let deps = [\"vega-embed\"];\n",
              "      require(deps, displayChart, err => showError(`Error loading script: ${err.message}`));\n",
              "    } else {\n",
              "      maybeLoadScript(\"vega\", \"5\")\n",
              "        .then(() => maybeLoadScript(\"vega-lite\", \"5.20.1\"))\n",
              "        .then(() => maybeLoadScript(\"vega-embed\", \"6\"))\n",
              "        .catch(showError)\n",
              "        .then(() => displayChart(vegaEmbed));\n",
              "    }\n",
              "  })({\"config\": {\"view\": {\"continuousWidth\": 300, \"continuousHeight\": 300}}, \"data\": {\"url\": \"https://cdn.jsdelivr.net/npm/vega-datasets@1/data/burtin.json\"}, \"mark\": {\"type\": \"circle\", \"size\": 80}, \"encoding\": {\"color\": {\"field\": \"Bacteria\", \"type\": \"nominal\"}, \"x\": {\"axis\": {\"tickCount\": 5}, \"field\": \"Neomycin\", \"scale\": {\"domain\": [0.001, 1000], \"type\": \"log\"}, \"sort\": \"descending\", \"title\": \"CMI da Neomicina (\\u03bcg/ml, escala logar\\u00edtmica reversa)\", \"type\": \"quantitative\"}, \"y\": {\"axis\": {\"tickCount\": 5}, \"field\": \"Penicillin\", \"scale\": {\"domain\": [0.001, 1000], \"type\": \"log\"}, \"sort\": \"descending\", \"title\": \"CMI da Penicilina (\\u03bcg/ml, escala logar\\u00edtmica reversa)\", \"type\": \"quantitative\"}}, \"height\": 250, \"width\": 250, \"$schema\": \"https://vega.github.io/schema/vega-lite/v5.20.1.json\"}, {\"mode\": \"vega-lite\"});\n",
              "</script>"
            ],
            "text/plain": [
              "alt.Chart(...)"
            ]
          },
          "metadata": {},
          "execution_count": 23
        }
      ],
      "source": [
        "alt.Chart(antibioticos).mark_circle(size=80).encode(\n",
        "    alt.X('Neomycin:Q',\n",
        "          sort='descending',\n",
        "          scale=alt.Scale(type='log', domain=[0.001, 1000]),\n",
        "          axis=alt.Axis(tickCount=5),\n",
        "          title='CMI da Neomicina (μg/ml, escala logarítmica reversa)'),\n",
        "    alt.Y('Penicillin:Q',\n",
        "          sort='descending',\n",
        "          scale=alt.Scale(type='log', domain=[0.001, 1000]),\n",
        "          axis=alt.Axis(tickCount=5),\n",
        "          title='CMI da Penicilina (μg/ml, escala logarítmica reversa)'),\n",
        "    alt.Color('Bacteria:N')\n",
        ").properties(width=250, height=250)"
      ]
    },
    {
      "cell_type": "markdown",
      "metadata": {
        "id": "l3bhnz0hmqLG"
      },
      "source": [
        "O resultado está um pouco confuso! Existem bactérias suficientes para que o Altair comece a repetir cores de sua paleta padrão de 10 cores para valores nominais.\n",
        "\n",
        "Para usar cores personalizadas, podemos atualizar a propriedade `scale` da codificação de cor. Uma opção é fornecer valores explícitos de `domain` e `range` da escala para indicar mapeamentos de cores precisos por valor, como fizemos acima para `Gram Staining`. Outra opção é usar um esquema de cores alternativo. O Altair inclui uma variedade de esquemas de cores integrados. Para uma lista completa, consulte a documentação do esquema de cores do [Vega](https://vega.github.io/vega/docs/schemes/#reference).\n",
        "\n",
        "Vamos tentar alternar para um esquema integrado de 20 cores, `tableau20`, e definir isso usando a propriedade de escala de esquema (`scheme`).\n"
      ]
    },
    {
      "cell_type": "code",
      "execution_count": null,
      "metadata": {
        "id": "-2otxRgDmqLH",
        "outputId": "4af43d73-8a55-40ba-8342-325e19efa754",
        "colab": {
          "base_uri": "https://localhost:8080/",
          "height": 359
        }
      },
      "outputs": [
        {
          "output_type": "execute_result",
          "data": {
            "text/html": [
              "\n",
              "<style>\n",
              "  #altair-viz-040ca18343404192bc9cf7f4964dec2e.vega-embed {\n",
              "    width: 100%;\n",
              "    display: flex;\n",
              "  }\n",
              "\n",
              "  #altair-viz-040ca18343404192bc9cf7f4964dec2e.vega-embed details,\n",
              "  #altair-viz-040ca18343404192bc9cf7f4964dec2e.vega-embed details summary {\n",
              "    position: relative;\n",
              "  }\n",
              "</style>\n",
              "<div id=\"altair-viz-040ca18343404192bc9cf7f4964dec2e\"></div>\n",
              "<script type=\"text/javascript\">\n",
              "  var VEGA_DEBUG = (typeof VEGA_DEBUG == \"undefined\") ? {} : VEGA_DEBUG;\n",
              "  (function(spec, embedOpt){\n",
              "    let outputDiv = document.currentScript.previousElementSibling;\n",
              "    if (outputDiv.id !== \"altair-viz-040ca18343404192bc9cf7f4964dec2e\") {\n",
              "      outputDiv = document.getElementById(\"altair-viz-040ca18343404192bc9cf7f4964dec2e\");\n",
              "    }\n",
              "\n",
              "    const paths = {\n",
              "      \"vega\": \"https://cdn.jsdelivr.net/npm/vega@5?noext\",\n",
              "      \"vega-lib\": \"https://cdn.jsdelivr.net/npm/vega-lib?noext\",\n",
              "      \"vega-lite\": \"https://cdn.jsdelivr.net/npm/vega-lite@5.20.1?noext\",\n",
              "      \"vega-embed\": \"https://cdn.jsdelivr.net/npm/vega-embed@6?noext\",\n",
              "    };\n",
              "\n",
              "    function maybeLoadScript(lib, version) {\n",
              "      var key = `${lib.replace(\"-\", \"\")}_version`;\n",
              "      return (VEGA_DEBUG[key] == version) ?\n",
              "        Promise.resolve(paths[lib]) :\n",
              "        new Promise(function(resolve, reject) {\n",
              "          var s = document.createElement('script');\n",
              "          document.getElementsByTagName(\"head\")[0].appendChild(s);\n",
              "          s.async = true;\n",
              "          s.onload = () => {\n",
              "            VEGA_DEBUG[key] = version;\n",
              "            return resolve(paths[lib]);\n",
              "          };\n",
              "          s.onerror = () => reject(`Error loading script: ${paths[lib]}`);\n",
              "          s.src = paths[lib];\n",
              "        });\n",
              "    }\n",
              "\n",
              "    function showError(err) {\n",
              "      outputDiv.innerHTML = `<div class=\"error\" style=\"color:red;\">${err}</div>`;\n",
              "      throw err;\n",
              "    }\n",
              "\n",
              "    function displayChart(vegaEmbed) {\n",
              "      vegaEmbed(outputDiv, spec, embedOpt)\n",
              "        .catch(err => showError(`Javascript Error: ${err.message}<br>This usually means there's a typo in your chart specification. See the javascript console for the full traceback.`));\n",
              "    }\n",
              "\n",
              "    if(typeof define === \"function\" && define.amd) {\n",
              "      requirejs.config({paths});\n",
              "      let deps = [\"vega-embed\"];\n",
              "      require(deps, displayChart, err => showError(`Error loading script: ${err.message}`));\n",
              "    } else {\n",
              "      maybeLoadScript(\"vega\", \"5\")\n",
              "        .then(() => maybeLoadScript(\"vega-lite\", \"5.20.1\"))\n",
              "        .then(() => maybeLoadScript(\"vega-embed\", \"6\"))\n",
              "        .catch(showError)\n",
              "        .then(() => displayChart(vegaEmbed));\n",
              "    }\n",
              "  })({\"config\": {\"view\": {\"continuousWidth\": 300, \"continuousHeight\": 300}}, \"data\": {\"url\": \"https://cdn.jsdelivr.net/npm/vega-datasets@1/data/burtin.json\"}, \"mark\": {\"type\": \"circle\", \"size\": 80}, \"encoding\": {\"color\": {\"field\": \"Bacteria\", \"scale\": {\"scheme\": \"tableau20\"}, \"type\": \"nominal\"}, \"x\": {\"axis\": {\"tickCount\": 5}, \"field\": \"Neomycin\", \"scale\": {\"domain\": [0.001, 1000], \"type\": \"log\"}, \"sort\": \"descending\", \"title\": \"CMI da Nemicina (\\u03bcg/ml, escala logar\\u00edtmica reversa)\", \"type\": \"quantitative\"}, \"y\": {\"axis\": {\"tickCount\": 5}, \"field\": \"Penicillin\", \"scale\": {\"domain\": [0.001, 1000], \"type\": \"log\"}, \"sort\": \"descending\", \"title\": \"CMI da Penicilina (\\u03bcg/ml, escala logar\\u00edtmica reversa)\", \"type\": \"quantitative\"}}, \"height\": 250, \"width\": 250, \"$schema\": \"https://vega.github.io/schema/vega-lite/v5.20.1.json\"}, {\"mode\": \"vega-lite\"});\n",
              "</script>"
            ],
            "text/plain": [
              "alt.Chart(...)"
            ]
          },
          "metadata": {},
          "execution_count": 24
        }
      ],
      "source": [
        "alt.Chart(antibioticos).mark_circle(size=80).encode(\n",
        "    alt.X('Neomycin:Q',\n",
        "          sort='descending',\n",
        "          scale=alt.Scale(type='log', domain=[0.001, 1000]),\n",
        "          axis=alt.Axis(tickCount=5),\n",
        "          title='CMI da Nemicina (μg/ml, escala logarítmica reversa)'),\n",
        "    alt.Y('Penicillin:Q',\n",
        "          sort='descending',\n",
        "          scale=alt.Scale(type='log', domain=[0.001, 1000]),\n",
        "          axis=alt.Axis(tickCount=5),\n",
        "          title='CMI da Penicilina (μg/ml, escala logarítmica reversa)'),\n",
        "    alt.Color('Bacteria:N',\n",
        "          scale=alt.Scale(scheme='tableau20'))\n",
        ").properties(width=250, height=250)"
      ]
    },
    {
      "cell_type": "markdown",
      "metadata": {
        "id": "7vzh7Dn9mqLH"
      },
      "source": [
        "Agora temos uma cor única para cada bactéria, mas o gráfico ainda está confuso. Entre outros problemas, a codificação não leva em conta bactérias que pertencem ao mesmo gênero. No gráfico acima, as duas cepas diferentes de Salmonella possuem matizes muito diferentes (verde-azulado e rosa), apesar de serem biologicamente próximas.\n",
        "\n",
        "Para testar um `scheme` diferente, também podemos alterar o tipo de dado de nominal para ordinal. O `scheme` ordinal padrão usa tons de azul, variando do claro ao escuro:\n"
      ]
    },
    {
      "cell_type": "code",
      "execution_count": null,
      "metadata": {
        "id": "PuvSTQnRmqLI",
        "outputId": "c37cc204-2f81-4548-ba65-635afdf34b32",
        "colab": {
          "base_uri": "https://localhost:8080/",
          "height": 359
        }
      },
      "outputs": [
        {
          "output_type": "execute_result",
          "data": {
            "text/html": [
              "\n",
              "<style>\n",
              "  #altair-viz-b9f7971243074cba9c8e2fa9156bd567.vega-embed {\n",
              "    width: 100%;\n",
              "    display: flex;\n",
              "  }\n",
              "\n",
              "  #altair-viz-b9f7971243074cba9c8e2fa9156bd567.vega-embed details,\n",
              "  #altair-viz-b9f7971243074cba9c8e2fa9156bd567.vega-embed details summary {\n",
              "    position: relative;\n",
              "  }\n",
              "</style>\n",
              "<div id=\"altair-viz-b9f7971243074cba9c8e2fa9156bd567\"></div>\n",
              "<script type=\"text/javascript\">\n",
              "  var VEGA_DEBUG = (typeof VEGA_DEBUG == \"undefined\") ? {} : VEGA_DEBUG;\n",
              "  (function(spec, embedOpt){\n",
              "    let outputDiv = document.currentScript.previousElementSibling;\n",
              "    if (outputDiv.id !== \"altair-viz-b9f7971243074cba9c8e2fa9156bd567\") {\n",
              "      outputDiv = document.getElementById(\"altair-viz-b9f7971243074cba9c8e2fa9156bd567\");\n",
              "    }\n",
              "\n",
              "    const paths = {\n",
              "      \"vega\": \"https://cdn.jsdelivr.net/npm/vega@5?noext\",\n",
              "      \"vega-lib\": \"https://cdn.jsdelivr.net/npm/vega-lib?noext\",\n",
              "      \"vega-lite\": \"https://cdn.jsdelivr.net/npm/vega-lite@5.20.1?noext\",\n",
              "      \"vega-embed\": \"https://cdn.jsdelivr.net/npm/vega-embed@6?noext\",\n",
              "    };\n",
              "\n",
              "    function maybeLoadScript(lib, version) {\n",
              "      var key = `${lib.replace(\"-\", \"\")}_version`;\n",
              "      return (VEGA_DEBUG[key] == version) ?\n",
              "        Promise.resolve(paths[lib]) :\n",
              "        new Promise(function(resolve, reject) {\n",
              "          var s = document.createElement('script');\n",
              "          document.getElementsByTagName(\"head\")[0].appendChild(s);\n",
              "          s.async = true;\n",
              "          s.onload = () => {\n",
              "            VEGA_DEBUG[key] = version;\n",
              "            return resolve(paths[lib]);\n",
              "          };\n",
              "          s.onerror = () => reject(`Error loading script: ${paths[lib]}`);\n",
              "          s.src = paths[lib];\n",
              "        });\n",
              "    }\n",
              "\n",
              "    function showError(err) {\n",
              "      outputDiv.innerHTML = `<div class=\"error\" style=\"color:red;\">${err}</div>`;\n",
              "      throw err;\n",
              "    }\n",
              "\n",
              "    function displayChart(vegaEmbed) {\n",
              "      vegaEmbed(outputDiv, spec, embedOpt)\n",
              "        .catch(err => showError(`Javascript Error: ${err.message}<br>This usually means there's a typo in your chart specification. See the javascript console for the full traceback.`));\n",
              "    }\n",
              "\n",
              "    if(typeof define === \"function\" && define.amd) {\n",
              "      requirejs.config({paths});\n",
              "      let deps = [\"vega-embed\"];\n",
              "      require(deps, displayChart, err => showError(`Error loading script: ${err.message}`));\n",
              "    } else {\n",
              "      maybeLoadScript(\"vega\", \"5\")\n",
              "        .then(() => maybeLoadScript(\"vega-lite\", \"5.20.1\"))\n",
              "        .then(() => maybeLoadScript(\"vega-embed\", \"6\"))\n",
              "        .catch(showError)\n",
              "        .then(() => displayChart(vegaEmbed));\n",
              "    }\n",
              "  })({\"config\": {\"view\": {\"continuousWidth\": 300, \"continuousHeight\": 300}}, \"data\": {\"url\": \"https://cdn.jsdelivr.net/npm/vega-datasets@1/data/burtin.json\"}, \"mark\": {\"type\": \"circle\", \"size\": 80}, \"encoding\": {\"color\": {\"field\": \"Bacteria\", \"type\": \"ordinal\"}, \"x\": {\"axis\": {\"tickCount\": 5}, \"field\": \"Neomycin\", \"scale\": {\"domain\": [0.001, 1000], \"type\": \"log\"}, \"sort\": \"descending\", \"title\": \"CMI da Neomicina (\\u03bcg/ml, escala logar\\u00edtmica reversa)\", \"type\": \"quantitative\"}, \"y\": {\"axis\": {\"tickCount\": 5}, \"field\": \"Penicillin\", \"scale\": {\"domain\": [0.001, 1000], \"type\": \"log\"}, \"sort\": \"descending\", \"title\": \"CMI da Penicilina (\\u03bcg/ml, escala logar\\u00edtmica reversa)\", \"type\": \"quantitative\"}}, \"height\": 250, \"width\": 250, \"$schema\": \"https://vega.github.io/schema/vega-lite/v5.20.1.json\"}, {\"mode\": \"vega-lite\"});\n",
              "</script>"
            ],
            "text/plain": [
              "alt.Chart(...)"
            ]
          },
          "metadata": {},
          "execution_count": 25
        }
      ],
      "source": [
        "alt.Chart(antibioticos).mark_circle(size=80).encode(\n",
        "    alt.X('Neomycin:Q',\n",
        "          sort='descending',\n",
        "          scale=alt.Scale(type='log', domain=[0.001, 1000]),\n",
        "          axis=alt.Axis(tickCount=5),\n",
        "          title='CMI da Neomicina (μg/ml, escala logarítmica reversa)'),\n",
        "    alt.Y('Penicillin:Q',\n",
        "          sort='descending',\n",
        "          scale=alt.Scale(type='log', domain=[0.001, 1000]),\n",
        "          axis=alt.Axis(tickCount=5),\n",
        "          title='CMI da Penicilina (μg/ml, escala logarítmica reversa)'),\n",
        "    alt.Color('Bacteria:O')\n",
        ").properties(width=250, height=250)"
      ]
    },
    {
      "cell_type": "markdown",
      "metadata": {
        "id": "ZoYLf3rZmqLI"
      },
      "source": [
        "Alguns desses tons de azul podem ser difíceis de distinguir.\n",
        "\n",
        "Para obter cores mais diferenciadas, podemos experimentar alternativas ao esquema padrão `blues`. O esquema `viridis` varia tanto em matiz quanto em luminância:\n"
      ]
    },
    {
      "cell_type": "code",
      "execution_count": null,
      "metadata": {
        "id": "SyqCTet2mqLJ",
        "outputId": "a90bd2c1-834f-4712-e980-a443f70ebc25",
        "colab": {
          "base_uri": "https://localhost:8080/",
          "height": 359
        }
      },
      "outputs": [
        {
          "output_type": "execute_result",
          "data": {
            "text/html": [
              "\n",
              "<style>\n",
              "  #altair-viz-df20550cedbe4565b7e8a88f72e2e07a.vega-embed {\n",
              "    width: 100%;\n",
              "    display: flex;\n",
              "  }\n",
              "\n",
              "  #altair-viz-df20550cedbe4565b7e8a88f72e2e07a.vega-embed details,\n",
              "  #altair-viz-df20550cedbe4565b7e8a88f72e2e07a.vega-embed details summary {\n",
              "    position: relative;\n",
              "  }\n",
              "</style>\n",
              "<div id=\"altair-viz-df20550cedbe4565b7e8a88f72e2e07a\"></div>\n",
              "<script type=\"text/javascript\">\n",
              "  var VEGA_DEBUG = (typeof VEGA_DEBUG == \"undefined\") ? {} : VEGA_DEBUG;\n",
              "  (function(spec, embedOpt){\n",
              "    let outputDiv = document.currentScript.previousElementSibling;\n",
              "    if (outputDiv.id !== \"altair-viz-df20550cedbe4565b7e8a88f72e2e07a\") {\n",
              "      outputDiv = document.getElementById(\"altair-viz-df20550cedbe4565b7e8a88f72e2e07a\");\n",
              "    }\n",
              "\n",
              "    const paths = {\n",
              "      \"vega\": \"https://cdn.jsdelivr.net/npm/vega@5?noext\",\n",
              "      \"vega-lib\": \"https://cdn.jsdelivr.net/npm/vega-lib?noext\",\n",
              "      \"vega-lite\": \"https://cdn.jsdelivr.net/npm/vega-lite@5.20.1?noext\",\n",
              "      \"vega-embed\": \"https://cdn.jsdelivr.net/npm/vega-embed@6?noext\",\n",
              "    };\n",
              "\n",
              "    function maybeLoadScript(lib, version) {\n",
              "      var key = `${lib.replace(\"-\", \"\")}_version`;\n",
              "      return (VEGA_DEBUG[key] == version) ?\n",
              "        Promise.resolve(paths[lib]) :\n",
              "        new Promise(function(resolve, reject) {\n",
              "          var s = document.createElement('script');\n",
              "          document.getElementsByTagName(\"head\")[0].appendChild(s);\n",
              "          s.async = true;\n",
              "          s.onload = () => {\n",
              "            VEGA_DEBUG[key] = version;\n",
              "            return resolve(paths[lib]);\n",
              "          };\n",
              "          s.onerror = () => reject(`Error loading script: ${paths[lib]}`);\n",
              "          s.src = paths[lib];\n",
              "        });\n",
              "    }\n",
              "\n",
              "    function showError(err) {\n",
              "      outputDiv.innerHTML = `<div class=\"error\" style=\"color:red;\">${err}</div>`;\n",
              "      throw err;\n",
              "    }\n",
              "\n",
              "    function displayChart(vegaEmbed) {\n",
              "      vegaEmbed(outputDiv, spec, embedOpt)\n",
              "        .catch(err => showError(`Javascript Error: ${err.message}<br>This usually means there's a typo in your chart specification. See the javascript console for the full traceback.`));\n",
              "    }\n",
              "\n",
              "    if(typeof define === \"function\" && define.amd) {\n",
              "      requirejs.config({paths});\n",
              "      let deps = [\"vega-embed\"];\n",
              "      require(deps, displayChart, err => showError(`Error loading script: ${err.message}`));\n",
              "    } else {\n",
              "      maybeLoadScript(\"vega\", \"5\")\n",
              "        .then(() => maybeLoadScript(\"vega-lite\", \"5.20.1\"))\n",
              "        .then(() => maybeLoadScript(\"vega-embed\", \"6\"))\n",
              "        .catch(showError)\n",
              "        .then(() => displayChart(vegaEmbed));\n",
              "    }\n",
              "  })({\"config\": {\"view\": {\"continuousWidth\": 300, \"continuousHeight\": 300}}, \"data\": {\"url\": \"https://cdn.jsdelivr.net/npm/vega-datasets@1/data/burtin.json\"}, \"mark\": {\"type\": \"circle\", \"size\": 80}, \"encoding\": {\"color\": {\"field\": \"Bacteria\", \"scale\": {\"scheme\": \"viridis\"}, \"type\": \"ordinal\"}, \"x\": {\"axis\": {\"tickCount\": 5}, \"field\": \"Neomycin\", \"scale\": {\"domain\": [0.001, 1000], \"type\": \"log\"}, \"sort\": \"descending\", \"title\": \"CMI da Neomicina (\\u03bcg/ml, escala logar\\u00edtmica reversa)\", \"type\": \"quantitative\"}, \"y\": {\"axis\": {\"tickCount\": 5}, \"field\": \"Penicillin\", \"scale\": {\"domain\": [0.001, 1000], \"type\": \"log\"}, \"sort\": \"descending\", \"title\": \"CMI da Penicilina (\\u03bcg/ml, escala logar\\u00edtmica reversa)\", \"type\": \"quantitative\"}}, \"height\": 250, \"width\": 250, \"$schema\": \"https://vega.github.io/schema/vega-lite/v5.20.1.json\"}, {\"mode\": \"vega-lite\"});\n",
              "</script>"
            ],
            "text/plain": [
              "alt.Chart(...)"
            ]
          },
          "metadata": {},
          "execution_count": 26
        }
      ],
      "source": [
        "alt.Chart(antibioticos).mark_circle(size=80).encode(\n",
        "    alt.X('Neomycin:Q',\n",
        "          sort='descending',\n",
        "          scale=alt.Scale(type='log', domain=[0.001, 1000]),\n",
        "          axis=alt.Axis(tickCount=5),\n",
        "          title='CMI da Neomicina (μg/ml, escala logarítmica reversa)'),\n",
        "    alt.Y('Penicillin:Q',\n",
        "          sort='descending',\n",
        "          scale=alt.Scale(type='log', domain=[0.001, 1000]),\n",
        "          axis=alt.Axis(tickCount=5),\n",
        "          title='CMI da Penicilina (μg/ml, escala logarítmica reversa)'),\n",
        "    alt.Color('Bacteria:O',\n",
        "          scale=alt.Scale(scheme='viridis'))\n",
        ").properties(width=250, height=250)"
      ]
    },
    {
      "cell_type": "markdown",
      "metadata": {
        "id": "U33pvBvqmqLJ"
      },
      "source": [
        "Bactérias do mesmo gênero agora possuem cores mais semelhantes do que antes, mas o gráfico ainda continua confuso. Há muitas cores, é difícil identificá-las com precisão na legenda, e duas bactérias podem ter cores semelhantes, mas pertencer a gêneros diferentes.\n"
      ]
    },
    {
      "cell_type": "markdown",
      "metadata": {
        "id": "YoPgWyZDmqLJ"
      },
      "source": [
        "## 4.3.3. Colorindo por gênero"
      ]
    },
    {
      "cell_type": "markdown",
      "metadata": {
        "id": "QCd3IorMmqLJ"
      },
      "source": [
        "Vamos tentar colorir por gênero ao invés de colorir por bactéria. Para isso, adicionaremos o transformador `calculate` na criação do gráfico, separando o nome da bactéria por caracteres de espaço e selecionando o primeiro elemento da lista, assim tendo o gênero da bactéria. Podemos então codificar os gêneros resultantes, presentes no campo `Gênero`, utilizando o esquema de cores `tableau20`."
      ]
    },
    {
      "cell_type": "markdown",
      "metadata": {
        "id": "gH6ccapXmqLK"
      },
      "source": [
        "(Note que a base de dados \"antibiotics\" tem um campo de gênero, mas ignoraremos ele para poder fazer uma melhor exploração nas transformações de dados do Altair.)"
      ]
    },
    {
      "cell_type": "code",
      "execution_count": null,
      "metadata": {
        "id": "ip7iR6-umqLK",
        "outputId": "eed9e8aa-06ed-4acc-f72a-37a8c7e8de17",
        "colab": {
          "base_uri": "https://localhost:8080/",
          "height": 359
        }
      },
      "outputs": [
        {
          "output_type": "execute_result",
          "data": {
            "text/html": [
              "\n",
              "<style>\n",
              "  #altair-viz-c67ff5611de74a6cb22552c0788542e1.vega-embed {\n",
              "    width: 100%;\n",
              "    display: flex;\n",
              "  }\n",
              "\n",
              "  #altair-viz-c67ff5611de74a6cb22552c0788542e1.vega-embed details,\n",
              "  #altair-viz-c67ff5611de74a6cb22552c0788542e1.vega-embed details summary {\n",
              "    position: relative;\n",
              "  }\n",
              "</style>\n",
              "<div id=\"altair-viz-c67ff5611de74a6cb22552c0788542e1\"></div>\n",
              "<script type=\"text/javascript\">\n",
              "  var VEGA_DEBUG = (typeof VEGA_DEBUG == \"undefined\") ? {} : VEGA_DEBUG;\n",
              "  (function(spec, embedOpt){\n",
              "    let outputDiv = document.currentScript.previousElementSibling;\n",
              "    if (outputDiv.id !== \"altair-viz-c67ff5611de74a6cb22552c0788542e1\") {\n",
              "      outputDiv = document.getElementById(\"altair-viz-c67ff5611de74a6cb22552c0788542e1\");\n",
              "    }\n",
              "\n",
              "    const paths = {\n",
              "      \"vega\": \"https://cdn.jsdelivr.net/npm/vega@5?noext\",\n",
              "      \"vega-lib\": \"https://cdn.jsdelivr.net/npm/vega-lib?noext\",\n",
              "      \"vega-lite\": \"https://cdn.jsdelivr.net/npm/vega-lite@5.20.1?noext\",\n",
              "      \"vega-embed\": \"https://cdn.jsdelivr.net/npm/vega-embed@6?noext\",\n",
              "    };\n",
              "\n",
              "    function maybeLoadScript(lib, version) {\n",
              "      var key = `${lib.replace(\"-\", \"\")}_version`;\n",
              "      return (VEGA_DEBUG[key] == version) ?\n",
              "        Promise.resolve(paths[lib]) :\n",
              "        new Promise(function(resolve, reject) {\n",
              "          var s = document.createElement('script');\n",
              "          document.getElementsByTagName(\"head\")[0].appendChild(s);\n",
              "          s.async = true;\n",
              "          s.onload = () => {\n",
              "            VEGA_DEBUG[key] = version;\n",
              "            return resolve(paths[lib]);\n",
              "          };\n",
              "          s.onerror = () => reject(`Error loading script: ${paths[lib]}`);\n",
              "          s.src = paths[lib];\n",
              "        });\n",
              "    }\n",
              "\n",
              "    function showError(err) {\n",
              "      outputDiv.innerHTML = `<div class=\"error\" style=\"color:red;\">${err}</div>`;\n",
              "      throw err;\n",
              "    }\n",
              "\n",
              "    function displayChart(vegaEmbed) {\n",
              "      vegaEmbed(outputDiv, spec, embedOpt)\n",
              "        .catch(err => showError(`Javascript Error: ${err.message}<br>This usually means there's a typo in your chart specification. See the javascript console for the full traceback.`));\n",
              "    }\n",
              "\n",
              "    if(typeof define === \"function\" && define.amd) {\n",
              "      requirejs.config({paths});\n",
              "      let deps = [\"vega-embed\"];\n",
              "      require(deps, displayChart, err => showError(`Error loading script: ${err.message}`));\n",
              "    } else {\n",
              "      maybeLoadScript(\"vega\", \"5\")\n",
              "        .then(() => maybeLoadScript(\"vega-lite\", \"5.20.1\"))\n",
              "        .then(() => maybeLoadScript(\"vega-embed\", \"6\"))\n",
              "        .catch(showError)\n",
              "        .then(() => displayChart(vegaEmbed));\n",
              "    }\n",
              "  })({\"config\": {\"view\": {\"continuousWidth\": 300, \"continuousHeight\": 300}}, \"data\": {\"url\": \"https://cdn.jsdelivr.net/npm/vega-datasets@1/data/burtin.json\"}, \"mark\": {\"type\": \"circle\", \"size\": 80}, \"encoding\": {\"color\": {\"field\": \"G\\u00eanero\", \"scale\": {\"scheme\": \"tableau20\"}, \"type\": \"nominal\"}, \"x\": {\"axis\": {\"tickCount\": 5}, \"field\": \"Neomycin\", \"scale\": {\"domain\": [0.001, 1000], \"type\": \"log\"}, \"sort\": \"descending\", \"title\": \"CMI da Neomicina (\\u03bcg/ml, escala logar\\u00edtmica reversa)\", \"type\": \"quantitative\"}, \"y\": {\"axis\": {\"tickCount\": 5}, \"field\": \"Penicillin\", \"scale\": {\"domain\": [0.001, 1000], \"type\": \"log\"}, \"sort\": \"descending\", \"title\": \"CMI da Penicilina (\\u03bcg/ml, escala logar\\u00edtmica reversa)\", \"type\": \"quantitative\"}}, \"height\": 250, \"transform\": [{\"calculate\": \"split(datum.Bacteria, \\\" \\\")[0]\", \"as\": \"G\\u00eanero\"}], \"width\": 250, \"$schema\": \"https://vega.github.io/schema/vega-lite/v5.20.1.json\"}, {\"mode\": \"vega-lite\"});\n",
              "</script>"
            ],
            "text/plain": [
              "alt.Chart(...)"
            ]
          },
          "metadata": {},
          "execution_count": 28
        }
      ],
      "source": [
        "alt.Chart(antibioticos).mark_circle(size=80).transform_calculate(\n",
        "    Gênero='split(datum.Bacteria, \" \")[0]'\n",
        ").encode(\n",
        "    alt.X('Neomycin:Q',\n",
        "          sort='descending',\n",
        "          scale=alt.Scale(type='log', domain=[0.001, 1000]),\n",
        "          axis=alt.Axis(tickCount=5),\n",
        "          title='CMI da Neomicina (μg/ml, escala logarítmica reversa)'),\n",
        "    alt.Y('Penicillin:Q',\n",
        "          sort='descending',\n",
        "          scale=alt.Scale(type='log', domain=[0.001, 1000]),\n",
        "          axis=alt.Axis(tickCount=5),\n",
        "          title='CMI da Penicilina (μg/ml, escala logarítmica reversa)'),\n",
        "    alt.Color('Gênero:N',\n",
        "          scale=alt.Scale(scheme='tableau20'))\n",
        ").properties(width=250, height=250)"
      ]
    },
    {
      "cell_type": "markdown",
      "metadata": {
        "id": "PJlieZD9mqLM"
      },
      "source": [
        "_Hmmm... Por mais que os dados estejam melhor agregados pelos gêneros, essa cacofonia de cores não parece muito útil._"
      ]
    },
    {
      "cell_type": "markdown",
      "metadata": {
        "id": "-0kGZoAvmqLM"
      },
      "source": [
        "_Se repararmos cuidadosamente em alguns do gráficos anteriores poderemos ver que apenas um grupo seleto de bactérias compartilham gênero com alguma outra: Salmonella, Staphylococcus, e Streptococcus. Para trazer um foco à nossa comparação adicionaremos cores apenas para esses gêneros repetidos._"
      ]
    },
    {
      "cell_type": "markdown",
      "metadata": {
        "id": "xRu23yGEmqLM"
      },
      "source": [
        "Adicionemos outro transformador `calculate` que mantém o gênero se for um dos valores repetidos e caso contrário transforma em `\"Outro\"`."
      ]
    },
    {
      "cell_type": "markdown",
      "metadata": {
        "id": "C5Qeu9RUmqLM"
      },
      "source": [
        "Além disso, podemos adicionar codificadores de cores personalizados usando intervalos específicos com `domain` e `range` para definir as cores."
      ]
    },
    {
      "cell_type": "code",
      "execution_count": null,
      "metadata": {
        "id": "yGCFSqKOmqLN",
        "outputId": "8be9cbd4-e6ff-4625-e2a9-fd7d4a97dcea",
        "colab": {
          "base_uri": "https://localhost:8080/",
          "height": 359
        }
      },
      "outputs": [
        {
          "output_type": "execute_result",
          "data": {
            "text/html": [
              "\n",
              "<style>\n",
              "  #altair-viz-449217ae322643b2b3b76c883d0079a1.vega-embed {\n",
              "    width: 100%;\n",
              "    display: flex;\n",
              "  }\n",
              "\n",
              "  #altair-viz-449217ae322643b2b3b76c883d0079a1.vega-embed details,\n",
              "  #altair-viz-449217ae322643b2b3b76c883d0079a1.vega-embed details summary {\n",
              "    position: relative;\n",
              "  }\n",
              "</style>\n",
              "<div id=\"altair-viz-449217ae322643b2b3b76c883d0079a1\"></div>\n",
              "<script type=\"text/javascript\">\n",
              "  var VEGA_DEBUG = (typeof VEGA_DEBUG == \"undefined\") ? {} : VEGA_DEBUG;\n",
              "  (function(spec, embedOpt){\n",
              "    let outputDiv = document.currentScript.previousElementSibling;\n",
              "    if (outputDiv.id !== \"altair-viz-449217ae322643b2b3b76c883d0079a1\") {\n",
              "      outputDiv = document.getElementById(\"altair-viz-449217ae322643b2b3b76c883d0079a1\");\n",
              "    }\n",
              "\n",
              "    const paths = {\n",
              "      \"vega\": \"https://cdn.jsdelivr.net/npm/vega@5?noext\",\n",
              "      \"vega-lib\": \"https://cdn.jsdelivr.net/npm/vega-lib?noext\",\n",
              "      \"vega-lite\": \"https://cdn.jsdelivr.net/npm/vega-lite@5.20.1?noext\",\n",
              "      \"vega-embed\": \"https://cdn.jsdelivr.net/npm/vega-embed@6?noext\",\n",
              "    };\n",
              "\n",
              "    function maybeLoadScript(lib, version) {\n",
              "      var key = `${lib.replace(\"-\", \"\")}_version`;\n",
              "      return (VEGA_DEBUG[key] == version) ?\n",
              "        Promise.resolve(paths[lib]) :\n",
              "        new Promise(function(resolve, reject) {\n",
              "          var s = document.createElement('script');\n",
              "          document.getElementsByTagName(\"head\")[0].appendChild(s);\n",
              "          s.async = true;\n",
              "          s.onload = () => {\n",
              "            VEGA_DEBUG[key] = version;\n",
              "            return resolve(paths[lib]);\n",
              "          };\n",
              "          s.onerror = () => reject(`Error loading script: ${paths[lib]}`);\n",
              "          s.src = paths[lib];\n",
              "        });\n",
              "    }\n",
              "\n",
              "    function showError(err) {\n",
              "      outputDiv.innerHTML = `<div class=\"error\" style=\"color:red;\">${err}</div>`;\n",
              "      throw err;\n",
              "    }\n",
              "\n",
              "    function displayChart(vegaEmbed) {\n",
              "      vegaEmbed(outputDiv, spec, embedOpt)\n",
              "        .catch(err => showError(`Javascript Error: ${err.message}<br>This usually means there's a typo in your chart specification. See the javascript console for the full traceback.`));\n",
              "    }\n",
              "\n",
              "    if(typeof define === \"function\" && define.amd) {\n",
              "      requirejs.config({paths});\n",
              "      let deps = [\"vega-embed\"];\n",
              "      require(deps, displayChart, err => showError(`Error loading script: ${err.message}`));\n",
              "    } else {\n",
              "      maybeLoadScript(\"vega\", \"5\")\n",
              "        .then(() => maybeLoadScript(\"vega-lite\", \"5.20.1\"))\n",
              "        .then(() => maybeLoadScript(\"vega-embed\", \"6\"))\n",
              "        .catch(showError)\n",
              "        .then(() => displayChart(vegaEmbed));\n",
              "    }\n",
              "  })({\"config\": {\"view\": {\"continuousWidth\": 300, \"continuousHeight\": 300}}, \"data\": {\"url\": \"https://cdn.jsdelivr.net/npm/vega-datasets@1/data/burtin.json\"}, \"mark\": {\"type\": \"circle\", \"size\": 80}, \"encoding\": {\"color\": {\"field\": \"G\\u00eanero\", \"scale\": {\"domain\": [\"Salmonella\", \"Staphylococcus\", \"Streptococcus\", \"Outro\"], \"range\": [\"rgb(76,120,168)\", \"rgb(84,162,75)\", \"rgb(228,87,86)\", \"rgb(121,112,110)\"]}, \"type\": \"nominal\"}, \"x\": {\"axis\": {\"tickCount\": 5}, \"field\": \"Neomycin\", \"scale\": {\"domain\": [0.001, 1000], \"type\": \"log\"}, \"sort\": \"descending\", \"title\": \"CMI da Neomicina (\\u03bcg/ml, escala logar\\u00edtmica reversa)\", \"type\": \"quantitative\"}, \"y\": {\"axis\": {\"tickCount\": 5}, \"field\": \"Penicillin\", \"scale\": {\"domain\": [0.001, 1000], \"type\": \"log\"}, \"sort\": \"descending\", \"title\": \"CMI da Penicilina (\\u03bcg/ml, escala logar\\u00edtmica reversa)\", \"type\": \"quantitative\"}}, \"height\": 250, \"transform\": [{\"calculate\": \"split(datum.Bacteria, \\\" \\\")[0]\", \"as\": \"Split\"}, {\"calculate\": \"indexof([\\\"Salmonella\\\", \\\"Staphylococcus\\\", \\\"Streptococcus\\\"], datum.Split) >= 0 ? datum.Split : \\\"Outro\\\"\", \"as\": \"G\\u00eanero\"}], \"width\": 250, \"$schema\": \"https://vega.github.io/schema/vega-lite/v5.20.1.json\"}, {\"mode\": \"vega-lite\"});\n",
              "</script>"
            ],
            "text/plain": [
              "alt.Chart(...)"
            ]
          },
          "metadata": {},
          "execution_count": 29
        }
      ],
      "source": [
        "alt.Chart(antibioticos).mark_circle(size=80).transform_calculate(\n",
        "  Split='split(datum.Bacteria, \" \")[0]'\n",
        ").transform_calculate(\n",
        "  Gênero='indexof([\"Salmonella\", \"Staphylococcus\", \"Streptococcus\"], datum.Split) >= 0 ? datum.Split : \"Outro\"'\n",
        ").encode(\n",
        "    alt.X('Neomycin:Q',\n",
        "          sort='descending',\n",
        "          scale=alt.Scale(type='log', domain=[0.001, 1000]),\n",
        "          axis=alt.Axis(tickCount=5),\n",
        "          title='CMI da Neomicina (μg/ml, escala logarítmica reversa)'),\n",
        "    alt.Y('Penicillin:Q',\n",
        "          sort='descending',\n",
        "          scale=alt.Scale(type='log', domain=[0.001, 1000]),\n",
        "          axis=alt.Axis(tickCount=5),\n",
        "          title='CMI da Penicilina (μg/ml, escala logarítmica reversa)'),\n",
        "    alt.Color('Gênero:N',\n",
        "          scale=alt.Scale(\n",
        "            domain=['Salmonella', 'Staphylococcus', 'Streptococcus', 'Outro'],\n",
        "            range=['rgb(76,120,168)', 'rgb(84,162,75)', 'rgb(228,87,86)', 'rgb(121,112,110)']\n",
        "          ))\n",
        ").properties(width=250, height=250)"
      ]
    },
    {
      "cell_type": "markdown",
      "metadata": {
        "id": "hHjd1G3ImqLN"
      },
      "source": [
        "_Nós agora temos um gráfico muito mais revelador que só foi possivel graças às personalizações feitas nos eixos e legendas. Tire um momento para analisar o gráfico acima. Consegue perceber algum agrupamento surpreendente?_"
      ]
    },
    {
      "cell_type": "markdown",
      "metadata": {
        "id": "mrpTyK6-mqLN"
      },
      "source": [
        "_A parte superior esquerda apresenta um agrupamento de bactérias do gênero Streptococcus representados pela cor vermelha com uma bactéria do grupo \"Outros\" junta. Enquanto isso, na região do meio mais à direita observa-se outra Streptococcus posicionada longe de seus \"primos\". Devemos esperar que bactérias do mesmo gênero (e presumivelmente mais parecidas geneticamente) estejam mais próximas entre elas?_"
      ]
    },
    {
      "cell_type": "markdown",
      "metadata": {
        "id": "tkLrNlYlmqLO"
      },
      "source": [
        "Como ocorre eventualmente, a base de dados em questão contém erros. A base de dados se baseia nas designações de espécie utilizada no início dos anos 1950. No entanto, o consenso científico mudou desde então. O ponto cinza no canto superior esquerdo? Agora é considerado Streptococcus! Aquele ponto vermleho no meio à direita afastado dos demais? Não é mais considerado Streptococcus!"
      ]
    },
    {
      "cell_type": "markdown",
      "metadata": {
        "id": "a-nMiw6bmqLO"
      },
      "source": [
        "É claro que, por si só, essa base de dados não justifica essas reclassificações. Entretanto, os dados contém dicas valiosas para a biologia que foram ignoradas por décadas! Visualização de dados, quando utilizada por alguém habilidoso e curioso, pode ser uma arma poderosa para descobertas.."
      ]
    },
    {
      "cell_type": "markdown",
      "metadata": {
        "id": "IlU1sU8smqLP"
      },
      "source": [
        "Esse exemplo reforça algo importante: **sempre tenha um pé atrás com seus dados!**"
      ]
    },
    {
      "cell_type": "markdown",
      "metadata": {
        "id": "LDYy5V3dmqLP"
      },
      "source": [
        "## 4.3.4. Colorindo por resposta a antibióticos"
      ]
    },
    {
      "cell_type": "markdown",
      "metadata": {
        "id": "7ohqwO34mqLP"
      },
      "source": [
        "Nós também podemos utilizar o canal das cores `color` para codificar valores quantitativos. Mas é ipmortante ter em mente que o canal das cores não costuma ser tão eficiente para valores quantitativos quanto codificadores como posição e tamanho!"
      ]
    },
    {
      "cell_type": "markdown",
      "metadata": {
        "id": "o2jzfYtHmqLQ"
      },
      "source": [
        "Aqui está um mapa de calor básico dos valores de CMI da Penicilina para cada bactéria. Usaremos uma marcação de retângulos (`rect`) e ordenar as bactérias por valores decrescente de CMI (de mais resistente a menos resistente)."
      ]
    },
    {
      "cell_type": "code",
      "execution_count": null,
      "metadata": {
        "id": "ImQAQZmzmqLQ",
        "outputId": "1c0f636d-2e0e-4a79-fc23-81b60675c78b",
        "colab": {
          "base_uri": "https://localhost:8080/",
          "height": 351
        }
      },
      "outputs": [
        {
          "output_type": "execute_result",
          "data": {
            "text/html": [
              "\n",
              "<style>\n",
              "  #altair-viz-5a83bdd1da234351af27ba74779a0a91.vega-embed {\n",
              "    width: 100%;\n",
              "    display: flex;\n",
              "  }\n",
              "\n",
              "  #altair-viz-5a83bdd1da234351af27ba74779a0a91.vega-embed details,\n",
              "  #altair-viz-5a83bdd1da234351af27ba74779a0a91.vega-embed details summary {\n",
              "    position: relative;\n",
              "  }\n",
              "</style>\n",
              "<div id=\"altair-viz-5a83bdd1da234351af27ba74779a0a91\"></div>\n",
              "<script type=\"text/javascript\">\n",
              "  var VEGA_DEBUG = (typeof VEGA_DEBUG == \"undefined\") ? {} : VEGA_DEBUG;\n",
              "  (function(spec, embedOpt){\n",
              "    let outputDiv = document.currentScript.previousElementSibling;\n",
              "    if (outputDiv.id !== \"altair-viz-5a83bdd1da234351af27ba74779a0a91\") {\n",
              "      outputDiv = document.getElementById(\"altair-viz-5a83bdd1da234351af27ba74779a0a91\");\n",
              "    }\n",
              "\n",
              "    const paths = {\n",
              "      \"vega\": \"https://cdn.jsdelivr.net/npm/vega@5?noext\",\n",
              "      \"vega-lib\": \"https://cdn.jsdelivr.net/npm/vega-lib?noext\",\n",
              "      \"vega-lite\": \"https://cdn.jsdelivr.net/npm/vega-lite@5.20.1?noext\",\n",
              "      \"vega-embed\": \"https://cdn.jsdelivr.net/npm/vega-embed@6?noext\",\n",
              "    };\n",
              "\n",
              "    function maybeLoadScript(lib, version) {\n",
              "      var key = `${lib.replace(\"-\", \"\")}_version`;\n",
              "      return (VEGA_DEBUG[key] == version) ?\n",
              "        Promise.resolve(paths[lib]) :\n",
              "        new Promise(function(resolve, reject) {\n",
              "          var s = document.createElement('script');\n",
              "          document.getElementsByTagName(\"head\")[0].appendChild(s);\n",
              "          s.async = true;\n",
              "          s.onload = () => {\n",
              "            VEGA_DEBUG[key] = version;\n",
              "            return resolve(paths[lib]);\n",
              "          };\n",
              "          s.onerror = () => reject(`Error loading script: ${paths[lib]}`);\n",
              "          s.src = paths[lib];\n",
              "        });\n",
              "    }\n",
              "\n",
              "    function showError(err) {\n",
              "      outputDiv.innerHTML = `<div class=\"error\" style=\"color:red;\">${err}</div>`;\n",
              "      throw err;\n",
              "    }\n",
              "\n",
              "    function displayChart(vegaEmbed) {\n",
              "      vegaEmbed(outputDiv, spec, embedOpt)\n",
              "        .catch(err => showError(`Javascript Error: ${err.message}<br>This usually means there's a typo in your chart specification. See the javascript console for the full traceback.`));\n",
              "    }\n",
              "\n",
              "    if(typeof define === \"function\" && define.amd) {\n",
              "      requirejs.config({paths});\n",
              "      let deps = [\"vega-embed\"];\n",
              "      require(deps, displayChart, err => showError(`Error loading script: ${err.message}`));\n",
              "    } else {\n",
              "      maybeLoadScript(\"vega\", \"5\")\n",
              "        .then(() => maybeLoadScript(\"vega-lite\", \"5.20.1\"))\n",
              "        .then(() => maybeLoadScript(\"vega-embed\", \"6\"))\n",
              "        .catch(showError)\n",
              "        .then(() => displayChart(vegaEmbed));\n",
              "    }\n",
              "  })({\"config\": {\"view\": {\"continuousWidth\": 300, \"continuousHeight\": 300}}, \"data\": {\"url\": \"https://cdn.jsdelivr.net/npm/vega-datasets@1/data/burtin.json\"}, \"mark\": {\"type\": \"rect\"}, \"encoding\": {\"color\": {\"field\": \"Penicillin\", \"type\": \"quantitative\"}, \"y\": {\"field\": \"Bacteria\", \"sort\": {\"field\": \"Penicillin\", \"op\": \"max\", \"order\": \"descending\"}, \"type\": \"nominal\"}}, \"$schema\": \"https://vega.github.io/schema/vega-lite/v5.20.1.json\"}, {\"mode\": \"vega-lite\"});\n",
              "</script>"
            ],
            "text/plain": [
              "alt.Chart(...)"
            ]
          },
          "metadata": {},
          "execution_count": 32
        }
      ],
      "source": [
        "alt.Chart(antibioticos).mark_rect().encode(\n",
        "    alt.Y('Bacteria:N',\n",
        "      sort=alt.EncodingSortField(field='Penicillin', op='max', order='descending')\n",
        "    ),\n",
        "    alt.Color('Penicillin:Q')\n",
        ")"
      ]
    },
    {
      "cell_type": "markdown",
      "metadata": {
        "id": "8d1f-3eMmqLR"
      },
      "source": [
        "Nós podemos ainda melhorar esse gráfico combinando métodos vistos até aqui: uma escala logaritimica, uma mudança de orientação nos eixos, um esquema de cores personalizado (`plasma`), ajuste na contagem de marcações nos eixos e texto do titulo customizado. Nós também iremos usar opções de configurações para ajustar o posicionamento do título dos eixos e o alinhamento do título da legenda."
      ]
    },
    {
      "cell_type": "code",
      "execution_count": null,
      "metadata": {
        "id": "w1Qk57BRmqLR",
        "outputId": "c7dd37ff-454a-4fe9-e2d0-264fc9769288",
        "colab": {
          "base_uri": "https://localhost:8080/",
          "height": 364
        }
      },
      "outputs": [
        {
          "output_type": "execute_result",
          "data": {
            "text/html": [
              "\n",
              "<style>\n",
              "  #altair-viz-def4c9ec4050462fbb42d6d8a2b41669.vega-embed {\n",
              "    width: 100%;\n",
              "    display: flex;\n",
              "  }\n",
              "\n",
              "  #altair-viz-def4c9ec4050462fbb42d6d8a2b41669.vega-embed details,\n",
              "  #altair-viz-def4c9ec4050462fbb42d6d8a2b41669.vega-embed details summary {\n",
              "    position: relative;\n",
              "  }\n",
              "</style>\n",
              "<div id=\"altair-viz-def4c9ec4050462fbb42d6d8a2b41669\"></div>\n",
              "<script type=\"text/javascript\">\n",
              "  var VEGA_DEBUG = (typeof VEGA_DEBUG == \"undefined\") ? {} : VEGA_DEBUG;\n",
              "  (function(spec, embedOpt){\n",
              "    let outputDiv = document.currentScript.previousElementSibling;\n",
              "    if (outputDiv.id !== \"altair-viz-def4c9ec4050462fbb42d6d8a2b41669\") {\n",
              "      outputDiv = document.getElementById(\"altair-viz-def4c9ec4050462fbb42d6d8a2b41669\");\n",
              "    }\n",
              "\n",
              "    const paths = {\n",
              "      \"vega\": \"https://cdn.jsdelivr.net/npm/vega@5?noext\",\n",
              "      \"vega-lib\": \"https://cdn.jsdelivr.net/npm/vega-lib?noext\",\n",
              "      \"vega-lite\": \"https://cdn.jsdelivr.net/npm/vega-lite@5.20.1?noext\",\n",
              "      \"vega-embed\": \"https://cdn.jsdelivr.net/npm/vega-embed@6?noext\",\n",
              "    };\n",
              "\n",
              "    function maybeLoadScript(lib, version) {\n",
              "      var key = `${lib.replace(\"-\", \"\")}_version`;\n",
              "      return (VEGA_DEBUG[key] == version) ?\n",
              "        Promise.resolve(paths[lib]) :\n",
              "        new Promise(function(resolve, reject) {\n",
              "          var s = document.createElement('script');\n",
              "          document.getElementsByTagName(\"head\")[0].appendChild(s);\n",
              "          s.async = true;\n",
              "          s.onload = () => {\n",
              "            VEGA_DEBUG[key] = version;\n",
              "            return resolve(paths[lib]);\n",
              "          };\n",
              "          s.onerror = () => reject(`Error loading script: ${paths[lib]}`);\n",
              "          s.src = paths[lib];\n",
              "        });\n",
              "    }\n",
              "\n",
              "    function showError(err) {\n",
              "      outputDiv.innerHTML = `<div class=\"error\" style=\"color:red;\">${err}</div>`;\n",
              "      throw err;\n",
              "    }\n",
              "\n",
              "    function displayChart(vegaEmbed) {\n",
              "      vegaEmbed(outputDiv, spec, embedOpt)\n",
              "        .catch(err => showError(`Javascript Error: ${err.message}<br>This usually means there's a typo in your chart specification. See the javascript console for the full traceback.`));\n",
              "    }\n",
              "\n",
              "    if(typeof define === \"function\" && define.amd) {\n",
              "      requirejs.config({paths});\n",
              "      let deps = [\"vega-embed\"];\n",
              "      require(deps, displayChart, err => showError(`Error loading script: ${err.message}`));\n",
              "    } else {\n",
              "      maybeLoadScript(\"vega\", \"5\")\n",
              "        .then(() => maybeLoadScript(\"vega-lite\", \"5.20.1\"))\n",
              "        .then(() => maybeLoadScript(\"vega-embed\", \"6\"))\n",
              "        .catch(showError)\n",
              "        .then(() => displayChart(vegaEmbed));\n",
              "    }\n",
              "  })({\"config\": {\"view\": {\"continuousWidth\": 300, \"continuousHeight\": 300}}, \"data\": {\"url\": \"https://cdn.jsdelivr.net/npm/vega-datasets@1/data/burtin.json\"}, \"mark\": {\"type\": \"rect\"}, \"encoding\": {\"color\": {\"field\": \"Penicillin\", \"legend\": {\"tickCount\": 5, \"titleOrient\": \"right\"}, \"scale\": {\"nice\": true, \"scheme\": \"plasma\", \"type\": \"log\"}, \"title\": \"CMI da Penicilina (\\u03bcg/ml)\", \"type\": \"quantitative\"}, \"y\": {\"axis\": {\"orient\": \"right\", \"titleAlign\": \"left\", \"titleAngle\": 0, \"titleX\": 7, \"titleY\": -2}, \"field\": \"Bacteria\", \"sort\": {\"field\": \"Penicillin\", \"op\": \"max\", \"order\": \"descending\"}, \"type\": \"nominal\"}}, \"$schema\": \"https://vega.github.io/schema/vega-lite/v5.20.1.json\"}, {\"mode\": \"vega-lite\"});\n",
              "</script>"
            ],
            "text/plain": [
              "alt.Chart(...)"
            ]
          },
          "metadata": {},
          "execution_count": 31
        }
      ],
      "source": [
        "alt.Chart(antibioticos).mark_rect().encode(\n",
        "    alt.Y('Bacteria:N',\n",
        "      sort=alt.EncodingSortField(field='Penicillin', op='max', order='descending'),\n",
        "      axis=alt.Axis(\n",
        "        orient='right',     # Orienta o eixo à direita\n",
        "        titleX=7,           # Define a posição X do título como 7 pixels à direita no gráfico\n",
        "        titleY=-2,          # Define a posição Y do título como 2 pixels abaixo no gráfico\n",
        "        titleAlign='left',  # Alinha o texto à esquerda\n",
        "        titleAngle=0        # Desfaz a rotação padrão do título do eixo Y\n",
        "      )\n",
        "    ),\n",
        "    alt.Color('Penicillin:Q',\n",
        "      scale=alt.Scale(type='log', scheme='plasma', nice=True),\n",
        "      legend=alt.Legend(titleOrient='right', tickCount=5),\n",
        "      title='CMI da Penicilina (μg/ml)'\n",
        "    )\n",
        ")"
      ]
    },
    {
      "cell_type": "markdown",
      "metadata": {
        "id": "-XWLhD1UmqLS"
      },
      "source": [
        "Alternativamente, podemos remover o título do eixo e definir diretamente o `title` para todo o gráfico."
      ]
    },
    {
      "cell_type": "code",
      "execution_count": null,
      "metadata": {
        "id": "DxonBA2pmqLS",
        "outputId": "1f10a85f-4dc9-458b-b6ff-f0197749d2e5",
        "colab": {
          "base_uri": "https://localhost:8080/",
          "height": 369
        }
      },
      "outputs": [
        {
          "output_type": "execute_result",
          "data": {
            "text/html": [
              "\n",
              "<style>\n",
              "  #altair-viz-50d97b9a05ed4853b5a1d444590841ba.vega-embed {\n",
              "    width: 100%;\n",
              "    display: flex;\n",
              "  }\n",
              "\n",
              "  #altair-viz-50d97b9a05ed4853b5a1d444590841ba.vega-embed details,\n",
              "  #altair-viz-50d97b9a05ed4853b5a1d444590841ba.vega-embed details summary {\n",
              "    position: relative;\n",
              "  }\n",
              "</style>\n",
              "<div id=\"altair-viz-50d97b9a05ed4853b5a1d444590841ba\"></div>\n",
              "<script type=\"text/javascript\">\n",
              "  var VEGA_DEBUG = (typeof VEGA_DEBUG == \"undefined\") ? {} : VEGA_DEBUG;\n",
              "  (function(spec, embedOpt){\n",
              "    let outputDiv = document.currentScript.previousElementSibling;\n",
              "    if (outputDiv.id !== \"altair-viz-50d97b9a05ed4853b5a1d444590841ba\") {\n",
              "      outputDiv = document.getElementById(\"altair-viz-50d97b9a05ed4853b5a1d444590841ba\");\n",
              "    }\n",
              "\n",
              "    const paths = {\n",
              "      \"vega\": \"https://cdn.jsdelivr.net/npm/vega@5?noext\",\n",
              "      \"vega-lib\": \"https://cdn.jsdelivr.net/npm/vega-lib?noext\",\n",
              "      \"vega-lite\": \"https://cdn.jsdelivr.net/npm/vega-lite@5.20.1?noext\",\n",
              "      \"vega-embed\": \"https://cdn.jsdelivr.net/npm/vega-embed@6?noext\",\n",
              "    };\n",
              "\n",
              "    function maybeLoadScript(lib, version) {\n",
              "      var key = `${lib.replace(\"-\", \"\")}_version`;\n",
              "      return (VEGA_DEBUG[key] == version) ?\n",
              "        Promise.resolve(paths[lib]) :\n",
              "        new Promise(function(resolve, reject) {\n",
              "          var s = document.createElement('script');\n",
              "          document.getElementsByTagName(\"head\")[0].appendChild(s);\n",
              "          s.async = true;\n",
              "          s.onload = () => {\n",
              "            VEGA_DEBUG[key] = version;\n",
              "            return resolve(paths[lib]);\n",
              "          };\n",
              "          s.onerror = () => reject(`Error loading script: ${paths[lib]}`);\n",
              "          s.src = paths[lib];\n",
              "        });\n",
              "    }\n",
              "\n",
              "    function showError(err) {\n",
              "      outputDiv.innerHTML = `<div class=\"error\" style=\"color:red;\">${err}</div>`;\n",
              "      throw err;\n",
              "    }\n",
              "\n",
              "    function displayChart(vegaEmbed) {\n",
              "      vegaEmbed(outputDiv, spec, embedOpt)\n",
              "        .catch(err => showError(`Javascript Error: ${err.message}<br>This usually means there's a typo in your chart specification. See the javascript console for the full traceback.`));\n",
              "    }\n",
              "\n",
              "    if(typeof define === \"function\" && define.amd) {\n",
              "      requirejs.config({paths});\n",
              "      let deps = [\"vega-embed\"];\n",
              "      require(deps, displayChart, err => showError(`Error loading script: ${err.message}`));\n",
              "    } else {\n",
              "      maybeLoadScript(\"vega\", \"5\")\n",
              "        .then(() => maybeLoadScript(\"vega-lite\", \"5.20.1\"))\n",
              "        .then(() => maybeLoadScript(\"vega-embed\", \"6\"))\n",
              "        .catch(showError)\n",
              "        .then(() => displayChart(vegaEmbed));\n",
              "    }\n",
              "  })({\"config\": {\"view\": {\"continuousWidth\": 300, \"continuousHeight\": 300}, \"title\": {\"anchor\": \"start\", \"offset\": 5}}, \"data\": {\"url\": \"https://cdn.jsdelivr.net/npm/vega-datasets@1/data/burtin.json\"}, \"mark\": {\"type\": \"rect\"}, \"encoding\": {\"color\": {\"field\": \"Penicillin\", \"legend\": {\"tickCount\": 5, \"titleOrient\": \"right\"}, \"scale\": {\"nice\": true, \"scheme\": \"plasma\", \"type\": \"log\"}, \"title\": \"CMI da Penicilina (\\u03bcg/ml)\", \"type\": \"quantitative\"}, \"y\": {\"axis\": {\"orient\": \"right\", \"title\": null}, \"field\": \"Bacteria\", \"sort\": {\"field\": \"Penicillin\", \"op\": \"max\", \"order\": \"descending\"}, \"type\": \"nominal\"}}, \"title\": \"Resist\\u00eancia a Penicilina de Cepas Bacterianas\", \"$schema\": \"https://vega.github.io/schema/vega-lite/v5.20.1.json\"}, {\"mode\": \"vega-lite\"});\n",
              "</script>"
            ],
            "text/plain": [
              "alt.Chart(...)"
            ]
          },
          "metadata": {},
          "execution_count": 33
        }
      ],
      "source": [
        "alt.Chart(antibioticos, title='Resistência a Penicilina de Cepas Bacterianas').mark_rect().encode(\n",
        "    alt.Y('Bacteria:N',\n",
        "      sort=alt.EncodingSortField(field='Penicillin', op='max', order='descending'),\n",
        "      axis=alt.Axis(orient='right', title=None)\n",
        "    ),\n",
        "    alt.Color('Penicillin:Q',\n",
        "      scale=alt.Scale(type='log', scheme='plasma', nice=True),\n",
        "      legend=alt.Legend(titleOrient='right', tickCount=5),\n",
        "      title='CMI da Penicilina (μg/ml)'\n",
        "    )\n",
        ").configure_title(\n",
        "  anchor='start', # anchor and left-align title\n",
        "  offset=5        # set title offset from chart\n",
        ")"
      ]
    },
    {
      "cell_type": "markdown",
      "metadata": {
        "id": "TqEzC5WimqLT"
      },
      "source": [
        "# 4.4. Sumário"
      ]
    },
    {
      "cell_type": "markdown",
      "metadata": {
        "id": "Qt-8ewhsmqLT"
      },
      "source": [
        "Resumindo tudo que foi aprendido nos notebooks até aqui sobre codificação, transformação de dados e personalização, você agora deve estar preparado para fazer uma grande variedade de gráficos estátisticos. Agora você pode inserir o Altair em atividades do dia a dia para explorar dados e passar as mensagens escondidas neles."
      ]
    },
    {
      "cell_type": "markdown",
      "metadata": {
        "id": "iROnal9NmqLU"
      },
      "source": [
        "Interessado em aprender mais sobre esse tópico?\n",
        "- Comece com a [documentação do Altair sobre visualizações customizadas](https://altair-viz.github.io/user_guide/customization.html).\n",
        "- Para uma discussão complementar sobre escalas de mapeamento veja [\"Introducing d3-scale\"](https://medium.com/@mbostock/introducing-d3-scale-61980c51545f).\n",
        "- Para uma exploração mais profunda de como os eixos e as legendas podem ser personalizados pela biblioteca Vega (que é a base para Altair e Vega-Lite), veja [\"A Guide to Guides: Axes & Legends in Vega\"](https://beta.observablehq.com/@jheer/a-guide-to-guides-axes-legends-in-vega)\n",
        "- Para uma história fascinante sobre a base de dados sobre antibióticos trabalhada esse notebok, veja [\"That's Funny...\", de Wainer e Lysen](https://www.americanscientist.org/article/thats-funny) na revista _American Scientist_."
      ]
    },
    {
      "cell_type": "markdown",
      "metadata": {
        "id": "k0I9AnMtQavO"
      },
      "source": [
        "# Gráficos Individuais"
      ]
    },
    {
      "cell_type": "markdown",
      "metadata": {
        "id": "KwPDklYxQavO"
      },
      "source": [
        "## Carlos"
      ]
    },
    {
      "cell_type": "markdown",
      "metadata": {
        "id": "-qMpRURrQavO"
      },
      "source": [
        "Primeiramente vamos importar as bibliotecas necessárias"
      ]
    },
    {
      "cell_type": "code",
      "execution_count": null,
      "metadata": {
        "id": "v8bT579sQavP"
      },
      "outputs": [],
      "source": [
        "import altair as alt\n",
        "import pandas as pd\n"
      ]
    },
    {
      "cell_type": "markdown",
      "metadata": {
        "id": "sTCM_stZQavP"
      },
      "source": [
        "Para nossos estudos, utilizaremos uma base de dados obtida no site [base dos dados](https://basedosdados.org/). Foi escolhido uma base que contempla dados do saneamanto básico de Pernambuco."
      ]
    },
    {
      "cell_type": "code",
      "execution_count": null,
      "metadata": {
        "id": "BK27UUitQavQ"
      },
      "outputs": [],
      "source": [
        "file_id = \"12j_IuZAzITdIZPGvamLQbYaNo-YvwqKU\"\n",
        "url = f\"https://drive.google.com/uc?export=download&id={file_id}\"\n",
        "\n",
        "alt.data_transformers.disable_max_rows()\n",
        "\n",
        "df = pd.read_csv(url)\n",
        "df.head()\n"
      ]
    },
    {
      "cell_type": "markdown",
      "metadata": {
        "id": "gIon-hj2QavQ"
      },
      "source": [
        "Vamos observar, primeiramente, como se da a distrubuição de água."
      ]
    },
    {
      "cell_type": "code",
      "execution_count": null,
      "metadata": {
        "id": "6bjshA5UQavR"
      },
      "outputs": [],
      "source": [
        "alt.Chart(df).mark_boxplot().encode(\n",
        "    y=alt.Y('populacao_urbana_atendida_agua:Q', title='População Urbana Atendida com Água')\n",
        ").properties(\n",
        "    title='Boxplot da População Urbana Atendida com Água'\n",
        ")"
      ]
    },
    {
      "cell_type": "markdown",
      "metadata": {
        "id": "f4z-0K89QavR"
      },
      "source": [
        "Perceba que esse gráfico não diz muita coisa, na verdade ele não nos representa nada, visto que a distrubuição de água por cidade e o número de residentes não é levando em conta."
      ]
    },
    {
      "cell_type": "markdown",
      "metadata": {
        "id": "rpN_NpdBQavS"
      },
      "source": [
        "Vamos observar a distribuição de água de pernambuco no geral no decorrer dos anos."
      ]
    },
    {
      "cell_type": "code",
      "execution_count": null,
      "metadata": {
        "id": "Y3Dls_hhQavT"
      },
      "outputs": [],
      "source": [
        "numero_agua_line =alt.Chart(df).mark_line().encode(\n",
        "    alt.X('ano:O', title='Ano'),\n",
        "    alt.Y('sum(populacao_urbana_atendida_agua):Q', title='Número de Pessoas Atendidas com Água'),\n",
        "\n",
        ").properties(\n",
        "    title='Número de Pessoas Atendidas com Água por Ano'\n",
        ")\n",
        "numero_agua_pontos =alt.Chart(df).mark_point().encode(\n",
        "    alt.X('ano:O', title='Ano'),\n",
        "    alt.Y('sum(populacao_urbana_atendida_agua):Q', title='Número de Pessoas Atendidas com Água'),\n",
        "    alt.Tooltip('sum(populacao_urbana_atendida_agua):Q')\n",
        ").properties(\n",
        "    title='Número de Pessoas Atendidas com Água por Ano'\n",
        ")\n",
        "numero_agua_line + numero_agua_pontos"
      ]
    },
    {
      "cell_type": "markdown",
      "metadata": {
        "id": "qClWVC3DQavT"
      },
      "source": [
        "Podemos observar aparente crescimento no número de pessoas que receberam água durante. Porém isso não confirma nada, visto que a população também cresce ao longo do tempo. Portanto, para uma observação honesta, vamos plotar junto o crescimento da população urbana a cada ano. Além do mais, perceba que não temos dados do ano de 2000 para trás. Então vamos retirar esses dados\n"
      ]
    },
    {
      "cell_type": "code",
      "execution_count": null,
      "metadata": {
        "id": "jAgcJWvUQavT"
      },
      "outputs": [],
      "source": [
        "df = df[df['ano'] > 2000]\n",
        "\n",
        "numero_agua_line =alt.Chart(df).mark_line().encode(\n",
        "    alt.X('ano:O', title='Ano'),\n",
        "    alt.Y('sum(populacao_urbana_atendida_agua):Q', title='Número de Pessoas Atendidas com Água'),\n",
        "\n",
        ").properties(\n",
        "    title='Número de Pessoas Atendidas com Água por Ano'\n",
        ")\n",
        "numero_agua_pontos =alt.Chart(df).mark_point().encode(\n",
        "    alt.X('ano:O', title='Ano'),\n",
        "    alt.Y('sum(populacao_urbana_atendida_agua):Q', title='Número de Pessoas Atendidas com Água'),\n",
        "    alt.Tooltip('sum(populacao_urbana_atendida_agua):Q')\n",
        ").properties(\n",
        "    title='Número de Pessoas Atendidas com Água por Ano'\n",
        ")\n",
        "\n",
        "\n",
        "numero_pessoas_line =alt.Chart(df).mark_line().encode(\n",
        "    alt.X('ano:O', title='Ano'),\n",
        "    alt.Y('sum(populacao_urbana):Q', title='Número de Pessoas Atendidas com Água')\n",
        ").properties(\n",
        "    title='Número de Pessoas Atendidas com Água por Ano'\n",
        ")\n",
        "numero_pessoas_pontos =alt.Chart(df).mark_point().encode(\n",
        "    alt.X('ano:O', title='Ano'),\n",
        "    alt.Y('sum(populacao_urbana):Q', title='Número de Pessoas Atendidas com Água'),\n",
        "    alt.Tooltip('sum(populacao_urbana):Q')\n",
        ").properties(\n",
        "    title='Número de Pessoas Atendidas com Água por Ano'\n",
        ")\n",
        "\n",
        "numero_agua_line + numero_agua_pontos + numero_pessoas_pontos + numero_pessoas_line"
      ]
    },
    {
      "cell_type": "markdown",
      "metadata": {
        "id": "vYtFoeBlQavU"
      },
      "source": [
        "Aqui percebemos eventos estranhos no dado, como a diminuição repentina de pessoas com água em casa sem ter diminuição na população no ano de 2010. É claro, essa diminuição repentina pode ser simplesmente um erro no nosso dataframe."
      ]
    },
    {
      "cell_type": "markdown",
      "metadata": {
        "id": "-26qidS4QavU"
      },
      "source": [
        "Vamos observar o caso dos esgotos."
      ]
    },
    {
      "cell_type": "code",
      "execution_count": null,
      "metadata": {
        "id": "WG3pmNZ4QavV"
      },
      "outputs": [],
      "source": [
        "\n",
        "numero_esgoto_line =alt.Chart(df).mark_line().encode(\n",
        "    alt.X('ano:O', title='Ano'),\n",
        "    alt.Y('sum(populacao_urbana_atendida_esgoto):Q', title='Número de Pessoas Atendidas com Água'),\n",
        "\n",
        ").properties(\n",
        "    title='Número de Pessoas Atendidas com Água por Ano'\n",
        ")\n",
        "numero_esgoto_pontos =alt.Chart(df).mark_point().encode(\n",
        "    alt.X('ano:O', title='Ano'),\n",
        "    alt.Y('sum(populacao_urbana_atendida_esgoto):Q', title='Número de Pessoas Atendidas com Água'),\n",
        "    alt.Tooltip('sum(populacao_urbana_atendida_esgoto):Q')\n",
        ").properties(\n",
        "    title='Número de Pessoas Atendidas com Água por Ano'\n",
        ")\n",
        "\n",
        "\n",
        "numero_pessoas_line =alt.Chart(df).mark_line().encode(\n",
        "    alt.X('ano:O', title='Ano'),\n",
        "    alt.Y('sum(populacao_urbana):Q', title='Número de Pessoas Atendidas com Água')\n",
        ").properties(\n",
        "    title='Número de Pessoas Atendidas com Água por Ano'\n",
        ")\n",
        "numero_pessoas_pontos =alt.Chart(df).mark_point().encode(\n",
        "    alt.X('ano:O', title='Ano'),\n",
        "    alt.Y('sum(populacao_urbana):Q', title='Número de Pessoas Atendidas com Água'),\n",
        "    alt.Tooltip('sum(populacao_urbana):Q')\n",
        ").properties(\n",
        "    title='Número de Pessoas Atendidas com Esgoto por Ano'\n",
        ")\n",
        "\n",
        "numero_esgoto_line + numero_esgoto_pontos + numero_pessoas_pontos + numero_pessoas_line"
      ]
    },
    {
      "cell_type": "markdown",
      "metadata": {
        "id": "-gm8TxQ5QavV"
      },
      "source": [
        "Aqui observamos a situação mais crírica apresentada. O número de pessoas com esgoto (pelo menos o que a pesquisa entende como esgoto) é menor do que o número de residentes."
      ]
    },
    {
      "cell_type": "markdown",
      "metadata": {
        "id": "LUdQROukQavW"
      },
      "source": [
        "Porém, todos esse gráficos não nos dão uma pespectiva em percential. Vamos observar a caracteristicas percertuais de cada cidade."
      ]
    },
    {
      "cell_type": "code",
      "execution_count": null,
      "metadata": {
        "id": "6drDrKBiQavW"
      },
      "outputs": [],
      "source": [
        "df[\"proporcao_agua\"] = df[\"populacao_urbana_atendida_agua\"] / df[\"populacao_urbana\"]\n",
        "df[\"proporcao_esgoto\"] = df[\"populacao_urbana_atendida_esgoto\"] / df[\"populacao_urbana\"]\n",
        "\n",
        "\n",
        "df_long = df.melt(id_vars=[\"ano\", \"id_municipio\"],\n",
        "                  value_vars=[\"proporcao_agua\", \"proporcao_esgoto\"],\n",
        "                  var_name=\"Serviço\", value_name=\"Proporção\")\n",
        "\n",
        "selecao_ano = alt.param(\n",
        "    name=\"ano_escolhido\",\n",
        "    bind=alt.binding_select(options=sorted(df[\"ano\"].unique()), name=\"Ano: \"),\n",
        "    value=df[\"ano\"].min()\n",
        ")\n",
        "agua = alt.Chart(df_long).mark_bar(opacity=0.6).encode(\n",
        "    x=alt.X(\"id_municipio:N\", title=\"Município (ID)\"),\n",
        "    y=alt.Y(\"Proporção:Q\", title=\"Proporção da População Atendida\", scale=alt.Scale(domain=[0, 1.4])),\n",
        "    color=alt.value(\"blue\"),\n",
        "    tooltip=[\"id_municipio\", \"Serviço\", alt.Tooltip(\"Proporção:Q\", format=\".2f\")]\n",
        ").transform_filter(\n",
        "    (alt.datum.Serviço == \"proporcao_agua\") & (alt.datum.ano == selecao_ano)\n",
        ")\n",
        "\n",
        "esgoto = alt.Chart(df_long).mark_bar(opacity=0.6).encode(\n",
        "    x=alt.X(\"id_municipio:N\", title=\"Município (ID)\"),\n",
        "    y=alt.Y(\"Proporção:Q\", title=\"Proporção da População Atendida\"),\n",
        "    color=alt.value(\"green\"),\n",
        "    tooltip=[\"id_municipio\", \"Serviço\", alt.Tooltip(\"Proporção:Q\", format=\".2f\")]\n",
        ").transform_filter(\n",
        "    (alt.datum.Serviço == \"proporcao_esgoto\") & (alt.datum.ano == selecao_ano)\n",
        ")\n",
        "\n",
        "\n",
        "grafico = (agua + esgoto).add_params(selecao_ano).properties(\n",
        "    title=\"Cobertura de Água e Esgoto nos Municípios\",\n",
        "    width=1200,\n",
        "    height=800\n",
        ")\n",
        "\n",
        "grafico"
      ]
    },
    {
      "cell_type": "markdown",
      "metadata": {
        "id": "0l29H4BTQavW"
      },
      "source": [
        "Observe que muitas cidades em vários anos não tem nada de esgoto. Isso parece muito estanho, muito provavelmente exitem várias colunas na base de dados onde não temos informação alguma sobre esgotos na cidade. Vamos mudar o dados e remover as linhas sem iformação de esgoto usando o método `dropna`."
      ]
    },
    {
      "cell_type": "code",
      "execution_count": null,
      "metadata": {
        "id": "8EersFiBQavX"
      },
      "outputs": [],
      "source": [
        "df = df.dropna(subset=[\"populacao_urbana_atendida_esgoto\"])\n",
        "\n",
        "\n",
        "df[\"proporcao_agua\"] = df[\"populacao_urbana_atendida_agua\"] / df[\"populacao_urbana\"]\n",
        "df[\"proporcao_esgoto\"] = df[\"populacao_urbana_atendida_esgoto\"] / df[\"populacao_urbana\"]\n",
        "\n",
        "\n",
        "df_long = df.melt(id_vars=[\"ano\", \"id_municipio\"],\n",
        "                  value_vars=[\"proporcao_agua\", \"proporcao_esgoto\"],\n",
        "                  var_name=\"Serviço\", value_name=\"Proporção\")\n",
        "\n",
        "selecao_ano = alt.param(\n",
        "    name=\"ano_escolhido\",\n",
        "    bind=alt.binding_select(options=sorted(df[\"ano\"].unique()), name=\"Ano: \"),\n",
        "    value=df[\"ano\"].min()\n",
        ")\n",
        "\n",
        "\n",
        "agua = alt.Chart(df_long).mark_bar(opacity=0.6).encode(\n",
        "    x=alt.X(\"id_municipio:N\", title=\"Município (ID)\"),\n",
        "    y=alt.Y(\"Proporção:Q\", title=\"Proporção da População Atendida (%)\", scale=alt.Scale(domain=[0, 1.4])),\n",
        "    color=alt.value(\"blue\"),  # Define a cor fixa para água\n",
        "    tooltip=[\"id_municipio\", \"Serviço\", alt.Tooltip(\"Proporção:Q\", format=\".2f\")]\n",
        ").transform_filter(\n",
        "    (alt.datum.Serviço == \"proporcao_agua\") & (alt.datum.ano == selecao_ano)\n",
        ")\n",
        "\n",
        "esgoto = alt.Chart(df_long).mark_bar(opacity=0.6).encode(\n",
        "    x=alt.X(\"id_municipio:N\", title=\"Município (ID)\"),\n",
        "    y=alt.Y(\"Proporção:Q\", title=\"Proporção da População Atendida (%)\"),\n",
        "    color=alt.value(\"green\"),  # Define a cor fixa para esgoto\n",
        "    tooltip=[\"id_municipio\", \"Serviço\", alt.Tooltip(\"Proporção:Q\", format=\".1f\")]\n",
        ").transform_filter(\n",
        "    (alt.datum.Serviço == \"proporcao_esgoto\") & (alt.datum.ano == selecao_ano)\n",
        ")\n",
        "\n",
        "# Combina as duas camadas no mesmo gráfico\n",
        "grafico = (agua + esgoto).add_params(selecao_ano).properties(\n",
        "    title=\"Cobertura de Água e Esgoto nos Municípios (%)\",\n",
        "    width=1200,\n",
        "    height=800\n",
        ")\n",
        "\n",
        "grafico"
      ]
    },
    {
      "cell_type": "markdown",
      "metadata": {
        "id": "1rObNbuEQavX"
      },
      "source": [
        "## Daniel Couto"
      ]
    },
    {
      "cell_type": "code",
      "execution_count": null,
      "metadata": {
        "id": "HQOAua4WQavY"
      },
      "outputs": [],
      "source": [
        "import altair as alt\n",
        "import pandas as pd"
      ]
    },
    {
      "cell_type": "markdown",
      "metadata": {
        "id": "Q8Puds4dQavY"
      },
      "source": [
        "Para a minha análise utilizarei uma base do Kaggle, com os dados de usuários de um determinado aplicativo de relacionamento. A base possui colunas como: Idade, gênero, altura, objetivo da pessoa no app e etc."
      ]
    },
    {
      "cell_type": "code",
      "execution_count": null,
      "metadata": {
        "id": "xu7HxlOQQavY"
      },
      "outputs": [],
      "source": [
        "df_app_namoro = pd.read_csv('app_namoro.csv')\n",
        "# Link para a base de dados: https://www.kaggle.com/datasets/anandshaw2001/dating-dataset?resource=download\n",
        "df_app_namoro = pd.DataFrame(df_app_namoro)\n",
        "df_app_namoro.head()\n"
      ]
    },
    {
      "cell_type": "markdown",
      "metadata": {
        "id": "-5ezTyqIQavZ"
      },
      "source": [
        "#### Estatísticas de resumo"
      ]
    },
    {
      "cell_type": "markdown",
      "metadata": {
        "id": "guNKAhnhQavZ"
      },
      "source": [
        "Vamos agora calcular medidas de resumo de algumas das variveis do DataFrame. E para uma visão geral das variáveis quantitativas podemos usar também o `.describe()`."
      ]
    },
    {
      "cell_type": "code",
      "execution_count": null,
      "metadata": {
        "id": "BNZj-ZFKQavZ"
      },
      "outputs": [],
      "source": [
        "df_app_namoro.describe()"
      ]
    },
    {
      "cell_type": "code",
      "execution_count": null,
      "metadata": {
        "id": "v1uu1znyQavZ"
      },
      "outputs": [],
      "source": [
        "import numpy as np\n",
        "media_idade = np.mean(df_app_namoro['Age'])\n",
        "desvio_idade = np.std(df_app_namoro['Age'])\n",
        "print(f'Média idade = {media_idade:.1f} anos'.replace('.',','))\n",
        "print(f'Desvio padrão das idades = {desvio_idade:.1f} anos'.replace('.',','))\n",
        "print()\n",
        "\n",
        "media_altura = np.mean(df_app_namoro['Height'])*0.3048 #Usando a altura em metros\n",
        "altura_max = max(df_app_namoro['Height'])*0.3048\n",
        "desvio_altura = np.std(df_app_namoro['Height'])*30.48 #Usando a altura em centimetros\n",
        "print(f'Média altura = {media_altura:.2f} m'.replace('.',','))\n",
        "print(f'Maior altura = {altura_max:.2f} m'.replace('.',','))\n",
        "print(f'Desvio padrão das alturas = {desvio_altura:.1f} cm'.replace('.',','))\n",
        "print()\n",
        "\n",
        "media_altura_homem = np.mean(df_app_namoro.loc[df_app_namoro['Gender'] == \"Male\"]['Height'])*0.3048\n",
        "media_altura_mulher = np.mean(df_app_namoro.loc[df_app_namoro['Gender'] == \"Female\"]['Height'])*0.3048\n",
        "print(f'Média altura dos homens = {media_altura_homem:.3f} m'.replace('.',','))\n",
        "print(f'Média altura das mulheres = {media_altura_mulher:.3f} m'.replace('.',','))\n",
        "print()\n",
        "\n",
        "moda_interesses = df_app_namoro['Interests'].mode()\n",
        "print(f'Conjunto de interesses modal: {moda_interesses}') # Essa maneira não calcula exatamente o interesse modal, e sim o conjunto de interesses modal\n",
        "print()\n",
        "\n",
        "# Para resolver isso, abrimos as listas em linhas separadas com cada interesses\n",
        "interests_exploded = df_app_namoro.explode('Interests')\n",
        "moda_interesse = interests_exploded['Interests'].mode()\n",
        "print(f'Interesse modal: {moda_interesse}')\n",
        "print()\n",
        "\n",
        "filho = df_app_namoro['Children'].value_counts('Yes')\n",
        "print(filho)"
      ]
    },
    {
      "cell_type": "markdown",
      "metadata": {
        "id": "is21l50rQavZ"
      },
      "source": [
        "#### Análise Unidimensional"
      ]
    },
    {
      "cell_type": "markdown",
      "metadata": {
        "id": "jLB5qoAjQava"
      },
      "source": [
        "Vamos agora analisar a variável `Looking For` que nos diz o que o usuário procura no aplicativo.'"
      ]
    },
    {
      "cell_type": "code",
      "execution_count": null,
      "metadata": {
        "id": "rBmXoCBFQava"
      },
      "outputs": [],
      "source": [
        "objetivo = alt.Chart(df_app_namoro).mark_bar().encode(\n",
        "    alt.X('Looking For'),\n",
        "    alt.Y('count()'),\n",
        "    color = 'Looking For'\n",
        ")\n",
        "objetivo"
      ]
    },
    {
      "cell_type": "markdown",
      "metadata": {
        "id": "8SeU4rfPQavb"
      },
      "source": [
        "Um histograma foi a escolha mais intuitiva para uma informação de contagem e comparação entre categorias. E as cores apesar de estarem passando a mesma informação do eixo x, ajuda na visualização e entendimento.\n",
        "\n",
        "Podemos fazer algumas melhorias no nosso gráfico, como botar títulos, traduzir a legenda, escolher as cores, redimensionar o gráfico e ainda separar entre homens e mulheres para compará-los."
      ]
    },
    {
      "cell_type": "code",
      "execution_count": null,
      "metadata": {
        "id": "lMrn4SBlQavb"
      },
      "outputs": [],
      "source": [
        "objetivo = alt.Chart(df_app_namoro).transform_calculate(\n",
        "    traducao=\"datum['Looking For'] == 'Casual Dating' ? 'Encontro Casual' : \"\n",
        "             \"datum['Looking For'] == 'Marriage' ? 'Casamento' : \"\n",
        "             \"datum['Looking For'] == 'Long-term Relationship' ? 'Relacionamento Sério' : \"\n",
        "             \"'Amizade'\",\n",
        "    genero_traduzido=\"datum.Gender === 'Female' ? 'Mulher' : 'Homem'\"\n",
        ").mark_bar().encode(\n",
        "    alt.X('traducao:N', title=\"Interesses\"),\n",
        "    alt.Y('count()', title=\"Quantidade de Usuários\"),\n",
        "    alt.Color('traducao:N',\n",
        "        scale=alt.Scale(\n",
        "            domain=[\"Encontro Casual\", \"Casamento\", \"Relacionamento Sério\", \"Amizade\"],\n",
        "            range=[\"#eb584d\", \"#e0c641\",\"#5c58e0\" ,\"#55e08f\" ]\n",
        "        ),\n",
        "        legend=alt.Legend(title=\"Tipo de Interesse\")\n",
        "    ),\n",
        "    column=alt.Column(\"genero_traduzido:N\", header=alt.Header(title=\"Gênero\"))\n",
        ").properties(\n",
        "    height = 450,\n",
        "    width=225,\n",
        "    title= alt.TitleParams(\n",
        "        text=\"Procura dos usuários de app de relacionamento\",\n",
        "        anchor=\"middle\")\n",
        ")\n",
        "\n",
        "objetivo\n"
      ]
    },
    {
      "cell_type": "markdown",
      "metadata": {
        "id": "HqhYDYQ5Qavb"
      },
      "source": [
        "#### Análise Bidimensional"
      ]
    },
    {
      "cell_type": "markdown",
      "metadata": {
        "id": "2hNbvj1vQavd"
      },
      "source": [
        "Nessa análise vamos comparar o nível de escolaridade com a intenção de ter filhos."
      ]
    },
    {
      "cell_type": "code",
      "execution_count": null,
      "metadata": {
        "id": "le4UKnUfQavd"
      },
      "outputs": [],
      "source": [
        "escolaridade_filhos = alt.Chart(df_app_namoro).mark_rect().encode(\n",
        "    alt.X('Education Level:N', title='Nível Educacional'),\n",
        "    alt.Y('Children:N', title='Intençao de ter filhos'),\n",
        "    color='count():Q'\n",
        ")\n",
        "escolaridade_filhos\n"
      ]
    },
    {
      "cell_type": "markdown",
      "metadata": {
        "id": "zqasX_a9Qavd"
      },
      "source": [
        "Nesse caso foi interessante a escolha de um mapa de calor, para explicitar, com a contagem no canal de cor, onde está a maior concentração em cada caso.\n",
        "\n",
        "Agora podemos pensar em melhorias para a visualização desse gráfico, como traduzir os títulos, arrumar a escala, redimensionar e traduzir por meio do `tranform_calculate`."
      ]
    },
    {
      "cell_type": "code",
      "execution_count": null,
      "metadata": {
        "id": "M4HoeZk1Qavd"
      },
      "outputs": [],
      "source": [
        "escolaridade_filhos = alt.Chart(df_app_namoro).transform_calculate(\n",
        "        escolaridade=\"datum['Education Level'] === 'Ph.D.' ? 'Doutorado' : \"\n",
        "                     \"datum['Education Level'] === 'Master\\\\'s Degree' ? 'Mestrado' : \"\n",
        "                     \"datum['Education Level'] === 'Bachelor\\\\'s Degree' ? 'Bacharelado' : \"\n",
        "                     \"'Ensino Médio'\",\n",
        "        filhos=\"datum.Children === 'Yes' ? 'Sim' : datum.Children === 'No' ? 'Não' : 'Talvez'\"\n",
        "    ).mark_rect().encode(\n",
        "    alt.X('escolaridade:N', title='Nível Educacional', sort=[\"Ensino Médio\", \"Bacharelado\", \"Mestrado\", 'Doutorado']),\n",
        "    alt.Y('filhos:N', title='Intençao de ter filhos', sort=[\"Sim\", \"Talvez\", \"Não\"]),\n",
        "    color=alt.Color(\n",
        "        'count():Q',\n",
        "        scale=alt.Scale(\n",
        "            type='log',\n",
        "            range=['green', 'yellow', 'red']\n",
        "        ),\n",
        "        legend=alt.Legend(\n",
        "            title='Contagem de Entradas',\n",
        "            gradientLength=300,\n",
        "            gradientThickness=20\n",
        "        )\n",
        "    ),\n",
        "    tooltip=['count()',\"escolaridade:N\", 'filhos:N']\n",
        ").properties(\n",
        "    width=400,\n",
        "    height=400,\n",
        "    title='Nível Educacional vs. Intençao de ter filhos'\n",
        ")\n",
        "\n",
        "escolaridade_filhos\n"
      ]
    },
    {
      "cell_type": "markdown",
      "metadata": {
        "id": "6RkIT4CVQavd"
      },
      "source": [
        "Agora com uma visualização clara, podemos entender com facilidade do que se trata o gráfico e os olhos vão diretamente nos pontos de interesse, as casas com mais concentração e as com menos."
      ]
    },
    {
      "cell_type": "markdown",
      "metadata": {
        "id": "dNrvV7t3Qavd"
      },
      "source": [
        "#### Gráfico de exploração da base"
      ]
    },
    {
      "cell_type": "markdown",
      "metadata": {
        "id": "n_U9i5JtQave"
      },
      "source": [
        "A ideia inicial, por se tratar de uma base de 500 usuários, é tentar visualizar todos os usuários com seus respectivos atributos."
      ]
    },
    {
      "cell_type": "code",
      "execution_count": null,
      "metadata": {
        "id": "BZotxMwgQave"
      },
      "outputs": [],
      "source": [
        "painel_usuarios = alt.Chart(df_app_namoro).mark_circle().transform_calculate(\n",
        "    altura='datum.Height * 30.48'\n",
        ").encode(\n",
        "    alt.X('Age:Q', scale=alt.Scale(domain=[17,36])),\n",
        "    alt.Y('altura:Q', scale=alt.Scale(domain=[146,190])),\n",
        "    tooltip=['Age','altura:Q','Education Level','Gender']\n",
        ").interactive()\n",
        "\n",
        "painel_usuarios\n"
      ]
    },
    {
      "cell_type": "markdown",
      "metadata": {
        "id": "d6Yemz-gQave"
      },
      "source": [
        "É perceptível que o gráfico não nos traz muita informação de cara, para isso pensei em contruir filtros, para que o leitor possa navegar pela base procurando o que quiser de maneira visual através do gráfico."
      ]
    },
    {
      "cell_type": "code",
      "execution_count": null,
      "metadata": {
        "id": "q1aDUGb3Qavf"
      },
      "outputs": [],
      "source": [
        "input_dropdown = alt.binding_select(options=['Male', 'Female'], name='Gênero  ')\n",
        "selectgênero = alt.selection_point(fields=['Gender'], bind=input_dropdown)\n",
        "color = (\n",
        "    alt.when(selectgênero)\n",
        "    .then(alt.Color(\"Gender:N\").legend(None))\n",
        "    .otherwise(alt.value(\"lightgray\"))\n",
        ")\n",
        "\n",
        "\n",
        "painel_usuarios = alt.Chart(df_app_namoro).mark_point().transform_calculate(\n",
        "    altura='datum.Height * 30.48'\n",
        ").encode(\n",
        "    alt.X('Age:Q', scale=alt.Scale(domain=[17,36])),\n",
        "    alt.Y('altura:Q', scale=alt.Scale(domain=[146,190])),\n",
        "    color=color,\n",
        "    tooltip=['Age','altura:Q','Education Level','Gender']\n",
        ").interactive().add_params(selectgênero)\n",
        "\n",
        "painel_usuarios\n",
        "\n"
      ]
    },
    {
      "cell_type": "markdown",
      "metadata": {
        "id": "uv_ZgiWOQavf"
      },
      "source": [
        "Podemos então como visto nesse gráfico, codificar o gênero no canal cor, adicionar um botão interativo para que o leitor possa escolher o que visualizar alternamente.\n",
        "\n",
        "Essa opção é interessante, mas já pensando em adicionar mais filtros, podemos trocar para um botão que não destaca a informação e sim mostra apenas ela."
      ]
    },
    {
      "cell_type": "code",
      "execution_count": null,
      "metadata": {
        "id": "Ijrh0XxlQavf"
      },
      "outputs": [],
      "source": [
        "options = ['Male','Female']\n",
        "labels = [option + ' ' for option in options]\n",
        "\n",
        "input_dropdown = alt.binding_radio(\n",
        "    options=options + [None],\n",
        "    labels=labels + ['Both'],\n",
        "    name='Gênero '\n",
        ")\n",
        "selection = alt.selection_point(\n",
        "    fields=['Gender'],\n",
        "    bind=input_dropdown,\n",
        ")\n",
        "\n",
        "\n",
        "painel_usuarios = alt.Chart(df_app_namoro).mark_point().transform_calculate(\n",
        "    altura='datum.Height * 30.48'\n",
        ").encode(\n",
        "    alt.X('Age:Q', scale=alt.Scale(domain=[17,36])),\n",
        "    alt.Y('altura:Q', scale=alt.Scale(domain=[146,190])),\n",
        "    color=alt.Color('Gender:N').scale(domain=options),\n",
        "    tooltip=['Age','altura:Q','Education Level','Gender']\n",
        ").interactive().add_params(\n",
        "    selection\n",
        ").transform_filter(\n",
        "    selection\n",
        ")\n",
        "\n",
        "painel_usuarios"
      ]
    },
    {
      "cell_type": "markdown",
      "metadata": {
        "id": "huWOV1QHQavg"
      },
      "source": [
        "Agora podemos adicionar `sliders` para permitir o leitor selecionar um limite de idade que deseja visualizar."
      ]
    },
    {
      "cell_type": "code",
      "execution_count": null,
      "metadata": {
        "id": "tkpixOexQavg"
      },
      "outputs": [],
      "source": [
        "slider_altura_min = alt.binding_range(min=146, max=190, step=0.5, name='Altura mínima ')\n",
        "slider_altura_max = alt.binding_range(min=146, max=190, step=0.5, name='Altura máxima ')\n",
        "\n",
        "selectoraltura_min = alt.param(name='altura_min', value=146, bind=slider_altura_min)\n",
        "selectoraltura_max = alt.param(name='altura_max', value=190, bind=slider_altura_max)\n",
        "\n",
        "predicate = (alt.datum.altura < selectoraltura_min) | (alt.datum.altura > selectoraltura_max)\n",
        "\n",
        "painel_usuarios = alt.Chart(df_app_namoro).mark_point().transform_calculate(\n",
        "    altura='datum.Height * 30.48'\n",
        ").encode(\n",
        "    alt.X('Age:Q', scale=alt.Scale(domain=[17,36])),\n",
        "    alt.Y('altura:Q', scale=alt.Scale(domain=[146,190])),\n",
        "    color=alt.when(predicate).then(alt.value(\"lightgray\")).otherwise(alt.value(\"blue\")),\n",
        "    tooltip=['Age','altura:Q','Education Level','Gender']\n",
        ").interactive().add_params(\n",
        "    selection,\n",
        "    selectoraltura_min,\n",
        "    selectoraltura_max\n",
        ").transform_filter(\n",
        "    selection\n",
        ")\n",
        "\n",
        "painel_usuarios\n"
      ]
    },
    {
      "cell_type": "markdown",
      "metadata": {
        "id": "EUlktXPdQavh"
      },
      "source": [
        "De maneira análoga, adicionamos `sliders` para o intervalo de idade."
      ]
    },
    {
      "cell_type": "code",
      "execution_count": null,
      "metadata": {
        "id": "FPFlX1PGQavh"
      },
      "outputs": [],
      "source": [
        "botao_idade_min = alt.binding_range(min=17, max=36, step=1, name='Idade mínima ')\n",
        "botao_idade_max = alt.binding_range(min=17, max=36, step=1, name='Idade máxima ')\n",
        "\n",
        "selectoridade_min = alt.param(name='idade_min', value=17, bind=botao_idade_min)\n",
        "selectoridade_max = alt.param(name='idade_max', value=36, bind=botao_idade_max)\n",
        "\n",
        "predicate = ((alt.datum.altura < selectoraltura_min) | (alt.datum.altura > selectoraltura_max) |\n",
        "             (alt.datum.Age < selectoridade_min) | (alt.datum.Age > selectoridade_max))\n",
        "\n",
        "painel_usuarios = alt.Chart(df_app_namoro).mark_point().transform_calculate(\n",
        "    altura='datum.Height * 30.48'\n",
        ").encode(\n",
        "    alt.X('Age:Q', scale=alt.Scale(domain=[17,36])),\n",
        "    alt.Y('altura:Q', scale=alt.Scale(domain=[146,190])),\n",
        "    color=alt.when(predicate).then(alt.value(\"lightgray\")).otherwise(alt.value(\"blue\")),\n",
        "    tooltip=['Age','altura:Q','Education Level','Gender']\n",
        ").interactive().add_params(\n",
        "    selection,\n",
        "    selectoraltura_min,\n",
        "    selectoraltura_max,\n",
        "    selectoridade_min,\n",
        "    selectoridade_max\n",
        ").transform_filter(\n",
        "    selection\n",
        ")\n",
        "\n",
        "painel_usuarios\n"
      ]
    },
    {
      "cell_type": "markdown",
      "metadata": {
        "id": "LaJlUVyiQavi"
      },
      "source": [
        "Para finalizar e darmos uma facilidade ainda maior para o leitor visualizar a informação da base, adicionamos botões que destacam a escolaridade e interesse solicitados. Os pontos em destaque são apenas aqueles que satisfazem todas as opções do leitor. E por último, acrescentamos título e legendas."
      ]
    },
    {
      "cell_type": "code",
      "execution_count": null,
      "metadata": {
        "id": "NFoezdwlQavi"
      },
      "outputs": [],
      "source": [
        "menu_education = alt.binding_select(\n",
        "    options=[\"Any\", \"High School\", \"Bachelor's Degree\", \"Master's Degree\", \"Ph.D.\"],\n",
        "    name='Escolaridade '\n",
        ")\n",
        "selector_education = alt.param(name='education_min', value=\"Any\", bind=menu_education)\n",
        "\n",
        "menu_looking_for = alt.binding_select(\n",
        "    options=[\"Any\", \"Casual Dating\", \"Friendship\", \"Marriage\", \"Long-term Relationship\"],\n",
        "    name='Interesse '\n",
        ")\n",
        "selector_looking_for = alt.param(name='looking_for', value=\"Any\", bind=menu_looking_for)\n",
        "\n",
        "predicate = (\n",
        "    (alt.datum.altura < selectoraltura_min) | (alt.datum.altura > selectoraltura_max) |\n",
        "    (alt.datum.Age < selectoridade_min) | (alt.datum.Age > selectoridade_max) |\n",
        "    ((selector_education != \"Any\") & (alt.datum[\"Education Level\"] != selector_education)) |\n",
        "    ((selector_looking_for != \"Any\") & (alt.datum[\"Looking For\"] != selector_looking_for))\n",
        ")\n",
        "\n",
        "painel_usuarios = (\n",
        "    alt.Chart(df_app_namoro)\n",
        "    .mark_point()\n",
        "    .transform_calculate(altura='datum.Height * 30.48')\n",
        "    .encode(\n",
        "        alt.X('Age:Q', scale=alt.Scale(domain=[17, 36]), title=\"Idade\"),\n",
        "        alt.Y('altura:Q', scale=alt.Scale(domain=[146, 190]), title=\"Altura (cm)\"),\n",
        "        color=alt.condition(\n",
        "            predicate,\n",
        "            alt.value(\"lightgrey\"),\n",
        "            alt.value(\"blue\")\n",
        "        ),\n",
        "        tooltip=['Age', 'altura:Q', 'Education Level', 'Gender', 'Looking For']\n",
        "    )\n",
        "    .properties(\n",
        "        title=\"Painel Interativo de Usuários\",\n",
        "        width = 400,\n",
        "        height = 400\n",
        "    )\n",
        "    .add_params(\n",
        "        selection,\n",
        "        selectoraltura_min,\n",
        "        selectoraltura_max,\n",
        "        selectoridade_min,\n",
        "        selectoridade_max,\n",
        "        selector_education,\n",
        "        selector_looking_for\n",
        "    ).transform_filter(\n",
        "    selection\n",
        ")\n",
        "    .interactive()\n",
        ")\n",
        "\n",
        "painel_usuarios"
      ]
    },
    {
      "cell_type": "markdown",
      "metadata": {
        "id": "tjZInQEqQavi"
      },
      "source": [
        "## Felipe"
      ]
    },
    {
      "cell_type": "markdown",
      "metadata": {
        "id": "pnMU7UQ2Qavj"
      },
      "source": [
        "### Análise de Dados - Conjunto de Dados *Wheat* do *Vega Datasets*\n",
        "\n",
        "### Introdução\n",
        "Neste estudo, utilizamos a biblioteca `altair` para realizar uma análise exploratória do conjunto de dados `wheat` do *Vega Datasets*. O objetivo é visualizar a distribuição dos tipos de trigo, a evolução dos salários ao longo dos anos e a relação entre salário e ano.\n",
        "\n",
        "### Carregamento dos Dados\n",
        "O conjunto de dados foi carregado utilizando:"
      ]
    },
    {
      "cell_type": "code",
      "execution_count": null,
      "metadata": {
        "id": "rfnv0oD4Qavj"
      },
      "outputs": [],
      "source": [
        "import altair as alt\n",
        "from vega_datasets import data\n",
        "import pandas as pd\n",
        "\n",
        "# Carregar o conjunto de dados\n",
        "wheat = data.wheat()\n",
        "\n",
        "# Exibir as primeiras linhas\n",
        "display(wheat.head())\n",
        "\n",
        "\n",
        "\n"
      ]
    },
    {
      "cell_type": "markdown",
      "metadata": {
        "id": "FZGoxRikQavj"
      },
      "source": [
        "Isso permite uma primeira inspeção dos dados e garante que estamos lidando corretamente com o *dataset*.\n",
        "\n",
        "### Gráfico 1: Distribuição dos Tipos de Trigo\n",
        "Para analisar a distribuição dos diferentes tipos de trigo no conjunto de dados, utilizamos um gráfico de barras:\n"
      ]
    },
    {
      "cell_type": "code",
      "execution_count": null,
      "metadata": {
        "id": "GbWNSqkBQavk"
      },
      "outputs": [],
      "source": [
        "# Gráfico 1: Distribuição dos Tipos de Trigo\n",
        "chart1 = alt.Chart(wheat).mark_bar().encode(\n",
        "    x=alt.X('wheat:O', title='Tipo de Trigo'),\n",
        "    y=alt.Y('count()', title='Quantidade'),\n",
        "    color=alt.Color('wheat:N', legend=None),\n",
        "    tooltip=['wheat', 'count()']\n",
        ").properties(\n",
        "    title='Distribuição dos Tipos de Trigo',\n",
        "    width=600,\n",
        "    height=400\n",
        ").interactive()\n",
        "\n",
        "chart1"
      ]
    },
    {
      "cell_type": "markdown",
      "metadata": {
        "id": "xYBQwkE_Qavk"
      },
      "source": [
        "### Interpretação\n",
        "- O gráfico exibe a contagem de cada tipo de trigo presente no conjunto de dados.\n",
        "- A visualização permite identificar quais tipos são mais frequentes.\n",
        "- A interatividade ajuda na análise detalhada ao passar o cursor sobre as barras.\n",
        "\n",
        "### Gráfico 2: Relação entre Salário e Ano\n",
        "Para entender como os salários evoluíram ao longo dos anos para diferentes tipos de trigo, usamos um gráfico de linha:"
      ]
    },
    {
      "cell_type": "code",
      "execution_count": null,
      "metadata": {
        "id": "N_XFGzKAQavk"
      },
      "outputs": [],
      "source": [
        "# Gráfico 2: Relação entre Rendimento e Ano da Colheita\n",
        "chart2 = alt.Chart(wheat).mark_line(point=True).encode(\n",
        "    x=alt.X('year:T', title='Ano'),\n",
        "    y=alt.Y('wages:Q', title='Salário'),\n",
        "    color=alt.Color('wheat:N', title='Tipo de Trigo'),\n",
        "    tooltip=['year', 'wages', 'wheat']\n",
        ").properties(\n",
        "    title='Salário ao Longo dos Anos',\n",
        "    width=700,\n",
        "    height=400\n",
        ").interactive()\n",
        "\n",
        "chart2\n",
        "\n",
        "\n"
      ]
    },
    {
      "cell_type": "markdown",
      "metadata": {
        "id": "8IxKB-MGQavl"
      },
      "source": [
        "### Interpretação\n",
        "- Cada linha representa a variação do salário ao longo do tempo para um determinado tipo de trigo.\n",
        "- É possível observar tendências de crescimento ou queda no salário ao longo dos anos.\n",
        "- Os pontos destacados no gráfico indicam os valores individuais de cada ano.\n",
        "\n",
        "### Gráfico 3: Comparação entre Salário e Ano\n",
        "Para verificar melhor a dispersão dos salários ao longo do tempo, utilizamos um gráfico de dispersão (*scatter plot*):\n"
      ]
    },
    {
      "cell_type": "code",
      "execution_count": null,
      "metadata": {
        "id": "DmCkQZutQavl"
      },
      "outputs": [],
      "source": [
        "# Gráfico 3: Comparação entre Salário e Ano\n",
        "chart3 = alt.Chart(wheat).mark_circle(size=80).encode(\n",
        "    x=alt.X('year:T', title='Ano'),\n",
        "    y=alt.Y('wages:Q', title='Salário'),\n",
        "    color=alt.Color('wheat:N', title='Tipo de Trigo'),\n",
        "    tooltip=['year', 'wages', 'wheat']\n",
        ").properties(\n",
        "    title='Relação entre Ano e Salário',\n",
        "    width=700,\n",
        "    height=400\n",
        ").interactive()\n",
        "\n",
        "chart3\n"
      ]
    },
    {
      "cell_type": "markdown",
      "metadata": {
        "id": "UhI4SqSfQavm"
      },
      "source": [
        "### Interpretação\n",
        "- Cada ponto representa o salário de um tipo de trigo em um determinado ano.\n",
        "- A distribuição dos pontos pode indicar a existência de padrões, como aumento ou queda de salário ao longo do tempo.\n",
        "- A cor representa o tipo de trigo, facilitando a comparação entre diferentes categorias.\n",
        "\n",
        "\n"
      ]
    },
    {
      "cell_type": "markdown",
      "metadata": {
        "id": "vYy1IGaMQavm"
      },
      "source": [
        "### Estatísticas de Resumo\n",
        "Para entender melhor as características do conjunto de dados, calculamos estatísticas descritivas:\n",
        "\n",
        "\n",
        "\n"
      ]
    },
    {
      "cell_type": "code",
      "execution_count": null,
      "metadata": {
        "id": "Hy_SBEKiQavm"
      },
      "outputs": [],
      "source": [
        "# Estatísticas descritivas gerais\n",
        "descriptive_stats = wheat.describe()\n",
        "display(descriptive_stats)\n",
        "\n",
        "# Cálculo de frequências por tipo de trigo\n",
        "frequency_counts = wheat['wheat'].value_counts()\n",
        "display(frequency_counts)"
      ]
    },
    {
      "cell_type": "markdown",
      "metadata": {
        "id": "9Ln0PDjCQavn"
      },
      "source": [
        "### Interpretação\n",
        "- O método `.describe()` fornece estatísticas como média, mediana, desvio padrão, valores mínimos e máximos.\n",
        "- A contagem de frequências ajuda a visualizar a distribuição das categorias de trigo.\n",
        "- Esses cálculos complementam as visualizações anteriores, fornecendo uma análise quantitativa detalhada.\n",
        "\n",
        "### Conclusão\n",
        "A análise permitiu:\n",
        "1. Identificar a distribuição dos diferentes tipos de trigo.\n",
        "2. Avaliar a evolução dos salários ao longo do tempo.\n",
        "3. Visualizar a relação entre salário e ano para diferentes tipos de trigo.\n",
        "4. Calcular estatísticas descritivas que ajudam a entender a distribuição e tendências dos dados.\n",
        "\n",
        "Os gráficos interativos facilitaram a exploração dos dados e a identificação de padrões importantes. Outras análises poderiam incluir fatores adicionais, como a relação com a produção ou influências econômicas.\n"
      ]
    },
    {
      "cell_type": "markdown",
      "metadata": {
        "id": "KEu2NBCGQavn"
      },
      "source": [
        "## Lucas Barros"
      ]
    },
    {
      "cell_type": "code",
      "execution_count": null,
      "metadata": {
        "id": "iXAgQjSEQavo"
      },
      "outputs": [],
      "source": [
        "import pandas as pd\n",
        "import altair as alt\n",
        "import numpy as np"
      ]
    },
    {
      "cell_type": "markdown",
      "metadata": {
        "id": "gbE6HsOHQavo"
      },
      "source": [
        "Usaremos uma base de dados do site 'base dos dados' que trata aobre os jogos olimpicos modernos, tanto de verão quanto de inverno. O link para acesso da base de dados é https://basedosdados.org/dataset/a898f300-fa77-48dd-b4dd-59b83d7bb345?table=16d53ff3-afce-4c31-8a5c-bcb77a59078b\n"
      ]
    },
    {
      "cell_type": "code",
      "execution_count": null,
      "metadata": {
        "id": "-blqd9EoQavo"
      },
      "outputs": [],
      "source": [
        "dados = pd.read_csv('mundo_kaggle_olimpiadas_microdados.csv')\n",
        "dados"
      ]
    },
    {
      "cell_type": "markdown",
      "metadata": {
        "id": "PSKn7XcMQavo"
      },
      "source": [
        "Primeiramente, faremos uma limpeza nos dados deixando apenas os dados sobre as edições dos Jogos Olímpicos de Inverno."
      ]
    },
    {
      "cell_type": "code",
      "execution_count": null,
      "metadata": {
        "id": "1BJMMQnHQavp"
      },
      "outputs": [],
      "source": [
        "dados = dados.loc[dados['edicao'] == 'Winter']\n",
        "dados"
      ]
    },
    {
      "cell_type": "markdown",
      "metadata": {
        "id": "t2anDq1cQavp"
      },
      "source": [
        "Agora, faremos uma primeira análise estatística sobre as alturas dos atletas em cada um dos esportes."
      ]
    },
    {
      "cell_type": "markdown",
      "metadata": {
        "id": "SiUkidmsQavp"
      },
      "source": [
        "No início veremos as estatísticas descritivas das alturas de forma geral."
      ]
    },
    {
      "cell_type": "code",
      "execution_count": null,
      "metadata": {
        "id": "RS0BlcSZQavq"
      },
      "outputs": [],
      "source": [
        "dados['altura'].describe()"
      ]
    },
    {
      "cell_type": "markdown",
      "metadata": {
        "id": "_BYobrSIQavq"
      },
      "source": [
        "Agora faremos uma análise equivalente mas spearando esporte por esporte."
      ]
    },
    {
      "cell_type": "code",
      "execution_count": null,
      "metadata": {
        "id": "yhuoR_tmQavr"
      },
      "outputs": [],
      "source": [
        "dados.groupby('esporte')['altura'].describe()"
      ]
    },
    {
      "cell_type": "markdown",
      "metadata": {
        "id": "SI6BjxGUQavr"
      },
      "source": [
        "A primeira coisa a se obserar é que não há dados sobre atletas de Patrulha Militar e nem de Alpinismo. Isso ocore decido ao fato de que a Patrulha Militar só foi de fato um evento de competição em 1924 e ocorreu outras 3 vezes como demonstração então por ser de fato disputado apenas na primeira edição os dados são mais escassos. Já sobre o Alpinismo temos uma situação parecidas, com mais participações mas todas extremamente antigas."
      ]
    },
    {
      "cell_type": "markdown",
      "metadata": {
        "id": "-bCrCgXlQavr"
      },
      "source": [
        "Além disso, podemos destacar agora que esporte tem a menor média de altura, no caso a patinação no gelo, e qual tem a maior média, no caso o bobsleigh. É possível também perceber quais esportes tem mais ou menos variação na altura, por exemplo, o combinado nórdico tem consideravelmente menos disperção na altura dos atletas que a patinação no gelo mesmo tendo uma média maior."
      ]
    },
    {
      "cell_type": "code",
      "execution_count": null,
      "metadata": {
        "id": "LQpUwsj5Qavs"
      },
      "outputs": [],
      "source": [
        "dados.groupby(['esporte', 'medalha'])['altura'].describe()"
      ]
    },
    {
      "cell_type": "markdown",
      "metadata": {
        "id": "pv3Ma_7MQavs"
      },
      "source": [
        "Aqui percebemos uma diferença estatisticamente irrelevante ed medalhistas de ouro prata e bronze para determinado esporte."
      ]
    },
    {
      "cell_type": "markdown",
      "metadata": {
        "id": "k2_9EssUQavs"
      },
      "source": [
        " Após essas análises temos uma boa impressão sobre as alturas gerais dos atletas e dos atletas por esporte, no entanto ainda não é possível ter uma noção tão boa sobre a distribuição dessas alturas, portanto faremos uma visualização para ajudar nisso."
      ]
    },
    {
      "cell_type": "markdown",
      "metadata": {
        "id": "DNUkmukXQavs"
      },
      "source": [
        "Antes será necessário desabilitar o número máximo de linhas do altair pois nossos dados tem mais de 5000 linhas."
      ]
    },
    {
      "cell_type": "code",
      "execution_count": null,
      "metadata": {
        "id": "DQuiRhb8Qavt"
      },
      "outputs": [],
      "source": [
        "alt.data_transformers.disable_max_rows()\n"
      ]
    },
    {
      "cell_type": "code",
      "execution_count": null,
      "metadata": {
        "id": "lHCao7wxQavt"
      },
      "outputs": [],
      "source": [
        "alt.Chart(dados).mark_circle().encode(\n",
        "    alt.X('altura',\n",
        "          scale=alt.Scale(domain=[130, 215]), title='Altura (cm)'),\n",
        "    tooltip=[\n",
        "        alt.Tooltip('nome_atleta'),\n",
        "        alt.Tooltip('esporte'),\n",
        "        alt.Tooltip('pais'),\n",
        "        alt.Tooltip('altura'),\n",
        "        alt.Tooltip('medalha')\n",
        "        ]\n",
        ").properties(\n",
        "    title= 'Altura dos altetas'\n",
        ")"
      ]
    },
    {
      "cell_type": "markdown",
      "metadata": {
        "id": "IPKN1rWhQavu"
      },
      "source": [
        "Aqui já podemos perceber que há uma concentração em torno da média e não uma concentração tão grande nos extremos."
      ]
    },
    {
      "cell_type": "code",
      "execution_count": null,
      "metadata": {
        "id": "EAEHGJCeQavu"
      },
      "outputs": [],
      "source": [
        "alt.Chart(dados).mark_circle().transform_filter(\n",
        "    alt.datum.medalha != None\n",
        ").encode(\n",
        "    alt.X('altura',\n",
        "          scale=alt.Scale(domain=[130, 215]), title= 'Altura (cm)'),\n",
        "    tooltip=[\n",
        "        alt.Tooltip('nome_atleta'),\n",
        "        alt.Tooltip('esporte'),\n",
        "        alt.Tooltip('pais'),\n",
        "        alt.Tooltip('altura'),\n",
        "        alt.Tooltip('medalha')\n",
        "        ],\n",
        "    color=alt.Color('medalha')\n",
        ").properties(\n",
        "    title= 'Altura dos altetas medalhistas'\n",
        ")"
      ]
    },
    {
      "cell_type": "markdown",
      "metadata": {
        "id": "BkD517VgQavu"
      },
      "source": [
        "Ja agora podemos perceber que entre os medalhistas isso também se aplica."
      ]
    },
    {
      "cell_type": "code",
      "execution_count": null,
      "metadata": {
        "id": "DLNNrOO0Qavv"
      },
      "outputs": [],
      "source": [
        "alt.Chart(dados).mark_circle().encode(\n",
        "    alt.X('altura',\n",
        "          scale=alt.Scale(domain=[130, 215]), title= 'Altura (cm)'),\n",
        "    tooltip=[\n",
        "        alt.Tooltip('nome_atleta'),\n",
        "        alt.Tooltip('esporte'),\n",
        "        alt.Tooltip('pais'),\n",
        "        alt.Tooltip('altura')\n",
        "        ]\n",
        ").facet(\n",
        "    facet='esporte:N',\n",
        "    columns=3\n",
        ")"
      ]
    },
    {
      "cell_type": "markdown",
      "metadata": {
        "id": "fmVbYi2LQavv"
      },
      "source": [
        "Separando agora por esporte podemos ver que todos mantém o mesmo padrão tendo apenas algumas leves translações verticais"
      ]
    },
    {
      "cell_type": "code",
      "execution_count": null,
      "metadata": {
        "id": "KCAMd4z-Qavv"
      },
      "outputs": [],
      "source": [
        "alt.Chart(dados).mark_circle().transform_filter(\n",
        "    alt.datum.medalha != None\n",
        ").encode(\n",
        "    alt.X('altura',\n",
        "          scale=alt.Scale(domain=[130, 215]), title= 'Altura (cm)'),\n",
        "    tooltip=[\n",
        "        alt.Tooltip('nome_atleta'),\n",
        "        alt.Tooltip('esporte'),\n",
        "        alt.Tooltip('pais'),\n",
        "        alt.Tooltip('altura')\n",
        "        ]\n",
        ").facet(\n",
        "    facet='medalha:N',\n",
        "    columns=3\n",
        ")"
      ]
    },
    {
      "cell_type": "markdown",
      "metadata": {
        "id": "hQ1-ax11Qavw"
      },
      "source": [
        "Aqui podemos perceber que esse comportamento se mantém ao também separando cada tipo de medalhista como era de se imaginar."
      ]
    },
    {
      "cell_type": "code",
      "execution_count": null,
      "metadata": {
        "id": "uoX_HWheQavw"
      },
      "outputs": [],
      "source": [
        "alt.Chart(dados).mark_bar().encode(\n",
        "    alt.X('altura',\n",
        "          scale=alt.Scale(domain=[130, 210]), title= 'Altura (cm)'),\n",
        "    alt.Y('count()', title= 'Número de ocorrências'),\n",
        "    tooltip=[\n",
        "        alt.Tooltip('nome_atleta'),\n",
        "        alt.Tooltip('esporte'),\n",
        "        alt.Tooltip('pais'),\n",
        "        alt.Tooltip('altura')\n",
        "        ]\n",
        ")"
      ]
    },
    {
      "cell_type": "markdown",
      "metadata": {
        "id": "PknSqKnKQavx"
      },
      "source": [
        "Por fim, adicionamos uma contagem para cada altura presente para podermos visualizar melhor as concentrações de atletas em barras e podemos perceber que se aproxima de uma distribuição normal."
      ]
    },
    {
      "cell_type": "markdown",
      "metadata": {
        "id": "DF_7AHxQQavx"
      },
      "source": [
        "Por fim, faremos um gráfico que mostra o ranking geral de todas as olímpiadas com uma parte interatva sendo possível \"passear\" pelos anos. Nesse caso cada medalha de ouro foi premiada com 6 pontos cada uma de prata com 3 pontos e as de bronze com 1 ponto."
      ]
    },
    {
      "cell_type": "code",
      "execution_count": null,
      "metadata": {
        "id": "zbFGqjB_Qavx"
      },
      "outputs": [],
      "source": [
        "import altair as alt\n",
        "import pandas as pd\n",
        "\n",
        "slider = alt.binding_range(min=1924, max=2014, step=2, name='Ano')\n",
        "slider_ano = alt.selection_point(\n",
        "    name='slider',\n",
        "    fields=['ano'],\n",
        "    init={'ano': 1924},\n",
        "    bind=slider,\n",
        "    value=1924\n",
        ")\n",
        "\n",
        "# Define fixed country colors\n",
        "unique_countries = dados['pais'].unique()\n",
        "country_colors = alt.Scale(\n",
        "    domain=unique_countries,\n",
        "    range=['#1f77b4', '#ff7f0e', '#2ca02c', '#d62728', '#9467bd',\n",
        "           '#8c564b', '#e377c2', '#7f7f7f', '#bcbd22', '#17becf']\n",
        ")\n",
        "\n",
        "# Legend for Medal Points\n",
        "legend_data = pd.DataFrame({\n",
        "    'Medal': ['Ouro', 'Prata', 'Bronze'],\n",
        "    'Points': [6, 3, 1]\n",
        "})\n",
        "\n",
        "legend = alt.Chart(legend_data).mark_rect().encode(\n",
        "    y=alt.Y('Medal:N', title='Medalha', axis=alt.Axis(orient='left'), sort=['Ouro', 'Prata', 'Bronze']),\n",
        "    color=alt.Color('Medal:N', scale=alt.Scale(\n",
        "        domain=['Ouro', 'Prata', 'Bronze'],\n",
        "        range=['gold', 'silver', 'brown']\n",
        "    ), legend=None)\n",
        ").properties(\n",
        "    title='Pontos por Medalha',\n",
        "    width=75,\n",
        "    height=70\n",
        ")\n",
        "\n",
        "legend_text = alt.Chart(legend_data).mark_text(align='left').encode(\n",
        "    y=alt.Y('Medal:N', title='Medalha', sort=['Ouro', 'Prata', 'Bronze'], axis=None),\n",
        "    text=alt.Text('Points:N')\n",
        ")\n",
        "\n",
        "legend_chart = (legend + legend_text).resolve_scale(\n",
        "    color='independent'\n",
        ")\n",
        "\n",
        "# Main Chart\n",
        "chart = alt.Chart(dados).mark_bar().transform_calculate(\n",
        "    pontos=\"{'Gold': 6, 'Silver': 3, 'Bronze': 1}[datum.medalha]\"\n",
        ").encode(\n",
        "    alt.X('pais:N', title='Países', axis=alt.Axis(titleY=40)),\n",
        "    alt.Y('sum(pontos):Q', scale=alt.Scale(domain=[0, 3600]), title='Soma dos pontos'),\n",
        "    alt.Color('pais:N', scale=country_colors, legend=None)  # Fixed colors for countries\n",
        ").transform_filter(\n",
        "    alt.datum.ano <= slider_ano['ano']\n",
        ").properties(\n",
        "    width=700,\n",
        "    height=500,\n",
        "    title=\"Pontos relacionados à medalha de cada país nos Jogos Olímpicos de Inverno (Acumulativo)\"\n",
        ").add_params(\n",
        "    slider_ano\n",
        ")\n",
        "\n",
        "# Final Layout\n",
        "final_chart = alt.hconcat(\n",
        "    chart,\n",
        "    legend_chart\n",
        ").configure_view(\n",
        "    stroke=None\n",
        ")\n",
        "\n",
        "final_chart\n"
      ]
    },
    {
      "cell_type": "markdown",
      "metadata": {
        "id": "yyPr5M28Qavy"
      },
      "source": [
        "Agora faremos outra visualização, dessa vez visando analisar os pesos e alturas de cada atleta."
      ]
    },
    {
      "cell_type": "markdown",
      "metadata": {
        "id": "SaI7unpuQavy"
      },
      "source": [
        "Primeiro faremos novamente as análises estatísticas para as váriaveis de peso.\n"
      ]
    },
    {
      "cell_type": "code",
      "execution_count": null,
      "metadata": {
        "id": "VOl8O1mbQavz"
      },
      "outputs": [],
      "source": [
        "dados['peso'].describe()"
      ]
    },
    {
      "cell_type": "markdown",
      "metadata": {
        "id": "mtSDv1CuQavz"
      },
      "source": [
        "Temos algumas estatísticas mas seriam melhores se fossem separadas por esporte já que existem esportes que naturalmente favorecem pessoas mais pesadas ou mais leves."
      ]
    },
    {
      "cell_type": "code",
      "execution_count": null,
      "metadata": {
        "id": "9hHr-WjqQavz"
      },
      "outputs": [],
      "source": [
        "dados.groupby('esporte')['peso'].describe()"
      ]
    },
    {
      "cell_type": "markdown",
      "metadata": {
        "id": "p-f2xZawQav0"
      },
      "source": [
        "Percebeos que assim como na altura o Alpinismo e Patrulha Militar não tem dados e o motivo é o mesmo citado anteriormente."
      ]
    },
    {
      "cell_type": "markdown",
      "metadata": {
        "id": "oJWUHTNFQav0"
      },
      "source": [
        "Ademais, percebe-se que os esportes que tiveram maior média de alturas tendem a ter maiores pesos também, o que é completamente válido já que pessoas maiores tendem a pesar mais em média. Contudo, aida são precisas análises mais detalhadas para observar a real distribuição de pesos e se há alguma anormalidade inesperada."
      ]
    },
    {
      "cell_type": "markdown",
      "metadata": {
        "id": "78R3SZ8PQav0"
      },
      "source": [
        "Faremos agora uma análise, similar com a feita com as alturas, que abordará mais fortemente o quesito de medalhas ganhas pelos atletas."
      ]
    },
    {
      "cell_type": "code",
      "execution_count": null,
      "metadata": {
        "id": "lkdYbpfrQav0"
      },
      "outputs": [],
      "source": [
        "dados.groupby(['esporte', 'medalha'])['peso'].describe()"
      ]
    },
    {
      "cell_type": "markdown",
      "metadata": {
        "id": "N6qQelaPQav1"
      },
      "source": [
        "Após ver esses dados é claro observar que dado um determinado esporte as diferenças médias de pesos são estatisticamente insgnificantes visto o desvio padrão."
      ]
    },
    {
      "cell_type": "markdown",
      "metadata": {
        "id": "_-3rD3PFQav2"
      },
      "source": [
        "Para conseguirmos enfim ter certeza sobre co o é essa distribuição de pesos dos atletas faremos uma visualização."
      ]
    },
    {
      "cell_type": "code",
      "execution_count": null,
      "metadata": {
        "id": "HfIAaiQwQav2"
      },
      "outputs": [],
      "source": [
        "alt.Chart(dados).mark_circle().encode(\n",
        "    alt.X('peso',\n",
        "          scale=alt.Scale(domain=[30, 150]), title='Peso (kg)'),\n",
        "    tooltip=[\n",
        "        alt.Tooltip('nome_atleta'),\n",
        "        alt.Tooltip('esporte'),\n",
        "        alt.Tooltip('pais'),\n",
        "        alt.Tooltip('peso'),\n",
        "        alt.Tooltip('medalha')\n",
        "        ]\n",
        ").properties(\n",
        "    title= 'Peso dos altetas'\n",
        ")"
      ]
    },
    {
      "cell_type": "markdown",
      "metadata": {
        "id": "5YwfuLYpQav2"
      },
      "source": [
        "Aqui já podemos perceber que a distribuição se aproxima da de altura em certo sentido mas por outro lado parece ter uma concentração entorno da média mas um desvio padrão maior como as estatísticas indicavam."
      ]
    },
    {
      "cell_type": "code",
      "execution_count": null,
      "metadata": {
        "id": "VHNSBMx_Qav3"
      },
      "outputs": [],
      "source": [
        "alt.Chart(dados).mark_circle().transform_filter(\n",
        "    alt.datum.medalha != None\n",
        ").encode(\n",
        "    alt.X('peso',\n",
        "          scale=alt.Scale(domain=[30, 150]), title='Peso (kg)'),\n",
        "    tooltip=[\n",
        "        alt.Tooltip('nome_atleta'),\n",
        "        alt.Tooltip('esporte'),\n",
        "        alt.Tooltip('pais'),\n",
        "        alt.Tooltip('peso'),\n",
        "        alt.Tooltip('medalha')\n",
        "        ],\n",
        "    color=alt.Color('medalha')\n",
        ").properties(\n",
        "    title= 'Peso dos altetas medalhistas'\n",
        ")"
      ]
    },
    {
      "cell_type": "markdown",
      "metadata": {
        "id": "LY6qcXXlQav3"
      },
      "source": [
        "Os atletas medalhistas aparentam ter a mesma distribuição.'"
      ]
    },
    {
      "cell_type": "code",
      "execution_count": null,
      "metadata": {
        "id": "d5Rd4L4rQav4"
      },
      "outputs": [],
      "source": [
        "alt.Chart(dados).mark_circle().encode(\n",
        "    alt.X('peso',\n",
        "          scale=alt.Scale(domain=[30, 150]), title='Peso (kg)'),\n",
        "    tooltip=[\n",
        "        alt.Tooltip('nome_atleta'),\n",
        "        alt.Tooltip('esporte'),\n",
        "        alt.Tooltip('pais'),\n",
        "        alt.Tooltip('peso')\n",
        "        ]\n",
        ").facet(\n",
        "    facet='esporte:N',\n",
        "    columns=3\n",
        ")"
      ]
    },
    {
      "cell_type": "markdown",
      "metadata": {
        "id": "D7-IOKBdQav4"
      },
      "source": [
        "Com a separação por esportes já consegiumos ver uma diferenciação mais acentuada que na altura cmoo a diferença de patinação no gelo e bobsleigh"
      ]
    },
    {
      "cell_type": "code",
      "execution_count": null,
      "metadata": {
        "id": "fCB00hR9Qav5"
      },
      "outputs": [],
      "source": [
        "alt.Chart(dados).mark_bar().encode(\n",
        "    alt.X('peso',\n",
        "          scale=alt.Scale(domain=[30, 150]), title='Peso (kg)'),\n",
        "    alt.Y('count()', title= 'Número de ocorreências'),\n",
        "    tooltip=[\n",
        "        alt.Tooltip('nome_atleta'),\n",
        "        alt.Tooltip('esporte'),\n",
        "        alt.Tooltip('pais'),\n",
        "        alt.Tooltip('peso')\n",
        "        ]\n",
        ")"
      ]
    },
    {
      "cell_type": "markdown",
      "metadata": {
        "id": "Gz8gsVJ2Qav5"
      },
      "source": [
        "Com essa visualização podemos perceber uma espécie de distribuição normal com mais \"outliers\" para o lado direito e concentração maior na parte esquerda."
      ]
    },
    {
      "cell_type": "code",
      "execution_count": null,
      "metadata": {
        "id": "rFkjDyLgQav5"
      },
      "outputs": [],
      "source": [
        "chart2 = alt.Chart(dados).mark_point(filled=True).transform_filter(\n",
        "    alt.datum.medalha != None\n",
        ").encode(\n",
        "    alt.X('altura', scale=alt.Scale(domain=[140, 205]), title='Altura (cm)'),\n",
        "    alt.Y('peso', scale=alt.Scale(domain=[30, 130]), title='Peso (kg)'),\n",
        "    alt.Column('esporte', title='Esporte'),\n",
        "    color=alt.Color('medalha', title='Medalha'\n",
        "    ),\n",
        "    tooltip=[\n",
        "        alt.Tooltip('nome_atleta', title='Atleta'),\n",
        "        alt.Tooltip('medalha', title='Medalha'),\n",
        "    ]\n",
        ").properties(\n",
        "    title='Altura x Peso dos atletas medalhistas (usando window ranking)'\n",
        ")\n",
        "\n",
        "chart2\n"
      ]
    },
    {
      "cell_type": "markdown",
      "metadata": {
        "id": "NDs1Qn_WQav5"
      },
      "source": [
        "Essa visualização nos permite observar um comportamento próximo do linear associando a altura com o peso e como esse comportamento linear se dá em cada esporte diferente, mas não nos permite ter boa visualização de alguma possíve distribuição dos medalhistas"
      ]
    },
    {
      "cell_type": "code",
      "execution_count": null,
      "metadata": {
        "id": "f8V3aEyxQav5"
      },
      "outputs": [],
      "source": [
        "chart_fixed = alt.Chart(dados).mark_point(filled=True).transform_filter(\n",
        "    alt.datum.medalha != None\n",
        ").transform_calculate(\n",
        "    esporte_pt=\"\"\"{'Alpine Skiing': 'Esqui Alpino',\n",
        "        'Biathlon': 'Biatlo',\n",
        "        'Bobsleigh': 'Bobsleigh',\n",
        "        'Cross Country Skiing': 'Esqui Cross Country',\n",
        "        'Curling': 'Curling',\n",
        "        'Figure Skating': 'Patinação Artística',\n",
        "        'Freestyle Skiing': 'Esqui Estilo Livre',\n",
        "        'Ice Hockey': 'Hóquei no gelo',\n",
        "        'Luge': 'Luge',\n",
        "        'Nordic Combined': 'Combinado Nórdico',\n",
        "        'Short Track Speed Skating': 'Patinação de velocidade curta',\n",
        "        'Skeleton': 'Skeleton',\n",
        "        'Ski Jumping': 'Salto de Esqui',\n",
        "        'Snowboarding': 'Snowboarding',\n",
        "        'Speed Skating': 'Patinação de velocidade'\n",
        "    }[datum.esporte]\"\"\"\n",
        ").transform_calculate(\n",
        "    medalha_valor=\"if(datum.medalha == 'Gold', 3, if(datum.medalha == 'Silver', 2, if(datum.medalha == 'Bronze', 1, 0)))\"\n",
        ").transform_joinaggregate(\n",
        "    max_medalha_valor=\"max(medalha_valor)\",\n",
        "    groupby=[\"nome_atleta\"]\n",
        ").transform_filter(\n",
        "    alt.datum.medalha_valor == alt.datum.max_medalha_valor\n",
        ").encode(\n",
        "    alt.X('altura', scale=alt.Scale(domain=[140, 205]), title='Altura (cm)'),\n",
        "    alt.Y('peso', scale=alt.Scale(domain=[30, 130]), title='Peso (kg)'),\n",
        "    alt.Column('esporte_pt:N', title='Esporte'),\n",
        "    color=alt.Color('medalha:N', title='Medalha', scale=alt.Scale(\n",
        "        domain=['Gold', 'Silver', 'Bronze'],\n",
        "        range=['#FFD700', '#C0C0C0', '#CD7F32']\n",
        "    ), legend=alt.Legend(\n",
        "        titleFontSize=14,\n",
        "        labelFontSize=12,\n",
        "        symbolSize=200,\n",
        "        orient='left',\n",
        "        labelExpr=\"{'Gold': 'Ouro', 'Silver': 'Prata', 'Bronze': 'Bronze'}[datum.label]\"\n",
        "    )),\n",
        "    tooltip=[\n",
        "        alt.Tooltip('nome_atleta', title='Atleta'),\n",
        "        alt.Tooltip('medalha', title='Medalha'),\n",
        "        alt.Tooltip('medalha_valor:Q', title='Medalha Valor'),\n",
        "        alt.Tooltip('max_medalha_valor:Q', title='Max Medalha Valor'),\n",
        "        alt.Tooltip('esporte', title='esporte')\n",
        "    ]\n",
        ").properties(\n",
        "    title='Altura x Peso dos atletas medalhistas (melhor medalha por atleta)'\n",
        ")\n",
        "\n",
        "chart_fixed\n"
      ]
    },
    {
      "cell_type": "markdown",
      "metadata": {
        "id": "2DOJceSvQav6"
      },
      "source": [
        "Agora podemos ter melhor noção de como se distribuem os medalhistas de ouro prata e bronze em cada esporte e podemos perceber que, por exemplo no esporte hóquei no gelo medalhistas de ouro tendem a ter uma estatura e peso maior que é um esporte extremamente físico mas já no curling percebemos um espaçamento maior já que é um esporte que exige menos do condicionamento físico."
      ]
    },
    {
      "cell_type": "markdown",
      "metadata": {
        "id": "wZUpqBRjQav6"
      },
      "source": [
        "Por fim pudemos perceber que os esportes têm grande influência sobre as medidas físicas de seus atletas, espcialmente de seus medalhista, inclusive quais tipos de medalhistas."
      ]
    },
    {
      "cell_type": "markdown",
      "metadata": {
        "id": "rx0eIPHLQav7"
      },
      "source": [
        "## Lucas Paulo Gonçalves\n",
        "\n",
        "Farei dois gráficos usando o dataset cars, do vega_datasets.\n",
        "\n",
        "Começo importando as bibliotecas necessárias e selecionando o dataset:"
      ]
    },
    {
      "cell_type": "code",
      "execution_count": null,
      "metadata": {
        "id": "9zuXHKBmQav7"
      },
      "outputs": [],
      "source": [
        "import altair as alt\n",
        "import pandas as pd\n",
        "import vega_datasets as vdts\n",
        "\n",
        "cars = vdts.data.cars()"
      ]
    },
    {
      "cell_type": "code",
      "execution_count": null,
      "metadata": {
        "id": "uPTIkc7aQav8"
      },
      "outputs": [],
      "source": [
        "cars.head()"
      ]
    },
    {
      "cell_type": "markdown",
      "metadata": {
        "id": "vx6PSEjdQav9"
      },
      "source": [
        "Para este primeiro gráfico, quero ver relações entre volume do motor (Displacement) e aceleração (Acceleration).\n",
        "\n",
        "Estas são as estatísticas de resumo dos dois campos:"
      ]
    },
    {
      "cell_type": "code",
      "execution_count": null,
      "metadata": {
        "id": "RqbDEbQMQav9"
      },
      "outputs": [],
      "source": [
        "print(cars[['Displacement', 'Acceleration']].describe(), '\\n', cars['Origin'].mode())"
      ]
    },
    {
      "cell_type": "markdown",
      "metadata": {
        "id": "OxEbh2fYQav9"
      },
      "source": [
        "Começo fazendo um plot simples dos dados:"
      ]
    },
    {
      "cell_type": "code",
      "execution_count": null,
      "metadata": {
        "id": "ioEZEqUtQav9"
      },
      "outputs": [],
      "source": [
        "alt.Chart(cars).mark_circle().encode(\n",
        "    alt.X('Displacement:Q'),\n",
        "    alt.Y('Acceleration')\n",
        "    )"
      ]
    },
    {
      "cell_type": "markdown",
      "metadata": {
        "id": "xkQ_nFv6Qav-"
      },
      "source": [
        "Para este gráfico, também quero ver as origens de cada carro. Como neste dataset tenho apenas 3 origens possíveis (USA, Europe, Japan), usarei uma seleção de cores para diferenciar cada um:"
      ]
    },
    {
      "cell_type": "code",
      "execution_count": null,
      "metadata": {
        "id": "-smnoIezQav-"
      },
      "outputs": [],
      "source": [
        "alt.Chart(cars).mark_circle().encode(\n",
        "    alt.X('Displacement:Q'),\n",
        "    alt.Y('Acceleration'),\n",
        "    color = alt.Color('Origin:N')\n",
        "    )"
      ]
    },
    {
      "cell_type": "markdown",
      "metadata": {
        "id": "wqLiLClkQav-"
      },
      "source": [
        "Para complementar, altero as cores para cores que julgo mais adequadas para esta divisão:"
      ]
    },
    {
      "cell_type": "code",
      "execution_count": null,
      "metadata": {
        "id": "jKz5dYYQQav_"
      },
      "outputs": [],
      "source": [
        "alt.Chart(cars).mark_circle().encode(\n",
        "    alt.X('Displacement:Q'),\n",
        "    alt.Y('Acceleration'),\n",
        "    color = alt.Color('Origin:N',\n",
        "                       scale = alt.Scale(range = ['rgb(255, 221, 0)', 'rgb(255, 0, 0)', 'rgb(16, 3, 153)']),\n",
        "    )\n",
        "    )"
      ]
    },
    {
      "cell_type": "markdown",
      "metadata": {
        "id": "q1c8KmU9Qav_"
      },
      "source": [
        "Ter a legenda à direita não me agrada, então a movo para cima:"
      ]
    },
    {
      "cell_type": "code",
      "execution_count": null,
      "metadata": {
        "id": "bTJZ5Bp_QawA"
      },
      "outputs": [],
      "source": [
        "alt.Chart(cars).mark_circle().encode(\n",
        "    alt.X('Displacement:Q'),\n",
        "    alt.Y('Acceleration'),\n",
        "    color = alt.Color('Origin:N',\n",
        "                      scale = alt.Scale(range = ['rgb(255, 221, 0)', 'rgb(255, 0, 0)', 'rgb(16, 3, 153)']),\n",
        "                      legend = alt.Legend(orient='top'))\n",
        "    )"
      ]
    },
    {
      "cell_type": "markdown",
      "metadata": {
        "id": "35AeZDv1QawA"
      },
      "source": [
        "Como todos os nomes estão em inglês, adicionarei títulos ao gráfico, à legenda e a cada eixo:"
      ]
    },
    {
      "cell_type": "code",
      "execution_count": null,
      "metadata": {
        "id": "kU4EFeUuQawB"
      },
      "outputs": [],
      "source": [
        "alt.Chart(cars, title = 'Aceleração do motor por volume').mark_circle().encode(\n",
        "    alt.X('Displacement:Q', title = 'Volume do motor (pol³)'),\n",
        "    alt.Y('Acceleration:Q', title = 'Aceleração do motor (mph/s)'),\n",
        "    color = alt.Color('Origin:N',\n",
        "                      scale = alt.Scale(range = ['rgb(255, 221, 0)', 'rgb(255, 0, 0)', 'rgb(16, 3, 153)']),\n",
        "                      legend = alt.Legend(title = 'Origem do Carro', orient='top'))\n",
        "    )"
      ]
    },
    {
      "cell_type": "markdown",
      "metadata": {
        "id": "uWv3PQ8IQawB"
      },
      "source": [
        "Normalmente, quão menor um motor é em volume, melhor ele performa, e quão maior a aceleração de um carro, melhor. Seguindo a ideia de que o melhor fica para cima/à direita, inverto a ordem do eixo X para que os motores menores em volume fiquem mais à direita:"
      ]
    },
    {
      "cell_type": "code",
      "execution_count": null,
      "metadata": {
        "id": "hFEkR5WHQawC"
      },
      "outputs": [],
      "source": [
        "alt.Chart(cars, title = 'Aceleração do motor por volume').mark_circle().encode(\n",
        "    alt.X('Displacement:Q', title = 'Volume do motor (pol³)', sort = 'descending'),\n",
        "    alt.Y('Acceleration:Q', title = 'Aceleração do motor (mph/s)'),\n",
        "    color = alt.Color('Origin:N',\n",
        "                       scale = alt.Scale(range = ['rgb(255, 221, 0)', 'rgb(255, 0, 0)', 'rgb(16, 3, 153)']),\n",
        "                      legend = alt.Legend(title = 'Origem do Carro', orient='top'))\n",
        "    )"
      ]
    },
    {
      "cell_type": "markdown",
      "metadata": {
        "id": "4ggUPgueQawC"
      },
      "source": [
        "Para finalizar, elimino os espaços brancos  para que possa melhor visualizar meus dados no gráfico. Para isso, tiro os intervalos que não contém pontos definindo o domínio de cada eixo:"
      ]
    },
    {
      "cell_type": "code",
      "execution_count": null,
      "metadata": {
        "id": "dvdFM1UXQawC"
      },
      "outputs": [],
      "source": [
        "alt.Chart(cars, title = 'Aceleração do motor por volume').mark_circle().encode(\n",
        "    alt.X('Displacement:Q', title = 'Volume do motor (pol³)', sort = 'descending', scale = alt.Scale(domain = [60, 470])),\n",
        "    alt.Y('Acceleration:Q', title = 'Aceleração do motor (mph/s)', scale = alt.Scale(domain = [7, 26])),\n",
        "    color = alt.Color('Origin:N',\n",
        "                      scale = alt.Scale(range = ['rgb(255, 221, 0)', 'rgb(255, 0, 0)', 'rgb(16, 3, 153)']),\n",
        "                      legend = alt.Legend(title = 'Origem do Carro', orient='top'))\n",
        "    )"
      ]
    },
    {
      "cell_type": "markdown",
      "metadata": {
        "id": "uX8-rlnzQawD"
      },
      "source": [
        "Neste gráfico, é possível ver que os pontos são bem mais densos na região do volume entre 200 e 100 pol³. Faço uma análise unidimensional por meio de um histograma para confirmar este fato:"
      ]
    },
    {
      "cell_type": "code",
      "execution_count": null,
      "metadata": {
        "id": "vHtWAnIiQawD"
      },
      "outputs": [],
      "source": [
        "alt.Chart(cars, title = 'Quantidade de carros por volume do motor').mark_bar().encode(\n",
        "    alt.X('Displacement', title = 'Volume do motor (pol³)', sort = 'descending', bin = True),\n",
        "    alt.Y('count()', title = 'Frequência')\n",
        ")"
      ]
    },
    {
      "cell_type": "markdown",
      "metadata": {
        "id": "JrqzA_h6QawD"
      },
      "source": [
        "Um fato que podemos obter visualmente no gráfico é que, em média, quão menor em volume o motor é, maior a aceleração. Podemos associar essa variação em aceleração ao peso do carro - quão mais leve o carro, maior deveria ser sua aceleração. Queremos, então associar o volume do motor ao peso do carro - quão maior o volume, maior o peso. Posso fazer isso numa análise bidimensional das duas variáveis, peso (Weight_in_lbs) e volume do motor (Displacement).\n",
        "\n",
        "Para isso, farei um gráfico simples de pontos do peso pelo volume do motor:"
      ]
    },
    {
      "cell_type": "code",
      "execution_count": null,
      "metadata": {
        "id": "9J_rP6-cQawE"
      },
      "outputs": [],
      "source": [
        "alt.Chart(cars, title = 'Peso dos carros por volume do motor').mark_circle().encode(\n",
        "    alt.X('Displacement', title = 'Volume do motor (pol³)', sort = 'descending'),\n",
        "    alt.Y('Weight_in_lbs', title = 'Peso (lbs)')\n",
        ")"
      ]
    },
    {
      "cell_type": "markdown",
      "metadata": {
        "id": "meJPsUZQQawE"
      },
      "source": [
        " Neste gráfico, já conseguimos ver uma relação clara entre volume do motor e peso. Para confirmar, faço a matriz de correlação desses dois campos de dados:"
      ]
    },
    {
      "cell_type": "code",
      "execution_count": null,
      "metadata": {
        "id": "Saz_92DkQawF"
      },
      "outputs": [],
      "source": [
        "cars[['Displacement', 'Weight_in_lbs']].corr()"
      ]
    },
    {
      "cell_type": "markdown",
      "metadata": {
        "id": "POmXAhrmQawF"
      },
      "source": [
        "O coeficiente de correlação do peso com o volume do motor é de 0.932, o que mostra uma relação linear entre peso do carro e volume do motor."
      ]
    },
    {
      "cell_type": "markdown",
      "metadata": {
        "id": "vYOyEXi1QawF"
      },
      "source": [
        "Gostaria de ver agora, no segundo gráfico, uma relação entre data de produção e peso.\n",
        "\n",
        "Estas são as estatísticas de resumo:"
      ]
    },
    {
      "cell_type": "code",
      "execution_count": null,
      "metadata": {
        "id": "Lidz7B3gQawG"
      },
      "outputs": [],
      "source": [
        "cars[['Year', 'Weight_in_lbs']].describe()"
      ]
    },
    {
      "cell_type": "markdown",
      "metadata": {
        "id": "9qjwfiFyQawG"
      },
      "source": [
        "Começo fazendo um plot básico:"
      ]
    },
    {
      "cell_type": "code",
      "execution_count": null,
      "metadata": {
        "id": "9q4HDP_VQawG"
      },
      "outputs": [],
      "source": [
        "alt.Chart(cars).mark_circle().encode(\n",
        "    alt.X('Year:T'),\n",
        "    alt.Y('Weight_in_lbs')\n",
        ")"
      ]
    },
    {
      "cell_type": "markdown",
      "metadata": {
        "id": "_bMAq4-tQawH"
      },
      "source": [
        "Adiciono uma seleção de cor baseada na origem do carro, do mesmo esquema do gráfico anterior:"
      ]
    },
    {
      "cell_type": "code",
      "execution_count": null,
      "metadata": {
        "id": "jf9agrfwQawH"
      },
      "outputs": [],
      "source": [
        "alt.Chart(cars).mark_circle().encode(\n",
        "    alt.X('Year:T'),\n",
        "    alt.Y('Weight_in_lbs'),\n",
        "    color = alt.Color('Origin:N',\n",
        "                      scale = alt.Scale(range = ['rgb(255, 221, 0)', 'rgb(255, 0, 0)', 'rgb(16, 3, 153)']),\n",
        "                      legend = alt.Legend(title = 'Origem do Carro', orient='top'))\n",
        ")"
      ]
    },
    {
      "cell_type": "markdown",
      "metadata": {
        "id": "SXoipk-QQawI"
      },
      "source": [
        "Adiciono títulos aos eixos e ao gráfico e limito o domínio do peso, já que este tem mínimo em 1613:"
      ]
    },
    {
      "cell_type": "code",
      "execution_count": null,
      "metadata": {
        "id": "Hq0z9BUpQawI"
      },
      "outputs": [],
      "source": [
        "alt.Chart(cars, title = 'Peso do carro por ano').mark_circle().encode(\n",
        "    alt.X('Year:T', title = 'Ano de produção'),\n",
        "    alt.Y('Weight_in_lbs', title = 'Peso (lbs)', scale = alt.Scale(domain = [1600, 5200])),\n",
        "    color = alt.Color('Origin:N',\n",
        "                      scale = alt.Scale(range = ['rgb(255, 221, 0)', 'rgb(255, 0, 0)', 'rgb(16, 3, 153)']),\n",
        "                      legend = alt.Legend(title = 'Origem do Carro', orient='top'))\n",
        ")"
      ]
    },
    {
      "cell_type": "markdown",
      "metadata": {
        "id": "kqIGUoegQawI"
      },
      "source": [
        "Este gráfico já está útil, porém quero visualizar melhor os pontos na parte inferior, logo vou aplicar uma escala logarítmica de base 10 no eixo Y:"
      ]
    },
    {
      "cell_type": "code",
      "execution_count": null,
      "metadata": {
        "id": "FSpgywaeQawJ"
      },
      "outputs": [],
      "source": [
        "alt.Chart(cars, title = 'Peso do carro por ano').mark_circle().encode(\n",
        "    alt.X('Year:T', title = 'Ano de produção'),\n",
        "    alt.Y('Weight_in_lbs', title = 'Peso (lbs)', scale = alt.Scale(domain = [1600, 5200], type = 'log')),\n",
        "    color = alt.Color('Origin:N',\n",
        "                      scale = alt.Scale(range = ['rgb(255, 221, 0)', 'rgb(255, 0, 0)', 'rgb(16, 3, 153)']),\n",
        "                      legend = alt.Legend(title = 'Origem do Carro', orient='top'))\n",
        ")"
      ]
    },
    {
      "cell_type": "markdown",
      "metadata": {
        "id": "u9qwa5aZQawK"
      },
      "source": [
        "Com este gráfico, podemos ver e afirmar que os carros americanos começaram consistentemente mais pesados que os carros europeus e japoneses, porem, com o passar do tempo, tem alcançado medidas similares. Isso explica o comportamento visto no primeiro gráfico - carros com maior volume de motor (mais pesados) são predominantemente americanos, porém são definitivamente mais antigos. Faço uma análise unidimensional dos carros americanos para confirmar que existe uma quantidade considerável de carros americanos em todas as classes de peso:"
      ]
    },
    {
      "cell_type": "code",
      "execution_count": null,
      "metadata": {
        "id": "AF5jqipdQawK"
      },
      "outputs": [],
      "source": [
        "alt.Chart(cars[cars['Origin'] == 'USA'], title = 'Histograma de frequência de carros americanos por classe de peso').mark_bar().encode(\n",
        "    alt.X('Weight_in_lbs', title = 'Peso (lbs)', bin = True),\n",
        "    alt.Y('count()', title = 'Frequência')\n",
        ")"
      ]
    },
    {
      "cell_type": "markdown",
      "metadata": {
        "id": "PbO5ihX6QawK"
      },
      "source": [
        "Podemos ver que carros americanos tem um peso bem distribuído, o que pode justificar a grande dispersão dos pontos americanos no gráfico 1. Para finalizar a lógica, farei uma análise bidimensional de carros americanos baseado na kilometragem do carro (`Horsepower`) e o volume do motor:"
      ]
    },
    {
      "cell_type": "code",
      "execution_count": null,
      "metadata": {
        "id": "9JChfGaTQawL"
      },
      "outputs": [],
      "source": [
        "alt.Chart(cars[cars['Origin'] == 'USA'], title = 'Potência em cavalos por volume do motor').mark_circle().encode(\n",
        "    alt.X('Displacement', title = 'Volume do motor (m³)'),\n",
        "    alt.Y('Miles_per_Gallon', title = 'Kilometragem (mpg)')\n",
        ")"
      ]
    },
    {
      "cell_type": "markdown",
      "metadata": {
        "id": "Lpg3SeRPQawL"
      },
      "source": [
        "A partir desses dois gráficos gerados, podemos chegar a uma conjectura: Carros americanos vem evoluindo com o tempo. Eram originalmente bem mais pesados em comparação aos europeus e japoneses, mas vem consistentemente se tornando mais leves. Essa diminuição de peso é um grande sinal de aumento de qualidade, já que carros mais leves tem motores menores, que por sua vez aceleram mais e bebem menos, o que quer dizer menor consumo de combustível e logo menos poluição! Logo, a partir apenas desses dados, podemos dizer que carros americanos vem se tornando menos poluentes com o passar dos anos!"
      ]
    },
    {
      "cell_type": "markdown",
      "metadata": {
        "id": "NIH6Nl5LRAbt"
      },
      "source": [
        "# Gráficos Individuais"
      ]
    },
    {
      "cell_type": "markdown",
      "metadata": {
        "id": "b077K_BFRAbu"
      },
      "source": [
        "## Carlos"
      ]
    },
    {
      "cell_type": "markdown",
      "metadata": {
        "id": "IHCx944zRAbv"
      },
      "source": [
        "Primeiramente vamos importar as bibliotecas necessárias"
      ]
    },
    {
      "cell_type": "code",
      "execution_count": null,
      "metadata": {
        "id": "2GtFHnK-RAbw"
      },
      "outputs": [],
      "source": [
        "import altair as alt\n",
        "import pandas as pd\n"
      ]
    },
    {
      "cell_type": "markdown",
      "metadata": {
        "id": "6D-j2gKORAbw"
      },
      "source": [
        "Para nossos estudos, utilizaremos uma base de dados obtida no site [base dos dados](https://basedosdados.org/). Foi escolhido uma base que contempla dados do saneamanto básico de Pernambuco."
      ]
    },
    {
      "cell_type": "code",
      "execution_count": null,
      "metadata": {
        "id": "knWvRGszRAbx"
      },
      "outputs": [],
      "source": [
        "file_id = \"12j_IuZAzITdIZPGvamLQbYaNo-YvwqKU\"\n",
        "url = f\"https://drive.google.com/uc?export=download&id={file_id}\"\n",
        "\n",
        "alt.data_transformers.disable_max_rows()\n",
        "\n",
        "df = pd.read_csv(url)\n",
        "df.head()\n"
      ]
    },
    {
      "cell_type": "markdown",
      "metadata": {
        "id": "y-0r2YPhRAby"
      },
      "source": [
        "Vamos observar, primeiramente, como se da a distrubuição de água."
      ]
    },
    {
      "cell_type": "code",
      "execution_count": null,
      "metadata": {
        "id": "8NvCSyNHRAbz"
      },
      "outputs": [],
      "source": [
        "alt.Chart(df).mark_boxplot().encode(\n",
        "    y=alt.Y('populacao_urbana_atendida_agua:Q', title='População Urbana Atendida com Água')\n",
        ").properties(\n",
        "    title='Boxplot da População Urbana Atendida com Água'\n",
        ")"
      ]
    },
    {
      "cell_type": "markdown",
      "metadata": {
        "id": "d-uIYpeqRAbz"
      },
      "source": [
        "Perceba que esse gráfico não diz muita coisa, na verdade ele não nos representa nada, visto que a distrubuição de água por cidade e o número de residentes não é levando em conta."
      ]
    },
    {
      "cell_type": "markdown",
      "metadata": {
        "id": "BUeUe6v2RAb0"
      },
      "source": [
        "Vamos observar a distribuição de água de pernambuco no geral no decorrer dos anos."
      ]
    },
    {
      "cell_type": "code",
      "execution_count": null,
      "metadata": {
        "id": "gN4hPUY2RAb0"
      },
      "outputs": [],
      "source": [
        "numero_agua_line =alt.Chart(df).mark_line().encode(\n",
        "    alt.X('ano:O', title='Ano'),\n",
        "    alt.Y('sum(populacao_urbana_atendida_agua):Q', title='Número de Pessoas Atendidas com Água'),\n",
        "\n",
        ").properties(\n",
        "    title='Número de Pessoas Atendidas com Água por Ano'\n",
        ")\n",
        "numero_agua_pontos =alt.Chart(df).mark_point().encode(\n",
        "    alt.X('ano:O', title='Ano'),\n",
        "    alt.Y('sum(populacao_urbana_atendida_agua):Q', title='Número de Pessoas Atendidas com Água'),\n",
        "    alt.Tooltip('sum(populacao_urbana_atendida_agua):Q')\n",
        ").properties(\n",
        "    title='Número de Pessoas Atendidas com Água por Ano'\n",
        ")\n",
        "numero_agua_line + numero_agua_pontos"
      ]
    },
    {
      "cell_type": "markdown",
      "metadata": {
        "id": "kk53VkUqRAb1"
      },
      "source": [
        "Podemos observar aparente crescimento no número de pessoas que receberam água durante. Porém isso não confirma nada, visto que a população também cresce ao longo do tempo. Portanto, para uma observação honesta, vamos plotar junto o crescimento da população urbana a cada ano. Além do mais, perceba que não temos dados do ano de 2000 para trás. Então vamos retirar esses dados\n"
      ]
    },
    {
      "cell_type": "code",
      "execution_count": null,
      "metadata": {
        "id": "6eeBch-pRAb1"
      },
      "outputs": [],
      "source": [
        "df = df[df['ano'] > 2000]\n",
        "\n",
        "numero_agua_line =alt.Chart(df).mark_line().encode(\n",
        "    alt.X('ano:O', title='Ano'),\n",
        "    alt.Y('sum(populacao_urbana_atendida_agua):Q', title='Número de Pessoas Atendidas com Água'),\n",
        "\n",
        ").properties(\n",
        "    title='Número de Pessoas Atendidas com Água por Ano'\n",
        ")\n",
        "numero_agua_pontos =alt.Chart(df).mark_point().encode(\n",
        "    alt.X('ano:O', title='Ano'),\n",
        "    alt.Y('sum(populacao_urbana_atendida_agua):Q', title='Número de Pessoas Atendidas com Água'),\n",
        "    alt.Tooltip('sum(populacao_urbana_atendida_agua):Q')\n",
        ").properties(\n",
        "    title='Número de Pessoas Atendidas com Água por Ano'\n",
        ")\n",
        "\n",
        "\n",
        "numero_pessoas_line =alt.Chart(df).mark_line().encode(\n",
        "    alt.X('ano:O', title='Ano'),\n",
        "    alt.Y('sum(populacao_urbana):Q', title='Número de Pessoas Atendidas com Água')\n",
        ").properties(\n",
        "    title='Número de Pessoas Atendidas com Água por Ano'\n",
        ")\n",
        "numero_pessoas_pontos =alt.Chart(df).mark_point().encode(\n",
        "    alt.X('ano:O', title='Ano'),\n",
        "    alt.Y('sum(populacao_urbana):Q', title='Número de Pessoas Atendidas com Água'),\n",
        "    alt.Tooltip('sum(populacao_urbana):Q')\n",
        ").properties(\n",
        "    title='Número de Pessoas Atendidas com Água por Ano'\n",
        ")\n",
        "\n",
        "numero_agua_line + numero_agua_pontos + numero_pessoas_pontos + numero_pessoas_line"
      ]
    },
    {
      "cell_type": "markdown",
      "metadata": {
        "id": "QVyKwc8cRAb2"
      },
      "source": [
        "Aqui percebemos eventos estranhos no dado, como a diminuição repentina de pessoas com água em casa sem ter diminuição na população no ano de 2010. É claro, essa diminuição repentina pode ser simplesmente um erro no nosso dataframe."
      ]
    },
    {
      "cell_type": "markdown",
      "metadata": {
        "id": "Y2RIyKfDRAb2"
      },
      "source": [
        "Vamos observar o caso dos esgotos."
      ]
    },
    {
      "cell_type": "code",
      "execution_count": null,
      "metadata": {
        "id": "Q3TVCtwfRAb2"
      },
      "outputs": [],
      "source": [
        "\n",
        "numero_esgoto_line =alt.Chart(df).mark_line().encode(\n",
        "    alt.X('ano:O', title='Ano'),\n",
        "    alt.Y('sum(populacao_urbana_atendida_esgoto):Q', title='Número de Pessoas Atendidas com Água'),\n",
        "\n",
        ").properties(\n",
        "    title='Número de Pessoas Atendidas com Água por Ano'\n",
        ")\n",
        "numero_esgoto_pontos =alt.Chart(df).mark_point().encode(\n",
        "    alt.X('ano:O', title='Ano'),\n",
        "    alt.Y('sum(populacao_urbana_atendida_esgoto):Q', title='Número de Pessoas Atendidas com Água'),\n",
        "    alt.Tooltip('sum(populacao_urbana_atendida_esgoto):Q')\n",
        ").properties(\n",
        "    title='Número de Pessoas Atendidas com Água por Ano'\n",
        ")\n",
        "\n",
        "\n",
        "numero_pessoas_line =alt.Chart(df).mark_line().encode(\n",
        "    alt.X('ano:O', title='Ano'),\n",
        "    alt.Y('sum(populacao_urbana):Q', title='Número de Pessoas Atendidas com Água')\n",
        ").properties(\n",
        "    title='Número de Pessoas Atendidas com Água por Ano'\n",
        ")\n",
        "numero_pessoas_pontos =alt.Chart(df).mark_point().encode(\n",
        "    alt.X('ano:O', title='Ano'),\n",
        "    alt.Y('sum(populacao_urbana):Q', title='Número de Pessoas Atendidas com Água'),\n",
        "    alt.Tooltip('sum(populacao_urbana):Q')\n",
        ").properties(\n",
        "    title='Número de Pessoas Atendidas com Esgoto por Ano'\n",
        ")\n",
        "\n",
        "numero_esgoto_line + numero_esgoto_pontos + numero_pessoas_pontos + numero_pessoas_line"
      ]
    },
    {
      "cell_type": "markdown",
      "metadata": {
        "id": "n5fdSQtLRAb3"
      },
      "source": [
        "Aqui observamos a situação mais crírica apresentada. O número de pessoas com esgoto (pelo menos o que a pesquisa entende como esgoto) é menor do que o número de residentes."
      ]
    },
    {
      "cell_type": "markdown",
      "metadata": {
        "id": "2-b-IMO_RAb4"
      },
      "source": [
        "Porém, todos esse gráficos não nos dão uma pespectiva em percential. Vamos observar a caracteristicas percertuais de cada cidade."
      ]
    },
    {
      "cell_type": "code",
      "execution_count": null,
      "metadata": {
        "id": "Y-cfSl8BRAb4"
      },
      "outputs": [],
      "source": [
        "df[\"proporcao_agua\"] = df[\"populacao_urbana_atendida_agua\"] / df[\"populacao_urbana\"]\n",
        "df[\"proporcao_esgoto\"] = df[\"populacao_urbana_atendida_esgoto\"] / df[\"populacao_urbana\"]\n",
        "\n",
        "\n",
        "df_long = df.melt(id_vars=[\"ano\", \"id_municipio\"],\n",
        "                  value_vars=[\"proporcao_agua\", \"proporcao_esgoto\"],\n",
        "                  var_name=\"Serviço\", value_name=\"Proporção\")\n",
        "\n",
        "selecao_ano = alt.param(\n",
        "    name=\"ano_escolhido\",\n",
        "    bind=alt.binding_select(options=sorted(df[\"ano\"].unique()), name=\"Ano: \"),\n",
        "    value=df[\"ano\"].min()\n",
        ")\n",
        "agua = alt.Chart(df_long).mark_bar(opacity=0.6).encode(\n",
        "    x=alt.X(\"id_municipio:N\", title=\"Município (ID)\"),\n",
        "    y=alt.Y(\"Proporção:Q\", title=\"Proporção da População Atendida\", scale=alt.Scale(domain=[0, 1.4])),\n",
        "    color=alt.value(\"blue\"),\n",
        "    tooltip=[\"id_municipio\", \"Serviço\", alt.Tooltip(\"Proporção:Q\", format=\".2f\")]\n",
        ").transform_filter(\n",
        "    (alt.datum.Serviço == \"proporcao_agua\") & (alt.datum.ano == selecao_ano)\n",
        ")\n",
        "\n",
        "esgoto = alt.Chart(df_long).mark_bar(opacity=0.6).encode(\n",
        "    x=alt.X(\"id_municipio:N\", title=\"Município (ID)\"),\n",
        "    y=alt.Y(\"Proporção:Q\", title=\"Proporção da População Atendida\"),\n",
        "    color=alt.value(\"green\"),\n",
        "    tooltip=[\"id_municipio\", \"Serviço\", alt.Tooltip(\"Proporção:Q\", format=\".2f\")]\n",
        ").transform_filter(\n",
        "    (alt.datum.Serviço == \"proporcao_esgoto\") & (alt.datum.ano == selecao_ano)\n",
        ")\n",
        "\n",
        "\n",
        "grafico = (agua + esgoto).add_params(selecao_ano).properties(\n",
        "    title=\"Cobertura de Água e Esgoto nos Municípios\",\n",
        "    width=1200,\n",
        "    height=800\n",
        ")\n",
        "\n",
        "grafico"
      ]
    },
    {
      "cell_type": "markdown",
      "metadata": {
        "id": "JYyxqC0oRAb5"
      },
      "source": [
        "Observe que muitas cidades em vários anos não tem nada de esgoto. Isso parece muito estanho, muito provavelmente exitem várias colunas na base de dados onde não temos informação alguma sobre esgotos na cidade. Vamos mudar o dados e remover as linhas sem iformação de esgoto usando o método `dropna`."
      ]
    },
    {
      "cell_type": "code",
      "execution_count": null,
      "metadata": {
        "id": "3z3VLNnORAb5"
      },
      "outputs": [],
      "source": [
        "df = df.dropna(subset=[\"populacao_urbana_atendida_esgoto\"])\n",
        "\n",
        "\n",
        "df[\"proporcao_agua\"] = df[\"populacao_urbana_atendida_agua\"] / df[\"populacao_urbana\"]\n",
        "df[\"proporcao_esgoto\"] = df[\"populacao_urbana_atendida_esgoto\"] / df[\"populacao_urbana\"]\n",
        "\n",
        "\n",
        "df_long = df.melt(id_vars=[\"ano\", \"id_municipio\"],\n",
        "                  value_vars=[\"proporcao_agua\", \"proporcao_esgoto\"],\n",
        "                  var_name=\"Serviço\", value_name=\"Proporção\")\n",
        "\n",
        "selecao_ano = alt.param(\n",
        "    name=\"ano_escolhido\",\n",
        "    bind=alt.binding_select(options=sorted(df[\"ano\"].unique()), name=\"Ano: \"),\n",
        "    value=df[\"ano\"].min()\n",
        ")\n",
        "\n",
        "\n",
        "agua = alt.Chart(df_long).mark_bar(opacity=0.6).encode(\n",
        "    x=alt.X(\"id_municipio:N\", title=\"Município (ID)\"),\n",
        "    y=alt.Y(\"Proporção:Q\", title=\"Proporção da População Atendida (%)\", scale=alt.Scale(domain=[0, 1.4])),\n",
        "    color=alt.value(\"blue\"),  # Define a cor fixa para água\n",
        "    tooltip=[\"id_municipio\", \"Serviço\", alt.Tooltip(\"Proporção:Q\", format=\".2f\")]\n",
        ").transform_filter(\n",
        "    (alt.datum.Serviço == \"proporcao_agua\") & (alt.datum.ano == selecao_ano)\n",
        ")\n",
        "\n",
        "esgoto = alt.Chart(df_long).mark_bar(opacity=0.6).encode(\n",
        "    x=alt.X(\"id_municipio:N\", title=\"Município (ID)\"),\n",
        "    y=alt.Y(\"Proporção:Q\", title=\"Proporção da População Atendida (%)\"),\n",
        "    color=alt.value(\"green\"),  # Define a cor fixa para esgoto\n",
        "    tooltip=[\"id_municipio\", \"Serviço\", alt.Tooltip(\"Proporção:Q\", format=\".1f\")]\n",
        ").transform_filter(\n",
        "    (alt.datum.Serviço == \"proporcao_esgoto\") & (alt.datum.ano == selecao_ano)\n",
        ")\n",
        "\n",
        "# Combina as duas camadas no mesmo gráfico\n",
        "grafico = (agua + esgoto).add_params(selecao_ano).properties(\n",
        "    title=\"Cobertura de Água e Esgoto nos Municípios (%)\",\n",
        "    width=1200,\n",
        "    height=800\n",
        ")\n",
        "\n",
        "grafico"
      ]
    },
    {
      "cell_type": "markdown",
      "metadata": {
        "id": "EHcixmqtRAb6"
      },
      "source": [
        "## Daniel Couto"
      ]
    },
    {
      "cell_type": "code",
      "execution_count": null,
      "metadata": {
        "id": "eli8CMiJRAb6"
      },
      "outputs": [],
      "source": [
        "import altair as alt\n",
        "import pandas as pd"
      ]
    },
    {
      "cell_type": "markdown",
      "metadata": {
        "id": "tWv7sN56RAb7"
      },
      "source": [
        "Para a minha análise utilizarei uma base do Kaggle, com os dados de usuários de um determinado aplicativo de relacionamento. A base possui colunas como: Idade, gênero, altura, objetivo da pessoa no app e etc."
      ]
    },
    {
      "cell_type": "code",
      "execution_count": null,
      "metadata": {
        "id": "iviiqmY_RAb7"
      },
      "outputs": [],
      "source": [
        "df_app_namoro = pd.read_csv('app_namoro.csv')\n",
        "# Link para a base de dados: https://www.kaggle.com/datasets/anandshaw2001/dating-dataset?resource=download\n",
        "df_app_namoro = pd.DataFrame(df_app_namoro)\n",
        "df_app_namoro.head()\n"
      ]
    },
    {
      "cell_type": "markdown",
      "metadata": {
        "id": "Ox7Fl_NxRAb8"
      },
      "source": [
        "#### Estatísticas de resumo"
      ]
    },
    {
      "cell_type": "markdown",
      "metadata": {
        "id": "rBlzRClwRAb8"
      },
      "source": [
        "Vamos agora calcular medidas de resumo de algumas das variveis do DataFrame. E para uma visão geral das variáveis quantitativas podemos usar também o `.describe()`."
      ]
    },
    {
      "cell_type": "code",
      "execution_count": null,
      "metadata": {
        "id": "XzBY2Yy2RAb8"
      },
      "outputs": [],
      "source": [
        "df_app_namoro.describe()"
      ]
    },
    {
      "cell_type": "code",
      "execution_count": null,
      "metadata": {
        "id": "E2a7a5J2RAb9"
      },
      "outputs": [],
      "source": [
        "import numpy as np\n",
        "media_idade = np.mean(df_app_namoro['Age'])\n",
        "desvio_idade = np.std(df_app_namoro['Age'])\n",
        "print(f'Média idade = {media_idade:.1f} anos'.replace('.',','))\n",
        "print(f'Desvio padrão das idades = {desvio_idade:.1f} anos'.replace('.',','))\n",
        "print()\n",
        "\n",
        "media_altura = np.mean(df_app_namoro['Height'])*0.3048 #Usando a altura em metros\n",
        "altura_max = max(df_app_namoro['Height'])*0.3048\n",
        "desvio_altura = np.std(df_app_namoro['Height'])*30.48 #Usando a altura em centimetros\n",
        "print(f'Média altura = {media_altura:.2f} m'.replace('.',','))\n",
        "print(f'Maior altura = {altura_max:.2f} m'.replace('.',','))\n",
        "print(f'Desvio padrão das alturas = {desvio_altura:.1f} cm'.replace('.',','))\n",
        "print()\n",
        "\n",
        "media_altura_homem = np.mean(df_app_namoro.loc[df_app_namoro['Gender'] == \"Male\"]['Height'])*0.3048\n",
        "media_altura_mulher = np.mean(df_app_namoro.loc[df_app_namoro['Gender'] == \"Female\"]['Height'])*0.3048\n",
        "print(f'Média altura dos homens = {media_altura_homem:.3f} m'.replace('.',','))\n",
        "print(f'Média altura das mulheres = {media_altura_mulher:.3f} m'.replace('.',','))\n",
        "print()\n",
        "\n",
        "moda_interesses = df_app_namoro['Interests'].mode()\n",
        "print(f'Conjunto de interesses modal: {moda_interesses}') # Essa maneira não calcula exatamente o interesse modal, e sim o conjunto de interesses modal\n",
        "print()\n",
        "\n",
        "# Para resolver isso, abrimos as listas em linhas separadas com cada interesses\n",
        "interests_exploded = df_app_namoro.explode('Interests')\n",
        "moda_interesse = interests_exploded['Interests'].mode()\n",
        "print(f'Interesse modal: {moda_interesse}')\n",
        "print()\n",
        "\n",
        "filho = df_app_namoro['Children'].value_counts('Yes')\n",
        "print(filho)"
      ]
    },
    {
      "cell_type": "markdown",
      "metadata": {
        "id": "sYn1qbWhRAb9"
      },
      "source": [
        "#### Análise Unidimensional"
      ]
    },
    {
      "cell_type": "markdown",
      "metadata": {
        "id": "0o1fyAGDRAb-"
      },
      "source": [
        "Vamos agora analisar a variável `Looking For` que nos diz o que o usuário procura no aplicativo.'"
      ]
    },
    {
      "cell_type": "code",
      "execution_count": null,
      "metadata": {
        "id": "dUCVWG8eRAb-"
      },
      "outputs": [],
      "source": [
        "objetivo = alt.Chart(df_app_namoro).mark_bar().encode(\n",
        "    alt.X('Looking For'),\n",
        "    alt.Y('count()'),\n",
        "    color = 'Looking For'\n",
        ")\n",
        "objetivo"
      ]
    },
    {
      "cell_type": "markdown",
      "metadata": {
        "id": "s7sn2zePRAb_"
      },
      "source": [
        "Um histograma foi a escolha mais intuitiva para uma informação de contagem e comparação entre categorias. E as cores apesar de estarem passando a mesma informação do eixo x, ajuda na visualização e entendimento.\n",
        "\n",
        "Podemos fazer algumas melhorias no nosso gráfico, como botar títulos, traduzir a legenda, escolher as cores, redimensionar o gráfico e ainda separar entre homens e mulheres para compará-los."
      ]
    },
    {
      "cell_type": "code",
      "execution_count": null,
      "metadata": {
        "id": "lLnwrvUURAb_"
      },
      "outputs": [],
      "source": [
        "objetivo = alt.Chart(df_app_namoro).transform_calculate(\n",
        "    traducao=\"datum['Looking For'] == 'Casual Dating' ? 'Encontro Casual' : \"\n",
        "             \"datum['Looking For'] == 'Marriage' ? 'Casamento' : \"\n",
        "             \"datum['Looking For'] == 'Long-term Relationship' ? 'Relacionamento Sério' : \"\n",
        "             \"'Amizade'\",\n",
        "    genero_traduzido=\"datum.Gender === 'Female' ? 'Mulher' : 'Homem'\"\n",
        ").mark_bar().encode(\n",
        "    alt.X('traducao:N', title=\"Interesses\"),\n",
        "    alt.Y('count()', title=\"Quantidade de Usuários\"),\n",
        "    alt.Color('traducao:N',\n",
        "        scale=alt.Scale(\n",
        "            domain=[\"Encontro Casual\", \"Casamento\", \"Relacionamento Sério\", \"Amizade\"],\n",
        "            range=[\"#eb584d\", \"#e0c641\",\"#5c58e0\" ,\"#55e08f\" ]\n",
        "        ),\n",
        "        legend=alt.Legend(title=\"Tipo de Interesse\")\n",
        "    ),\n",
        "    column=alt.Column(\"genero_traduzido:N\", header=alt.Header(title=\"Gênero\"))\n",
        ").properties(\n",
        "    height = 450,\n",
        "    width=225,\n",
        "    title= alt.TitleParams(\n",
        "        text=\"Procura dos usuários de app de relacionamento\",\n",
        "        anchor=\"middle\")\n",
        ")\n",
        "\n",
        "objetivo\n"
      ]
    },
    {
      "cell_type": "markdown",
      "metadata": {
        "id": "tKTNA4NJRAcA"
      },
      "source": [
        "#### Análise Bidimensional"
      ]
    },
    {
      "cell_type": "markdown",
      "metadata": {
        "id": "jk1sVrW6RAcB"
      },
      "source": [
        "Nessa análise vamos comparar o nível de escolaridade com a intenção de ter filhos."
      ]
    },
    {
      "cell_type": "code",
      "execution_count": null,
      "metadata": {
        "id": "Z0yCtxhnRAcB"
      },
      "outputs": [],
      "source": [
        "escolaridade_filhos = alt.Chart(df_app_namoro).mark_rect().encode(\n",
        "    alt.X('Education Level:N', title='Nível Educacional'),\n",
        "    alt.Y('Children:N', title='Intençao de ter filhos'),\n",
        "    color='count():Q'\n",
        ")\n",
        "escolaridade_filhos\n"
      ]
    },
    {
      "cell_type": "markdown",
      "metadata": {
        "id": "ZTSOU0-FRAcC"
      },
      "source": [
        "Nesse caso foi interessante a escolha de um mapa de calor, para explicitar, com a contagem no canal de cor, onde está a maior concentração em cada caso.\n",
        "\n",
        "Agora podemos pensar em melhorias para a visualização desse gráfico, como traduzir os títulos, arrumar a escala, redimensionar e traduzir por meio do `tranform_calculate`."
      ]
    },
    {
      "cell_type": "code",
      "execution_count": null,
      "metadata": {
        "id": "C9ZqH_SPRAcC"
      },
      "outputs": [],
      "source": [
        "escolaridade_filhos = alt.Chart(df_app_namoro).transform_calculate(\n",
        "        escolaridade=\"datum['Education Level'] === 'Ph.D.' ? 'Doutorado' : \"\n",
        "                     \"datum['Education Level'] === 'Master\\\\'s Degree' ? 'Mestrado' : \"\n",
        "                     \"datum['Education Level'] === 'Bachelor\\\\'s Degree' ? 'Bacharelado' : \"\n",
        "                     \"'Ensino Médio'\",\n",
        "        filhos=\"datum.Children === 'Yes' ? 'Sim' : datum.Children === 'No' ? 'Não' : 'Talvez'\"\n",
        "    ).mark_rect().encode(\n",
        "    alt.X('escolaridade:N', title='Nível Educacional', sort=[\"Ensino Médio\", \"Bacharelado\", \"Mestrado\", 'Doutorado']),\n",
        "    alt.Y('filhos:N', title='Intençao de ter filhos', sort=[\"Sim\", \"Talvez\", \"Não\"]),\n",
        "    color=alt.Color(\n",
        "        'count():Q',\n",
        "        scale=alt.Scale(\n",
        "            type='log',\n",
        "            range=['green', 'yellow', 'red']\n",
        "        ),\n",
        "        legend=alt.Legend(\n",
        "            title='Contagem de Entradas',\n",
        "            gradientLength=300,\n",
        "            gradientThickness=20\n",
        "        )\n",
        "    ),\n",
        "    tooltip=['count()',\"escolaridade:N\", 'filhos:N']\n",
        ").properties(\n",
        "    width=400,\n",
        "    height=400,\n",
        "    title='Nível Educacional vs. Intençao de ter filhos'\n",
        ")\n",
        "\n",
        "escolaridade_filhos\n"
      ]
    },
    {
      "cell_type": "markdown",
      "metadata": {
        "id": "ghaF5OWeRAcD"
      },
      "source": [
        "Agora com uma visualização clara, podemos entender com facilidade do que se trata o gráfico e os olhos vão diretamente nos pontos de interesse, as casas com mais concentração e as com menos."
      ]
    },
    {
      "cell_type": "markdown",
      "metadata": {
        "id": "LiJHUNlRRAcE"
      },
      "source": [
        "#### Gráfico de exploração da base"
      ]
    },
    {
      "cell_type": "markdown",
      "metadata": {
        "id": "WyJl_NxbRAcE"
      },
      "source": [
        "A ideia inicial, por se tratar de uma base de 500 usuários, é tentar visualizar todos os usuários com seus respectivos atributos."
      ]
    },
    {
      "cell_type": "code",
      "execution_count": null,
      "metadata": {
        "id": "SlKvCYnPRAcE"
      },
      "outputs": [],
      "source": [
        "painel_usuarios = alt.Chart(df_app_namoro).mark_circle().transform_calculate(\n",
        "    altura='datum.Height * 30.48'\n",
        ").encode(\n",
        "    alt.X('Age:Q', scale=alt.Scale(domain=[17,36])),\n",
        "    alt.Y('altura:Q', scale=alt.Scale(domain=[146,190])),\n",
        "    tooltip=['Age','altura:Q','Education Level','Gender']\n",
        ").interactive()\n",
        "\n",
        "painel_usuarios\n"
      ]
    },
    {
      "cell_type": "markdown",
      "metadata": {
        "id": "kwQQJYYKRAcF"
      },
      "source": [
        "É perceptível que o gráfico não nos traz muita informação de cara, para isso pensei em contruir filtros, para que o leitor possa navegar pela base procurando o que quiser de maneira visual através do gráfico."
      ]
    },
    {
      "cell_type": "code",
      "execution_count": null,
      "metadata": {
        "id": "w865h_1lRAcF"
      },
      "outputs": [],
      "source": [
        "input_dropdown = alt.binding_select(options=['Male', 'Female'], name='Gênero  ')\n",
        "selectgênero = alt.selection_point(fields=['Gender'], bind=input_dropdown)\n",
        "color = (\n",
        "    alt.when(selectgênero)\n",
        "    .then(alt.Color(\"Gender:N\").legend(None))\n",
        "    .otherwise(alt.value(\"lightgray\"))\n",
        ")\n",
        "\n",
        "\n",
        "painel_usuarios = alt.Chart(df_app_namoro).mark_point().transform_calculate(\n",
        "    altura='datum.Height * 30.48'\n",
        ").encode(\n",
        "    alt.X('Age:Q', scale=alt.Scale(domain=[17,36])),\n",
        "    alt.Y('altura:Q', scale=alt.Scale(domain=[146,190])),\n",
        "    color=color,\n",
        "    tooltip=['Age','altura:Q','Education Level','Gender']\n",
        ").interactive().add_params(selectgênero)\n",
        "\n",
        "painel_usuarios\n",
        "\n"
      ]
    },
    {
      "cell_type": "markdown",
      "metadata": {
        "id": "9VvjynKZRAcG"
      },
      "source": [
        "Podemos então como visto nesse gráfico, codificar o gênero no canal cor, adicionar um botão interativo para que o leitor possa escolher o que visualizar alternamente.\n",
        "\n",
        "Essa opção é interessante, mas já pensando em adicionar mais filtros, podemos trocar para um botão que não destaca a informação e sim mostra apenas ela."
      ]
    },
    {
      "cell_type": "code",
      "execution_count": null,
      "metadata": {
        "id": "0bNN-Bu2RAcG"
      },
      "outputs": [],
      "source": [
        "options = ['Male','Female']\n",
        "labels = [option + ' ' for option in options]\n",
        "\n",
        "input_dropdown = alt.binding_radio(\n",
        "    options=options + [None],\n",
        "    labels=labels + ['Both'],\n",
        "    name='Gênero '\n",
        ")\n",
        "selection = alt.selection_point(\n",
        "    fields=['Gender'],\n",
        "    bind=input_dropdown,\n",
        ")\n",
        "\n",
        "\n",
        "painel_usuarios = alt.Chart(df_app_namoro).mark_point().transform_calculate(\n",
        "    altura='datum.Height * 30.48'\n",
        ").encode(\n",
        "    alt.X('Age:Q', scale=alt.Scale(domain=[17,36])),\n",
        "    alt.Y('altura:Q', scale=alt.Scale(domain=[146,190])),\n",
        "    color=alt.Color('Gender:N').scale(domain=options),\n",
        "    tooltip=['Age','altura:Q','Education Level','Gender']\n",
        ").interactive().add_params(\n",
        "    selection\n",
        ").transform_filter(\n",
        "    selection\n",
        ")\n",
        "\n",
        "painel_usuarios"
      ]
    },
    {
      "cell_type": "markdown",
      "metadata": {
        "id": "B4SQw2btRAcH"
      },
      "source": [
        "Agora podemos adicionar `sliders` para permitir o leitor selecionar um limite de idade que deseja visualizar."
      ]
    },
    {
      "cell_type": "code",
      "execution_count": null,
      "metadata": {
        "id": "7gOwcakbRAcH"
      },
      "outputs": [],
      "source": [
        "slider_altura_min = alt.binding_range(min=146, max=190, step=0.5, name='Altura mínima ')\n",
        "slider_altura_max = alt.binding_range(min=146, max=190, step=0.5, name='Altura máxima ')\n",
        "\n",
        "selectoraltura_min = alt.param(name='altura_min', value=146, bind=slider_altura_min)\n",
        "selectoraltura_max = alt.param(name='altura_max', value=190, bind=slider_altura_max)\n",
        "\n",
        "predicate = (alt.datum.altura < selectoraltura_min) | (alt.datum.altura > selectoraltura_max)\n",
        "\n",
        "painel_usuarios = alt.Chart(df_app_namoro).mark_point().transform_calculate(\n",
        "    altura='datum.Height * 30.48'\n",
        ").encode(\n",
        "    alt.X('Age:Q', scale=alt.Scale(domain=[17,36])),\n",
        "    alt.Y('altura:Q', scale=alt.Scale(domain=[146,190])),\n",
        "    color=alt.when(predicate).then(alt.value(\"lightgray\")).otherwise(alt.value(\"blue\")),\n",
        "    tooltip=['Age','altura:Q','Education Level','Gender']\n",
        ").interactive().add_params(\n",
        "    selection,\n",
        "    selectoraltura_min,\n",
        "    selectoraltura_max\n",
        ").transform_filter(\n",
        "    selection\n",
        ")\n",
        "\n",
        "painel_usuarios\n"
      ]
    },
    {
      "cell_type": "markdown",
      "metadata": {
        "id": "JB_Nr4EZRAcI"
      },
      "source": [
        "De maneira análoga, adicionamos `sliders` para o intervalo de idade."
      ]
    },
    {
      "cell_type": "code",
      "execution_count": null,
      "metadata": {
        "id": "L4LD9RATRAcI"
      },
      "outputs": [],
      "source": [
        "botao_idade_min = alt.binding_range(min=17, max=36, step=1, name='Idade mínima ')\n",
        "botao_idade_max = alt.binding_range(min=17, max=36, step=1, name='Idade máxima ')\n",
        "\n",
        "selectoridade_min = alt.param(name='idade_min', value=17, bind=botao_idade_min)\n",
        "selectoridade_max = alt.param(name='idade_max', value=36, bind=botao_idade_max)\n",
        "\n",
        "predicate = ((alt.datum.altura < selectoraltura_min) | (alt.datum.altura > selectoraltura_max) |\n",
        "             (alt.datum.Age < selectoridade_min) | (alt.datum.Age > selectoridade_max))\n",
        "\n",
        "painel_usuarios = alt.Chart(df_app_namoro).mark_point().transform_calculate(\n",
        "    altura='datum.Height * 30.48'\n",
        ").encode(\n",
        "    alt.X('Age:Q', scale=alt.Scale(domain=[17,36])),\n",
        "    alt.Y('altura:Q', scale=alt.Scale(domain=[146,190])),\n",
        "    color=alt.when(predicate).then(alt.value(\"lightgray\")).otherwise(alt.value(\"blue\")),\n",
        "    tooltip=['Age','altura:Q','Education Level','Gender']\n",
        ").interactive().add_params(\n",
        "    selection,\n",
        "    selectoraltura_min,\n",
        "    selectoraltura_max,\n",
        "    selectoridade_min,\n",
        "    selectoridade_max\n",
        ").transform_filter(\n",
        "    selection\n",
        ")\n",
        "\n",
        "painel_usuarios\n"
      ]
    },
    {
      "cell_type": "markdown",
      "metadata": {
        "id": "MOE4YujSRAcJ"
      },
      "source": [
        "Para finalizar e darmos uma facilidade ainda maior para o leitor visualizar a informação da base, adicionamos botões que destacam a escolaridade e interesse solicitados. Os pontos em destaque são apenas aqueles que satisfazem todas as opções do leitor. E por último, acrescentamos título e legendas."
      ]
    },
    {
      "cell_type": "code",
      "execution_count": null,
      "metadata": {
        "id": "En4P9YyeRAcJ"
      },
      "outputs": [],
      "source": [
        "menu_education = alt.binding_select(\n",
        "    options=[\"Any\", \"High School\", \"Bachelor's Degree\", \"Master's Degree\", \"Ph.D.\"],\n",
        "    name='Escolaridade '\n",
        ")\n",
        "selector_education = alt.param(name='education_min', value=\"Any\", bind=menu_education)\n",
        "\n",
        "menu_looking_for = alt.binding_select(\n",
        "    options=[\"Any\", \"Casual Dating\", \"Friendship\", \"Marriage\", \"Long-term Relationship\"],\n",
        "    name='Interesse '\n",
        ")\n",
        "selector_looking_for = alt.param(name='looking_for', value=\"Any\", bind=menu_looking_for)\n",
        "\n",
        "predicate = (\n",
        "    (alt.datum.altura < selectoraltura_min) | (alt.datum.altura > selectoraltura_max) |\n",
        "    (alt.datum.Age < selectoridade_min) | (alt.datum.Age > selectoridade_max) |\n",
        "    ((selector_education != \"Any\") & (alt.datum[\"Education Level\"] != selector_education)) |\n",
        "    ((selector_looking_for != \"Any\") & (alt.datum[\"Looking For\"] != selector_looking_for))\n",
        ")\n",
        "\n",
        "painel_usuarios = (\n",
        "    alt.Chart(df_app_namoro)\n",
        "    .mark_point()\n",
        "    .transform_calculate(altura='datum.Height * 30.48')\n",
        "    .encode(\n",
        "        alt.X('Age:Q', scale=alt.Scale(domain=[17, 36]), title=\"Idade\"),\n",
        "        alt.Y('altura:Q', scale=alt.Scale(domain=[146, 190]), title=\"Altura (cm)\"),\n",
        "        color=alt.condition(\n",
        "            predicate,\n",
        "            alt.value(\"lightgrey\"),\n",
        "            alt.value(\"blue\")\n",
        "        ),\n",
        "        tooltip=['Age', 'altura:Q', 'Education Level', 'Gender', 'Looking For']\n",
        "    )\n",
        "    .properties(\n",
        "        title=\"Painel Interativo de Usuários\",\n",
        "        width = 400,\n",
        "        height = 400\n",
        "    )\n",
        "    .add_params(\n",
        "        selection,\n",
        "        selectoraltura_min,\n",
        "        selectoraltura_max,\n",
        "        selectoridade_min,\n",
        "        selectoridade_max,\n",
        "        selector_education,\n",
        "        selector_looking_for\n",
        "    ).transform_filter(\n",
        "    selection\n",
        ")\n",
        "    .interactive()\n",
        ")\n",
        "\n",
        "painel_usuarios"
      ]
    },
    {
      "cell_type": "markdown",
      "metadata": {
        "id": "JrEXot41RAcK"
      },
      "source": [
        "## Felipe"
      ]
    },
    {
      "cell_type": "markdown",
      "metadata": {
        "id": "VHK-esGRRAcK"
      },
      "source": [
        "### Análise de Dados - Conjunto de Dados *Wheat* do *Vega Datasets*\n",
        "\n",
        "### Introdução\n",
        "Neste estudo, utilizamos a biblioteca `altair` para realizar uma análise exploratória do conjunto de dados `wheat` do *Vega Datasets*. O objetivo é visualizar a distribuição dos tipos de trigo, a evolução dos salários ao longo dos anos e a relação entre salário e ano.\n",
        "\n",
        "### Carregamento dos Dados\n",
        "O conjunto de dados foi carregado utilizando:"
      ]
    },
    {
      "cell_type": "code",
      "execution_count": null,
      "metadata": {
        "id": "PTQtchZHRAcL"
      },
      "outputs": [],
      "source": [
        "import altair as alt\n",
        "from vega_datasets import data\n",
        "import pandas as pd\n",
        "\n",
        "# Carregar o conjunto de dados\n",
        "wheat = data.wheat()\n",
        "\n",
        "# Exibir as primeiras linhas\n",
        "display(wheat.head())\n",
        "\n",
        "\n",
        "\n"
      ]
    },
    {
      "cell_type": "markdown",
      "metadata": {
        "id": "M0NsrredRAcL"
      },
      "source": [
        "Isso permite uma primeira inspeção dos dados e garante que estamos lidando corretamente com o *dataset*.\n",
        "\n",
        "### Gráfico 1: Distribuição dos Tipos de Trigo\n",
        "Para analisar a distribuição dos diferentes tipos de trigo no conjunto de dados, utilizamos um gráfico de barras:\n"
      ]
    },
    {
      "cell_type": "code",
      "execution_count": null,
      "metadata": {
        "id": "mu4Fx0vsRAcM"
      },
      "outputs": [],
      "source": [
        "# Gráfico 1: Distribuição dos Tipos de Trigo\n",
        "chart1 = alt.Chart(wheat).mark_bar().encode(\n",
        "    x=alt.X('wheat:O', title='Tipo de Trigo'),\n",
        "    y=alt.Y('count()', title='Quantidade'),\n",
        "    color=alt.Color('wheat:N', legend=None),\n",
        "    tooltip=['wheat', 'count()']\n",
        ").properties(\n",
        "    title='Distribuição dos Tipos de Trigo',\n",
        "    width=600,\n",
        "    height=400\n",
        ").interactive()\n",
        "\n",
        "chart1"
      ]
    },
    {
      "cell_type": "markdown",
      "metadata": {
        "id": "W8Xm5b2LRAcN"
      },
      "source": [
        "### Interpretação\n",
        "- O gráfico exibe a contagem de cada tipo de trigo presente no conjunto de dados.\n",
        "- A visualização permite identificar quais tipos são mais frequentes.\n",
        "- A interatividade ajuda na análise detalhada ao passar o cursor sobre as barras.\n",
        "\n",
        "### Gráfico 2: Relação entre Salário e Ano\n",
        "Para entender como os salários evoluíram ao longo dos anos para diferentes tipos de trigo, usamos um gráfico de linha:"
      ]
    },
    {
      "cell_type": "code",
      "execution_count": null,
      "metadata": {
        "id": "COBsXdTgRAcN"
      },
      "outputs": [],
      "source": [
        "# Gráfico 2: Relação entre Rendimento e Ano da Colheita\n",
        "chart2 = alt.Chart(wheat).mark_line(point=True).encode(\n",
        "    x=alt.X('year:T', title='Ano'),\n",
        "    y=alt.Y('wages:Q', title='Salário'),\n",
        "    color=alt.Color('wheat:N', title='Tipo de Trigo'),\n",
        "    tooltip=['year', 'wages', 'wheat']\n",
        ").properties(\n",
        "    title='Salário ao Longo dos Anos',\n",
        "    width=700,\n",
        "    height=400\n",
        ").interactive()\n",
        "\n",
        "chart2\n",
        "\n",
        "\n"
      ]
    },
    {
      "cell_type": "markdown",
      "metadata": {
        "id": "7qDtU0dlRAcO"
      },
      "source": [
        "### Interpretação\n",
        "- Cada linha representa a variação do salário ao longo do tempo para um determinado tipo de trigo.\n",
        "- É possível observar tendências de crescimento ou queda no salário ao longo dos anos.\n",
        "- Os pontos destacados no gráfico indicam os valores individuais de cada ano.\n",
        "\n",
        "### Gráfico 3: Comparação entre Salário e Ano\n",
        "Para verificar melhor a dispersão dos salários ao longo do tempo, utilizamos um gráfico de dispersão (*scatter plot*):\n"
      ]
    },
    {
      "cell_type": "code",
      "execution_count": null,
      "metadata": {
        "id": "NKE5XMmHRAcO"
      },
      "outputs": [],
      "source": [
        "# Gráfico 3: Comparação entre Salário e Ano\n",
        "chart3 = alt.Chart(wheat).mark_circle(size=80).encode(\n",
        "    x=alt.X('year:T', title='Ano'),\n",
        "    y=alt.Y('wages:Q', title='Salário'),\n",
        "    color=alt.Color('wheat:N', title='Tipo de Trigo'),\n",
        "    tooltip=['year', 'wages', 'wheat']\n",
        ").properties(\n",
        "    title='Relação entre Ano e Salário',\n",
        "    width=700,\n",
        "    height=400\n",
        ").interactive()\n",
        "\n",
        "chart3\n"
      ]
    },
    {
      "cell_type": "markdown",
      "metadata": {
        "id": "q3P0-vylRAcO"
      },
      "source": [
        "### Interpretação\n",
        "- Cada ponto representa o salário de um tipo de trigo em um determinado ano.\n",
        "- A distribuição dos pontos pode indicar a existência de padrões, como aumento ou queda de salário ao longo do tempo.\n",
        "- A cor representa o tipo de trigo, facilitando a comparação entre diferentes categorias.\n",
        "\n",
        "\n"
      ]
    },
    {
      "cell_type": "markdown",
      "metadata": {
        "id": "s_mlePGCRAcP"
      },
      "source": [
        "### Estatísticas de Resumo\n",
        "Para entender melhor as características do conjunto de dados, calculamos estatísticas descritivas:\n",
        "\n",
        "\n",
        "\n"
      ]
    },
    {
      "cell_type": "code",
      "execution_count": null,
      "metadata": {
        "id": "aboG-Dd_RAcP"
      },
      "outputs": [],
      "source": [
        "# Estatísticas descritivas gerais\n",
        "descriptive_stats = wheat.describe()\n",
        "display(descriptive_stats)\n",
        "\n",
        "# Cálculo de frequências por tipo de trigo\n",
        "frequency_counts = wheat['wheat'].value_counts()\n",
        "display(frequency_counts)"
      ]
    },
    {
      "cell_type": "markdown",
      "metadata": {
        "id": "8FCEmB1mRAcQ"
      },
      "source": [
        "### Interpretação\n",
        "- O método `.describe()` fornece estatísticas como média, mediana, desvio padrão, valores mínimos e máximos.\n",
        "- A contagem de frequências ajuda a visualizar a distribuição das categorias de trigo.\n",
        "- Esses cálculos complementam as visualizações anteriores, fornecendo uma análise quantitativa detalhada.\n",
        "\n",
        "### Conclusão\n",
        "A análise permitiu:\n",
        "1. Identificar a distribuição dos diferentes tipos de trigo.\n",
        "2. Avaliar a evolução dos salários ao longo do tempo.\n",
        "3. Visualizar a relação entre salário e ano para diferentes tipos de trigo.\n",
        "4. Calcular estatísticas descritivas que ajudam a entender a distribuição e tendências dos dados.\n",
        "\n",
        "Os gráficos interativos facilitaram a exploração dos dados e a identificação de padrões importantes. Outras análises poderiam incluir fatores adicionais, como a relação com a produção ou influências econômicas.\n"
      ]
    },
    {
      "cell_type": "markdown",
      "metadata": {
        "id": "1phBm11eRAcQ"
      },
      "source": [
        "## Lucas Barros"
      ]
    },
    {
      "cell_type": "code",
      "execution_count": null,
      "metadata": {
        "id": "CRi8fRxiRAcR"
      },
      "outputs": [],
      "source": [
        "import pandas as pd\n",
        "import altair as alt\n",
        "import numpy as np"
      ]
    },
    {
      "cell_type": "markdown",
      "metadata": {
        "id": "uOfEyEdmRAcS"
      },
      "source": [
        "Usaremos uma base de dados do site 'base dos dados' que trata aobre os jogos olimpicos modernos, tanto de verão quanto de inverno. O link para acesso da base de dados é https://basedosdados.org/dataset/a898f300-fa77-48dd-b4dd-59b83d7bb345?table=16d53ff3-afce-4c31-8a5c-bcb77a59078b\n"
      ]
    },
    {
      "cell_type": "code",
      "execution_count": null,
      "metadata": {
        "id": "7Dfq92wcRAcT"
      },
      "outputs": [],
      "source": [
        "dados = pd.read_csv('mundo_kaggle_olimpiadas_microdados.csv')\n",
        "dados"
      ]
    },
    {
      "cell_type": "markdown",
      "metadata": {
        "id": "ut4ZIs4aRAcU"
      },
      "source": [
        "Primeiramente, faremos uma limpeza nos dados deixando apenas os dados sobre as edições dos Jogos Olímpicos de Inverno."
      ]
    },
    {
      "cell_type": "code",
      "execution_count": null,
      "metadata": {
        "id": "FieqDfaTRAcV"
      },
      "outputs": [],
      "source": [
        "dados = dados.loc[dados['edicao'] == 'Winter']\n",
        "dados"
      ]
    },
    {
      "cell_type": "markdown",
      "metadata": {
        "id": "g57VhTfPRAcW"
      },
      "source": [
        "Agora, faremos uma primeira análise estatística sobre as alturas dos atletas em cada um dos esportes."
      ]
    },
    {
      "cell_type": "markdown",
      "metadata": {
        "id": "dYSnwTphRAcW"
      },
      "source": [
        "No início veremos as estatísticas descritivas das alturas de forma geral."
      ]
    },
    {
      "cell_type": "code",
      "execution_count": null,
      "metadata": {
        "id": "1oZqIjkHRAcX"
      },
      "outputs": [],
      "source": [
        "dados['altura'].describe()"
      ]
    },
    {
      "cell_type": "markdown",
      "metadata": {
        "id": "84Mbtk-PRAcZ"
      },
      "source": [
        "Agora faremos uma análise equivalente mas spearando esporte por esporte."
      ]
    },
    {
      "cell_type": "code",
      "execution_count": null,
      "metadata": {
        "id": "yX0EQmByRAca"
      },
      "outputs": [],
      "source": [
        "dados.groupby('esporte')['altura'].describe()"
      ]
    },
    {
      "cell_type": "markdown",
      "metadata": {
        "id": "S8USXuEIRAca"
      },
      "source": [
        "A primeira coisa a se obserar é que não há dados sobre atletas de Patrulha Militar e nem de Alpinismo. Isso ocore decido ao fato de que a Patrulha Militar só foi de fato um evento de competição em 1924 e ocorreu outras 3 vezes como demonstração então por ser de fato disputado apenas na primeira edição os dados são mais escassos. Já sobre o Alpinismo temos uma situação parecidas, com mais participações mas todas extremamente antigas."
      ]
    },
    {
      "cell_type": "markdown",
      "metadata": {
        "id": "vK5TxSQPRAcc"
      },
      "source": [
        "Além disso, podemos destacar agora que esporte tem a menor média de altura, no caso a patinação no gelo, e qual tem a maior média, no caso o bobsleigh. É possível também perceber quais esportes tem mais ou menos variação na altura, por exemplo, o combinado nórdico tem consideravelmente menos disperção na altura dos atletas que a patinação no gelo mesmo tendo uma média maior."
      ]
    },
    {
      "cell_type": "code",
      "execution_count": null,
      "metadata": {
        "id": "L2cXxEnHRAcd"
      },
      "outputs": [],
      "source": [
        "dados.groupby(['esporte', 'medalha'])['altura'].describe()"
      ]
    },
    {
      "cell_type": "markdown",
      "metadata": {
        "id": "_joATBh0RAcd"
      },
      "source": [
        "Aqui percebemos uma diferença estatisticamente irrelevante ed medalhistas de ouro prata e bronze para determinado esporte."
      ]
    },
    {
      "cell_type": "markdown",
      "metadata": {
        "id": "JdXMV_IiRAce"
      },
      "source": [
        " Após essas análises temos uma boa impressão sobre as alturas gerais dos atletas e dos atletas por esporte, no entanto ainda não é possível ter uma noção tão boa sobre a distribuição dessas alturas, portanto faremos uma visualização para ajudar nisso."
      ]
    },
    {
      "cell_type": "markdown",
      "metadata": {
        "id": "pMoY1rFCRAce"
      },
      "source": [
        "Antes será necessário desabilitar o número máximo de linhas do altair pois nossos dados tem mais de 5000 linhas."
      ]
    },
    {
      "cell_type": "code",
      "execution_count": null,
      "metadata": {
        "id": "Wdi_-4wORAce"
      },
      "outputs": [],
      "source": [
        "alt.data_transformers.disable_max_rows()\n"
      ]
    },
    {
      "cell_type": "code",
      "execution_count": null,
      "metadata": {
        "id": "jaHnl6VaRAcf"
      },
      "outputs": [],
      "source": [
        "alt.Chart(dados).mark_circle().encode(\n",
        "    alt.X('altura',\n",
        "          scale=alt.Scale(domain=[130, 215]), title='Altura (cm)'),\n",
        "    tooltip=[\n",
        "        alt.Tooltip('nome_atleta'),\n",
        "        alt.Tooltip('esporte'),\n",
        "        alt.Tooltip('pais'),\n",
        "        alt.Tooltip('altura'),\n",
        "        alt.Tooltip('medalha')\n",
        "        ]\n",
        ").properties(\n",
        "    title= 'Altura dos altetas'\n",
        ")"
      ]
    },
    {
      "cell_type": "markdown",
      "metadata": {
        "id": "9GHMzET6RAcf"
      },
      "source": [
        "Aqui já podemos perceber que há uma concentração em torno da média e não uma concentração tão grande nos extremos."
      ]
    },
    {
      "cell_type": "code",
      "execution_count": null,
      "metadata": {
        "id": "XyBrORnLRAcg"
      },
      "outputs": [],
      "source": [
        "alt.Chart(dados).mark_circle().transform_filter(\n",
        "    alt.datum.medalha != None\n",
        ").encode(\n",
        "    alt.X('altura',\n",
        "          scale=alt.Scale(domain=[130, 215]), title= 'Altura (cm)'),\n",
        "    tooltip=[\n",
        "        alt.Tooltip('nome_atleta'),\n",
        "        alt.Tooltip('esporte'),\n",
        "        alt.Tooltip('pais'),\n",
        "        alt.Tooltip('altura'),\n",
        "        alt.Tooltip('medalha')\n",
        "        ],\n",
        "    color=alt.Color('medalha')\n",
        ").properties(\n",
        "    title= 'Altura dos altetas medalhistas'\n",
        ")"
      ]
    },
    {
      "cell_type": "markdown",
      "metadata": {
        "id": "fAJyK9bkRAcg"
      },
      "source": [
        "Ja agora podemos perceber que entre os medalhistas isso também se aplica."
      ]
    },
    {
      "cell_type": "code",
      "execution_count": null,
      "metadata": {
        "id": "m4D2vrI-RAci"
      },
      "outputs": [],
      "source": [
        "alt.Chart(dados).mark_circle().encode(\n",
        "    alt.X('altura',\n",
        "          scale=alt.Scale(domain=[130, 215]), title= 'Altura (cm)'),\n",
        "    tooltip=[\n",
        "        alt.Tooltip('nome_atleta'),\n",
        "        alt.Tooltip('esporte'),\n",
        "        alt.Tooltip('pais'),\n",
        "        alt.Tooltip('altura')\n",
        "        ]\n",
        ").facet(\n",
        "    facet='esporte:N',\n",
        "    columns=3\n",
        ")"
      ]
    },
    {
      "cell_type": "markdown",
      "metadata": {
        "id": "nNZXPo-XRAci"
      },
      "source": [
        "Separando agora por esporte podemos ver que todos mantém o mesmo padrão tendo apenas algumas leves translações verticais"
      ]
    },
    {
      "cell_type": "code",
      "execution_count": null,
      "metadata": {
        "id": "TgihjpNWRAcj"
      },
      "outputs": [],
      "source": [
        "alt.Chart(dados).mark_circle().transform_filter(\n",
        "    alt.datum.medalha != None\n",
        ").encode(\n",
        "    alt.X('altura',\n",
        "          scale=alt.Scale(domain=[130, 215]), title= 'Altura (cm)'),\n",
        "    tooltip=[\n",
        "        alt.Tooltip('nome_atleta'),\n",
        "        alt.Tooltip('esporte'),\n",
        "        alt.Tooltip('pais'),\n",
        "        alt.Tooltip('altura')\n",
        "        ]\n",
        ").facet(\n",
        "    facet='medalha:N',\n",
        "    columns=3\n",
        ")"
      ]
    },
    {
      "cell_type": "markdown",
      "metadata": {
        "id": "CmtbrhMBRAck"
      },
      "source": [
        "Aqui podemos perceber que esse comportamento se mantém ao também separando cada tipo de medalhista como era de se imaginar."
      ]
    },
    {
      "cell_type": "code",
      "execution_count": null,
      "metadata": {
        "id": "k48zajHLRAck"
      },
      "outputs": [],
      "source": [
        "alt.Chart(dados).mark_bar().encode(\n",
        "    alt.X('altura',\n",
        "          scale=alt.Scale(domain=[130, 210]), title= 'Altura (cm)'),\n",
        "    alt.Y('count()', title= 'Número de ocorrências'),\n",
        "    tooltip=[\n",
        "        alt.Tooltip('nome_atleta'),\n",
        "        alt.Tooltip('esporte'),\n",
        "        alt.Tooltip('pais'),\n",
        "        alt.Tooltip('altura')\n",
        "        ]\n",
        ")"
      ]
    },
    {
      "cell_type": "markdown",
      "metadata": {
        "id": "KF5qa_sCRAcl"
      },
      "source": [
        "Por fim, adicionamos uma contagem para cada altura presente para podermos visualizar melhor as concentrações de atletas em barras e podemos perceber que se aproxima de uma distribuição normal."
      ]
    },
    {
      "cell_type": "markdown",
      "metadata": {
        "id": "c8i897h9RAcm"
      },
      "source": [
        "Por fim, faremos um gráfico que mostra o ranking geral de todas as olímpiadas com uma parte interatva sendo possível \"passear\" pelos anos. Nesse caso cada medalha de ouro foi premiada com 6 pontos cada uma de prata com 3 pontos e as de bronze com 1 ponto."
      ]
    },
    {
      "cell_type": "code",
      "execution_count": null,
      "metadata": {
        "id": "imBjQs56RAcm"
      },
      "outputs": [],
      "source": [
        "import altair as alt\n",
        "import pandas as pd\n",
        "\n",
        "slider = alt.binding_range(min=1924, max=2014, step=2, name='Ano')\n",
        "slider_ano = alt.selection_point(\n",
        "    name='slider',\n",
        "    fields=['ano'],\n",
        "    init={'ano': 1924},\n",
        "    bind=slider,\n",
        "    value=1924\n",
        ")\n",
        "\n",
        "# Define fixed country colors\n",
        "unique_countries = dados['pais'].unique()\n",
        "country_colors = alt.Scale(\n",
        "    domain=unique_countries,\n",
        "    range=['#1f77b4', '#ff7f0e', '#2ca02c', '#d62728', '#9467bd',\n",
        "           '#8c564b', '#e377c2', '#7f7f7f', '#bcbd22', '#17becf']\n",
        ")\n",
        "\n",
        "# Legend for Medal Points\n",
        "legend_data = pd.DataFrame({\n",
        "    'Medal': ['Ouro', 'Prata', 'Bronze'],\n",
        "    'Points': [6, 3, 1]\n",
        "})\n",
        "\n",
        "legend = alt.Chart(legend_data).mark_rect().encode(\n",
        "    y=alt.Y('Medal:N', title='Medalha', axis=alt.Axis(orient='left'), sort=['Ouro', 'Prata', 'Bronze']),\n",
        "    color=alt.Color('Medal:N', scale=alt.Scale(\n",
        "        domain=['Ouro', 'Prata', 'Bronze'],\n",
        "        range=['gold', 'silver', 'brown']\n",
        "    ), legend=None)\n",
        ").properties(\n",
        "    title='Pontos por Medalha',\n",
        "    width=75,\n",
        "    height=70\n",
        ")\n",
        "\n",
        "legend_text = alt.Chart(legend_data).mark_text(align='left').encode(\n",
        "    y=alt.Y('Medal:N', title='Medalha', sort=['Ouro', 'Prata', 'Bronze'], axis=None),\n",
        "    text=alt.Text('Points:N')\n",
        ")\n",
        "\n",
        "legend_chart = (legend + legend_text).resolve_scale(\n",
        "    color='independent'\n",
        ")\n",
        "\n",
        "# Main Chart\n",
        "chart = alt.Chart(dados).mark_bar().transform_calculate(\n",
        "    pontos=\"{'Gold': 6, 'Silver': 3, 'Bronze': 1}[datum.medalha]\"\n",
        ").encode(\n",
        "    alt.X('pais:N', title='Países', axis=alt.Axis(titleY=40)),\n",
        "    alt.Y('sum(pontos):Q', scale=alt.Scale(domain=[0, 3600]), title='Soma dos pontos'),\n",
        "    alt.Color('pais:N', scale=country_colors, legend=None)  # Fixed colors for countries\n",
        ").transform_filter(\n",
        "    alt.datum.ano <= slider_ano['ano']\n",
        ").properties(\n",
        "    width=700,\n",
        "    height=500,\n",
        "    title=\"Pontos relacionados à medalha de cada país nos Jogos Olímpicos de Inverno (Acumulativo)\"\n",
        ").add_params(\n",
        "    slider_ano\n",
        ")\n",
        "\n",
        "# Final Layout\n",
        "final_chart = alt.hconcat(\n",
        "    chart,\n",
        "    legend_chart\n",
        ").configure_view(\n",
        "    stroke=None\n",
        ")\n",
        "\n",
        "final_chart\n"
      ]
    },
    {
      "cell_type": "markdown",
      "metadata": {
        "id": "20bIYiDlRAcm"
      },
      "source": [
        "Agora faremos outra visualização, dessa vez visando analisar os pesos e alturas de cada atleta."
      ]
    },
    {
      "cell_type": "markdown",
      "metadata": {
        "id": "HzQYpvBkRAcn"
      },
      "source": [
        "Primeiro faremos novamente as análises estatísticas para as váriaveis de peso.\n"
      ]
    },
    {
      "cell_type": "code",
      "execution_count": null,
      "metadata": {
        "id": "-ry6ranwRAcn"
      },
      "outputs": [],
      "source": [
        "dados['peso'].describe()"
      ]
    },
    {
      "cell_type": "markdown",
      "metadata": {
        "id": "h4AzCSo5RAco"
      },
      "source": [
        "Temos algumas estatísticas mas seriam melhores se fossem separadas por esporte já que existem esportes que naturalmente favorecem pessoas mais pesadas ou mais leves."
      ]
    },
    {
      "cell_type": "code",
      "execution_count": null,
      "metadata": {
        "id": "MepmbMdvRAco"
      },
      "outputs": [],
      "source": [
        "dados.groupby('esporte')['peso'].describe()"
      ]
    },
    {
      "cell_type": "markdown",
      "metadata": {
        "id": "DEECVOaRRAcp"
      },
      "source": [
        "Percebeos que assim como na altura o Alpinismo e Patrulha Militar não tem dados e o motivo é o mesmo citado anteriormente."
      ]
    },
    {
      "cell_type": "markdown",
      "metadata": {
        "id": "jZaL7meORAcp"
      },
      "source": [
        "Ademais, percebe-se que os esportes que tiveram maior média de alturas tendem a ter maiores pesos também, o que é completamente válido já que pessoas maiores tendem a pesar mais em média. Contudo, aida são precisas análises mais detalhadas para observar a real distribuição de pesos e se há alguma anormalidade inesperada."
      ]
    },
    {
      "cell_type": "markdown",
      "metadata": {
        "id": "DOH9rAGhRAcq"
      },
      "source": [
        "Faremos agora uma análise, similar com a feita com as alturas, que abordará mais fortemente o quesito de medalhas ganhas pelos atletas."
      ]
    },
    {
      "cell_type": "code",
      "execution_count": null,
      "metadata": {
        "id": "-XuffjaIRAcq"
      },
      "outputs": [],
      "source": [
        "dados.groupby(['esporte', 'medalha'])['peso'].describe()"
      ]
    },
    {
      "cell_type": "markdown",
      "metadata": {
        "id": "NojU9Fo_RAcq"
      },
      "source": [
        "Após ver esses dados é claro observar que dado um determinado esporte as diferenças médias de pesos são estatisticamente insgnificantes visto o desvio padrão."
      ]
    },
    {
      "cell_type": "markdown",
      "metadata": {
        "id": "IKzGiW3HRAcr"
      },
      "source": [
        "Para conseguirmos enfim ter certeza sobre co o é essa distribuição de pesos dos atletas faremos uma visualização."
      ]
    },
    {
      "cell_type": "code",
      "execution_count": null,
      "metadata": {
        "id": "T17-lJdJRAcr"
      },
      "outputs": [],
      "source": [
        "alt.Chart(dados).mark_circle().encode(\n",
        "    alt.X('peso',\n",
        "          scale=alt.Scale(domain=[30, 150]), title='Peso (kg)'),\n",
        "    tooltip=[\n",
        "        alt.Tooltip('nome_atleta'),\n",
        "        alt.Tooltip('esporte'),\n",
        "        alt.Tooltip('pais'),\n",
        "        alt.Tooltip('peso'),\n",
        "        alt.Tooltip('medalha')\n",
        "        ]\n",
        ").properties(\n",
        "    title= 'Peso dos altetas'\n",
        ")"
      ]
    },
    {
      "cell_type": "markdown",
      "metadata": {
        "id": "90kWVcXvRAcr"
      },
      "source": [
        "Aqui já podemos perceber que a distribuição se aproxima da de altura em certo sentido mas por outro lado parece ter uma concentração entorno da média mas um desvio padrão maior como as estatísticas indicavam."
      ]
    },
    {
      "cell_type": "code",
      "execution_count": null,
      "metadata": {
        "id": "107HTwnURAcr"
      },
      "outputs": [],
      "source": [
        "alt.Chart(dados).mark_circle().transform_filter(\n",
        "    alt.datum.medalha != None\n",
        ").encode(\n",
        "    alt.X('peso',\n",
        "          scale=alt.Scale(domain=[30, 150]), title='Peso (kg)'),\n",
        "    tooltip=[\n",
        "        alt.Tooltip('nome_atleta'),\n",
        "        alt.Tooltip('esporte'),\n",
        "        alt.Tooltip('pais'),\n",
        "        alt.Tooltip('peso'),\n",
        "        alt.Tooltip('medalha')\n",
        "        ],\n",
        "    color=alt.Color('medalha')\n",
        ").properties(\n",
        "    title= 'Peso dos altetas medalhistas'\n",
        ")"
      ]
    },
    {
      "cell_type": "markdown",
      "metadata": {
        "id": "Xf36uoK3RAcs"
      },
      "source": [
        "Os atletas medalhistas aparentam ter a mesma distribuição.'"
      ]
    },
    {
      "cell_type": "code",
      "execution_count": null,
      "metadata": {
        "id": "1QpdoFpNRAct"
      },
      "outputs": [],
      "source": [
        "alt.Chart(dados).mark_circle().encode(\n",
        "    alt.X('peso',\n",
        "          scale=alt.Scale(domain=[30, 150]), title='Peso (kg)'),\n",
        "    tooltip=[\n",
        "        alt.Tooltip('nome_atleta'),\n",
        "        alt.Tooltip('esporte'),\n",
        "        alt.Tooltip('pais'),\n",
        "        alt.Tooltip('peso')\n",
        "        ]\n",
        ").facet(\n",
        "    facet='esporte:N',\n",
        "    columns=3\n",
        ")"
      ]
    },
    {
      "cell_type": "markdown",
      "metadata": {
        "id": "n50p8H7DRAct"
      },
      "source": [
        "Com a separação por esportes já consegiumos ver uma diferenciação mais acentuada que na altura cmoo a diferença de patinação no gelo e bobsleigh"
      ]
    },
    {
      "cell_type": "code",
      "execution_count": null,
      "metadata": {
        "id": "A1jTW7VzRAcu"
      },
      "outputs": [],
      "source": [
        "alt.Chart(dados).mark_bar().encode(\n",
        "    alt.X('peso',\n",
        "          scale=alt.Scale(domain=[30, 150]), title='Peso (kg)'),\n",
        "    alt.Y('count()', title= 'Número de ocorreências'),\n",
        "    tooltip=[\n",
        "        alt.Tooltip('nome_atleta'),\n",
        "        alt.Tooltip('esporte'),\n",
        "        alt.Tooltip('pais'),\n",
        "        alt.Tooltip('peso')\n",
        "        ]\n",
        ")"
      ]
    },
    {
      "cell_type": "markdown",
      "metadata": {
        "id": "W5jkJYySRAcu"
      },
      "source": [
        "Com essa visualização podemos perceber uma espécie de distribuição normal com mais \"outliers\" para o lado direito e concentração maior na parte esquerda."
      ]
    },
    {
      "cell_type": "code",
      "execution_count": null,
      "metadata": {
        "id": "xq3J8M8SRAcv"
      },
      "outputs": [],
      "source": [
        "chart2 = alt.Chart(dados).mark_point(filled=True).transform_filter(\n",
        "    alt.datum.medalha != None\n",
        ").encode(\n",
        "    alt.X('altura', scale=alt.Scale(domain=[140, 205]), title='Altura (cm)'),\n",
        "    alt.Y('peso', scale=alt.Scale(domain=[30, 130]), title='Peso (kg)'),\n",
        "    alt.Column('esporte', title='Esporte'),\n",
        "    color=alt.Color('medalha', title='Medalha'\n",
        "    ),\n",
        "    tooltip=[\n",
        "        alt.Tooltip('nome_atleta', title='Atleta'),\n",
        "        alt.Tooltip('medalha', title='Medalha'),\n",
        "    ]\n",
        ").properties(\n",
        "    title='Altura x Peso dos atletas medalhistas (usando window ranking)'\n",
        ")\n",
        "\n",
        "chart2\n"
      ]
    },
    {
      "cell_type": "markdown",
      "metadata": {
        "id": "GQmhv716RAcv"
      },
      "source": [
        "Essa visualização nos permite observar um comportamento próximo do linear associando a altura com o peso e como esse comportamento linear se dá em cada esporte diferente, mas não nos permite ter boa visualização de alguma possíve distribuição dos medalhistas"
      ]
    },
    {
      "cell_type": "code",
      "execution_count": null,
      "metadata": {
        "id": "MFbQaz-RRAcv"
      },
      "outputs": [],
      "source": [
        "chart_fixed = alt.Chart(dados).mark_point(filled=True).transform_filter(\n",
        "    alt.datum.medalha != None\n",
        ").transform_calculate(\n",
        "    esporte_pt=\"\"\"{'Alpine Skiing': 'Esqui Alpino',\n",
        "        'Biathlon': 'Biatlo',\n",
        "        'Bobsleigh': 'Bobsleigh',\n",
        "        'Cross Country Skiing': 'Esqui Cross Country',\n",
        "        'Curling': 'Curling',\n",
        "        'Figure Skating': 'Patinação Artística',\n",
        "        'Freestyle Skiing': 'Esqui Estilo Livre',\n",
        "        'Ice Hockey': 'Hóquei no gelo',\n",
        "        'Luge': 'Luge',\n",
        "        'Nordic Combined': 'Combinado Nórdico',\n",
        "        'Short Track Speed Skating': 'Patinação de velocidade curta',\n",
        "        'Skeleton': 'Skeleton',\n",
        "        'Ski Jumping': 'Salto de Esqui',\n",
        "        'Snowboarding': 'Snowboarding',\n",
        "        'Speed Skating': 'Patinação de velocidade'\n",
        "    }[datum.esporte]\"\"\"\n",
        ").transform_calculate(\n",
        "    medalha_valor=\"if(datum.medalha == 'Gold', 3, if(datum.medalha == 'Silver', 2, if(datum.medalha == 'Bronze', 1, 0)))\"\n",
        ").transform_joinaggregate(\n",
        "    max_medalha_valor=\"max(medalha_valor)\",\n",
        "    groupby=[\"nome_atleta\"]\n",
        ").transform_filter(\n",
        "    alt.datum.medalha_valor == alt.datum.max_medalha_valor\n",
        ").encode(\n",
        "    alt.X('altura', scale=alt.Scale(domain=[140, 205]), title='Altura (cm)'),\n",
        "    alt.Y('peso', scale=alt.Scale(domain=[30, 130]), title='Peso (kg)'),\n",
        "    alt.Column('esporte_pt:N', title='Esporte'),\n",
        "    color=alt.Color('medalha:N', title='Medalha', scale=alt.Scale(\n",
        "        domain=['Gold', 'Silver', 'Bronze'],\n",
        "        range=['#FFD700', '#C0C0C0', '#CD7F32']\n",
        "    ), legend=alt.Legend(\n",
        "        titleFontSize=14,\n",
        "        labelFontSize=12,\n",
        "        symbolSize=200,\n",
        "        orient='left',\n",
        "        labelExpr=\"{'Gold': 'Ouro', 'Silver': 'Prata', 'Bronze': 'Bronze'}[datum.label]\"\n",
        "    )),\n",
        "    tooltip=[\n",
        "        alt.Tooltip('nome_atleta', title='Atleta'),\n",
        "        alt.Tooltip('medalha', title='Medalha'),\n",
        "        alt.Tooltip('medalha_valor:Q', title='Medalha Valor'),\n",
        "        alt.Tooltip('max_medalha_valor:Q', title='Max Medalha Valor'),\n",
        "        alt.Tooltip('esporte', title='esporte')\n",
        "    ]\n",
        ").properties(\n",
        "    title='Altura x Peso dos atletas medalhistas (melhor medalha por atleta)'\n",
        ")\n",
        "\n",
        "chart_fixed\n"
      ]
    },
    {
      "cell_type": "markdown",
      "metadata": {
        "id": "BuAYUQJERAcw"
      },
      "source": [
        "Agora podemos ter melhor noção de como se distribuem os medalhistas de ouro prata e bronze em cada esporte e podemos perceber que, por exemplo no esporte hóquei no gelo medalhistas de ouro tendem a ter uma estatura e peso maior que é um esporte extremamente físico mas já no curling percebemos um espaçamento maior já que é um esporte que exige menos do condicionamento físico."
      ]
    },
    {
      "cell_type": "markdown",
      "metadata": {
        "id": "KV7YqezJRAcw"
      },
      "source": [
        "Por fim pudemos perceber que os esportes têm grande influência sobre as medidas físicas de seus atletas, espcialmente de seus medalhista, inclusive quais tipos de medalhistas."
      ]
    },
    {
      "cell_type": "markdown",
      "metadata": {
        "id": "lwXOBp7LRAcx"
      },
      "source": [
        "## Lucas Paulo Gonçalves\n",
        "\n",
        "Farei dois gráficos usando o dataset cars, do vega_datasets.\n",
        "\n",
        "Começo importando as bibliotecas necessárias e selecionando o dataset:"
      ]
    },
    {
      "cell_type": "code",
      "execution_count": null,
      "metadata": {
        "id": "PIsTjht-RAcx"
      },
      "outputs": [],
      "source": [
        "import altair as alt\n",
        "import pandas as pd\n",
        "import vega_datasets as vdts\n",
        "\n",
        "cars = vdts.data.cars()"
      ]
    },
    {
      "cell_type": "code",
      "execution_count": null,
      "metadata": {
        "id": "fYCiX-GGRAcx"
      },
      "outputs": [],
      "source": [
        "cars.head()"
      ]
    },
    {
      "cell_type": "markdown",
      "metadata": {
        "id": "HoHk4pNzRAcy"
      },
      "source": [
        "Para este primeiro gráfico, quero ver relações entre volume do motor (Displacement) e aceleração (Acceleration).\n",
        "\n",
        "Estas são as estatísticas de resumo dos dois campos:"
      ]
    },
    {
      "cell_type": "code",
      "execution_count": null,
      "metadata": {
        "id": "KYnlndLoRAcy"
      },
      "outputs": [],
      "source": [
        "print(cars[['Displacement', 'Acceleration']].describe(), '\\n', cars['Origin'].mode())"
      ]
    },
    {
      "cell_type": "markdown",
      "metadata": {
        "id": "F7hC48rHRAcy"
      },
      "source": [
        "Começo fazendo um plot simples dos dados:"
      ]
    },
    {
      "cell_type": "code",
      "execution_count": null,
      "metadata": {
        "id": "TheomKAfRAcz"
      },
      "outputs": [],
      "source": [
        "alt.Chart(cars).mark_circle().encode(\n",
        "    alt.X('Displacement:Q'),\n",
        "    alt.Y('Acceleration')\n",
        "    )"
      ]
    },
    {
      "cell_type": "markdown",
      "metadata": {
        "id": "_49slCV1RAcz"
      },
      "source": [
        "Para este gráfico, também quero ver as origens de cada carro. Como neste dataset tenho apenas 3 origens possíveis (USA, Europe, Japan), usarei uma seleção de cores para diferenciar cada um:"
      ]
    },
    {
      "cell_type": "code",
      "execution_count": null,
      "metadata": {
        "id": "knxLtBLZRAc0"
      },
      "outputs": [],
      "source": [
        "alt.Chart(cars).mark_circle().encode(\n",
        "    alt.X('Displacement:Q'),\n",
        "    alt.Y('Acceleration'),\n",
        "    color = alt.Color('Origin:N')\n",
        "    )"
      ]
    },
    {
      "cell_type": "markdown",
      "metadata": {
        "id": "IMGT06oIRAc0"
      },
      "source": [
        "Para complementar, altero as cores para cores que julgo mais adequadas para esta divisão:"
      ]
    },
    {
      "cell_type": "code",
      "execution_count": null,
      "metadata": {
        "id": "s009-ThFRAc1"
      },
      "outputs": [],
      "source": [
        "alt.Chart(cars).mark_circle().encode(\n",
        "    alt.X('Displacement:Q'),\n",
        "    alt.Y('Acceleration'),\n",
        "    color = alt.Color('Origin:N',\n",
        "                       scale = alt.Scale(range = ['rgb(255, 221, 0)', 'rgb(255, 0, 0)', 'rgb(16, 3, 153)']),\n",
        "    )\n",
        "    )"
      ]
    },
    {
      "cell_type": "markdown",
      "metadata": {
        "id": "WfygCF2aRAc1"
      },
      "source": [
        "Ter a legenda à direita não me agrada, então a movo para cima:"
      ]
    },
    {
      "cell_type": "code",
      "execution_count": null,
      "metadata": {
        "id": "qmYcQcg7RAc2"
      },
      "outputs": [],
      "source": [
        "alt.Chart(cars).mark_circle().encode(\n",
        "    alt.X('Displacement:Q'),\n",
        "    alt.Y('Acceleration'),\n",
        "    color = alt.Color('Origin:N',\n",
        "                      scale = alt.Scale(range = ['rgb(255, 221, 0)', 'rgb(255, 0, 0)', 'rgb(16, 3, 153)']),\n",
        "                      legend = alt.Legend(orient='top'))\n",
        "    )"
      ]
    },
    {
      "cell_type": "markdown",
      "metadata": {
        "id": "HGIGVPQdRAc2"
      },
      "source": [
        "Como todos os nomes estão em inglês, adicionarei títulos ao gráfico, à legenda e a cada eixo:"
      ]
    },
    {
      "cell_type": "code",
      "execution_count": null,
      "metadata": {
        "id": "I1GubIcWRAc2"
      },
      "outputs": [],
      "source": [
        "alt.Chart(cars, title = 'Aceleração do motor por volume').mark_circle().encode(\n",
        "    alt.X('Displacement:Q', title = 'Volume do motor (pol³)'),\n",
        "    alt.Y('Acceleration:Q', title = 'Aceleração do motor (mph/s)'),\n",
        "    color = alt.Color('Origin:N',\n",
        "                      scale = alt.Scale(range = ['rgb(255, 221, 0)', 'rgb(255, 0, 0)', 'rgb(16, 3, 153)']),\n",
        "                      legend = alt.Legend(title = 'Origem do Carro', orient='top'))\n",
        "    )"
      ]
    },
    {
      "cell_type": "markdown",
      "metadata": {
        "id": "IbTSYT3ZRAc2"
      },
      "source": [
        "Normalmente, quão menor um motor é em volume, melhor ele performa, e quão maior a aceleração de um carro, melhor. Seguindo a ideia de que o melhor fica para cima/à direita, inverto a ordem do eixo X para que os motores menores em volume fiquem mais à direita:"
      ]
    },
    {
      "cell_type": "code",
      "execution_count": null,
      "metadata": {
        "id": "u-wlQtK6RAc2"
      },
      "outputs": [],
      "source": [
        "alt.Chart(cars, title = 'Aceleração do motor por volume').mark_circle().encode(\n",
        "    alt.X('Displacement:Q', title = 'Volume do motor (pol³)', sort = 'descending'),\n",
        "    alt.Y('Acceleration:Q', title = 'Aceleração do motor (mph/s)'),\n",
        "    color = alt.Color('Origin:N',\n",
        "                       scale = alt.Scale(range = ['rgb(255, 221, 0)', 'rgb(255, 0, 0)', 'rgb(16, 3, 153)']),\n",
        "                      legend = alt.Legend(title = 'Origem do Carro', orient='top'))\n",
        "    )"
      ]
    },
    {
      "cell_type": "markdown",
      "metadata": {
        "id": "msU4G5uYRAc3"
      },
      "source": [
        "Para finalizar, elimino os espaços brancos  para que possa melhor visualizar meus dados no gráfico. Para isso, tiro os intervalos que não contém pontos definindo o domínio de cada eixo:"
      ]
    },
    {
      "cell_type": "code",
      "execution_count": null,
      "metadata": {
        "id": "H8Ra6pK9RAc3"
      },
      "outputs": [],
      "source": [
        "alt.Chart(cars, title = 'Aceleração do motor por volume').mark_circle().encode(\n",
        "    alt.X('Displacement:Q', title = 'Volume do motor (pol³)', sort = 'descending', scale = alt.Scale(domain = [60, 470])),\n",
        "    alt.Y('Acceleration:Q', title = 'Aceleração do motor (mph/s)', scale = alt.Scale(domain = [7, 26])),\n",
        "    color = alt.Color('Origin:N',\n",
        "                      scale = alt.Scale(range = ['rgb(255, 221, 0)', 'rgb(255, 0, 0)', 'rgb(16, 3, 153)']),\n",
        "                      legend = alt.Legend(title = 'Origem do Carro', orient='top'))\n",
        "    )"
      ]
    },
    {
      "cell_type": "markdown",
      "metadata": {
        "id": "hOu9C3ASRAc4"
      },
      "source": [
        "Neste gráfico, é possível ver que os pontos são bem mais densos na região do volume entre 200 e 100 pol³. Faço uma análise unidimensional por meio de um histograma para confirmar este fato:"
      ]
    },
    {
      "cell_type": "code",
      "execution_count": null,
      "metadata": {
        "id": "BnPyDhWSRAc4"
      },
      "outputs": [],
      "source": [
        "alt.Chart(cars, title = 'Quantidade de carros por volume do motor').mark_bar().encode(\n",
        "    alt.X('Displacement', title = 'Volume do motor (pol³)', sort = 'descending', bin = True),\n",
        "    alt.Y('count()', title = 'Frequência')\n",
        ")"
      ]
    },
    {
      "cell_type": "markdown",
      "metadata": {
        "id": "HAdDVOoJRAc5"
      },
      "source": [
        "Um fato que podemos obter visualmente no gráfico é que, em média, quão menor em volume o motor é, maior a aceleração. Podemos associar essa variação em aceleração ao peso do carro - quão mais leve o carro, maior deveria ser sua aceleração. Queremos, então associar o volume do motor ao peso do carro - quão maior o volume, maior o peso. Posso fazer isso numa análise bidimensional das duas variáveis, peso (Weight_in_lbs) e volume do motor (Displacement).\n",
        "\n",
        "Para isso, farei um gráfico simples de pontos do peso pelo volume do motor:"
      ]
    },
    {
      "cell_type": "code",
      "execution_count": null,
      "metadata": {
        "id": "x97qXl87RAc5"
      },
      "outputs": [],
      "source": [
        "alt.Chart(cars, title = 'Peso dos carros por volume do motor').mark_circle().encode(\n",
        "    alt.X('Displacement', title = 'Volume do motor (pol³)', sort = 'descending'),\n",
        "    alt.Y('Weight_in_lbs', title = 'Peso (lbs)')\n",
        ")"
      ]
    },
    {
      "cell_type": "markdown",
      "metadata": {
        "id": "F7QK9gmTRAc5"
      },
      "source": [
        " Neste gráfico, já conseguimos ver uma relação clara entre volume do motor e peso. Para confirmar, faço a matriz de correlação desses dois campos de dados:"
      ]
    },
    {
      "cell_type": "code",
      "execution_count": null,
      "metadata": {
        "id": "QSU_68cjRAc6"
      },
      "outputs": [],
      "source": [
        "cars[['Displacement', 'Weight_in_lbs']].corr()"
      ]
    },
    {
      "cell_type": "markdown",
      "metadata": {
        "id": "Jn4HiTyLRAc6"
      },
      "source": [
        "O coeficiente de correlação do peso com o volume do motor é de 0.932, o que mostra uma relação linear entre peso do carro e volume do motor."
      ]
    },
    {
      "cell_type": "markdown",
      "metadata": {
        "id": "SBoCthVDRAc6"
      },
      "source": [
        "Gostaria de ver agora, no segundo gráfico, uma relação entre data de produção e peso.\n",
        "\n",
        "Estas são as estatísticas de resumo:"
      ]
    },
    {
      "cell_type": "code",
      "execution_count": null,
      "metadata": {
        "id": "wtRm49pTRAc7"
      },
      "outputs": [],
      "source": [
        "cars[['Year', 'Weight_in_lbs']].describe()"
      ]
    },
    {
      "cell_type": "markdown",
      "metadata": {
        "id": "Cqgl33ibRAc7"
      },
      "source": [
        "Começo fazendo um plot básico:"
      ]
    },
    {
      "cell_type": "code",
      "execution_count": null,
      "metadata": {
        "id": "qf6vO93zRAc8"
      },
      "outputs": [],
      "source": [
        "alt.Chart(cars).mark_circle().encode(\n",
        "    alt.X('Year:T'),\n",
        "    alt.Y('Weight_in_lbs')\n",
        ")"
      ]
    },
    {
      "cell_type": "markdown",
      "metadata": {
        "id": "2ztP4n25RAc9"
      },
      "source": [
        "Adiciono uma seleção de cor baseada na origem do carro, do mesmo esquema do gráfico anterior:"
      ]
    },
    {
      "cell_type": "code",
      "execution_count": null,
      "metadata": {
        "id": "pvDXETUzRAc9"
      },
      "outputs": [],
      "source": [
        "alt.Chart(cars).mark_circle().encode(\n",
        "    alt.X('Year:T'),\n",
        "    alt.Y('Weight_in_lbs'),\n",
        "    color = alt.Color('Origin:N',\n",
        "                      scale = alt.Scale(range = ['rgb(255, 221, 0)', 'rgb(255, 0, 0)', 'rgb(16, 3, 153)']),\n",
        "                      legend = alt.Legend(title = 'Origem do Carro', orient='top'))\n",
        ")"
      ]
    },
    {
      "cell_type": "markdown",
      "metadata": {
        "id": "s7vScj3fRAc-"
      },
      "source": [
        "Adiciono títulos aos eixos e ao gráfico e limito o domínio do peso, já que este tem mínimo em 1613:"
      ]
    },
    {
      "cell_type": "code",
      "execution_count": null,
      "metadata": {
        "id": "HhaS-qEARAc-"
      },
      "outputs": [],
      "source": [
        "alt.Chart(cars, title = 'Peso do carro por ano').mark_circle().encode(\n",
        "    alt.X('Year:T', title = 'Ano de produção'),\n",
        "    alt.Y('Weight_in_lbs', title = 'Peso (lbs)', scale = alt.Scale(domain = [1600, 5200])),\n",
        "    color = alt.Color('Origin:N',\n",
        "                      scale = alt.Scale(range = ['rgb(255, 221, 0)', 'rgb(255, 0, 0)', 'rgb(16, 3, 153)']),\n",
        "                      legend = alt.Legend(title = 'Origem do Carro', orient='top'))\n",
        ")"
      ]
    },
    {
      "cell_type": "markdown",
      "metadata": {
        "id": "5qUoybMPRAc_"
      },
      "source": [
        "Este gráfico já está útil, porém quero visualizar melhor os pontos na parte inferior, logo vou aplicar uma escala logarítmica de base 10 no eixo Y:"
      ]
    },
    {
      "cell_type": "code",
      "execution_count": null,
      "metadata": {
        "id": "kvkLUo9BRAc_"
      },
      "outputs": [],
      "source": [
        "alt.Chart(cars, title = 'Peso do carro por ano').mark_circle().encode(\n",
        "    alt.X('Year:T', title = 'Ano de produção'),\n",
        "    alt.Y('Weight_in_lbs', title = 'Peso (lbs)', scale = alt.Scale(domain = [1600, 5200], type = 'log')),\n",
        "    color = alt.Color('Origin:N',\n",
        "                      scale = alt.Scale(range = ['rgb(255, 221, 0)', 'rgb(255, 0, 0)', 'rgb(16, 3, 153)']),\n",
        "                      legend = alt.Legend(title = 'Origem do Carro', orient='top'))\n",
        ")"
      ]
    },
    {
      "cell_type": "markdown",
      "metadata": {
        "id": "_YD5XYrtRAdA"
      },
      "source": [
        "Com este gráfico, podemos ver e afirmar que os carros americanos começaram consistentemente mais pesados que os carros europeus e japoneses, porem, com o passar do tempo, tem alcançado medidas similares. Isso explica o comportamento visto no primeiro gráfico - carros com maior volume de motor (mais pesados) são predominantemente americanos, porém são definitivamente mais antigos. Faço uma análise unidimensional dos carros americanos para confirmar que existe uma quantidade considerável de carros americanos em todas as classes de peso:"
      ]
    },
    {
      "cell_type": "code",
      "execution_count": null,
      "metadata": {
        "id": "SuRH0WNSRAdA"
      },
      "outputs": [],
      "source": [
        "alt.Chart(cars[cars['Origin'] == 'USA'], title = 'Histograma de frequência de carros americanos por classe de peso').mark_bar().encode(\n",
        "    alt.X('Weight_in_lbs', title = 'Peso (lbs)', bin = True),\n",
        "    alt.Y('count()', title = 'Frequência')\n",
        ")"
      ]
    },
    {
      "cell_type": "markdown",
      "metadata": {
        "id": "PjjvNxAIRAdB"
      },
      "source": [
        "Podemos ver que carros americanos tem um peso bem distribuído, o que pode justificar a grande dispersão dos pontos americanos no gráfico 1. Para finalizar a lógica, farei uma análise bidimensional de carros americanos baseado na kilometragem do carro (`Horsepower`) e o volume do motor:"
      ]
    },
    {
      "cell_type": "code",
      "execution_count": null,
      "metadata": {
        "id": "aWeqKeaMRAdB"
      },
      "outputs": [],
      "source": [
        "alt.Chart(cars[cars['Origin'] == 'USA'], title = 'Potência em cavalos por volume do motor').mark_circle().encode(\n",
        "    alt.X('Displacement', title = 'Volume do motor (m³)'),\n",
        "    alt.Y('Miles_per_Gallon', title = 'Kilometragem (mpg)')\n",
        ")"
      ]
    },
    {
      "cell_type": "markdown",
      "metadata": {
        "id": "JFU7XMWTRAdC"
      },
      "source": [
        "A partir desses dois gráficos gerados, podemos chegar a uma conjectura: Carros americanos vem evoluindo com o tempo. Eram originalmente bem mais pesados em comparação aos europeus e japoneses, mas vem consistentemente se tornando mais leves. Essa diminuição de peso é um grande sinal de aumento de qualidade, já que carros mais leves tem motores menores, que por sua vez aceleram mais e bebem menos, o que quer dizer menor consumo de combustível e logo menos poluição! Logo, a partir apenas desses dados, podemos dizer que carros americanos vem se tornando menos poluentes com o passar dos anos!"
      ]
    }
  ],
  "metadata": {
    "colab": {
      "provenance": []
    },
    "kernelspec": {
      "display_name": "Python 3",
      "language": "python",
      "name": "python3"
    },
    "language_info": {
      "codemirror_mode": {
        "name": "ipython",
        "version": 3
      },
      "file_extension": ".py",
      "mimetype": "text/x-python",
      "name": "python",
      "nbconvert_exporter": "python",
      "pygments_lexer": "ipython3",
      "version": "3.11.4"
    }
  },
  "nbformat": 4,
  "nbformat_minor": 0
}