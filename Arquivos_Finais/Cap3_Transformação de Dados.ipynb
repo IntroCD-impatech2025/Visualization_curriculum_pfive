{
 "cells": [
  {
   "cell_type": "markdown",
   "id": "94d1faf6",
   "metadata": {
    "colab_type": "text",
    "id": "D8bsQl6JmfvJ"
   },
   "source": [
    "# Transformação de Dados\n",
    "\n",
    "Nos notebooks anteriores, aprendemos a usar marcas e codificações visuais para representar registros individuais de dados. Aqui, exploraremos métodos para *transformar* dados, incluindo o uso de agregações para resumir múltiplos registros. A transformação de dados é uma parte essencial da visualização: escolher quais variáveis exibir e seu nível de detalhamento é tão importante quanto escolher codificações visuais apropriadas. Afinal, não importa quão bem escolhidas sejam suas codificações visuais se você estiver mostrando as informações erradas!\n",
    "\n",
    "À medida que você avança neste módulo, recomendamos que abra a [documentação de Transformações de Dados do Altair](https://altair-viz.github.io/user_guide/transform/index.html) em outra aba. Ela será um recurso útil caso você queira mais detalhes ou explorar outras transformações disponíveis.\n",
    "\n",
    "_Este notebook faz parte do [currículo de visualização de dados](https://github.com/uwdata/visualization-curriculum)._\n"
   ]
  },
  {
   "cell_type": "code",
   "execution_count": null,
   "id": "d0eef575",
   "metadata": {
    "colab": {},
    "colab_type": "code",
    "id": "zYMsJwmgJ4R7"
   },
   "outputs": [
    {
     "ename": "",
     "evalue": "",
     "output_type": "error",
     "traceback": [
      "\u001b[1;31mFailed to start the Kernel. \n",
      "\u001b[1;31mPermissionError: [Errno 13] Permission denied: '/usr/local/lib/python3.10/dist-packages/ipykernel_launcher.py'. \n",
      "\u001b[1;31mView Jupyter <a href='command:jupyter.viewOutput'>log</a> for further details."
     ]
    }
   ],
   "source": [
    "import pandas as pd\n",
    "import altair as alt"
   ]
  },
  {
   "cell_type": "markdown",
   "id": "7e0bae7d",
   "metadata": {
    "colab_type": "text",
    "id": "a7BV1iAjml7x"
   },
   "source": [
    "## A tabela de dados sobre filmes"
   ]
  },
  {
   "cell_type": "markdown",
   "id": "498e08d8",
   "metadata": {
    "colab_type": "text",
    "id": "yYtrAahLV3eU"
   },
   "source": [
    "Trabalharemos com uma tabela de dados (_dataset_) sobre filmes, extraída da coleção [vega-datasets](https://vega.github.io/vega-datasets/). Os dados incluem variáveis como o nome do filme, diretor, gênero, data de lançamento, classificações e receitas brutas. No entanto, _tenha cuidado ao trabalhar com esses dados_: os filmes são de anos com amostras desiguais usando dados combinados de múltiplas fontes. Se você analisar com mais detalhe, encontrará problemas como valores ausentes e até alguns erros sutis! Mesmo assim, os dados devem ser interessantes para explorar...\n",
    "\n",
    "Vamos obter a URL do arquivo JSON de dados a partir do pacote vega_datasets e, em seguida, carregar os dados em um DataFrame do Pandas para que possamos inspecionar seu conteúdo.\n"
   ]
  },
  {
   "cell_type": "code",
   "execution_count": null,
   "id": "70c0796e",
   "metadata": {
    "colab": {},
    "colab_type": "code",
    "id": "khT9YvmEicpo"
   },
   "outputs": [],
   "source": [
    "movies_url = 'https://cdn.jsdelivr.net/npm/vega-datasets@1/data/movies.json'\n",
    "movies = pd.read_json(movies_url)"
   ]
  },
  {
   "cell_type": "markdown",
   "id": "8b2e7d0d",
   "metadata": {
    "colab_type": "text",
    "id": "P6wdIPQsXKHK"
   },
   "source": [
    "Quantas linhas (registros) e colunas (campos) existem no _dataset_ de filmes?"
   ]
  },
  {
   "cell_type": "code",
   "execution_count": null,
   "id": "9a4e3f10",
   "metadata": {
    "colab": {
     "base_uri": "https://localhost:8080/",
     "height": 34
    },
    "colab_type": "code",
    "id": "RR-fAxzmXM6H",
    "outputId": "4a4e1680-7da3-48e1-ba34-5129c433fbe1"
   },
   "outputs": [],
   "source": [
    "movies.shape"
   ]
  },
  {
   "cell_type": "markdown",
   "id": "ab227dd2",
   "metadata": {
    "colab_type": "text",
    "id": "PZlB4ti1XCn1"
   },
   "source": [
    "Agora, vamos dar uma olhada nas primeiras 5 linhas da tabela para entender melhor os campos e os tipos de dados..."
   ]
  },
  {
   "cell_type": "code",
   "execution_count": null,
   "id": "689c92ab",
   "metadata": {
    "colab": {
     "base_uri": "https://localhost:8080/",
     "height": 445
    },
    "colab_type": "code",
    "id": "Oby1ngC7VoUL",
    "outputId": "a9b8b839-6428-4da3-db0c-041cb78b703d"
   },
   "outputs": [],
   "source": [
    "movies.head(5)"
   ]
  },
  {
   "cell_type": "markdown",
   "id": "2bae49ea",
   "metadata": {
    "colab_type": "text",
    "id": "kDpfxknEl9dE"
   },
   "source": [
    "## Histogramas\n",
    "\n",
    "Vamos começar nosso tour pelas tranformações _dividindo_ os dados em gupos discretos e _contando_ os registros para resumir esses grupos. Os gráficos que resultam disso são conhecidos como [_histogramas_](https://pt.wikipedia.org/wiki/Histograma).\n",
    "\n",
    "Primeiro, vamos observar os dados não agregados: um gráfico de dispersão mostrando avaliações de filmes do site Rotten Tomatoes versus as avaliações de usuários da plataforma IMDB. Vamos providenciar o dados ao Altair passando a URL dos dados do filme para o método `Chart`. (Nós também poderíamos passar o _data frame_ do Pandas diretamente para conseguirmos o mesmo resultado.) Podemos então diferenciar as avaliações do Rotten Tomatoes e IMDB utilizando os canais `x` e `y`:"
   ]
  },
  {
   "cell_type": "code",
   "execution_count": null,
   "id": "1f11b7ed",
   "metadata": {
    "colab": {
     "base_uri": "https://localhost:8080/",
     "height": 372
    },
    "colab_type": "code",
    "id": "NPrkvLBOJ4SA",
    "outputId": "29bcb73e-95cc-4d04-e854-d6b248570c22"
   },
   "outputs": [],
   "source": [
    "alt.Chart(movies_url).mark_circle().encode(\n",
    "    alt.X('Rotten_Tomatoes_Rating:Q'),\n",
    "    alt.Y('IMDB_Rating:Q')\n",
    ")"
   ]
  },
  {
   "cell_type": "markdown",
   "id": "a13c2ef6",
   "metadata": {
    "colab_type": "text",
    "id": "I3JZLmmTcYf-"
   },
   "source": [
    "Para resumir esses dados, podemos separar um campo de dados para agrupar valores numéricos em grupos discretos. Aqui, nós separamos no eixo x utilizando o parâmetro `bin=True` no canal de codificação `x`. O resultado é um conjunto de dez partições com mesmo tamanho de intervalo, cada uma correspondendo a uma gama de dez pontos de avaliação diferentes."
   ]
  },
  {
   "cell_type": "code",
   "execution_count": null,
   "id": "750e75d8",
   "metadata": {
    "colab": {
     "base_uri": "https://localhost:8080/",
     "height": 372
    },
    "colab_type": "code",
    "id": "qTj6F82eJ4SF",
    "outputId": "3b04da50-11d1-47b4-fa36-c131b41f5e22"
   },
   "outputs": [],
   "source": [
    "alt.Chart(movies_url).mark_circle().encode(\n",
    "    alt.X('Rotten_Tomatoes_Rating:Q', bin=True),\n",
    "    alt.Y('IMDB_Rating:Q')\n",
    ")"
   ]
  },
  {
   "cell_type": "markdown",
   "id": "76bf641b",
   "metadata": {
    "colab_type": "text",
    "id": "9GbuvhbxdEzL"
   },
   "source": [
    "Configurar `bin=True` utiliza a configuração padrão de particionamento, porém, conseguimos ter mais controle sobre esse parâmetro se desejarmos. Vamos ajustar a contagem máxima de partições (`maxbins`) para 20, a qual tem o efeito de dobrar o número de partições. Agora cada parte corresponde a uma gama de cinco pontos de avaliação."
   ]
  },
  {
   "cell_type": "code",
   "execution_count": null,
   "id": "44911c7e",
   "metadata": {
    "colab": {
     "base_uri": "https://localhost:8080/",
     "height": 372
    },
    "colab_type": "code",
    "id": "JRYagm7tU2Yb",
    "outputId": "60e799d9-fe8d-4d2b-8081-aae7ae022571"
   },
   "outputs": [],
   "source": [
    "alt.Chart(movies_url).mark_circle().encode(\n",
    "    alt.X('Rotten_Tomatoes_Rating:Q', bin=alt.BinParams(maxbins=20)),\n",
    "    alt.Y('IMDB_Rating:Q')\n",
    ")"
   ]
  },
  {
   "cell_type": "markdown",
   "id": "bdf1c7f1",
   "metadata": {
    "colab_type": "text",
    "id": "vKLumbced_yB"
   },
   "source": [
    "Com os dados repartidos, vamos agora resumir a distribuição das avalições do Rotten Tomatoes. Vamos deixar de lado as avaliações do IMDB por enquanto, e no lugar disso, vamos usar o canal de codificação `y` para exibir uma contagem (`count`) agregada dos registros, de modo que a posição vertical de cada ponto indica o número de filmes por avaliação (considerando as partições) do Rotten Tomatoes.\n",
    "\n",
    "Como o agregador `count` conta o número total de registros em cada repartição indepedentemente do valor do campo, não precisamos incluir um nome de campo na codificação `y`."
   ]
  },
  {
   "cell_type": "code",
   "execution_count": null,
   "id": "89255b96",
   "metadata": {
    "colab": {
     "base_uri": "https://localhost:8080/",
     "height": 372
    },
    "colab_type": "code",
    "id": "NeutGiz8J664",
    "outputId": "dbae41cf-a7b4-4101-fd05-124519e4ece1"
   },
   "outputs": [],
   "source": [
    "alt.Chart(movies_url).mark_circle().encode(\n",
    "    alt.X('Rotten_Tomatoes_Rating:Q', bin=alt.BinParams(maxbins=20)),\n",
    "    alt.Y('count()')\n",
    ")"
   ]
  },
  {
   "cell_type": "markdown",
   "id": "5701bd9a",
   "metadata": {
    "colab_type": "text",
    "id": "xBjv_RMeed0S"
   },
   "source": [
    "Para chegarmos em um histograma padrão, vamos mudar o tipo de marca de círculo (`circle`) para barra (`bar`):"
   ]
  },
  {
   "cell_type": "code",
   "execution_count": null,
   "id": "76fdc04e",
   "metadata": {
    "colab": {
     "base_uri": "https://localhost:8080/",
     "height": 372
    },
    "colab_type": "code",
    "id": "6xOHaNlek0y4",
    "outputId": "6ab75a03-7150-4dbc-e42c-54879cf3252a"
   },
   "outputs": [],
   "source": [
    "alt.Chart(movies_url).mark_bar().encode(\n",
    "    alt.X('Rotten_Tomatoes_Rating:Q', bin=alt.BinParams(maxbins=20)),\n",
    "    alt.Y('count()')\n",
    ")"
   ]
  },
  {
   "cell_type": "markdown",
   "id": "f4cdfea5",
   "metadata": {
    "colab_type": "text",
    "id": "5pUVxMpMfKo9"
   },
   "source": [
    "_Podemos agora examinar a distribuição de avaliações mais claramente: podemos ver menos filmes na faixa negativa e um pouco mais de filmes com notas maiores, mas de maneira geral obsevamos uma distribuição uniforme. Avaliações do Rotten Tomatoes são determinadas utilizando \"joinha\" e \"deslike\" dos críticos de filme e calculando a porcentagem de reações positivas. Essa abordagem aparenta realizar um bom trabalho utilizando toda faixa dos valores das avaliações._\n",
    "\n",
    "Similarmente, podemos criar um histograma para as avaliações do IMDB trocando apenas o campo no canal de codificação `x`: "
   ]
  },
  {
   "cell_type": "code",
   "execution_count": null,
   "id": "bde5c574",
   "metadata": {
    "colab": {
     "base_uri": "https://localhost:8080/",
     "height": 372
    },
    "colab_type": "code",
    "id": "7S9YSjoUlgAW",
    "outputId": "eb745925-3fdf-4ab7-b7c3-85875915a787"
   },
   "outputs": [],
   "source": [
    "alt.Chart(movies_url).mark_bar().encode(\n",
    "    alt.X('IMDB_Rating:Q', bin=alt.BinParams(maxbins=20)),\n",
    "    alt.Y('count()')\n",
    ")"
   ]
  },
  {
   "cell_type": "markdown",
   "id": "6eb5e58a",
   "metadata": {
    "id": "-wPv8HyCqlps"
   },
   "source": [
    "_Em contraste com a distribuição uniforme que vimos antes, as classificações do IMDB exibem uma distribuição em forma de sino (embora esteja [negativamente distorcida](https://en.wikipedia.org/wiki/Skewness)). As classificações do IMDB são formadas pela média das pontuações (que variam de 1 a 10) fornecidas pelos usuários do site. Podemos ver que esta forma de medição leva a um formato diferente das classificações do Rotten Tomatoes. Podemos notar também que a moda da distribuição está entre 6.5 e 7: as pessoas geralmente gostam de ver filmes, o que explica potencialmente o viés positivo!_"
   ]
  },
  {
   "cell_type": "markdown",
   "id": "1aa94c51",
   "metadata": {
    "id": "R0VUtJn4rstc"
   },
   "source": [
    "Agora devemos voltar ao nosso gráfico de dispersão das classificações do Rotten Tomatoes e do IMDB. Aqui está o que acontece se descartarmos _ambos_ os eixos do nosso gráfico original."
   ]
  },
  {
   "cell_type": "code",
   "execution_count": null,
   "id": "fa0b5b2d",
   "metadata": {
    "colab": {
     "base_uri": "https://localhost:8080/",
     "height": 369
    },
    "id": "B5LpxdDer6GX",
    "outputId": "0941210e-d5ff-4996-c3c1-07cfec8b4a56"
   },
   "outputs": [],
   "source": [
    "alt.Chart(movies_url).mark_circle().encode(\n",
    "    alt.X('Rotten_Tomatoes_Rating:Q', bin = alt.BinParams(maxbins = 20)),\n",
    "    alt.Y('IMDB_Rating:Q', bin = alt.BinParams(maxbins = 20))\n",
    ")"
   ]
  },
  {
   "cell_type": "markdown",
   "id": "93d5e324",
   "metadata": {
    "id": "wI6AbTMms1JF"
   },
   "source": [
    "Os detalhes são perdidos devido ao _excesso de plotagens_, onde muitos pontos estão desenhados diretamente uns sobre os outros."
   ]
  },
  {
   "cell_type": "markdown",
   "id": "42f1339b",
   "metadata": {
    "id": "0KbMN58GtAu_"
   },
   "source": [
    "Para formar um histograma bidimensional, podemos adicionar um agregador `count` como antes. Como os canais de codificação `x` e `y` já estão em uso, devemos usar um canal de codificação diferente para transmitir as contagens. Aqui está o resultado do uso de área circular, adicionando um canal de codificação de tamanho (`size`)."
   ]
  },
  {
   "cell_type": "code",
   "execution_count": null,
   "id": "ec8f9a20",
   "metadata": {
    "colab": {
     "base_uri": "https://localhost:8080/",
     "height": 369
    },
    "id": "p5y5_Peftbe_",
    "outputId": "0894250e-a8a1-475a-b656-ab9eb099863a"
   },
   "outputs": [],
   "source": [
    "alt.Chart(movies_url).mark_circle().encode(\n",
    "    alt.X('Rotten_Tomatoes_Rating:Q', bin = alt.BinParams(maxbins = 20)),\n",
    "    alt.Y('IMDB_Rating:Q', bin = alt.BinParams(maxbins = 20)),\n",
    "    alt.Size('count()')\n",
    ")"
   ]
  },
  {
   "cell_type": "markdown",
   "id": "256ead2d",
   "metadata": {
    "id": "3aBhmCUwuGEl"
   },
   "source": [
    "De forma alternativa, podemos codificar contagens usando o canal cor (`color`) e alterar o tipo de marca para barra (`bar`). O resultado é um histograma bidimensional na forma de um _[heatmap](https://en.wikipedia.org/wiki/Heat_map)_."
   ]
  },
  {
   "cell_type": "code",
   "execution_count": null,
   "id": "af80b51a",
   "metadata": {
    "colab": {
     "base_uri": "https://localhost:8080/",
     "height": 369
    },
    "id": "bcWuX9-lupD2",
    "outputId": "46a01646-7ba7-442a-cb87-ca87234857f6"
   },
   "outputs": [],
   "source": [
    "alt.Chart(movies_url).mark_bar().encode(\n",
    "    alt.X('Rotten_Tomatoes_Rating:Q', bin = alt.BinParams(maxbins = 20)),\n",
    "    alt.Y('IMDB_Rating:Q', bin = alt.BinParams(maxbins = 20)),\n",
    "    alt.Color('count()')\n",
    ")"
   ]
  },
  {
   "cell_type": "markdown",
   "id": "848fc711",
   "metadata": {
    "id": "r2rRD7-5vExg"
   },
   "source": [
    "Compare os histogramas 2D baseados em tamanho e cor acima. Qual codificação você acha que deveria ser preferida? Por que? Em qual gráfico você pode comparar com mais precisão a magnitude dos valores individuais? Em qual gráfico você consegue ver com mais precisão a densidade geral das avaliações?"
   ]
  },
  {
   "cell_type": "markdown",
   "id": "c72ffea4",
   "metadata": {},
   "source": [
    "## Agregação\n",
    "\n",
    "As contagens são apenas um tipo de resumo. Podemos também calcular resumos usando medidas como a média (`average`), mediana (`median`), mínimo (`min`), ou máximo (`max`). A documentação do Altair inclui o [conjunto completo de funções de resumo disponíveis](https://altair-viz.github.io/user_guide/transform/aggregate.html#user-guide-aggregate-transform).\n",
    "\n",
    "Vamos dar uma olhada em alguns exemplos!"
   ]
  },
  {
   "cell_type": "markdown",
   "id": "39fe9271",
   "metadata": {},
   "source": [
    "### Médias e ordenação\n",
    "\n",
    "_Diferentes gêneros de filmes recebem de forma consistente diferentes classificações dos críticos?_ Como um primeiro passo para responder a esta pergunta, podemos examinar a [média (também conhecida como *média aritmética*)](https://en.wikipedia.org/wiki/Arithmetic_mean) de classificação para cada gênero de filme.\n",
    "\n",
    "Vamos visualizar o gênero ao longo do eixo ``y`` e traçar a classificação média do Rotten Tomatoes ao longo do eixo ``x``.\n"
   ]
  },
  {
   "cell_type": "code",
   "execution_count": null,
   "id": "228bf1c5",
   "metadata": {},
   "outputs": [],
   "source": [
    "alt.Chart(movies_url).mark_bar().encode(\n",
    "    alt.X('average(Rotten_Tomatoes_Rating):Q'),\n",
    "    alt.Y('Major_Genre:N')\n",
    ")"
   ]
  },
  {
   "cell_type": "markdown",
   "id": "f979f5a0",
   "metadata": {},
   "source": [
    "_Parece haver alguma variação interessante, mas olhar para os dados como uma lista alfabética não é muito útil para classificar as respostas da crítica aos gêneros._\n",
    "\n",
    "Para uma imagem mais organizada, vamos ordenar os gêneros por ordem decrescente de classificação média. Para fazermos isso, vamos adicionar um parâmetro ordem\n",
    "(`sort`) ao canal de codificação `y`, indicando que queremos ordenar pela média (`op`, a operação de agregação) da classificação do *Rotten Tomatoes* (o \n",
    "`field`) por ordem (`order`) decrescente."
   ]
  },
  {
   "cell_type": "code",
   "execution_count": null,
   "id": "7bca7307",
   "metadata": {},
   "outputs": [],
   "source": [
    "alt.Chart(movies_url).mark_bar().encode(\n",
    "    alt.X('average(Rotten_Tomatoes_Rating):Q'),\n",
    "    alt.Y('Major_Genre:N', sort=alt.EncodingSortField(\n",
    "        op='average', field='Rotten_Tomatoes_Rating', order='descending')\n",
    "    )\n",
    ")"
   ]
  },
  {
   "cell_type": "markdown",
   "id": "2927f8b4",
   "metadata": {},
   "source": [
    "_A ordenação sugere que os críticos apreciam muito os documentários, os musicais, os faroestes e os dramas, mas desprezam as comédias românticas e os filmes de terror... e quem não gosta de filmes com gênero desconhecido (`null`)?_"
   ]
  },
  {
   "cell_type": "markdown",
   "id": "255d15a5",
   "metadata": {
    "colab_type": "text",
    "id": "i6jWJ-HOpF_-"
   },
   "source": [
    "<!--### Medians and the Inter-Quartile Range\n",
    "\n",
    "While averages are a common way to summarize data, they can sometimes mislead. For example, very large or very small values ([*outliers*](https://en.wikipedia.org/wiki/Outlier)) might skew the average. To be safe, we can compare the genres according to the [*median*](https://en.wikipedia.org/wiki/Median) ratings as well.\n",
    "\n",
    "The median is a point that splits the data evenly, such that half of the values are less than the median and the other half are greater. The median is less sensitive to outliers and so is referred to as a [*robust* statistic](https://en.wikipedia.org/wiki/Robust_statistics). For example, arbitrarily increasing the largest rating value will not cause the median to change.\n",
    "\n",
    "Let's update our plot to use a `median` aggregate and sort by those values:-->\n",
    "\n",
    "### Medianas e intervalo interquartil\n",
    "\n",
    "Embora as médias sejam uma forma comum de resumir dados, às vezes podem ser enviesadas. Por exemplo, valores muito grandes ou muito pequenos ([*outliers*](https://en.wikipedia.org/wiki/Outlier)) podem distorcer a média. Por segurança, também podemos comparar os dados de acordo com a [*mediana*](https://en.wikipedia.org/wiki/Median) das classificações.\n",
    "\n",
    "A mediana é um ponto que divide os dados uniformemente, de forma que metade dos valores seja menor que a mediana e a outra metade seja maior. A mediana é menos sensível a valores discrepantes e, portanto, é chamada de [estatística *robusta*](https://en.wikipedia.org/wiki/Robust_statistics). Por exemplo, aumentar arbitrariamente o maior valor de classificação não fará com que a mediana mude.\n",
    "\n",
    "Vamos atualizar nosso gráfico para usar um agregador de mediana (`median`) e classificar por esses valores:"
   ]
  },
  {
   "cell_type": "code",
   "execution_count": null,
   "id": "283b6cdc",
   "metadata": {
    "colab": {
     "base_uri": "https://localhost:8080/",
     "height": 339
    },
    "colab_type": "code",
    "id": "9npR5D_EpXMJ",
    "outputId": "ad4b2684-8608-4372-9931-e56128e1046e"
   },
   "outputs": [],
   "source": [
    "alt.Chart(movies_url).mark_bar().encode(\n",
    "    alt.X('median(Rotten_Tomatoes_Rating):Q'),\n",
    "    alt.Y('Major_Genre:N', sort=alt.EncodingSortField(\n",
    "        op='median', field='Rotten_Tomatoes_Rating', order='descending')\n",
    "    )\n",
    ")"
   ]
  },
  {
   "cell_type": "markdown",
   "id": "ad50c0fa",
   "metadata": {
    "colab_type": "text",
    "id": "eRBgJiXcp6DX"
   },
   "source": [
    "<!--_We can see that some of the genres with similar averages have swapped places (films of unknown genre, or `null`, are now rated highest!), but the overall groups have stayed stable. Horror films continue to get little love from professional film critics._\n",
    "\n",
    "It's a good idea to stay skeptical when viewing aggregate statistics. So far we've only looked at *point estimates*. We have not examined how ratings vary within a genre.\n",
    "\n",
    "Let's visualize the variation among the ratings to add some nuance to our rankings. Here we will encode the [*inter-quartile range* (IQR)](https://en.wikipedia.org/wiki/Interquartile_range) for each genre. The IQR is the range in which the middle half of data values reside. A [*quartile*](https://en.wikipedia.org/wiki/Quartile) contains 25% of the data values. The inter-quartile range consists of the two middle quartiles, and so contains the middle 50%. \n",
    "\n",
    "To visualize ranges, we can use the `x` and `x2` encoding channels to indicate the starting and ending points. We use the aggregate functions `q1` (the lower quartile boundary) and `q3` (the upper quartile boundary) to provide the inter-quartile range. (In case you are wondering, *q2* would be the median.)-->\n",
    "\n",
    "_Podemos ver que alguns dos gêneros com médias semelhantes trocaram de lugar (filmes de gênero desconhecido, ou ‘null’, agora têm as classificações mais altas!), mas os grupos gerais permaneceram estáveis. Os filmes de terror continuam a receber pouco entusiasmo dos críticos de cinema profissionais._\n",
    "\n",
    "É uma boa ideia permanecer cético ao visualizar estatísticas agregadas. Até agora, analisamos apenas *estimativas locais*. Não examinamos como as classificações variam dentro de um gênero.\n",
    "\n",
    "Vamos visualizar a variação entre as classificações para adicionar algumas nuances às nossas classificações. Aqui codificaremos o [*intervalo interquartil* (IQR)](https://en.wikipedia.org/wiki/Interquartile_range) para cada gênero. O IQR é o intervalo em que reside a metade intermediária dos valores dos dados. Um [*quartil*](https://en.wikipedia.org/wiki/Quartile) contém 25% dos valores dos dados. O intervalo interquartil consiste nos dois quartis intermediários e, portanto, contém os 50% intermediários. \n",
    "\n",
    "Para visualizar intervalos, podemos usar os canais de codificação `x` e `x2` para indicar os pontos inicial e final. Usamos as funções agregadoras `q1` (o limite do quartil inferior) e `q3` (o limite do quartil superior) para fornecer o intervalo interquartil. (Caso você esteja se perguntando, *q2* seria a mediana.)"
   ]
  },
  {
   "cell_type": "code",
   "execution_count": null,
   "id": "f44de5f0",
   "metadata": {
    "colab": {
     "base_uri": "https://localhost:8080/",
     "height": 339
    },
    "colab_type": "code",
    "id": "vJaDc25rqWPv",
    "outputId": "a2cf93b2-3d0b-4412-b609-2e40c86a9d8d"
   },
   "outputs": [],
   "source": [
    "alt.Chart(movies_url).mark_bar().encode(\n",
    "    alt.X('q1(Rotten_Tomatoes_Rating):Q'),\n",
    "    alt.X2('q3(Rotten_Tomatoes_Rating):Q'),\n",
    "    alt.Y('Major_Genre:N', sort=alt.EncodingSortField(\n",
    "        op='median', field='Rotten_Tomatoes_Rating', order='descending')\n",
    "    )\n",
    ")"
   ]
  },
  {
   "cell_type": "markdown",
   "id": "01f1eb35",
   "metadata": {},
   "source": [
    "### Unidades de Tempo\n",
    "\n",
    "_Agora vamos fazer uma pergunta completamente diferente: as bilheterias variam de acordo com a estação do ano?_\n",
    "\n",
    "Para conseguir a resposta inicial, vamos traçar a média bruta de lucro nos Estados Unidos por mês.\n",
    "\n",
    "Para fazer esse gráfico, use a unidade de tempo (`timeunit`) para mapear as datas de lançamento por mês (`month`) do ano. O resultado é similar a discretização, mas usando intervalos de tempo mais significativos. Outras unidades de tempo incluem ano (`year`), trimestre (`quarter`), dia do mês (`date`), dia da semana (`day`) e horas (`hours`). Há também outras unidades, chamadas compostas, como ano-mês (`yearmonth`) ou horas-minutos (`hoursminutes`). Veja a documenteção do Altair para [lista completa de unidades de tempo](https://altair-viz.github.io/user_guide/transform/timeunit.html#user-guide-timeunit-transform).\n",
    "\n"
   ]
  },
  {
   "cell_type": "code",
   "execution_count": null,
   "id": "61674694",
   "metadata": {},
   "outputs": [],
   "source": [
    "alt.Chart(movies_url).mark_area().encode(\n",
    "    alt.X('month(Release_Date):T'),\n",
    "    alt.Y('median(US_Gross):Q')\n",
    ")"
   ]
  },
  {
   "cell_type": "markdown",
   "id": "e921cc05",
   "metadata": {},
   "source": [
    "_Observando o gráfico resultante, as vendas médias de filmes nos EUA parecem aumentar em torno da temporada de sucessos de bilheteria do verão e do período de férias de fim de ano. Claro, pessoas ao redor do mundo (não apenas os EUA) vão ao cinema. Um padrão semelhante surge para a receita bruta ao redor do mundo?_"
   ]
  },
  {
   "cell_type": "code",
   "execution_count": null,
   "id": "9de827cf",
   "metadata": {},
   "outputs": [],
   "source": [
    "alt.Chart(movies_url).mark_area().encode(\n",
    "    alt.X('month(Release_Date):T'),\n",
    "    alt.Y('median(Worldwide_Gross):Q')\n",
    ")"
   ]
  },
  {
   "cell_type": "markdown",
   "id": "9ce92257",
   "metadata": {},
   "source": [
    "_Sim!_"
   ]
  },
  {
   "cell_type": "markdown",
   "id": "b347139c",
   "metadata": {},
   "source": [
    "## Transformação avançada de dados\n",
    "\n",
    "Os exemplos acima usam transformações (*bin*, *timeunit*, *aggregate*, *sort*) que são definidas em relação a um canal de codificação. Porém, em algumas situações você talvez queira aplicar uma cadeia de múltiplas transformações antes da visualização, ou usar transformações que não se integram em definições de codificação. Para tais casos, Altair e Vega-Lite suportam transformações de dados definidas separadamente das codificações. Essas transformações são aplicadas nos dados *antes* de qualquer codificação ser considerada.\n",
    "\n",
    "Nós também *poderíamos* fazer transformações usando Pandas diretamente, e então visualizar o resultado. Porém, usar as transformações embutidas permite que nossas visualizações sejam publicadas mais facilmente em outros contextos; por exemplo, exportar o Vega-Lite JSON para usar em uma interface da web independente. Vamos dar uma olhada nas transformações embutidas suportadas pelo Altair como calcular (`calculate`), filtrar (`filter`), agregar (`aggregate`), e janela (`window`).\n"
   ]
  },
  {
   "cell_type": "markdown",
   "id": "cece50b2",
   "metadata": {},
   "source": [
    "### *Calcular (`calculate`) *\n",
    "\n",
    "_Pense novamente na comparação entre a receita nos E.U.A e a receita mundial. A receita mundial não inclui os EUA? (De fato, inclui) Como podemos ter uma melhor noção das tendências fora dos EUA?_\n",
    "\n",
    "Com a transformação `calculate` nós podemos derivar novos campos. Aqui queremos subtrair a receita dos E.U.A (`US_Gross`) da receita mundial (`Worldwide_gross`). A transformação `calculate` pega uma *string* de expressão Vega ([*Vega expression*](https://vega.github.io/vega/docs/expressions/)) para realizar uma operação sobre um único registro. *Vega expressions* utiliza sintaxe *JavaScript*. O prefixo `datum.` acessa os valores de um campo de regisro."
   ]
  },
  {
   "cell_type": "code",
   "execution_count": null,
   "id": "90d8f7f8",
   "metadata": {},
   "outputs": [],
   "source": [
    "alt.Chart(movies).mark_area().transform_calculate(\n",
    "    NonUS_Gross='datum.Worldwide_Gross - datum.US_Gross'\n",
    ").encode( \n",
    "    alt.X('month(Release_Date):T'),\n",
    "    alt.Y('median(NonUS_Gross):Q')\n",
    ")"
   ]
  },
  {
   "cell_type": "markdown",
   "id": "3e99daf5",
   "metadata": {},
   "source": [
    "_Podemos observar que as tendências sazonais se mantêm fora dos EUA, mas com um declínio significativo nos meses fora dos picos._"
   ]
  },
  {
   "cell_type": "markdown",
   "id": "561c1e4b",
   "metadata": {},
   "source": [
    "### Filtrar (`filter`)\n",
    "\n",
    "A transformação *filter* cria uma nova tabela com um subconjunto dos dados originais, removendo linhas que não atendem a um requisito, conhecido como predicado ([*predicate*](https://en.wikipedia.org/wiki/Predicate_%28mathematical_logic%29)). Semelhante à transformação *calculate*, os *filter predicates* são aplicados utilizando a linguagem [Vega expression](https://vega.github.io/vega/docs/expressions/).\n",
    "\n",
    "Abaixo, adicionamos um filtro para limitar nosso gráfico de dispersão inicial de classificações do IMDB vs. Rotten Tomatoes para apenas filmes do gênero principal \"Comédia Romântica\" (*Romantic Comedy*)."
   ]
  },
  {
   "cell_type": "code",
   "execution_count": null,
   "id": "82f56113",
   "metadata": {},
   "outputs": [],
   "source": [
    "alt.Chart(movies_url).mark_circle().encode(\n",
    "    alt.X('Rotten_Tomatoes_Rating:Q'),\n",
    "    alt.Y('IMDB_Rating:Q')\n",
    ").transform_filter('datum.Major_Genre == \"Romantic Comedy\"')"
   ]
  },
  {
   "cell_type": "markdown",
   "id": "9bd1a498",
   "metadata": {},
   "source": [
    "_Como o gráfico muda se observarmos os outros gêneros? Edite a expressão do filtro para descobrir._\n",
    "\n",
    "Agora, vamos filtrar para ver apenas filmes lançados antes de 1970."
   ]
  },
  {
   "cell_type": "code",
   "execution_count": null,
   "id": "c7276e9c",
   "metadata": {},
   "outputs": [],
   "source": [
    "alt.Chart(movies_url).mark_circle().encode(\n",
    "    alt.X('Rotten_Tomatoes_Rating:Q'),\n",
    "    alt.Y('IMDB_Rating:Q')\n",
    ").transform_filter('year(datum.Release_Date) < 1970')"
   ]
  },
  {
   "cell_type": "markdown",
   "id": "d4632955",
   "metadata": {},
   "source": [
    "_Eles parecem ter pontuações anormalmente altas! Filmes antigos são melhores que os demais ou há um viés de seleção ([selection bias](https://en.wikipedia.org/wiki/Selection%5Fbias)) a filmes mais antigos com melhor classificação neste conjunto de dados?_"
   ]
  },
  {
   "cell_type": "markdown",
   "id": "c931d4f4",
   "metadata": {},
   "source": [
    "### Agregação (`aggregate`)\n",
    "\n",
    "Já vimos transformações com agregação (`aggregate`), como `count` e `average`, no contexto de canais de codificação. Também podemos especificar agregações separadamente, como uma etapa de pré-processamento para outras transformações (como nos exemplos da transformação `window` abaixo). A saída de uma transformação `aggregate` é uma nova tabela de dados com registros que contêm tanto os campos de `groupby` quanto as medidas agregadas calculadas.\n",
    "\n",
    "Vamos recriar nosso gráfico de avaliações médias por gênero, mas desta vez utilizando uma transformação `aggregate` separada. A tabela de saída da transformação `aggregate` contém 13 linhas, uma para cada gênero.\n",
    "\n",
    "Para ordenar o eixo `y`, devemos incluir uma operação de agregação obrigatória nas instruções de ordenação. Aqui utilizamos o operador `max`, que funciona bem porque há apenas um registro de saída por gênero. Poderíamos usar o operador `min` da mesma forma e obteríamos o mesmo gráfico."
   ]
  },
  {
   "cell_type": "code",
   "execution_count": null,
   "id": "8bfbed2d",
   "metadata": {},
   "outputs": [],
   "source": [
    "alt.Chart(movies_url).mark_bar().transform_aggregate(\n",
    "    groupby=['Major_Genre'],\n",
    "    Average_Rating='average(Rotten_Tomatoes_Rating)'\n",
    ").encode(\n",
    "    alt.X('Average_Rating:Q'),\n",
    "    alt.Y('Major_Genre:N', sort=alt.EncodingSortField(\n",
    "        op='max', field='Average_Rating', order='descending'\n",
    "      )\n",
    "    )\n",
    ")"
   ]
  },
  {
   "cell_type": "markdown",
   "id": "c9385f6d",
   "metadata": {
    "id": "qzjUD3bvx8Cn"
   },
   "source": [
    "### Janela (`window`)\n",
    "Transformações `window` realizam cálculos sobre grupos ordenados de dados. Estas transformações são ferramentas poderosas, capazes de realizar operações como ordenação, análise de avanço/atraso dos dados, soma cumulativa, somas correntes e média. Valores calculados a partir de uma transformação `window` são salvos na tabela de dados original como um novo campo de dados. As operações *window* incluem as operações de agregação vistas anteriormente, bem como operações especializadas, como `rank`, `row_number`, `lead`, e `lag`. A documentação do Vega-Lite lista [todas as operações *window* válidas](https://vega.github.io/vega-lite/docs/window.html#ops).\n",
    "\n",
    "Uma utilidade para uma operação `window` é calcular os k primeiros elementos de uma lista. Vamos fazer um gráfico dos 20 maiores diretores em termos de lucro ao redor do mundo.\n",
    "\n",
    "Primeiro, utilizamos o operador `filter` para remover registros em que não sabemos o diretor. Caso contrário o diretor `null` iria dominar a lista! Em seguida, aplicamos o `aggregate` para somar o lucro de cada filme, agrupado por diretor. Neste momento, poderiamos fazer um gráfico de barras ordenado, mas acabaríamos com centenas e centenas de diretores. Como podemos limitar a visualização a apenas os 20 primeiros?\n",
    "\n",
    "A transformação `window` nos permite determinar os primeiros diretores calculando sua ordem relativa. Dentro da nossa definição da transformação `window`, podemos ordenar por lucro e usar a operação `rank` pra calcular as posições relativas àquela ordenação. Depois, podemos adicionar uma transformação `filter` para limitar os dados apenas aos registros cuja a posição é menor ou igual a 20."
   ]
  },
  {
   "cell_type": "code",
   "execution_count": null,
   "id": "648d9307",
   "metadata": {
    "colab": {
     "base_uri": "https://localhost:8080/",
     "height": 465
    },
    "id": "wEE4sJa7j1lS",
    "outputId": "8de759fd-0b3e-482b-cf10-9fb37342a544"
   },
   "outputs": [],
   "source": [
    "alt.Chart(movies_url).mark_bar().transform_filter(\n",
    "    'datum.Director != null'\n",
    ").transform_aggregate(\n",
    "    Gross='sum(Worldwide_Gross)',\n",
    "    groupby=['Director']\n",
    ").transform_window(\n",
    "    Rank='rank()',\n",
    "    sort=[alt.SortField('Gross', order='descending')]\n",
    ").transform_filter(\n",
    "    'datum.Rank < 20'\n",
    ").encode(\n",
    "    alt.X('Gross:Q'),\n",
    "    alt.Y('Director:N', sort=alt.EncodingSortField(\n",
    "        op='max', field='Gross', order='descending'\n",
    "    ))\n",
    ")"
   ]
  },
  {
   "cell_type": "markdown",
   "id": "0e4c6fda",
   "metadata": {
    "id": "g0wzX3lAohY3"
   },
   "source": [
    "_Vemos que Steven Spielberg foi muito bem sucedido em sua carreira! Entretanto, mostrar as somas pode favorecer diretores que tiveram carreiras mais longas, e portanto tiveram lucros maiores com a produção de mais filmes. O que aconteceria se nós trocassemos a operação de agregação escolhida? Quem é um diretor mais bem sucedido em termos da **media** ou **mediana** dos lucros por filme? Modifique a transformação agregada acima!_\n",
    "\n",
    "Anteriormente neste notebook, trabalhamos com histogramas, que aproximam a [*função densidade de probabilidade*](https://en.wikipedia.org/wiki/Probability_density_function) de um conjunto de valores. Uma abordagem complementar é observar a [*distribuição cumulativa*](https://en.wikipedia.org/wiki/Cumulative_distribution_function). Por exemplo, considere um histograma no qual cada _bin_ inclui não só o seu valor mas também a soma dos valores de todos os _bins_ anteriores &mdash; o resultado é uma _soma corrente_, com o último _bin_ contando o número total de registros. Um gráfico cumulativo nos mostra diretamente, dado um valor de referência, quantos dos valores nos dados são menores ou iguais à referência.\n",
    "\n",
    "Para um exemplo concreto, vamos observar a distribuição cumulativa de filmes por tempo de duração (em minutos). Apenas um subconjunto dos registros inclui a informação sobre o tempo de duração, portanto devemos primeiro aplicar `filter` aqueles que a possuem. Em seguida, aplicamos o `aggregate` para contar o número de filmes por duração (utilizando implicitamente _bins_ de tamanho 1 minuto). Depois, utilizamos a transformação `window` para computar a soma currente do total sobre os _bins_, em ordem crescente de tempo de duração."
   ]
  },
  {
   "cell_type": "code",
   "execution_count": null,
   "id": "32b8cda0",
   "metadata": {
    "colab": {
     "base_uri": "https://localhost:8080/",
     "height": 366
    },
    "id": "2uIdl9qTey9r",
    "outputId": "9c20912b-a865-4ef5-b915-bc4317ba93bf"
   },
   "outputs": [],
   "source": [
    "alt.Chart(movies_url).mark_line(interpolate='step-before').transform_filter(\n",
    "    'datum.Running_Time_min != null'\n",
    ").transform_aggregate(\n",
    "    groupby=['Running_Time_min'],\n",
    "    Count='count()',\n",
    ").transform_window(\n",
    "    Cumulative_Sum='sum(Count)',\n",
    "    sort=[alt.SortField('Running_Time_min', order='ascending')]\n",
    ").encode(\n",
    "    alt.X('Running_Time_min:Q', axis=alt.Axis(title='Duration (min)')),\n",
    "    alt.Y('Cumulative_Sum:Q', axis=alt.Axis(title='Cumulative Count of Films'))\n",
    ")"
   ]
  },
  {
   "cell_type": "markdown",
   "id": "ce039785",
   "metadata": {
    "id": "LriNGpZYMuiQ"
   },
   "source": [
    "_Vamos análisar a distribuição cumulativa da duração dos filmes. Podemos ver que os filmes com menos de 110 minutos compõem cerca de metade dos filmes para os quais temos a informação de duração. Podemos ver um crescimento constante entre os filmes de 90 minutos até 2 horas de duração, a partir do qual a distribuição começa a estabilizar. Apesar de raros, o dataset contém diversos filmes com mais de 3 horas de duração!_\n",
    "\n"
   ]
  },
  {
   "cell_type": "markdown",
   "id": "cec4cd08-c148-44e0-b878-84b2ddbc33ec",
   "metadata": {},
   "source": [
    "## Resumo \n",
    "\n",
    " Nesta seção, apresentamos apenas uma prévia do poder da transformação de dados! Para mais detalhes, incluindo todas as transformações disponíveis e seus parâmetros, veja a [ documentação de transformação de dados do Altair](https://altair-viz.github.io/user_guide/transform/index.html).\n",
    "\n",
    "Às vezes, você precisará executar uma transformação de dados significativa para preparar seus dados _antes mesmo_ de usar ferramentas de visualização. Para se envolver com preparação de dados ([_data wrangling_](https://en.wikipedia.org/wiki/Data_wrangling)), através do próprio Python, você pode usar a [biblioteca Pandas](https://pandas.pydata.org/).\n",
    "                                                                                                                                           "
   ]
  },
  {
   "cell_type": "markdown",
   "id": "8f7d3c62",
   "metadata": {
    "id": "2VghOarjIvMz"
   },
   "source": [
    "Primeiramente, devemos carregar os pacotes e os dados a serem trabalhados. Neste caso, o conjunto de dados utilizados foi o Gapminder, pois contém informações a respeito do desenvolvimento social de vários países:"
   ]
  }
 ],
 "metadata": {
  "kernelspec": {
   "display_name": "Python 3",
   "language": "python",
   "name": "python3"
  },
  "language_info": {
   "codemirror_mode": {
    "name": "ipython",
    "version": 3
   },
   "file_extension": ".py",
   "mimetype": "text/x-python",
   "name": "python",
   "nbconvert_exporter": "python",
   "pygments_lexer": "ipython3",
   "version": "3.10.12"
  }
 },
 "nbformat": 4,
 "nbformat_minor": 5
}
