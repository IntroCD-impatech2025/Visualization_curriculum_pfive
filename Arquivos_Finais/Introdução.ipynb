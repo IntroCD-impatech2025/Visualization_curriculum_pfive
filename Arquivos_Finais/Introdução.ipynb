{
 "cells": [
  {
   "cell_type": "markdown",
   "metadata": {},
   "source": [
    "# Introdução\n",
    "\n",
    "Um currículo de visualização de dados de notebooks interativos, utilizando [Vega-Lite](https://vega.github.io/vega-lite/) e [Altair](https://altair-viz.github.io/). Este livro contém uma série de Jupyter Notebooks feitos em Python, um conjunto correspondente de notebooks em JavaScript estão disponíveis online no [Observable](https://observablehq.com/@uwdata/data-visualization-curriculum)."
   ]
  },
  {
   "cell_type": "markdown",
   "metadata": {},
   "source": [
    "# Iniciando\n",
    "\n",
    "O currículo de visualização pode ser usado tanto online como em seu computador local. Você pode visualizar e interagir com as exibições diretamente neste Jupyter Book. Se você quiser modificar o código, existem algumas opções:\n",
    "\n",
    "* Ler notebooks em JavaScript online usando o [Observable](https://observablehq.com/), navegue até a página \"Observable\" acima e clique no notebook correspondente.\n",
    "\n",
    "* Ler notebooks em Python online usando o [Colab](https://colab.research.google.com/), clique na seção correspondente neste livro, vá até o pequeno foguete no top da página, e selecione \"Colab\" no menu.\n",
    "\n",
    "* Para ler notebooks em Python localmente, siga as intruções abaixo."
   ]
  },
  {
   "cell_type": "markdown",
   "metadata": {},
   "source": [
    "## Instalação Local\n",
    "\n",
    "1. [Instale o Altair e um ambiente de notebook](https://altair-viz.github.io/getting_started/installation.html). As versões mais recentes desses notebooks usam a versão 4 do Altair.\n",
    "\n",
    "2. Baixe os notebooks das [páginas de lançamento](https://github.com/uwdata/visualization-curriculum/releases). Tipicamente, você irá querer usar o lançamento mais recente. (Se você quiser usar notebooks para a versão 3 do Altair, baixe o [lançamento Altair v3.2](https://github.com/uwdata/visualization-curriculum/releases/tag/altair-v3).)\n",
    "\n",
    "3. Abra os notebooks em seu ambiente de notebook local. Por exemplo, se você tiver JupyterLab instalado (v1.0 ou maior é necessária), rode <span style=\"color: fuchsia;\">jupyter lab</span> dentro do diretório que contenha os notebooks.\n",
    "\n",
    "Dependendo do seu ambiente de programação (e se você tem ou não conexão com a internet direta), você pode querer especificar um [renderizador](https://altair-viz.github.io/user_guide/display_frontends.html) particular para o Altair."
   ]
  },
  {
   "cell_type": "markdown",
   "metadata": {},
   "source": [
    "# Créditos\n",
    "\n",
    "Desenvolvido na Universidade de Washington por Jeffrey Heer, Dominik Moritz, JAke VanderPlas, e Brock Craft. Obrigado ao [UW Interactive Data Lab](https://idl.uw.edu/) e ao Arvind Satyanarayan por seus feedbacks e contribuições! E obrigado também aos estudantes da turma [UW CSE512 Spring 2019](https://courses.cs.washington.edu/courses/cse512/19sp/), o primeiro grupo a usar esses notebooks em um currículo de curso integrado."
   ]
  }
 ],
 "metadata": {
  "language_info": {
   "name": "python"
  }
 },
 "nbformat": 4,
 "nbformat_minor": 2
}
