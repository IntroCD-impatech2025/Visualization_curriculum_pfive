{
  "nbformat": 4,
  "nbformat_minor": 0,
  "metadata": {
    "colab": {
      "provenance": []
    },
    "kernelspec": {
      "name": "python3",
      "display_name": "Python 3"
    },
    "language_info": {
      "name": "python"
    }
  },
  "cells": [
    {
      "cell_type": "markdown",
      "source": [
        "# 5.4 Concatenar\n",
        "\n",
        "O *faceting* cria gráficos de [múltiplos pequenos](https://en.wikipedia.org/wiki/Small_multiple) que mostram subdivisões separadas dos dados. No entanto, podemos querer criar uma exibição de múltiplas visões com diferentes visões do *mesmo* conjunto de dados (não subconjuntos) ou visões envolvendo *diferentes* conjuntos de dados.\n",
        "\n",
        "O Altair fornece operadores de *concatenação* para combinar gráficos arbitrários em um gráfico composto. O operador `hconcat` (abreviação `|`) realiza a concatenação horizontal, enquanto o operador `vconcat` (abreviação `&`) realiza a concatenação vertical.\n",
        "\n"
      ],
      "metadata": {
        "id": "fIo5coBiWRBi"
      }
    },
    {
      "cell_type": "markdown",
      "source": [
        "Vamos começar com um gráfico de linha básico mostrando a temperatura máxima média por mês para Nova York e Seattle, assim como vimos antes:\n"
      ],
      "metadata": {
        "id": "YKzCqnmg48Vv"
      }
    },
    {
      "cell_type": "code",
      "execution_count": null,
      "metadata": {
        "id": "c2X2DqOhTW28"
      },
      "outputs": [],
      "source": [
        "alt.Chart(weather).mark_line().encode(\n",
        "  alt.X('month(date):T', title=None),\n",
        "  alt.Y('average(temp_max):Q'),\n",
        "  color='local:N'\n",
        ")"
      ]
    },
    {
      "cell_type": "markdown",
      "source": [
        "_E o que acontece se quisermos comparar não apenas a temperatura ao longo do tempo, mas também a precipitação e os níveis de vento?_\n",
        "\n",
        "Vamos criar um gráfico concatenado consistindo de três gráficos. Começaremos definindo uma definição de gráfico \"base\" que contém todos os aspectos que devem ser compartilhados pelos nossos três gráficos. Podemos então modificar este gráfico base para criar variantes personalizadas, com diferentes codificações do eixo y para os campos `temp_max`, `precipitation` e `wind`. Podemos então concatená-los usando o operador abreviado de pipe (`|`):\n"
      ],
      "metadata": {
        "id": "4O81FtvG5MVC"
      }
    },
    {
      "cell_type": "code",
      "source": [
        "base = alt.Chart(weather).mark_line().encode(\n",
        "  alt.X('month(date):T', title=None),\n",
        "  color='location:N'\n",
        ").properties(\n",
        "  width=240,\n",
        "  height=180\n",
        ")\n",
        "\n",
        "temp = base.encode(alt.Y('average(temp_max):Q'))\n",
        "precip = base.encode(alt.Y('average(precipitation):Q'))\n",
        "wind = base.encode(alt.Y('average(wind):Q'))\n",
        "\n",
        "temp | precip | wind"
      ],
      "metadata": {
        "id": "-K5N8zjB5aR5"
      },
      "execution_count": null,
      "outputs": []
    },
    {
      "cell_type": "markdown",
      "source": [
        "Alternativamente, poderíamos usar o método mais explícito `alt.hconcat()` em vez do operador pipe `|`. _Tente reescrever o código acima para usar `hconcat` em vez disso._\n",
        "\n",
        "A concatenação vertical funciona de maneira semelhante à concatenação horizontal. _Usando o operador `&` (ou o método `alt.vconcat`), modifique o código para usar uma ordenação vertical em vez de uma ordenação horizontal._\n",
        "\n",
        "Por fim, note que concatenação horizontal e vertical podem ser combinadas. _O que acontece se você escrever algo como `(temp | precip) & wind`?_\n",
        "\n",
        "_À parte_: Note a importância desses parênteses... o que acontece se você removê-los? Tenha em mente que esses operadores sobrecarregados ainda estão sujeitos às [regras de precedência de operadores do Python](https://docs.python.org/3/reference/expressions.html#operator-precedence), e, portanto, a concatenação vertical com `&` terá precedência sobre a concatenação horizontal com `|`!\n",
        "\n",
        "Como vamos revisar mais tarde, os operadores de concatenação permitem combinar qualquer e todos os gráficos em um painel de múltiplas visões!\n"
      ],
      "metadata": {
        "id": "Roio2T9i5kVv"
      }
    },
    {
      "cell_type": "markdown",
      "source": [
        "## 5.5 Repetir\n"
      ],
      "metadata": {
        "id": "ndYVkkwp5t2r"
      }
    },
    {
      "cell_type": "markdown",
      "source": [
        "Os operadores de concatenação acima são bastante gerais, permitindo que gráficos arbitrários sejam compostos. No entanto, o exemplo acima ainda era um pouco verboso: temos três gráficos muito semelhantes, mas temos que defini-los separadamente e depois concatená-los.\n",
        "\n",
        "Para casos onde apenas uma ou duas variáveis estão mudando, o operador `repeat` oferece um atalho conveniente para criar múltiplos gráficos. Dada uma especificação de *template* com algumas variáveis livres, o operador repeat então criará um gráfico para cada atribuição especificada para essas variáveis.\n",
        "\n",
        "Vamos recriar nosso exemplo de concatenação acima usando o operador `repeat`. O único aspecto que muda entre os gráficos é a escolha do campo de dados para o canal de codificação `y`. Para criar uma especificação de template, podemos usar a *variável repetidora* `alt.repeat('column')` como nosso campo do eixo y. Esse código simplesmente declara que queremos usar a variável atribuída ao repetidor `column`, que organiza gráficos repetidos em uma direção horizontal. (Como o repetidor fornece apenas o nome do campo, precisamos especificar separadamente o tipo de dados do campo como `type='quantitative'`.)\n",
        "\n",
        "Em seguida, invocamos o método `repeat`, passando os nomes dos campos de dados para cada coluna:\n"
      ],
      "metadata": {
        "id": "miW4LUIB53T-"
      }
    },
    {
      "cell_type": "code",
      "source": [
        "alt.Chart(weather).mark_line().encode(\n",
        "  alt.X('month(date):T',title=None),\n",
        "  alt.Y(alt.repeat('column'), aggregate='average', type='quantitative'),\n",
        "  color='location:N'\n",
        ").properties(\n",
        "  width=240,\n",
        "  height=180\n",
        ").repeat(\n",
        "  column=['temp_max', 'precipitation', 'wind']\n",
        ")"
      ],
      "metadata": {
        "id": "ceLGFvrC58dP"
      },
      "execution_count": null,
      "outputs": []
    },
    {
      "cell_type": "markdown",
      "source": [
        "A repetição é suportada tanto para colunas quanto para linhas. _O que acontece se você modificar o código acima para usar `row` em vez de `column`?_\n",
        "\n",
        "Também podemos usar a repetição de `row` e `column` juntas! Uma visualização comum para análise exploratória de dados é a [matriz de gráficos de dispersão (ou SPLOM)](https://en.wikipedia.org/wiki/Scatter_plot#Scatterplot_matrices). Dada uma coleção de variáveis a serem analisadas, um SPLOM fornece uma grade de todos os gráficos pareados dessas variáveis, permitindo-nos avaliar associações potenciais.\n",
        "\n",
        "Vamos usar o operador `repeat` para criar um SPLOM para os campos `temp_max`, `precipitation` e `wind`. Primeiro, criamos nossa especificação de template, com variáveis de repetição para os campos de dados dos eixos x e y. Em seguida, invocamos `repeat`, passando arrays de nomes de campos para usar tanto para `row` quanto para `column`. O Altair então gerará o [produto cruzado (ou, produto cartesiano)](https://en.wikipedia.org/wiki/Cartesian_product) para criar o espaço completo de gráficos repetidos:\n"
      ],
      "metadata": {
        "id": "gWmJxzFY6CmZ"
      }
    },
    {
      "cell_type": "code",
      "source": [
        "alt.Chart().mark_point(filled=True, size=15, opacity=0.5).encode(\n",
        "  alt.X(alt.repeat('column'), type='quantitative'),\n",
        "  alt.Y(alt.repeat('row'), type='quantitative')\n",
        ").properties(\n",
        "  width=150,\n",
        "  height=150\n",
        ").repeat(\n",
        "  data=weather,\n",
        "  row=['temp_max', 'precipitation', 'wind'],\n",
        "  column=['wind', 'precipitation', 'temp_max']\n",
        ").transform_filter(\n",
        "  'datum.location == \"Seattle\"'\n",
        ")"
      ],
      "metadata": {
        "id": "UgZz9Sb76Ges"
      },
      "execution_count": null,
      "outputs": []
    },
    {
      "cell_type": "markdown",
      "source": [
        "_Olhando para esses gráficos, não parece haver uma associação forte entre precipitação e vento, embora vejamos que eventos extremos de vento e precipitação ocorrem em faixas de temperatura semelhantes (~5-15° C). No entanto, essa observação não é particularmente surpreendente: se revisarmos nosso histograma no início da seção de facetamento, podemos ver claramente que os dias com temperaturas máximas na faixa de 5-15° C são os que mais ocorrem._\n",
        "\n",
        "*Modifique o código acima para obter uma melhor compreensão da repetição de gráficos. Tente adicionar outra variável (`temp_min`) ao SPLOM. O que acontece se você reorganizar a ordem dos nomes dos campos nos parâmetros `row` ou `column` para o operador `repeat`?*\n",
        "\n",
        "_Por fim, para realmente apreciar o que o operador `repeat` oferece, reserve um momento para imaginar como você recriaria o SPLOM acima usando apenas `hconcat` e `vconcat`!_\n"
      ],
      "metadata": {
        "id": "H91gHh6x6Ved"
      }
    }
  ]
}