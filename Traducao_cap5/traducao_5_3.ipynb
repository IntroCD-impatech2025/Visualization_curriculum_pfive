{
  "cells": [
    {
      "cell_type": "markdown",
      "metadata": {},
      "source": [
        "## Faceta"
      ]
    },
    {
      "cell_type": "markdown",
      "metadata": {
        "id": "IvONIPnR-xgG"
      },
      "source": [
        "*O fecetin* envolve a subdivisão de um conjunto de dados em grupos e a criação de um gráfico separado para cada grupo. Em notebooks anteriores, aprendemos como criar gráficos facetados usando os métodos `linha` e `coluna`. Vamos primeiro rever esses canais e depois mostrar como eles são instâncias do operador `facet` mais geral.\n",
        "\n",
        "Vamos começar com um histograma básico de valores de temperatura máxima em Seattle:"
      ]
    },
    {
      "cell_type": "code",
      "execution_count": 1,
      "metadata": {
        "colab": {
          "base_uri": "https://localhost:8080/",
          "height": 216
        },
        "id": "V73ZYYiE_Cpo",
        "outputId": "46734cef-3064-414a-c40f-25209db8138e"
      },
      "outputs": [
        {
          "ename": "NameError",
          "evalue": "name 'alt' is not defined",
          "output_type": "error",
          "traceback": [
            "\u001b[0;31m---------------------------------------------------------------------------\u001b[0m",
            "\u001b[0;31mNameError\u001b[0m                                 Traceback (most recent call last)",
            "\u001b[0;32m<ipython-input-1-482e1a392535>\u001b[0m in \u001b[0;36m<cell line: 0>\u001b[0;34m()\u001b[0m\n\u001b[0;32m----> 1\u001b[0;31m alt.Chart(weather).mark_bar().transform_filter(\n\u001b[0m\u001b[1;32m      2\u001b[0m   \u001b[0;34m'datum.location == \"Seattle\"'\u001b[0m\u001b[0;34m\u001b[0m\u001b[0;34m\u001b[0m\u001b[0m\n\u001b[1;32m      3\u001b[0m \u001b[0;34m)\u001b[0m\u001b[0;34m.\u001b[0m\u001b[0mencode\u001b[0m\u001b[0;34m(\u001b[0m\u001b[0;34m\u001b[0m\u001b[0;34m\u001b[0m\u001b[0m\n\u001b[1;32m      4\u001b[0m   \u001b[0malt\u001b[0m\u001b[0;34m.\u001b[0m\u001b[0mX\u001b[0m\u001b[0;34m(\u001b[0m\u001b[0;34m'temp_max:Q'\u001b[0m\u001b[0;34m,\u001b[0m \u001b[0mbin\u001b[0m\u001b[0;34m=\u001b[0m\u001b[0;32mTrue\u001b[0m\u001b[0;34m,\u001b[0m \u001b[0mtitle\u001b[0m\u001b[0;34m=\u001b[0m\u001b[0;34m'Temperatura (°C)'\u001b[0m\u001b[0;34m)\u001b[0m\u001b[0;34m,\u001b[0m\u001b[0;34m\u001b[0m\u001b[0;34m\u001b[0m\u001b[0m\n\u001b[1;32m      5\u001b[0m   \u001b[0malt\u001b[0m\u001b[0;34m.\u001b[0m\u001b[0mY\u001b[0m\u001b[0;34m(\u001b[0m\u001b[0;34m'count():Q'\u001b[0m\u001b[0;34m)\u001b[0m\u001b[0;34m\u001b[0m\u001b[0;34m\u001b[0m\u001b[0m\n",
            "\u001b[0;31mNameError\u001b[0m: name 'alt' is not defined"
          ]
        }
      ],
      "source": [
        "alt.Chart(weather).mark_bar().transform_filter(\n",
        "  'datum.location == \"Seattle\"'\n",
        ").encode(\n",
        "  alt.X('temp_max:Q', bin=True, title='Temperatura (°C)'),\n",
        "  alt.Y('count():Q')\n",
        ")"
      ]
    },
    {
      "cell_type": "markdown",
      "metadata": {
        "id": "ER_W3SbC_WBf"
      },
      "source": [
        "_Como é que este perfil de temperatura muda com base no tempo de um determinado dia - isto é, se houve chuvisco, nevoeiro, chuva, neve ou sol?_\n",
        "\n",
        "Vamos usar o método `column` para facetar os dados por tipo de clima.Também podemos usar `color` como uma codificação redundante, usando um intervalo de cores personalizado:"
      ]
    },
    {
      "cell_type": "code",
      "execution_count": null,
      "metadata": {
        "id": "2HkDNCb8_dtP"
      },
      "outputs": [],
      "source": [
        "colors = alt.Scale(\n",
        "  domain=['drizzle', 'fog', 'rain', 'snow', 'sun'],\n",
        "  range=['#aec7e8', '#c7c7c7', '#1f77b4', '#9467bd', '#e7ba52']\n",
        ")\n",
        "\n",
        "alt.Chart(weather).mark_bar().transform_filter(\n",
        "  'datum.location == \"Seattle\"'\n",
        ").encode(\n",
        "  alt.X('temp_max:Q', bin=True, title='Temperatura (°C)'),\n",
        "  alt.Y('count():Q'),\n",
        "  alt.Color('weather:N', scale=colors),\n",
        "  alt.Column('weather:N')\n",
        ").properties(\n",
        "  width=150,\n",
        "  height=150\n",
        ")"
      ]
    },
    {
      "cell_type": "markdown",
      "metadata": {
        "id": "1SGtScY4_mdT"
      },
      "source": [
        "Sem surpresa, os raros dias de neve concentram-se nas temperaturas mais frias, seguidos de dias de chuva e nevoeiro. Os dias de sol são mais quentes e, apesar dos estereótipos de Seattle, são os mais abundantes.No entanto, como qualquer habitante de Seattle lhe pode dizer, o chuvisco aparece ocasionalmente, independentemente da temperatura!_\n",
        "\n",
        "Além dos métodos `row` e `column` *dentro* de uma definição de gráfico, podemos pegar uma definição básica de gráfico e aplicar facetes usando um operador `facet` explícito.\n",
        "\n",
        "Vamos recriar o gráfico acima, mas desta vez usando `facet`.Começamos com a mesma definição básica de histograma, mas removemos a fonte de dados, a transformação do filtro e o canal da coluna. Podemos então invocar o método `facet`, passando os dados e especificando que devemos facetar as colunas de acordo com o campo `weather`. O método `facet` aceita ambos os argumentos `row` e `column`. Os dois podem ser usados juntos para criar uma grade 2D de gráficos facetados.\n",
        "\n",
        "Finalmente, incluímos nossa transformação de filtro, aplicando-a ao gráfico facetado de nível superior. Embora pudéssemos aplicar a transformação do filtro à definição do histograma como antes, isso é um pouco menos eficiente. Em vez de filtrar os valores de “Nova York” dentro de cada célula de faceta, a aplicação do filtro ao gráfico facetado permite que o Vega-Lite saiba que podemos filtrar esses valores antecipadamente, antes da subdivisão da faceta."
      ]
    },
    {
      "cell_type": "code",
      "execution_count": null,
      "metadata": {
        "id": "WuL8tBPV_l_3"
      },
      "outputs": [],
      "source": [
        "colors = alt.Scale(\n",
        "  domain=['drizzle', 'fog', 'rain', 'snow', 'sun'],\n",
        "  range=['#aec7e8', '#c7c7c7', '#1f77b4', '#9467bd', '#e7ba52']\n",
        ")\n",
        "\n",
        "alt.Chart().mark_bar().encode(\n",
        "  alt.X('temp_max:Q', bin=True, title='Temperatura (°C)'),\n",
        "  alt.Y('count():Q'),\n",
        "  alt.Color('weather:N', scale=colors)\n",
        ").properties(\n",
        "  width=150,\n",
        "  height=150\n",
        ").facet(\n",
        "  data=weather,\n",
        "  column='weather:N'\n",
        ").transform_filter(\n",
        "  'datum.location == \"Seattle\"'\n",
        ")"
      ]
    },
    {
      "cell_type": "markdown",
      "metadata": {
        "id": "oPuyyasiAmII"
      },
      "source": [
        "Dado todo o código extra acima, porque é que queremos usar um operador `facet` explícito? Para gráficos básicos, nós certamente devemos usar os métodos `column` ou `row` se pudermos. No entanto, usar o operador `facet` explicitamente é útil se quisermos facetar visualizações compostas, como gráficos em camadas.\n",
        "\n",
        "Vamos revisitar nossos gráficos de temperatura em camadas de antes. Em vez de plotar os dados de Nova York e Seattle no mesmo gráfico, vamos dividi-los em facetas separadas. As definições dos gráficos individuais são praticamente as mesmas de antes: um gráfico de área e um gráfico de linhas. A única diferença é que, desta vez, não passaremos os dados diretamente para os construtores de gráficos; esperaremos e os passaremos para o operador de faceta mais tarde. Nós podemos colocar os gráficos em camadas como antes, e então invocar `facet` no objeto gráfico em camadas, passando os dados e especificando as facetas `column` baseadas no campo `location`:"
      ]
    },
    {
      "cell_type": "code",
      "execution_count": null,
      "metadata": {
        "id": "wPXX3CRqAm1P"
      },
      "outputs": [],
      "source": [
        "tempMinMax = alt.Chart().mark_area(opacity=0.3).encode(\n",
        "  alt.X('month(date):T', title=None, axis=alt.Axis(format='%b')),\n",
        "  alt.Y('average(temp_max):Q', title='Temperatura média (°C)'),\n",
        "  alt.Y2('average(temp_min):Q'),\n",
        "  alt.Color('location:N')\n",
        ")\n",
        "\n",
        "tempMid = alt.Chart().mark_line().transform_calculate(\n",
        "  temp_mid='(+datum.temp_min + +datum.temp_max) / 2'\n",
        ").encode(\n",
        "  alt.X('month(date):T'),\n",
        "  alt.Y('average(temp_mid):Q'),\n",
        "  alt.Color('location:N')\n",
        ")\n",
        "\n",
        "alt.layer(tempMinMax, tempMid).facet(\n",
        "  data=weather,\n",
        "  column='location:N'\n",
        ")"
      ]
    },
    {
      "cell_type": "markdown",
      "metadata": {
        "id": "gy6lgkNaApVF"
      },
      "source": [
        "Os gráficos facetados que vimos até agora utilizam os mesmos domínios de escala de eixo nas células facetadas.Esta predefinição de utilização de escalas e eixos *compartilhados* ajuda a uma comparação precisa dos valores.No entanto, em alguns casos, pode desejar escalar cada gráfico independentemente, por exemplo, se o intervalo de valores nas células for significativamente diferente.\n",
        "À semelhança dos gráficos em camadas, os gráficos facetados também suportam a _resolução_ para escalas ou eixos independentes entre gráficos.Vamos ver o que acontece se chamarmos o método `resolver_eixo` para solicitar eixos y `independentes`:"
      ]
    },
    {
      "cell_type": "code",
      "execution_count": null,
      "metadata": {
        "id": "MoIWYUS_BGc2"
      },
      "outputs": [],
      "source": [
        "tempMinMax = alt.Chart().mark_area(opacity=0.3).encode(\n",
        "  alt.X('month(date):T', title=None, axis=alt.Axis(format='%b')),\n",
        "  alt.Y('average(temp_max):Q', title='Temperatura méida (°C)'),\n",
        "  alt.Y2('average(temp_min):Q'),\n",
        "  alt.Color('location:N')\n",
        ")\n",
        "\n",
        "tempMid = alt.Chart().mark_line().transform_calculate(\n",
        "  temp_mid='(+datum.temp_min + +datum.temp_max) / 2'\n",
        ").encode(\n",
        "  alt.X('month(date):T'),\n",
        "  alt.Y('average(temp_mid):Q'),\n",
        "  alt.Color('location:N')\n",
        ")\n",
        "\n",
        "alt.layer(tempMinMax, tempMid).facet(\n",
        "  data=weather,\n",
        "  column='location:N'\n",
        ").resolve_axis(y='independent')"
      ]
    },
    {
      "cell_type": "markdown",
      "metadata": {
        "id": "w91zp08RBJeV"
      },
      "source": [
        "\n",
        "_O gráfico acima parece praticamente inalterado, mas o gráfico de Seattle agora inclui seu próprio eixo.\n",
        "\n",
        "E se ao invés disso nós chamarmos `resolve_scale` para resolver os domínios de escala subjacentes?"
      ]
    },
    {
      "cell_type": "code",
      "execution_count": null,
      "metadata": {
        "id": "E_Xu8SceBmlS"
      },
      "outputs": [],
      "source": [
        "tempMinMax = alt.Chart().mark_area(opacity=0.3).encode(\n",
        "  alt.X('month(date):T', title=None, axis=alt.Axis(format='%b')),\n",
        "  alt.Y('average(temp_max):Q', title='Temperatura média(°C)'),\n",
        "  alt.Y2('average(temp_min):Q'),\n",
        "  alt.Color('location:N')\n",
        ")\n",
        "\n",
        "tempMid = alt.Chart().mark_line().transform_calculate(\n",
        "  temp_mid='(+datum.temp_min + +datum.temp_max) / 2'\n",
        ").encode(\n",
        "  alt.X('month(date):T'),\n",
        "  alt.Y('average(temp_mid):Q'),\n",
        "  alt.Color('location:N')\n",
        ")\n",
        "\n",
        "alt.layer(tempMinMax, tempMid).facet(\n",
        "  data=weather,\n",
        "  column='location:N'\n",
        ").resolve_scale(y='independent')"
      ]
    },
    {
      "cell_type": "markdown",
      "metadata": {
        "id": "janJ7D5DB3uG"
      },
      "source": [
        "Agora vemos células de faceta com domínios de escala de eixos diferentes. Neste caso, usar escalas independentes parece ser uma má idéia! Os domínios não são muito diferentes e poderíamos ser levados a pensar que Nova Iorque e Seattle têm temperaturas máximas de verão semelhantes.\n",
        "\n",
        "Para usar um cliché: só porque *pode* fazer algo, não significa que *deva*..."
      ]
    }
  ],
  "metadata": {
    "colab": {
      "provenance": []
    },
    "kernelspec": {
      "display_name": "Python 3",
      "name": "python3"
    },
    "language_info": {
      "name": "python"
    }
  },
  "nbformat": 4,
  "nbformat_minor": 0
}
