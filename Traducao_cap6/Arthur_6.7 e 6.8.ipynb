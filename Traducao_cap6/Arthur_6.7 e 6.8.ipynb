{
 "cells": [
  {
   "cell_type": "code",
   "execution_count": 1,
   "metadata": {},
   "outputs": [],
   "source": [
    "import pandas as pd\n",
    "import altair as alt\n",
    "\n",
    "cars = 'https://cdn.jsdelivr.net/npm/vega-datasets@1/data/cars.json'\n",
    "movies = 'https://cdn.jsdelivr.net/npm/vega-datasets@1/data/movies.json'\n",
    "sp500 = 'https://cdn.jsdelivr.net/npm/vega-datasets@1/data/sp500.csv'\n",
    "stocks = 'https://cdn.jsdelivr.net/npm/vega-datasets@1/data/stocks.csv'\n",
    "flights = 'https://cdn.jsdelivr.net/npm/vega-datasets@1/data/flights-5k.json'"
   ]
  },
  {
   "cell_type": "markdown",
   "metadata": {},
   "source": [
    "## 6.7. Varrer &amp; Interligar, Revisitado\n",
    "\n",
    "Anteriormente nesse capítulo vimos um exemplo de _varrer &amp; interligar_: usando um histograma de consulta dinâmica para destacar pontos num gráfico de dispersão de filmes. Aqui visitaremos alguns exemplos adicionais envolvendo seleções interligadas.\n",
    "\n",
    "Voltando ao dataset `cars`, podemos usar o operador `repeat` para construir uma [Matriz de gráficos de dispersão (SPLOM)](https://en.wikipedia.org/wiki/Scatter_plot#Scatterplot_matrices) que mostra associações entre quilometragem, aceleração e potência em cavalos. Podemos definir uma seleção `interval` e inclui-la _dentro_ da nossa especificação repetida de gráficos de dispersão para habilitar seleções ligadas dentre todos os gráficos.\n",
    "\n",
    "_Clique e arraste em qualquer um dos gráficos abaixo para varrer &amp; interligar!_"
   ]
  },
  {
   "cell_type": "code",
   "execution_count": null,
   "metadata": {},
   "outputs": [],
   "source": [
    "brush = alt.selection_interval(\n",
    "    resolve='global' # resolver todas as seleções para uma única instância global\n",
    ")\n",
    "\n",
    "alt.Chart(cars).mark_circle().add_selection(\n",
    "    brush\n",
    ").encode(\n",
    "    alt.X(alt.repeat('column'), type='quantitative'),\n",
    "    alt.Y(alt.repeat('row'), type='quantitative'),\n",
    "    color=alt.condition(brush, 'Cylinders:O', alt.value('grey')),\n",
    "    opacity=alt.condition(brush, alt.value(0.8), alt.value(0.1))\n",
    ").properties(\n",
    "    width=140,\n",
    "    height=140\n",
    ").repeat(\n",
    "    column=['Acceleration', 'Horsepower', 'Miles_per_Gallon'],\n",
    "    row=['Miles_per_Gallon', 'Horsepower', 'Acceleration']\n",
    ")"
   ]
  },
  {
   "cell_type": "markdown",
   "metadata": {},
   "source": [
    "Note acima o uso de `resolve='global'` na seleção `interval`. A configuração padrão de `'global'` indica que dentre todos os gráficos apenas uma varredura pode estar ativa por vez. Entretanto, em alguns casos nos podemos querer definir varreduras em vários gráficos e juntar os resultados. Se usarmos `resolve='union'`, a seleção será a _união_ de todas as varreduras: se um ponto está dentro de qualquer área varrida será selecionado. Em contraste com o uso de `resolve='intersect'`, a seleção consistirá na _interseção_ de todas as varreduras: apenas pontos que estão dentro de todas as áreas varridas serão selecionados.\n",
    "\n",
    "_Tente colocar o parâmetro `resolve` para `'union'` e para `'intersect'` e veja como se altera a lógica de seleção._"
   ]
  },
  {
   "cell_type": "markdown",
   "metadata": {},
   "source": [
    "### 6.7.1. Filtragem Cruzada\n",
    "\n",
    "Os exemplos sobre varre &amp; interligar que vimos usam codificações condicionais, por exemplo para mudar os valores da opacidade em resposta a uma seleção. Outra opção é usar a seleção definida em um gráfico para _filtrar_ o conteúdo de outro gráfico.\n",
    "\n",
    "Vamos construir uma coleção de histogramas para o dataset `flights`: atraso `delay` (o quão cedo ou o quão tarde o voo pousou, em minutos), distância percorrida (em milhas) `distance` e horário de decolagem `time` (horário do dia). Usaremos o operador `repeat` para criar os histogramas e adicionar uma seleção `interval` para o eixo `x` com varreduras que funcionam por interseção.\n",
    "\n",
    "Em particular, cada histograma consistirá de duas camadas: uma camada de fundo cinza e uma camada superior azul, com a camada superior filtrada pela nossa seleção de varreduras por interseção. O resultado é uma interação de _filtragem cruzada_ com os três gráficos!\n",
    "\n",
    "_Use as varreduras arrastando nos gráficos abaixo. Ao selecionar voos com atrasos maiores ou menores, como a distribuição da distância percorrida e do horário de decolagem se comportam?_"
   ]
  },
  {
   "cell_type": "code",
   "execution_count": null,
   "metadata": {},
   "outputs": [],
   "source": [
    "brush = alt.selection_interval(\n",
    "    encodings=['x'],\n",
    "    resolve='intersect'\n",
    ");\n",
    "\n",
    "hist = alt.Chart().mark_bar().encode(\n",
    "    alt.X(alt.repeat('row'), type='quantitative',\n",
    "        bin=alt.Bin(maxbins=100, minstep=1), # até 100 caixas\n",
    "        axis=alt.Axis(format='d', titleAnchor='start') # formato inteiro, título alinhado à esquerda\n",
    "    ),\n",
    "    alt.Y('count():Q', title=None) # sem título no eixo y\n",
    ")\n",
    "  \n",
    "alt.layer(\n",
    "    hist.add_selection(brush).encode(color=alt.value('lightgrey')),\n",
    "    hist.transform_filter(brush)\n",
    ").properties(\n",
    "    width=900,\n",
    "    height=100\n",
    ").repeat(\n",
    "    row=['delay', 'distance', 'time'],\n",
    "    data=flights\n",
    ").transform_calculate(\n",
    "    delay='datum.delay < 180 ? datum.delay : 180', # atrasos de fixação > 3 horas\n",
    "    time='hours(datum.date) + minutes(datum.date) / 60' # horas fracionárias\n",
    ").configure_view(\n",
    "    stroke='transparent' # sem esboço\n",
    ")"
   ]
  },
  {
   "cell_type": "markdown",
   "metadata": {},
   "source": [
    "_Usando a filtragem cruzada você pode observar que voos atrasados tem mais chance de terem decolado mais tarde no dia. Esse fenômeno é comum para viajantes frequentes: o atraso pode se propagar ao longo do dia, afetando voos subsequentes daquele mesmo avião. Para chegar na hora com chances melhores, voe cedo!_\n",
    "\n",
    "A combinação de vários gráficos e seleções interativas pode possibilitar formas valiosas de entendimento multidimensional, tornando até histogramas básicos em aparatos de entrada poderosos para fazer perguntas sobre um dataset!"
   ]
  },
  {
   "cell_type": "markdown",
   "metadata": {},
   "source": [
    "## 6.8. Resumo \n",
    "\n",
    "Para mais informações sobre as opções de interações suportadas pelo Altair, por favor, consulte a [Documentação de seleção interativa do Altair](https://altair-viz.github.io/user_guide/interactions.html). Para detalhes sobre costumizar gestores de eventos, por exemplo para compor várias técnicas de interação ou suportar entradas baseadas no toque em dispositivos móveis, veja a [Documentação de seleção do Vega-Lite](https://vega.github.io/vega-lite/docs/selection.html).\n",
    "\n",
    "Quer saber mais?\n",
    "- A abstração _seleção_ foi introduzida no artigo [Vega-Lite: Uma gramática de Gráficos Interativos](http://idl.cs.washington.edu/papers/vega-lite/), de Satyanarayan, Moritz, Wongsuphasawat, &amp; Heer.\n",
    "- O sistema PRIM-9 (para projeções, rotações, isolamento e disfarce em até 9 dimensões) é um das ferramentas de viusalização interativa mais recentes, feita no começo dos anos 70 por Fisherkeller, Tukey, &amp; Friedman. [A retro demo video survives!](https://www.youtube.com/watch?v=B7XoW2qiFUA)\n",
    "- O conceito de varrer &amp; interligar foi aperfeiçoado por Becker, Cleveland, &amp; Wilks em seu artigo de 1987 [Gráficos Dinâmicos para Análise de Dados](https://scholar.google.com/scholar?cluster=14817303117298653693).\n",
    "- Para um resumo esclarecedor de técnicas de interação para visualização, veja [Dinâmica Interativa para Análise Visual](https://queue.acm.org/detail.cfm?id=2146416) de Heer &amp; Shneiderman."
   ]
  },
  {
   "cell_type": "markdown",
   "metadata": {},
   "source": [
    "### 6.8.1. Apêndice: Na Representação do Tempo\n",
    "\n",
    "Lá atrás observamos que uma pequena protuberância no número de filmes em 1969 ou 1970. De onde vem essa protuberância? e por que 1969 _ou_ 1970? A resposta vem de uma combinação de dados faltantes e como nosso computador representa o tempo.\n",
    "\n",
    "Internamente, datas e horários são representadas em relação à [Era Unix](https://en.wikipedia.org/wiki/Unix_time), em que o tempo \"zero\" corresponde à meia noite do dia 1 de Janeiro de 1970 no [fuso UTC](https://en.wikipedia.org/wiki/Coordinated_Universal_Time), que muda junto ao [Meriano de Greenwich](https://en.wikipedia.org/wiki/Prime_meridian). Acontece que há alguns filmes que estão com a data de lançamento faltando (`null`). Esses valores (`null`) são interpretados como tempo `0` e então mapeiam para 1 de Janeiro de 1970 no fuso UTC. Se você mora nas Américas &ndash; e, portanto, em fusos mais \"cedo\" &ndash; esse ponto no tempo corresponde a uma hora mais cedo no dia 31 de dezembro de 1969 no seu fuso horário. Por outro lado, se você vive próximo ou ao leste do meridiano de Greenwich, a data no seu fuso horário será dia 1 de Janeiro de 1970.\n",
    "\n",
    "A moral? Sempre seja cético com seus dados e seja atencioso, afinal, como os dados são representados (sejam datas, números em ponto flutuante ou latitudes e longitudes, _etc._) podem, as vezes, nos levar a artefatos que impactam a análise! "
   ]
  }
 ],
 "metadata": {
  "kernelspec": {
   "display_name": "python_env",
   "language": "python",
   "name": "python3"
  },
  "language_info": {
   "codemirror_mode": {
    "name": "ipython",
    "version": 3
   },
   "file_extension": ".py",
   "mimetype": "text/x-python",
   "name": "python",
   "nbconvert_exporter": "python",
   "pygments_lexer": "ipython3",
   "version": "3.10.12"
  }
 },
 "nbformat": 4,
 "nbformat_minor": 2
}
