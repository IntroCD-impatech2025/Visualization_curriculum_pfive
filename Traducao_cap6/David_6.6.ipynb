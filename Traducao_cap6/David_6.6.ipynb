{
 "cells": [
  {
   "cell_type": "code",
   "execution_count": 1,
   "metadata": {},
   "outputs": [],
   "source": [
    "import pandas as pd\n",
    "import altair as alt\n",
    "\n",
    "cars = 'https://cdn.jsdelivr.net/npm/vega-datasets@1/data/cars.json'\n",
    "movies = 'https://cdn.jsdelivr.net/npm/vega-datasets@1/data/movies.json'\n",
    "sp500 = 'https://cdn.jsdelivr.net/npm/vega-datasets@1/data/sp500.csv'\n",
    "stocks = 'https://cdn.jsdelivr.net/npm/vega-datasets@1/data/stocks.csv'\n",
    "flights = 'https://cdn.jsdelivr.net/npm/vega-datasets@1/data/flights-5k.json'"
   ]
  },
  {
   "cell_type": "markdown",
   "metadata": {},
   "source": [
    "## 6.6. Detalhes sob Demanda\n",
    "\n",
    "Assim que encontramos pontos de interesse dentro da visualização, geralmente queremos saber mais sobre eles. _Detalhe sob demanda_ se refere consultar interativamente buscando mais informações sobre valores selecionados. `Tooltips` são um recurso útil para fornecer detalhes sob demanda. Porém, `tooltips` tipicamente mostram apenas informações para um ponto do dado por vez. Como podemos mostrar mais?\n",
    "\n",
    "O gráfico de dispersão das classificações dos filmes inclui valores discrepantes (outliers) potencialmente interessantes onde o IMDB e o Rotten Tomatoes discordam. Vamos criar um plot que nos permite selecionar pontos interativamente e mostrar seus rótulos. Para acionar a consulta de filtro através da interação de pairar ou da interação de clicar, usaremos o [operador de composição do Altair](https://altair-viz.github.io/user_guide/interactions.html#composing-multiple-selections) `|` (\"ou\").\n",
    "\n",
    "_Passe o mouse sobre pontos no gráfico de dispersão abaixo para ver um rótulo de destaque e título. Use Shift+Click nos pontos para fazer anotações persistentes e ver vários rótulos ao mesmo tempo. Quais filmes são amados pela crítica do Rotten Tomatoes, mas não pelo público geral do IMDB (e vice versa)? Veja se você consegue achar possíveis erros, onde dois filmes diferentes com o mesmo nome foram acidentalmente combinados!_"
   ]
  },
  {
   "cell_type": "code",
   "execution_count": null,
   "metadata": {},
   "outputs": [],
   "source": [
    "hover = alt.selection_single(\n",
    "    on='mouseover',  # selecione ao passar o mouse\n",
    "    nearest=True,    # selecione o ponto mais próximo do cursor do mouse\n",
    "    empty='none'     # a seleção vazia não deve corresponder a nada\n",
    ")\n",
    "\n",
    "click = alt.selection_multi(\n",
    "    empty='none' # seleção vazia não corresponde a nenhum ponto\n",
    ")\n",
    "\n",
    "# codificações de gráficos de dispersão compartilhadas por todas as marcas\n",
    "plot = alt.Chart().mark_circle().encode(\n",
    "    x='Rotten_Tomatoes_Rating:Q',\n",
    "    y='IMDB_Rating:Q'\n",
    ")\n",
    "  \n",
    "# base compartilhada para novas camadas\n",
    "base = plot.transform_filter(\n",
    "    hover | click # filtrar para pontos em qualquer seleção\n",
    ")\n",
    "\n",
    "# pontos do gráfico de dispersão de camadas, anotações de halo e rótulos de título\n",
    "alt.layer(\n",
    "    plot.add_selection(hover).add_selection(click),\n",
    "    base.mark_point(size=100, stroke='firebrick', strokeWidth=1),\n",
    "    base.mark_text(dx=4, dy=-8, align='right', stroke='white', strokeWidth=2).encode(text='Title:N'),\n",
    "    base.mark_text(dx=4, dy=-8, align='right').encode(text='Title:N'),\n",
    "    data=movies\n",
    ").properties(\n",
    "    width=600,\n",
    "    height=450\n",
    ")"
   ]
  },
  {
   "cell_type": "markdown",
   "metadata": {},
   "source": [
    "O exemplo acima adiciona três novas camadas para o gráfico de dispersão: uma anotação circular, texto branco para fornecer um fundo legível e texto em preto mostrando o nome do filme. Ademais, esse exemplo usa duas seleções em conjunto:\n",
    "\n",
    "1. Uma seleção única (`hover`) que inclui `nearest=True` para automaticamente selecionar o ponto do dado que está mais próximo do cursor.\n",
    "2. Uma seleção multi (`click`) para criar seleções persistentes via Shift+Click.\n",
    "\n",
    "Ambas as seleções incluem o `empty='none'` para indicar que nenhum ponto deve ser incluso se a seleção está vazia. Essas seleções são então combinadas num único predicado de filtro &mdash; o _ou_ lógico de `hover` e `click` &mdash; para incluir pontos que estão em _qualquer_ uma das duas seleções. Usamos esse predicado para filtar as novas camadas para mostrar anotações e rótulos apenas para pontos selecionados."
   ]
  },
  {
   "cell_type": "markdown",
   "metadata": {},
   "source": [
    "Usando seleções e camadas, podemos fazer vários designs diferentes sob demanda! Por exemplo, aqui está uma série temporal de preços de ações de tecnologia em escala logarítmica, anotadas com uma diretriz e rótulos para a data mais próxima ao cursor:"
   ]
  },
  {
   "cell_type": "code",
   "execution_count": null,
   "metadata": {},
   "outputs": [],
   "source": [
    "# selecione um ponto para o qual fornecer detalhes sob demanda\n",
    "label = alt.selection_single(\n",
    "    encodings=['x'], # limitar a seleção ao valor do eixo x\n",
    "    on='mouseover',  # selecione em eventos de mouseover\n",
    "    nearest=True,    # selecione o ponto de dados mais próximo do cursor\n",
    "    empty='none'     # seleção vazia não inclui pontos de dados\n",
    ")\n",
    "\n",
    "# definir nosso gráfico de linha base de preços de ações\n",
    "base = alt.Chart().mark_line().encode(\n",
    "    alt.X('date:T'),\n",
    "    alt.Y('price:Q', scale=alt.Scale(type='log')),\n",
    "    alt.Color('symbol:N')\n",
    ")\n",
    "\n",
    "alt.layer(\n",
    "    base, #gráfico de linha básica\n",
    "    \n",
    "    # adicione uma marca de regra para servir como linha guia\n",
    "    alt.Chart().mark_rule(color='#aaa').encode(\n",
    "        x='date:T'\n",
    "    ).transform_filter(label),\n",
    "    \n",
    "    # adicionar marcas circulares para pontos de tempo selecionados, ocultar pontos não selecionados\n",
    "    base.mark_circle().encode(\n",
    "        opacity=alt.condition(label, alt.value(1), alt.value(0))\n",
    "    ).add_selection(label),\n",
    "\n",
    "    # adicione texto com traços brancos para fornecer um fundo legível para rótulos\n",
    "    base.mark_text(align='left', dx=5, dy=-5, stroke='white', strokeWidth=2).encode(\n",
    "        text='price:Q'\n",
    "    ).transform_filter(label),\n",
    "\n",
    "    # adicione rótulos de texto para preços de ações\n",
    "    base.mark_text(align='left', dx=5, dy=-5).encode(\n",
    "        text='price:Q'\n",
    "    ).transform_filter(label),\n",
    "    \n",
    "    data=stocks\n",
    ").properties(\n",
    "    width=700,\n",
    "    height=400\n",
    ")"
   ]
  },
  {
   "cell_type": "markdown",
   "metadata": {},
   "source": [
    "_Colocando o que aprendemos até agora em prática: você consegue mudar o gráfico de dispersão acima (aquele com a consulta dinâmica nos anos) para incluir uma marca de regra (`mark_rule`) que mostra a média das classificações IMDB (ou Rotten Tomatoes) para os dados contidos na seleção `interval` dos anos?_"
   ]
  }
 ],
 "metadata": {
  "kernelspec": {
   "display_name": "python_env",
   "language": "python",
   "name": "python3"
  },
  "language_info": {
   "codemirror_mode": {
    "name": "ipython",
    "version": 3
   },
   "file_extension": ".py",
   "mimetype": "text/x-python",
   "name": "python",
   "nbconvert_exporter": "python",
   "pygments_lexer": "ipython3",
   "version": "3.10.12"
  }
 },
 "nbformat": 4,
 "nbformat_minor": 2
}
