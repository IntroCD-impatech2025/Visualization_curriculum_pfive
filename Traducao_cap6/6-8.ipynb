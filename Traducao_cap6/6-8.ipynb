{
 "cells": [
  {
   "cell_type": "markdown",
   "metadata": {},
   "source": [
    "## Resumo \n",
    "\n",
    "Para mais informações sobre as opções de interações suportadas pelo Altair, por favor, consulte a [Documentação de seleção interativa do Altair](https://altair-viz.github.io/user_guide/interactions.html). Para detalhes sobre costumizar gestores de eventos, por exemplo para compor várias técnicas de interação ou suportar entradas baseadas no toque em dispositivos mobile, veja a [Documentação de seleção do Vega-Lite](https://vega.github.io/vega-lite/docs/selection.html).\n",
    "\n",
    "Quer saber mais?\n",
    "- A abstração _seleção_ foi introduzida no artigo [Vega-Lite: Uma gramática de Gráficos Interativos](http://idl.cs.washington.edu/papers/vega-lite/), de Satyanarayan, Moritz, Wongsuphasawat, &amp; Heer.\n",
    "- O sistema PRIM-9 (para projeções, rotações, isolamento e disfarce em até 9 dimensões) é um das ferramentas de viusalização interativa mais recentes, feita no começo dos anos 70 por Fisherkeller, Tukey, &amp; Friedman. [A retro demo video survives!](https://www.youtube.com/watch?v=B7XoW2qiFUA)\n",
    "- O conceito de varrer &amp; interligar foi aperfeiçoado por Becker, Cleveland, &amp; Wilks em seu artigo de 1987 [Gráficos Dinâmicos para Análise de Dados](https://scholar.google.com/scholar?cluster=14817303117298653693).\n",
    "- Para um resumo esclarecedor de técnicas de interação para visualização, veja [Dinâmica Interativa para Análise Visual](https://queue.acm.org/detail.cfm?id=2146416) de Heer &amp; Shneiderman."
   ]
  },
  {
   "cell_type": "markdown",
   "metadata": {},
   "source": [
    "#### Apêndice: Na Representação do Tempo\n",
    "\n",
    "Lá atrás observamos que uma pequena protuberância no número de filmes em 1969 ou 1970. De onde vem essa protuberância? e por que 1969 _ou_ 1970? A resposta vem de uma combinação de dados faltantes e como nosso computador representa o tempo.\n",
    "\n",
    "Internamente, datas e horários são representadis relativos à [Era Unix](https://en.wikipedia.org/wiki/Unix_time), em que o tempo \"zero\" corresponde à meia noite do dia 1 de Janeiro de 1970 no [fuso UTC](https://en.wikipedia.org/wiki/Coordinated_Universal_Time), que muda junto ao [Meriano de Greenwich](https://en.wikipedia.org/wiki/Prime_meridian). Acontece que há alguns filmes que estão com a data de lançamento faltando (`null`). Esses valores (`null`) são interpretados como tempo `0` e então mapeiam para 1 de Janeiro de 1970 no fuso UTC. Se você mora nas Américas &ndash; e, portanto, em fusos mais \"cedo\" &ndash; esse ponto, em particular, no tempo corresponde a uma hora mais cedo no dia 31 de dezembro de 1969 no seu fuso horário. Por outro lado, se você vive próximo ou ao leste do meridiano de Greenwich, a data no seu fuso horário será dia 1 de Janeiro de 1970.\n",
    "\n",
    "A moral? Sempre seja cético com seus dados e seja atencioso, afinal, como os dados são representados (sejam datas, números em ponto flutuante ou latitudes e longitudes, _etc._) podem, as vezes, nos levar a artefatos que impactam a análise! "
   ]
  }
 ],
 "metadata": {
  "language_info": {
   "name": "python"
  }
 },
 "nbformat": 4,
 "nbformat_minor": 2
}
