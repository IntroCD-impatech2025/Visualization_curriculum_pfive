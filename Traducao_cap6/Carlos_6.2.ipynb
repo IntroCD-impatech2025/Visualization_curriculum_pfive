{
 "cells": [
  {
   "cell_type": "code",
   "execution_count": 2,
   "metadata": {},
   "outputs": [],
   "source": [
    "import pandas as pd\n",
    "import altair as alt\n",
    "\n",
    "cars = 'https://cdn.jsdelivr.net/npm/vega-datasets@1/data/cars.json'\n",
    "movies = 'https://cdn.jsdelivr.net/npm/vega-datasets@1/data/movies.json'\n",
    "sp500 = 'https://cdn.jsdelivr.net/npm/vega-datasets@1/data/sp500.csv'\n",
    "stocks = 'https://cdn.jsdelivr.net/npm/vega-datasets@1/data/stocks.csv'\n",
    "flights = 'https://cdn.jsdelivr.net/npm/vega-datasets@1/data/flights-5k.json'"
   ]
  },
  {
   "cell_type": "markdown",
   "metadata": {},
   "source": [
    "## 6.2. Introduzindo Seleções\n",
    "\n",
    "Vamos começar com uma seleção básica: simplesmente clicando num ponto para destacá-lo. Usando o dataset `cars`, vamos começar com um gráfico de dispersão da potência (em cavalos) por milhas por galão, com uma codificação de cor para o número de cilindros no motor do carro.\n",
    "\n",
    "Além disso, vamos criar uma instância de seleção chamando `alt.selection_single()`, indicando que queremos uma seleção definida por um _único valor_. Por padrão, a seleção usa um clique de mouse para determinar o valor selecionado. Para registrar uma seleção com um gráfico, devemos adicionar usando o método `.add_selection()`.\n",
    "\n",
    "Uma vez que nossa seleção tenha sido definida, podemos usá-la como parâmetro para _codificações condicionais_, que aplicam uma codificação diferente dependendo se o registro do dado está dentro ou fora da seleção. Por exemplo, considere o seguinte código:\n",
    "\n",
    "~~~ python\n",
    "color=alt.condition(selection, 'Cylinders:O', alt.value('grey'))\n",
    "~~~\n",
    "\n",
    "Essa definição de codificação afirma que os pontos do dado contidos em `selection` devem ser coloridos de acordo com o campo `Cylinder`, enquanto pontos do dado não selecionados devem usar um `grey` (_cinza_) padrão. Uma seleção vazia inclui _todos_ os pontos do dado e, então, inicialmente todos os pontos serão coloridos.\n",
    "\n",
    "_Tente clicar em diferentes pontos no gráfico abaixo. O que acontece? (Clique no fundo para limpar o estado da seleção e retornar a uma seleção \"vazia\".)_"
   ]
  },
  {
   "cell_type": "code",
   "execution_count": 13,
   "metadata": {},
   "outputs": [
    {
     "name": "stderr",
     "output_type": "stream",
     "text": [
      "/tmp/ipykernel_8892/1833167720.py:1: AltairDeprecationWarning: \n",
      "Deprecated since `altair=5.0.0`. Use selection_point instead.\n",
      "  selection = alt.selection_single()\n",
      "/tmp/ipykernel_8892/1833167720.py:3: AltairDeprecationWarning: \n",
      "Deprecated since `altair=5.0.0`. Use add_params instead.\n",
      "  alt.Chart(cars).mark_circle().add_selection(\n"
     ]
    },
    {
     "data": {
      "text/html": [
       "\n",
       "<style>\n",
       "  #altair-viz-2bcb4342d3e248409435945cb025b03d.vega-embed {\n",
       "    width: 100%;\n",
       "    display: flex;\n",
       "  }\n",
       "\n",
       "  #altair-viz-2bcb4342d3e248409435945cb025b03d.vega-embed details,\n",
       "  #altair-viz-2bcb4342d3e248409435945cb025b03d.vega-embed details summary {\n",
       "    position: relative;\n",
       "  }\n",
       "</style>\n",
       "<div id=\"altair-viz-2bcb4342d3e248409435945cb025b03d\"></div>\n",
       "<script type=\"text/javascript\">\n",
       "  var VEGA_DEBUG = (typeof VEGA_DEBUG == \"undefined\") ? {} : VEGA_DEBUG;\n",
       "  (function(spec, embedOpt){\n",
       "    let outputDiv = document.currentScript.previousElementSibling;\n",
       "    if (outputDiv.id !== \"altair-viz-2bcb4342d3e248409435945cb025b03d\") {\n",
       "      outputDiv = document.getElementById(\"altair-viz-2bcb4342d3e248409435945cb025b03d\");\n",
       "    }\n",
       "\n",
       "    const paths = {\n",
       "      \"vega\": \"https://cdn.jsdelivr.net/npm/vega@5?noext\",\n",
       "      \"vega-lib\": \"https://cdn.jsdelivr.net/npm/vega-lib?noext\",\n",
       "      \"vega-lite\": \"https://cdn.jsdelivr.net/npm/vega-lite@5.20.1?noext\",\n",
       "      \"vega-embed\": \"https://cdn.jsdelivr.net/npm/vega-embed@6?noext\",\n",
       "    };\n",
       "\n",
       "    function maybeLoadScript(lib, version) {\n",
       "      var key = `${lib.replace(\"-\", \"\")}_version`;\n",
       "      return (VEGA_DEBUG[key] == version) ?\n",
       "        Promise.resolve(paths[lib]) :\n",
       "        new Promise(function(resolve, reject) {\n",
       "          var s = document.createElement('script');\n",
       "          document.getElementsByTagName(\"head\")[0].appendChild(s);\n",
       "          s.async = true;\n",
       "          s.onload = () => {\n",
       "            VEGA_DEBUG[key] = version;\n",
       "            return resolve(paths[lib]);\n",
       "          };\n",
       "          s.onerror = () => reject(`Error loading script: ${paths[lib]}`);\n",
       "          s.src = paths[lib];\n",
       "        });\n",
       "    }\n",
       "\n",
       "    function showError(err) {\n",
       "      outputDiv.innerHTML = `<div class=\"error\" style=\"color:red;\">${err}</div>`;\n",
       "      throw err;\n",
       "    }\n",
       "\n",
       "    function displayChart(vegaEmbed) {\n",
       "      vegaEmbed(outputDiv, spec, embedOpt)\n",
       "        .catch(err => showError(`Javascript Error: ${err.message}<br>This usually means there's a typo in your chart specification. See the javascript console for the full traceback.`));\n",
       "    }\n",
       "\n",
       "    if(typeof define === \"function\" && define.amd) {\n",
       "      requirejs.config({paths});\n",
       "      let deps = [\"vega-embed\"];\n",
       "      require(deps, displayChart, err => showError(`Error loading script: ${err.message}`));\n",
       "    } else {\n",
       "      maybeLoadScript(\"vega\", \"5\")\n",
       "        .then(() => maybeLoadScript(\"vega-lite\", \"5.20.1\"))\n",
       "        .then(() => maybeLoadScript(\"vega-embed\", \"6\"))\n",
       "        .catch(showError)\n",
       "        .then(() => displayChart(vegaEmbed));\n",
       "    }\n",
       "  })({\"config\": {\"view\": {\"continuousWidth\": 300, \"continuousHeight\": 300}}, \"data\": {\"url\": \"https://cdn.jsdelivr.net/npm/vega-datasets@1/data/cars.json\"}, \"mark\": {\"type\": \"circle\"}, \"encoding\": {\"color\": {\"condition\": {\"param\": \"param_15\", \"field\": \"Cylinders\", \"type\": \"ordinal\"}, \"value\": \"grey\"}, \"opacity\": {\"condition\": {\"param\": \"param_15\", \"value\": 0.8}, \"value\": 0.1}, \"x\": {\"field\": \"Horsepower\", \"title\": \"Pot\\u00eancia (em cavalos)\", \"type\": \"quantitative\"}, \"y\": {\"field\": \"Miles_per_Gallon\", \"title\": \"Milhas por gal\\u00e3o\", \"type\": \"quantitative\"}}, \"params\": [{\"name\": \"param_15\", \"select\": {\"type\": \"point\"}}], \"$schema\": \"https://vega.github.io/schema/vega-lite/v5.20.1.json\"}, {\"mode\": \"vega-lite\"});\n",
       "</script>"
      ],
      "text/plain": [
       "alt.Chart(...)"
      ]
     },
     "execution_count": 13,
     "metadata": {},
     "output_type": "execute_result"
    }
   ],
   "source": [
    "selection = alt.selection_single()\n",
    "  \n",
    "alt.Chart(cars).mark_circle().add_selection(\n",
    "    selection\n",
    ").encode(\n",
    "    x= alt.X('Horsepower:Q', title = 'Potência (em cavalos)'),\n",
    "    y= alt.Y('Miles_per_Gallon:Q', title = 'Milhas por galão'),\n",
    "    color=alt.condition(selection, 'Cylinders:O', alt.value('grey')),\n",
    "    opacity=alt.condition(selection, alt.value(0.8), alt.value(0.1))\n",
    ")"
   ]
  },
  {
   "cell_type": "markdown",
   "metadata": {},
   "source": [
    "Claro, destacar pontos do dado individuais um a um não é particularmente divertido! Como veremos, seleções de valor único fornecem um alicerce útil para construir interações mais poderosas. Ademais, seleções de valor único são apenas uma dos três tipos de seleção fornecidas pelo Altair:\n",
    "\n",
    "- `selection_single` - selecione um único valor discreto, por padrão em eventos de clique.\n",
    "- `selection_multi` - selecione vários valores discretos. O primeiro valor é selecionado clicando com o mouse e valores adicionais são inseridos usando Shift+Click. \n",
    "- `selection_interval` - selecione uma faixa contínua de valores, iniciados arrastando o mouse enquanto clicado.\n",
    "\n",
    "Vamos comparar cada uma desses tipos de seleção lado a lado. Para manter nosso código arrumado, vamos primeiro definir uma função (`plot`) que gera especificações dos gráficos de dispersão como o acima. Podemos passar uma seleção para a função `plot` para aplicá-lo ao gráfico:"
   ]
  },
  {
   "cell_type": "code",
   "execution_count": 14,
   "metadata": {},
   "outputs": [],
   "source": [
    "def plot(selection):\n",
    "    return alt.Chart(cars).mark_circle().add_selection(\n",
    "        selection\n",
    "    ).encode(\n",
    "        x= alt.X('Horsepower:Q', title = 'Potência (em cavalos)'),\n",
    "        y= alt.Y('Miles_per_Gallon:Q', title = 'Milhas por galão'),\n",
    "        color=alt.condition(selection, alt.Color('Cylinders:O', title = 'Cilindros'), alt.value('grey')),\n",
    "        opacity=alt.condition(selection, alt.value(0.8), alt.value(0.1))\n",
    "    ).properties(\n",
    "        width=240,\n",
    "        height=180\n",
    "    )"
   ]
  },
  {
   "cell_type": "markdown",
   "metadata": {},
   "source": [
    "Vamos usar nossa função `plot` para criar três variantes do gráfico, um para cada tipo de seleção.\n",
    "\n",
    "O primeiro gráfico (`single`) replica nosso exemplo anterior. O segundo gráfico (`multi`) suporta a interação Shift+Click para inserir vários pontos na seleção. O terceiro gráfico (`interval`) gera uma região selecionada (ou _brush_) a partir do arrasto do mouse clicado. Uma vez criada, você pode mover a área varrida pelo gráfico para selecionar diferentes pontos, ou rolar quando o cursor está dentro da área varrida para aumentar ou diminuir o tamanho da área.\n",
    "\n",
    "_Tente interagir com os gráficos abaixo!_"
   ]
  },
  {
   "cell_type": "code",
   "execution_count": 15,
   "metadata": {},
   "outputs": [
    {
     "name": "stderr",
     "output_type": "stream",
     "text": [
      "/tmp/ipykernel_8892/2299552586.py:2: AltairDeprecationWarning: \n",
      "Deprecated since `altair=5.0.0`. Use selection_point instead.\n",
      "  plot(alt.selection_single()).properties(title='Single (Click)'),\n",
      "/tmp/ipykernel_8892/3048183788.py:2: AltairDeprecationWarning: \n",
      "Deprecated since `altair=5.0.0`. Use add_params instead.\n",
      "  return alt.Chart(cars).mark_circle().add_selection(\n",
      "/tmp/ipykernel_8892/2299552586.py:3: AltairDeprecationWarning: \n",
      "Deprecated since `altair=5.0.0`. Use selection_point instead.\n",
      "  plot(alt.selection_multi()).properties(title='Multi (Shift-Click)'),\n"
     ]
    },
    {
     "data": {
      "text/html": [
       "\n",
       "<style>\n",
       "  #altair-viz-bed6b890636b45008789e46aa955aaa6.vega-embed {\n",
       "    width: 100%;\n",
       "    display: flex;\n",
       "  }\n",
       "\n",
       "  #altair-viz-bed6b890636b45008789e46aa955aaa6.vega-embed details,\n",
       "  #altair-viz-bed6b890636b45008789e46aa955aaa6.vega-embed details summary {\n",
       "    position: relative;\n",
       "  }\n",
       "</style>\n",
       "<div id=\"altair-viz-bed6b890636b45008789e46aa955aaa6\"></div>\n",
       "<script type=\"text/javascript\">\n",
       "  var VEGA_DEBUG = (typeof VEGA_DEBUG == \"undefined\") ? {} : VEGA_DEBUG;\n",
       "  (function(spec, embedOpt){\n",
       "    let outputDiv = document.currentScript.previousElementSibling;\n",
       "    if (outputDiv.id !== \"altair-viz-bed6b890636b45008789e46aa955aaa6\") {\n",
       "      outputDiv = document.getElementById(\"altair-viz-bed6b890636b45008789e46aa955aaa6\");\n",
       "    }\n",
       "\n",
       "    const paths = {\n",
       "      \"vega\": \"https://cdn.jsdelivr.net/npm/vega@5?noext\",\n",
       "      \"vega-lib\": \"https://cdn.jsdelivr.net/npm/vega-lib?noext\",\n",
       "      \"vega-lite\": \"https://cdn.jsdelivr.net/npm/vega-lite@5.20.1?noext\",\n",
       "      \"vega-embed\": \"https://cdn.jsdelivr.net/npm/vega-embed@6?noext\",\n",
       "    };\n",
       "\n",
       "    function maybeLoadScript(lib, version) {\n",
       "      var key = `${lib.replace(\"-\", \"\")}_version`;\n",
       "      return (VEGA_DEBUG[key] == version) ?\n",
       "        Promise.resolve(paths[lib]) :\n",
       "        new Promise(function(resolve, reject) {\n",
       "          var s = document.createElement('script');\n",
       "          document.getElementsByTagName(\"head\")[0].appendChild(s);\n",
       "          s.async = true;\n",
       "          s.onload = () => {\n",
       "            VEGA_DEBUG[key] = version;\n",
       "            return resolve(paths[lib]);\n",
       "          };\n",
       "          s.onerror = () => reject(`Error loading script: ${paths[lib]}`);\n",
       "          s.src = paths[lib];\n",
       "        });\n",
       "    }\n",
       "\n",
       "    function showError(err) {\n",
       "      outputDiv.innerHTML = `<div class=\"error\" style=\"color:red;\">${err}</div>`;\n",
       "      throw err;\n",
       "    }\n",
       "\n",
       "    function displayChart(vegaEmbed) {\n",
       "      vegaEmbed(outputDiv, spec, embedOpt)\n",
       "        .catch(err => showError(`Javascript Error: ${err.message}<br>This usually means there's a typo in your chart specification. See the javascript console for the full traceback.`));\n",
       "    }\n",
       "\n",
       "    if(typeof define === \"function\" && define.amd) {\n",
       "      requirejs.config({paths});\n",
       "      let deps = [\"vega-embed\"];\n",
       "      require(deps, displayChart, err => showError(`Error loading script: ${err.message}`));\n",
       "    } else {\n",
       "      maybeLoadScript(\"vega\", \"5\")\n",
       "        .then(() => maybeLoadScript(\"vega-lite\", \"5.20.1\"))\n",
       "        .then(() => maybeLoadScript(\"vega-embed\", \"6\"))\n",
       "        .catch(showError)\n",
       "        .then(() => displayChart(vegaEmbed));\n",
       "    }\n",
       "  })({\"config\": {\"view\": {\"continuousWidth\": 300, \"continuousHeight\": 300}}, \"hconcat\": [{\"mark\": {\"type\": \"circle\"}, \"encoding\": {\"color\": {\"condition\": {\"param\": \"param_16\", \"field\": \"Cylinders\", \"title\": \"Cilindros\", \"type\": \"ordinal\"}, \"value\": \"grey\"}, \"opacity\": {\"condition\": {\"param\": \"param_16\", \"value\": 0.8}, \"value\": 0.1}, \"x\": {\"field\": \"Horsepower\", \"title\": \"Pot\\u00eancia (em cavalos)\", \"type\": \"quantitative\"}, \"y\": {\"field\": \"Miles_per_Gallon\", \"title\": \"Milhas por gal\\u00e3o\", \"type\": \"quantitative\"}}, \"height\": 180, \"name\": \"view_12\", \"title\": \"Single (Click)\", \"width\": 240}, {\"mark\": {\"type\": \"circle\"}, \"encoding\": {\"color\": {\"condition\": {\"param\": \"param_17\", \"field\": \"Cylinders\", \"title\": \"Cilindros\", \"type\": \"ordinal\"}, \"value\": \"grey\"}, \"opacity\": {\"condition\": {\"param\": \"param_17\", \"value\": 0.8}, \"value\": 0.1}, \"x\": {\"field\": \"Horsepower\", \"title\": \"Pot\\u00eancia (em cavalos)\", \"type\": \"quantitative\"}, \"y\": {\"field\": \"Miles_per_Gallon\", \"title\": \"Milhas por gal\\u00e3o\", \"type\": \"quantitative\"}}, \"height\": 180, \"name\": \"view_13\", \"title\": \"Multi (Shift-Click)\", \"width\": 240}, {\"mark\": {\"type\": \"circle\"}, \"encoding\": {\"color\": {\"condition\": {\"param\": \"param_18\", \"field\": \"Cylinders\", \"title\": \"Cilindros\", \"type\": \"ordinal\"}, \"value\": \"grey\"}, \"opacity\": {\"condition\": {\"param\": \"param_18\", \"value\": 0.8}, \"value\": 0.1}, \"x\": {\"field\": \"Horsepower\", \"title\": \"Pot\\u00eancia (em cavalos)\", \"type\": \"quantitative\"}, \"y\": {\"field\": \"Miles_per_Gallon\", \"title\": \"Milhas por gal\\u00e3o\", \"type\": \"quantitative\"}}, \"height\": 180, \"name\": \"view_14\", \"title\": \"Interval (Drag)\", \"width\": 240}], \"data\": {\"url\": \"https://cdn.jsdelivr.net/npm/vega-datasets@1/data/cars.json\"}, \"params\": [{\"name\": \"param_16\", \"select\": {\"type\": \"point\"}, \"views\": [\"view_12\"]}, {\"name\": \"param_17\", \"select\": {\"type\": \"point\"}, \"views\": [\"view_13\"]}, {\"name\": \"param_18\", \"select\": {\"type\": \"interval\"}, \"views\": [\"view_14\"]}], \"$schema\": \"https://vega.github.io/schema/vega-lite/v5.20.1.json\"}, {\"mode\": \"vega-lite\"});\n",
       "</script>"
      ],
      "text/plain": [
       "alt.HConcatChart(...)"
      ]
     },
     "execution_count": 15,
     "metadata": {},
     "output_type": "execute_result"
    }
   ],
   "source": [
    "alt.hconcat(\n",
    "  plot(alt.selection_single()).properties(title='Single (Click)'),\n",
    "  plot(alt.selection_multi()).properties(title='Multi (Shift-Click)'),\n",
    "  plot(alt.selection_interval()).properties(title='Interval (Drag)')\n",
    ")"
   ]
  },
  {
   "cell_type": "markdown",
   "metadata": {},
   "source": [
    "Os exemplos acima usam interações padrão (Clicar, Shift+Click, Arrastar) para cada tipo de seleção. Podemos costumizar mais as interações fornecendo especificações do evento de entrada usando a [sintaxe de seleção de evento do Vega](https://vega.github.io/vega/docs/event-streams/). Por exemplo, podemos modificar nossos gráficos `single` e `multi` para acionar com eventos de `pairar do mouse` ao invés de eventos de `click`\n",
    "\n",
    "_Segure a tecla Shift no segundo gráfico para \"pintar\" com os dados!_"
   ]
  },
  {
   "cell_type": "code",
   "execution_count": 16,
   "metadata": {},
   "outputs": [
    {
     "name": "stderr",
     "output_type": "stream",
     "text": [
      "/tmp/ipykernel_8892/4232158512.py:2: AltairDeprecationWarning: \n",
      "Deprecated since `altair=5.0.0`. Use selection_point instead.\n",
      "  plot(alt.selection_single(on='mouseover')).properties(title='Single (Pairar do Mouse)'),\n",
      "/tmp/ipykernel_8892/3048183788.py:2: AltairDeprecationWarning: \n",
      "Deprecated since `altair=5.0.0`. Use add_params instead.\n",
      "  return alt.Chart(cars).mark_circle().add_selection(\n",
      "/tmp/ipykernel_8892/4232158512.py:3: AltairDeprecationWarning: \n",
      "Deprecated since `altair=5.0.0`. Use selection_point instead.\n",
      "  plot(alt.selection_multi(on='mouseover')).properties(title='Multi (Shift-Pairar do Mouse)')\n"
     ]
    },
    {
     "data": {
      "text/html": [
       "\n",
       "<style>\n",
       "  #altair-viz-8d5ca06701d84e2d8bc7d376357cd140.vega-embed {\n",
       "    width: 100%;\n",
       "    display: flex;\n",
       "  }\n",
       "\n",
       "  #altair-viz-8d5ca06701d84e2d8bc7d376357cd140.vega-embed details,\n",
       "  #altair-viz-8d5ca06701d84e2d8bc7d376357cd140.vega-embed details summary {\n",
       "    position: relative;\n",
       "  }\n",
       "</style>\n",
       "<div id=\"altair-viz-8d5ca06701d84e2d8bc7d376357cd140\"></div>\n",
       "<script type=\"text/javascript\">\n",
       "  var VEGA_DEBUG = (typeof VEGA_DEBUG == \"undefined\") ? {} : VEGA_DEBUG;\n",
       "  (function(spec, embedOpt){\n",
       "    let outputDiv = document.currentScript.previousElementSibling;\n",
       "    if (outputDiv.id !== \"altair-viz-8d5ca06701d84e2d8bc7d376357cd140\") {\n",
       "      outputDiv = document.getElementById(\"altair-viz-8d5ca06701d84e2d8bc7d376357cd140\");\n",
       "    }\n",
       "\n",
       "    const paths = {\n",
       "      \"vega\": \"https://cdn.jsdelivr.net/npm/vega@5?noext\",\n",
       "      \"vega-lib\": \"https://cdn.jsdelivr.net/npm/vega-lib?noext\",\n",
       "      \"vega-lite\": \"https://cdn.jsdelivr.net/npm/vega-lite@5.20.1?noext\",\n",
       "      \"vega-embed\": \"https://cdn.jsdelivr.net/npm/vega-embed@6?noext\",\n",
       "    };\n",
       "\n",
       "    function maybeLoadScript(lib, version) {\n",
       "      var key = `${lib.replace(\"-\", \"\")}_version`;\n",
       "      return (VEGA_DEBUG[key] == version) ?\n",
       "        Promise.resolve(paths[lib]) :\n",
       "        new Promise(function(resolve, reject) {\n",
       "          var s = document.createElement('script');\n",
       "          document.getElementsByTagName(\"head\")[0].appendChild(s);\n",
       "          s.async = true;\n",
       "          s.onload = () => {\n",
       "            VEGA_DEBUG[key] = version;\n",
       "            return resolve(paths[lib]);\n",
       "          };\n",
       "          s.onerror = () => reject(`Error loading script: ${paths[lib]}`);\n",
       "          s.src = paths[lib];\n",
       "        });\n",
       "    }\n",
       "\n",
       "    function showError(err) {\n",
       "      outputDiv.innerHTML = `<div class=\"error\" style=\"color:red;\">${err}</div>`;\n",
       "      throw err;\n",
       "    }\n",
       "\n",
       "    function displayChart(vegaEmbed) {\n",
       "      vegaEmbed(outputDiv, spec, embedOpt)\n",
       "        .catch(err => showError(`Javascript Error: ${err.message}<br>This usually means there's a typo in your chart specification. See the javascript console for the full traceback.`));\n",
       "    }\n",
       "\n",
       "    if(typeof define === \"function\" && define.amd) {\n",
       "      requirejs.config({paths});\n",
       "      let deps = [\"vega-embed\"];\n",
       "      require(deps, displayChart, err => showError(`Error loading script: ${err.message}`));\n",
       "    } else {\n",
       "      maybeLoadScript(\"vega\", \"5\")\n",
       "        .then(() => maybeLoadScript(\"vega-lite\", \"5.20.1\"))\n",
       "        .then(() => maybeLoadScript(\"vega-embed\", \"6\"))\n",
       "        .catch(showError)\n",
       "        .then(() => displayChart(vegaEmbed));\n",
       "    }\n",
       "  })({\"config\": {\"view\": {\"continuousWidth\": 300, \"continuousHeight\": 300}}, \"hconcat\": [{\"mark\": {\"type\": \"circle\"}, \"encoding\": {\"color\": {\"condition\": {\"param\": \"param_19\", \"field\": \"Cylinders\", \"title\": \"Cilindros\", \"type\": \"ordinal\"}, \"value\": \"grey\"}, \"opacity\": {\"condition\": {\"param\": \"param_19\", \"value\": 0.8}, \"value\": 0.1}, \"x\": {\"field\": \"Horsepower\", \"title\": \"Pot\\u00eancia (em cavalos)\", \"type\": \"quantitative\"}, \"y\": {\"field\": \"Miles_per_Gallon\", \"title\": \"Milhas por gal\\u00e3o\", \"type\": \"quantitative\"}}, \"height\": 180, \"name\": \"view_15\", \"title\": \"Single (Pairar do Mouse)\", \"width\": 240}, {\"mark\": {\"type\": \"circle\"}, \"encoding\": {\"color\": {\"condition\": {\"param\": \"param_20\", \"field\": \"Cylinders\", \"title\": \"Cilindros\", \"type\": \"ordinal\"}, \"value\": \"grey\"}, \"opacity\": {\"condition\": {\"param\": \"param_20\", \"value\": 0.8}, \"value\": 0.1}, \"x\": {\"field\": \"Horsepower\", \"title\": \"Pot\\u00eancia (em cavalos)\", \"type\": \"quantitative\"}, \"y\": {\"field\": \"Miles_per_Gallon\", \"title\": \"Milhas por gal\\u00e3o\", \"type\": \"quantitative\"}}, \"height\": 180, \"name\": \"view_16\", \"title\": \"Multi (Shift-Pairar do Mouse)\", \"width\": 240}], \"data\": {\"url\": \"https://cdn.jsdelivr.net/npm/vega-datasets@1/data/cars.json\"}, \"params\": [{\"name\": \"param_19\", \"select\": {\"type\": \"point\", \"on\": \"mouseover\"}, \"views\": [\"view_15\"]}, {\"name\": \"param_20\", \"select\": {\"type\": \"point\", \"on\": \"mouseover\"}, \"views\": [\"view_16\"]}], \"$schema\": \"https://vega.github.io/schema/vega-lite/v5.20.1.json\"}, {\"mode\": \"vega-lite\"});\n",
       "</script>"
      ],
      "text/plain": [
       "alt.HConcatChart(...)"
      ]
     },
     "execution_count": 16,
     "metadata": {},
     "output_type": "execute_result"
    }
   ],
   "source": [
    "alt.hconcat(\n",
    "  plot(alt.selection_single(on='mouseover')).properties(title='Single (Pairar do Mouse)'),\n",
    "  plot(alt.selection_multi(on='mouseover')).properties(title='Multi (Shift-Pairar do Mouse)')\n",
    ")"
   ]
  },
  {
   "cell_type": "markdown",
   "metadata": {},
   "source": [
    "Agora que cobrimos o básico das seleções do Altair, vamos fazer um tour pelas diversas técnicas de interação que elas permitem!"
   ]
  }
 ],
 "metadata": {
  "kernelspec": {
   "display_name": "python_env",
   "language": "python",
   "name": "python3"
  },
  "language_info": {
   "codemirror_mode": {
    "name": "ipython",
    "version": 3
   },
   "file_extension": ".py",
   "mimetype": "text/x-python",
   "name": "python",
   "nbconvert_exporter": "python",
   "pygments_lexer": "ipython3",
   "version": "3.10.12"
  }
 },
 "nbformat": 4,
 "nbformat_minor": 2
}
